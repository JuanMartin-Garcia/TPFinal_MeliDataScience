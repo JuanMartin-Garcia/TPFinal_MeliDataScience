{
 "cells": [
  {
   "cell_type": "code",
   "execution_count": 13,
   "metadata": {},
   "outputs": [],
   "source": [
    "import numpy as np\n",
    "import pandas as pd\n",
    "import seaborn as sns\n",
    "\n",
    "from sklearn.model_selection import train_test_split\n",
    "from sklearn.model_selection import cross_val_score\n",
    "from sklearn.model_selection import cross_validate\n",
    "\n",
    "from sklearn.tree import DecisionTreeClassifier\n",
    "\n",
    "import sklearn.metrics as metrics\n",
    "\n",
    "from sklearn.model_selection import learning_curve"
   ]
  },
  {
   "cell_type": "code",
   "execution_count": 3,
   "metadata": {},
   "outputs": [
    {
     "name": "stderr",
     "output_type": "stream",
     "text": [
      "/var/folders/ms/v5w4mc3d0nscpg3rdtjqm5200000gp/T/ipykernel_13302/1290962353.py:1: DtypeWarning: Columns (19,46) have mixed types. Specify dtype option on import or set low_memory=False.\n",
      "  data = pd.read_csv('./Data/dfUnido_meli.csv')\n"
     ]
    }
   ],
   "source": [
    "data = pd.read_csv('./Data/dfUnido_meli.csv')"
   ]
  },
  {
   "cell_type": "code",
   "execution_count": 4,
   "metadata": {},
   "outputs": [
    {
     "name": "stdout",
     "output_type": "stream",
     "text": [
      "<class 'pandas.core.frame.DataFrame'>\n",
      "RangeIndex: 19991 entries, 0 to 19990\n",
      "Data columns (total 47 columns):\n",
      " #   Column                                                             Non-Null Count  Dtype  \n",
      "---  ------                                                             --------------  -----  \n",
      " 0   id                                                                 19991 non-null  object \n",
      " 1   title                                                              19991 non-null  object \n",
      " 2   thumbnail_id                                                       19991 non-null  object \n",
      " 3   listing_type_id                                                    19991 non-null  object \n",
      " 4   permalink                                                          19991 non-null  object \n",
      " 5   category_id                                                        19991 non-null  object \n",
      " 6   domain_id                                                          19991 non-null  object \n",
      " 7   order_backend                                                      19991 non-null  int64  \n",
      " 8   price                                                              19991 non-null  float64\n",
      " 9   sold_quantity                                                      19991 non-null  int64  \n",
      " 10  available_quantity                                                 19991 non-null  int64  \n",
      " 11  tags                                                               19991 non-null  object \n",
      " 12  shipping__logistic_type                                            19991 non-null  object \n",
      " 13  shipping__mode                                                     15993 non-null  object \n",
      " 14  shipping__store_pick_up                                            19991 non-null  bool   \n",
      " 15  shipping__free_shipping                                            19991 non-null  bool   \n",
      " 16  shipping__tags                                                     19991 non-null  object \n",
      " 17  seller__id                                                         19991 non-null  int64  \n",
      " 18  seller__nickname                                                   19991 non-null  object \n",
      " 19  seller__car_dealer                                                 7997 non-null   object \n",
      " 20  seller__tags                                                       19991 non-null  object \n",
      " 21  seller__car_dealer_logo                                            6 non-null      object \n",
      " 22  seller__seller_reputation__level_id                                19987 non-null  object \n",
      " 23  seller__seller_reputation__power_seller_status                     19541 non-null  object \n",
      " 24  seller__seller_reputation__transactions__canceled                  19991 non-null  int64  \n",
      " 25  seller__seller_reputation__transactions__completed                 19991 non-null  int64  \n",
      " 26  seller__seller_reputation__transactions__ratings__negative         19991 non-null  float64\n",
      " 27  seller__seller_reputation__transactions__ratings__neutral          19991 non-null  float64\n",
      " 28  seller__seller_reputation__transactions__ratings__positive         19991 non-null  float64\n",
      " 29  seller__seller_reputation__transactions__total                     19991 non-null  int64  \n",
      " 30  seller__seller_reputation__metrics__sales__period                  19991 non-null  object \n",
      " 31  seller__seller_reputation__metrics__sales__completed               19991 non-null  int64  \n",
      " 32  seller__seller_reputation__metrics__claims__period                 19991 non-null  object \n",
      " 33  seller__seller_reputation__metrics__claims__rate                   19991 non-null  float64\n",
      " 34  seller__seller_reputation__metrics__claims__value                  19991 non-null  int64  \n",
      " 35  seller__seller_reputation__metrics__delayed_handling_time__period  19991 non-null  object \n",
      " 36  seller__seller_reputation__metrics__delayed_handling_time__rate    19991 non-null  float64\n",
      " 37  seller__seller_reputation__metrics__delayed_handling_time__value   19991 non-null  int64  \n",
      " 38  seller__seller_reputation__metrics__cancellations__period          19991 non-null  object \n",
      " 39  seller__seller_reputation__metrics__cancellations__rate            19991 non-null  float64\n",
      " 40  seller__seller_reputation__metrics__cancellations__value           19991 non-null  int64  \n",
      " 41  installments__quantity                                             19987 non-null  float64\n",
      " 42  installments__amount                                               19987 non-null  float64\n",
      " 43  installments__rate                                                 19987 non-null  float64\n",
      " 44  days_remaining                                                     19991 non-null  int64  \n",
      " 45  years_active                                                       19991 non-null  int64  \n",
      " 46  variation_filters                                                  3382 non-null   object \n",
      "dtypes: bool(2), float64(10), int64(13), object(22)\n",
      "memory usage: 6.9+ MB\n"
     ]
    }
   ],
   "source": [
    "data.info()"
   ]
  },
  {
   "cell_type": "code",
   "execution_count": 5,
   "metadata": {},
   "outputs": [
    {
     "data": {
      "text/html": [
       "<div>\n",
       "<style scoped>\n",
       "    .dataframe tbody tr th:only-of-type {\n",
       "        vertical-align: middle;\n",
       "    }\n",
       "\n",
       "    .dataframe tbody tr th {\n",
       "        vertical-align: top;\n",
       "    }\n",
       "\n",
       "    .dataframe thead th {\n",
       "        text-align: right;\n",
       "    }\n",
       "</style>\n",
       "<table border=\"1\" class=\"dataframe\">\n",
       "  <thead>\n",
       "    <tr style=\"text-align: right;\">\n",
       "      <th></th>\n",
       "      <th>id</th>\n",
       "      <th>title</th>\n",
       "      <th>thumbnail_id</th>\n",
       "      <th>listing_type_id</th>\n",
       "      <th>permalink</th>\n",
       "      <th>category_id</th>\n",
       "      <th>domain_id</th>\n",
       "      <th>order_backend</th>\n",
       "      <th>price</th>\n",
       "      <th>sold_quantity</th>\n",
       "      <th>...</th>\n",
       "      <th>seller__seller_reputation__metrics__delayed_handling_time__value</th>\n",
       "      <th>seller__seller_reputation__metrics__cancellations__period</th>\n",
       "      <th>seller__seller_reputation__metrics__cancellations__rate</th>\n",
       "      <th>seller__seller_reputation__metrics__cancellations__value</th>\n",
       "      <th>installments__quantity</th>\n",
       "      <th>installments__amount</th>\n",
       "      <th>installments__rate</th>\n",
       "      <th>days_remaining</th>\n",
       "      <th>years_active</th>\n",
       "      <th>variation_filters</th>\n",
       "    </tr>\n",
       "  </thead>\n",
       "  <tbody>\n",
       "    <tr>\n",
       "      <th>0</th>\n",
       "      <td>MLA926762551</td>\n",
       "      <td>Cámara Instantánea Fujifilm Instax Mini 11 Ice...</td>\n",
       "      <td>788648-MLA42359217261_062020</td>\n",
       "      <td>gold_special</td>\n",
       "      <td>https://www.mercadolibre.com.ar/camara-instant...</td>\n",
       "      <td>MLA1040</td>\n",
       "      <td>MLA-ANALOG_CAMERAS</td>\n",
       "      <td>1</td>\n",
       "      <td>54999.0</td>\n",
       "      <td>50</td>\n",
       "      <td>...</td>\n",
       "      <td>0</td>\n",
       "      <td>60 days</td>\n",
       "      <td>0.0000</td>\n",
       "      <td>2</td>\n",
       "      <td>6.0</td>\n",
       "      <td>13598.50</td>\n",
       "      <td>48.35</td>\n",
       "      <td>7242</td>\n",
       "      <td>15</td>\n",
       "      <td>NaN</td>\n",
       "    </tr>\n",
       "    <tr>\n",
       "      <th>1</th>\n",
       "      <td>MLA1205153058</td>\n",
       "      <td>Tarjeta De Memoria Sandisk Sdsqxcy-064g-gn6ma ...</td>\n",
       "      <td>665416-MLA40351780042_012020</td>\n",
       "      <td>gold_special</td>\n",
       "      <td>https://www.mercadolibre.com.ar/tarjeta-de-mem...</td>\n",
       "      <td>MLA9467</td>\n",
       "      <td>MLA-MEMORY_CARDS</td>\n",
       "      <td>2</td>\n",
       "      <td>7300.0</td>\n",
       "      <td>250</td>\n",
       "      <td>...</td>\n",
       "      <td>0</td>\n",
       "      <td>60 days</td>\n",
       "      <td>0.0000</td>\n",
       "      <td>0</td>\n",
       "      <td>6.0</td>\n",
       "      <td>1804.93</td>\n",
       "      <td>48.35</td>\n",
       "      <td>7175</td>\n",
       "      <td>0</td>\n",
       "      <td>NaN</td>\n",
       "    </tr>\n",
       "    <tr>\n",
       "      <th>2</th>\n",
       "      <td>MLA1124760728</td>\n",
       "      <td>Sony Cyber-shot H300 Dsc-h300 Compacta Avanza...</td>\n",
       "      <td>852025-MLA49434476863_032022</td>\n",
       "      <td>gold_special</td>\n",
       "      <td>https://www.mercadolibre.com.ar/sony-cyber-sho...</td>\n",
       "      <td>MLA1042</td>\n",
       "      <td>MLA-DIGITAL_CAMERAS</td>\n",
       "      <td>3</td>\n",
       "      <td>99999.0</td>\n",
       "      <td>50</td>\n",
       "      <td>...</td>\n",
       "      <td>190</td>\n",
       "      <td>60 days</td>\n",
       "      <td>0.0000</td>\n",
       "      <td>0</td>\n",
       "      <td>6.0</td>\n",
       "      <td>24724.75</td>\n",
       "      <td>48.35</td>\n",
       "      <td>6936</td>\n",
       "      <td>8</td>\n",
       "      <td>NaN</td>\n",
       "    </tr>\n",
       "    <tr>\n",
       "      <th>3</th>\n",
       "      <td>MLA1259217110</td>\n",
       "      <td>Cámara De Video Noblex Acn1 4k Negra</td>\n",
       "      <td>863981-MLA42918720182_072020</td>\n",
       "      <td>gold_special</td>\n",
       "      <td>https://www.mercadolibre.com.ar/camara-de-vide...</td>\n",
       "      <td>MLA392132</td>\n",
       "      <td>MLA-VIDEO_CAMERAS</td>\n",
       "      <td>4</td>\n",
       "      <td>19999.0</td>\n",
       "      <td>150</td>\n",
       "      <td>...</td>\n",
       "      <td>617</td>\n",
       "      <td>60 days</td>\n",
       "      <td>0.0085</td>\n",
       "      <td>242</td>\n",
       "      <td>6.0</td>\n",
       "      <td>4944.75</td>\n",
       "      <td>48.35</td>\n",
       "      <td>7211</td>\n",
       "      <td>5</td>\n",
       "      <td>NaN</td>\n",
       "    </tr>\n",
       "    <tr>\n",
       "      <th>4</th>\n",
       "      <td>MLA673528318</td>\n",
       "      <td>Ocular Dk-25 Para Nikon D5500 D5300 D5200 D330...</td>\n",
       "      <td>773832-MLA31016831796_062019</td>\n",
       "      <td>gold_special</td>\n",
       "      <td>https://articulo.mercadolibre.com.ar/MLA-67352...</td>\n",
       "      <td>MLA70304</td>\n",
       "      <td>MLA-PHOTOGRAPHY_ACCESSORIES_AND_SPARE_PARTS</td>\n",
       "      <td>5</td>\n",
       "      <td>899.0</td>\n",
       "      <td>200</td>\n",
       "      <td>...</td>\n",
       "      <td>0</td>\n",
       "      <td>60 days</td>\n",
       "      <td>0.0000</td>\n",
       "      <td>0</td>\n",
       "      <td>6.0</td>\n",
       "      <td>222.28</td>\n",
       "      <td>48.35</td>\n",
       "      <td>5244</td>\n",
       "      <td>20</td>\n",
       "      <td>NaN</td>\n",
       "    </tr>\n",
       "  </tbody>\n",
       "</table>\n",
       "<p>5 rows × 47 columns</p>\n",
       "</div>"
      ],
      "text/plain": [
       "              id                                              title  \\\n",
       "0   MLA926762551  Cámara Instantánea Fujifilm Instax Mini 11 Ice...   \n",
       "1  MLA1205153058  Tarjeta De Memoria Sandisk Sdsqxcy-064g-gn6ma ...   \n",
       "2  MLA1124760728   Sony Cyber-shot H300 Dsc-h300 Compacta Avanza...   \n",
       "3  MLA1259217110               Cámara De Video Noblex Acn1 4k Negra   \n",
       "4   MLA673528318  Ocular Dk-25 Para Nikon D5500 D5300 D5200 D330...   \n",
       "\n",
       "                   thumbnail_id listing_type_id  \\\n",
       "0  788648-MLA42359217261_062020    gold_special   \n",
       "1  665416-MLA40351780042_012020    gold_special   \n",
       "2  852025-MLA49434476863_032022    gold_special   \n",
       "3  863981-MLA42918720182_072020    gold_special   \n",
       "4  773832-MLA31016831796_062019    gold_special   \n",
       "\n",
       "                                           permalink category_id  \\\n",
       "0  https://www.mercadolibre.com.ar/camara-instant...     MLA1040   \n",
       "1  https://www.mercadolibre.com.ar/tarjeta-de-mem...     MLA9467   \n",
       "2  https://www.mercadolibre.com.ar/sony-cyber-sho...     MLA1042   \n",
       "3  https://www.mercadolibre.com.ar/camara-de-vide...   MLA392132   \n",
       "4  https://articulo.mercadolibre.com.ar/MLA-67352...    MLA70304   \n",
       "\n",
       "                                     domain_id  order_backend    price  \\\n",
       "0                           MLA-ANALOG_CAMERAS              1  54999.0   \n",
       "1                             MLA-MEMORY_CARDS              2   7300.0   \n",
       "2                          MLA-DIGITAL_CAMERAS              3  99999.0   \n",
       "3                            MLA-VIDEO_CAMERAS              4  19999.0   \n",
       "4  MLA-PHOTOGRAPHY_ACCESSORIES_AND_SPARE_PARTS              5    899.0   \n",
       "\n",
       "   sold_quantity  ...  \\\n",
       "0             50  ...   \n",
       "1            250  ...   \n",
       "2             50  ...   \n",
       "3            150  ...   \n",
       "4            200  ...   \n",
       "\n",
       "   seller__seller_reputation__metrics__delayed_handling_time__value  \\\n",
       "0                                                  0                  \n",
       "1                                                  0                  \n",
       "2                                                190                  \n",
       "3                                                617                  \n",
       "4                                                  0                  \n",
       "\n",
       "  seller__seller_reputation__metrics__cancellations__period  \\\n",
       "0                                            60 days          \n",
       "1                                            60 days          \n",
       "2                                            60 days          \n",
       "3                                            60 days          \n",
       "4                                            60 days          \n",
       "\n",
       "  seller__seller_reputation__metrics__cancellations__rate  \\\n",
       "0                                             0.0000        \n",
       "1                                             0.0000        \n",
       "2                                             0.0000        \n",
       "3                                             0.0085        \n",
       "4                                             0.0000        \n",
       "\n",
       "  seller__seller_reputation__metrics__cancellations__value  \\\n",
       "0                                                  2         \n",
       "1                                                  0         \n",
       "2                                                  0         \n",
       "3                                                242         \n",
       "4                                                  0         \n",
       "\n",
       "   installments__quantity  installments__amount installments__rate  \\\n",
       "0                     6.0              13598.50              48.35   \n",
       "1                     6.0               1804.93              48.35   \n",
       "2                     6.0              24724.75              48.35   \n",
       "3                     6.0               4944.75              48.35   \n",
       "4                     6.0                222.28              48.35   \n",
       "\n",
       "   days_remaining years_active variation_filters  \n",
       "0            7242           15               NaN  \n",
       "1            7175            0               NaN  \n",
       "2            6936            8               NaN  \n",
       "3            7211            5               NaN  \n",
       "4            5244           20               NaN  \n",
       "\n",
       "[5 rows x 47 columns]"
      ]
     },
     "execution_count": 5,
     "metadata": {},
     "output_type": "execute_result"
    }
   ],
   "source": [
    "data.head()"
   ]
  },
  {
   "cell_type": "code",
   "execution_count": 6,
   "metadata": {},
   "outputs": [
    {
     "data": {
      "text/plain": [
       "array(['MLA1040', 'MLA9467', 'MLA1042', 'MLA392132', 'MLA70304',\n",
       "       'MLA430383', 'MLA17966', 'MLA69879', 'MLA62527', 'MLA412362',\n",
       "       'MLA414219', 'MLA36496', 'MLA2893', 'MLA32230', 'MLA38192',\n",
       "       'MLA58727', 'MLA38188', 'MLA412431', 'MLA10477', 'MLA3553',\n",
       "       'MLA38270', 'MLA62528', 'MLA413549', 'MLA413974', 'MLA17967',\n",
       "       'MLA50086', 'MLA417788', 'MLA414102', 'MLA5649', 'MLA1045',\n",
       "       'MLA416685', 'MLA4235', 'MLA1634', 'MLA413541', 'MLA4707',\n",
       "       'MLA412529', 'MLA410298', 'MLA415448', 'MLA413487', 'MLA414101',\n",
       "       'MLA38267', 'MLA38193', 'MLA38191', 'MLA50089', 'MLA69938',\n",
       "       'MLA3544', 'MLA430588', 'MLA430342', 'MLA69931', 'MLA411870',\n",
       "       'MLA411998', 'MLA430992', 'MLA38190', 'MLA10468', 'MLA1914',\n",
       "       'MLA414212', 'MLA17684', 'MLA4702', 'MLA413563', 'MLA430379',\n",
       "       'MLA73569', 'MLA70289', 'MLA65235', 'MLA70303', 'MLA416791',\n",
       "       'MLA50088', 'MLA416987', 'MLA420012', 'MLA413445', 'MLA416684',\n",
       "       'MLA414123', 'MLA430375', 'MLA430364', 'MLA413442', 'MLA410300',\n",
       "       'MLA414249', 'MLA430701', 'MLA414100', 'MLA413443', 'MLA430990',\n",
       "       'MLA430414', 'MLA430378', 'MLA431308', 'MLA430468', 'MLA413635',\n",
       "       'MLA430413', 'MLA38186', 'MLA413448', 'MLA96919', 'MLA430355',\n",
       "       'MLA73567', 'MLA430991', 'MLA413447', 'MLA432142', 'MLA417276',\n",
       "       'MLA413449', 'MLA429682', 'MLA413446', 'MLA454752', 'MLA413599',\n",
       "       'MLA413444', 'MLA69930', 'MLA414114', 'MLA11226', 'MLA2968',\n",
       "       'MLA1161', 'MLA412670', 'MLA40385', 'MLA1166', 'MLA12065',\n",
       "       'MLA3422', 'MLA1964', 'MLA76129', 'MLA455430', 'MLA90312',\n",
       "       'MLA432881', 'MLA90322', 'MLA1157', 'MLA94949', 'MLA27814',\n",
       "       'MLA434461', 'MLA433684', 'MLA12036', 'MLA40387', 'MLA352340',\n",
       "       'MLA431546', 'MLA12262', 'MLA417753', 'MLA1858', 'MLA424974',\n",
       "       'MLA1965', 'MLA3390', 'MLA90306', 'MLA94997', 'MLA352366',\n",
       "       'MLA6557', 'MLA352343', 'MLA76158', 'MLA48868', 'MLA6575',\n",
       "       'MLA413483', 'MLA6563', 'MLA414003', 'MLA11981', 'MLA418291',\n",
       "       'MLA90326', 'MLA417923', 'MLA432255', 'MLA433685', 'MLA432992',\n",
       "       'MLA90323', 'MLA417827', 'MLA429192', 'MLA90337', 'MLA433036',\n",
       "       'MLA429240', 'MLA409417', 'MLA76151', 'MLA388313', 'MLA414226',\n",
       "       'MLA79322', 'MLA1887', 'MLA455436', 'MLA12220', 'MLA455836',\n",
       "       'MLA437276', 'MLA418289', 'MLA432889', 'MLA455509', 'MLA90319',\n",
       "       'MLA11239', 'MLA352334', 'MLA3398', 'MLA409389', 'MLA433349',\n",
       "       'MLA413428', 'MLA90314', 'MLA431559', 'MLA352391', 'MLA433051',\n",
       "       'MLA90325', 'MLA418285', 'MLA413991', 'MLA90324', 'MLA352342',\n",
       "       'MLA455515', 'MLA454740', 'MLA90321', 'MLA12012', 'MLA94966',\n",
       "       'MLA100780', 'MLA11236', 'MLA433049', 'MLA79321', 'MLA37616',\n",
       "       'MLA419783', 'MLA412671', 'MLA11234', 'MLA455518', 'MLA413430',\n",
       "       'MLA417922', 'MLA454742', 'MLA352337', 'MLA47813', 'MLA90329',\n",
       "       'MLA22640', 'MLA127671', 'MLA433046', 'MLA456369', 'MLA409419',\n",
       "       'MLA454733', 'MLA27823', 'MLA3659', 'MLA433029', 'MLA76200',\n",
       "       'MLA432254', 'MLA433061', 'MLA37526', 'MLA416865', 'MLA413461',\n",
       "       'MLA432838', 'MLA455774', 'MLA1847', 'MLA431126', 'MLA70169',\n",
       "       'MLA1910', 'MLA432989', 'MLA410726', 'MLA7971', 'MLA416996',\n",
       "       'MLA432839', 'MLA12046', 'MLA79274', 'MLA79273', 'MLA12400',\n",
       "       'MLA27821', 'MLA95005', 'MLA76157', 'MLA429191', 'MLA454741',\n",
       "       'MLA27813', 'MLA7937', 'MLA429188', 'MLA455517', 'MLA433096',\n",
       "       'MLA429193', 'MLA76153', 'MLA418286', 'MLA90334', 'MLA455651',\n",
       "       'MLA432837', 'MLA1818', 'MLA455521', 'MLA433106', 'MLA94939',\n",
       "       'MLA12254', 'MLA433037', 'MLA70156', 'MLA37615', 'MLA74001',\n",
       "       'MLA455856', 'MLA429209', 'MLA417099', 'MLA76169', 'MLA70155',\n",
       "       'MLA455437', 'MLA416197', 'MLA90315', 'MLA432827', 'MLA433350',\n",
       "       'MLA437544', 'MLA414125', 'MLA27819', 'MLA437542', 'MLA447991',\n",
       "       'MLA1843', 'MLA46302', 'MLA429190', 'MLA455510', 'MLA454736',\n",
       "       'MLA47782', 'MLA432836', 'MLA455801', 'MLA11237', 'MLA424975',\n",
       "       'MLA90317', 'MLA79283', 'MLA431922', 'MLA37617', 'MLA46250',\n",
       "       'MLA433050', 'MLA3657', 'MLA90331', 'MLA455427', 'MLA432829',\n",
       "       'MLA392400', 'MLA388015', 'MLA392452', 'MLA454717', 'MLA414007',\n",
       "       'MLA1271', 'MLA29893', 'MLA29901', 'MLA413224', 'MLA95334',\n",
       "       'MLA29883', 'MLA409090', 'MLA29871', 'MLA416707', 'MLA409559',\n",
       "       'MLA29875', 'MLA409320', 'MLA393368', 'MLA389306', 'MLA392701',\n",
       "       'MLA389327', 'MLA413223', 'MLA29903', 'MLA392393', 'MLA455926',\n",
       "       'MLA400500', 'MLA409318', 'MLA431603', 'MLA389262', 'MLA392401',\n",
       "       'MLA4597', 'MLA413175', 'MLA393890', 'MLA29902', 'MLA388905',\n",
       "       'MLA455050', 'MLA4598', 'MLA412505', 'MLA409319', 'MLA1881',\n",
       "       'MLA384750', 'MLA431591', 'MLA393393', 'MLA388017', 'MLA43676',\n",
       "       'MLA392503', 'MLA5411', 'MLA4606', 'MLA425052', 'MLA29900',\n",
       "       'MLA409596', 'MLA361678', 'MLA454715', 'MLA416700', 'MLA29873',\n",
       "       'MLA431592', 'MLA446228', 'MLA411152', 'MLA431598', 'MLA411151',\n",
       "       'MLA412637', 'MLA455048', 'MLA389263', 'MLA408040', 'MLA393757',\n",
       "       'MLA393380', 'MLA409598', 'MLA417576', 'MLA412010', 'MLA402976',\n",
       "       'MLA416716', 'MLA43686', 'MLA409317', 'MLA4773', 'MLA418317',\n",
       "       'MLA431657', 'MLA43802', 'MLA417578', 'MLA29947', 'MLA10503',\n",
       "       'MLA431656', 'MLA1259', 'MLA417598', 'MLA413411', 'MLA392402',\n",
       "       'MLA417310', 'MLA453571', 'MLA389621', 'MLA393561', 'MLA393383',\n",
       "       'MLA409360', 'MLA417024', 'MLA429448', 'MLA389307', 'MLA392392',\n",
       "       'MLA29890', 'MLA411150', 'MLA431337', 'MLA431595', 'MLA409557',\n",
       "       'MLA455813', 'MLA393687', 'MLA417520', 'MLA29907', 'MLA409597',\n",
       "       'MLA431305', 'MLA411766', 'MLA416819', 'MLA401564', 'MLA411087',\n",
       "       'MLA393384', 'MLA411817', 'MLA409313', 'MLA389205', 'MLA29872',\n",
       "       'MLA417891', 'MLA417464', 'MLA392399', 'MLA414002', 'MLA431589',\n",
       "       'MLA447211', 'MLA389336', 'MLA412504', 'MLA414076', 'MLA43660',\n",
       "       'MLA393367', 'MLA391873', 'MLA409554', 'MLA417679', 'MLA412503',\n",
       "       'MLA43667', 'MLA417023', 'MLA417111', 'MLA432665', 'MLA418898',\n",
       "       'MLA414199', 'MLA413481', 'MLA436435', 'MLA448176', 'MLA393683',\n",
       "       'MLA412506', 'MLA413227', 'MLA409333', 'MLA413409', 'MLA416242',\n",
       "       'MLA29891', 'MLA418956', 'MLA417559', 'MLA455787', 'MLA414032',\n",
       "       'MLA417561', 'MLA449418', 'MLA431654', 'MLA29925', 'MLA417850',\n",
       "       'MLA69569', 'MLA417752', 'MLA417772', 'MLA455869', 'MLA417325',\n",
       "       'MLA394064', 'MLA455051', 'MLA456151', 'MLA416672', 'MLA431655',\n",
       "       'MLA413240', 'MLA416704', 'MLA352679', 'MLA1442', 'MLA1436',\n",
       "       'MLA3949', 'MLA1438', 'MLA434353', 'MLA1432', 'MLA1440',\n",
       "       'MLA414225', 'MLA4559', 'MLA6312', 'MLA430494', 'MLA9291',\n",
       "       'MLA399230', 'MLA1437', 'MLA417313', 'MLA418339', 'MLA7715',\n",
       "       'MLA417846', 'MLA437168', 'MLA417306', 'MLA431680', 'MLA417982',\n",
       "       'MLA436820', 'MLA3938', 'MLA236752', 'MLA413459', 'MLA431679',\n",
       "       'MLA31328', 'MLA434345', 'MLA31327', 'MLA31342', 'MLA31347',\n",
       "       'MLA431678', 'MLA3947', 'MLA431727', 'MLA431041', 'MLA429296',\n",
       "       'MLA434344', 'MLA431735', 'MLA431746', 'MLA5229', 'MLA5232',\n",
       "       'MLA372028', 'MLA372032', 'MLA30803', 'MLA30840', 'MLA371993',\n",
       "       'MLA433705', 'MLA411878', 'MLA372030', 'MLA435149', 'MLA372006',\n",
       "       'MLA30756', 'MLA30764', 'MLA5231', 'MLA5230', 'MLA430445',\n",
       "       'MLA372119', 'MLA322824', 'MLA413410', 'MLA443207', 'MLA412577',\n",
       "       'MLA413985', 'MLA10104', 'MLA30832', 'MLA373521', 'MLA372016',\n",
       "       'MLA411900', 'MLA435545', 'MLA30771', 'MLA372120', 'MLA440800',\n",
       "       'MLA10072', 'MLA411887', 'MLA401912', 'MLA373523', 'MLA30835',\n",
       "       'MLA417012', 'MLA372015', 'MLA372008', 'MLA419158', 'MLA412454',\n",
       "       'MLA30758', 'MLA431218', 'MLA30839', 'MLA372124', 'MLA429066',\n",
       "       'MLA412694', 'MLA48869', 'MLA30788', 'MLA30810', 'MLA371999',\n",
       "       'MLA411889', 'MLA412520', 'MLA414154', 'MLA30831', 'MLA30754',\n",
       "       'MLA407325', 'MLA30811', 'MLA48896', 'MLA372115', 'MLA421380',\n",
       "       'MLA412672', 'MLA455571', 'MLA424824', 'MLA378181', 'MLA412582',\n",
       "       'MLA433101', 'MLA372031', 'MLA392338', 'MLA30763', 'MLA372109',\n",
       "       'MLA377244', 'MLA431209', 'MLA392339', 'MLA371911', 'MLA412575',\n",
       "       'MLA372118', 'MLA412583', 'MLA373524', 'MLA429297', 'MLA371989',\n",
       "       'MLA380652', 'MLA384753', 'MLA372013', 'MLA30804', 'MLA455592',\n",
       "       'MLA431208', 'MLA413607', 'MLA372009', 'MLA414112', 'MLA372000',\n",
       "       'MLA413606', 'MLA429278', 'MLA455575', 'MLA416564', 'MLA411565',\n",
       "       'MLA372111', 'MLA430153', 'MLA372007', 'MLA431207', 'MLA413604',\n",
       "       'MLA413716', 'MLA411913', 'MLA429074', 'MLA412586', 'MLA429026',\n",
       "       'MLA416797', 'MLA414017', 'MLA431197', 'MLA411912', 'MLA372941',\n",
       "       'MLA433064', 'MLA435152', 'MLA417102', 'MLA414138', 'MLA411886',\n",
       "       'MLA455595', 'MLA373522', 'MLA371913', 'MLA429734', 'MLA413701',\n",
       "       'MLA433768', 'MLA431314', 'MLA413603', 'MLA440802', 'MLA429387',\n",
       "       'MLA431292', 'MLA30834', 'MLA411911', 'MLA431206', 'MLA429071',\n",
       "       'MLA373525', 'MLA416710', 'MLA392534', 'MLA417179', 'MLA30798',\n",
       "       'MLA429015', 'MLA414196', 'MLA30759', 'MLA413474', 'MLA414156',\n",
       "       'MLA412711', 'MLA371997', 'MLA417358', 'MLA407326', 'MLA455196',\n",
       "       'MLA417178', 'MLA401623', 'MLA399137', 'MLA455615', 'MLA455574',\n",
       "       'MLA431295', 'MLA417020', 'MLA399134', 'MLA417614', 'MLA413584',\n",
       "       'MLA455596', 'MLA414387', 'MLA371996', 'MLA372014', 'MLA435150',\n",
       "       'MLA372003', 'MLA412578', 'MLA455597', 'MLA430488', 'MLA413702',\n",
       "       'MLA188782', 'MLA371914', 'MLA371912', 'MLA30789', 'MLA48897',\n",
       "       'MLA417014', 'MLA455290', 'MLA373653', 'MLA413548', 'MLA431071',\n",
       "       'MLA372121', 'MLA430924', 'MLA431070', 'MLA371991', 'MLA412605',\n",
       "       'MLA372002', 'MLA412589', 'MLA429035', 'MLA372122', 'MLA371915',\n",
       "       'MLA412610', 'MLA371970', 'MLA407128', 'MLA421391', 'MLA411881',\n",
       "       'MLA411910', 'MLA455536', 'MLA434723', 'MLA455589', 'MLA372066',\n",
       "       'MLA416833', 'MLA414034', 'MLA414176', 'MLA413592', 'MLA431066',\n",
       "       'MLA414181', 'MLA417709', 'MLA418080', 'MLA384754', 'MLA443034',\n",
       "       'MLA413715', 'MLA456075', 'MLA455591', 'MLA48898', 'MLA455244',\n",
       "       'MLA414158', 'MLA380663', 'MLA413463', 'MLA455614', 'MLA455291',\n",
       "       'MLA416883', 'MLA416544', 'MLA443208', 'MLA372004', 'MLA435151'],\n",
       "      dtype=object)"
      ]
     },
     "execution_count": 6,
     "metadata": {},
     "output_type": "execute_result"
    }
   ],
   "source": [
    "data['category_id'].unique()"
   ]
  },
  {
   "cell_type": "code",
   "execution_count": 8,
   "metadata": {},
   "outputs": [
    {
     "data": {
      "text/plain": [
       "array(['5_green', '4_light_green', '3_yellow', '2_orange', nan, '1_red'],\n",
       "      dtype=object)"
      ]
     },
     "execution_count": 8,
     "metadata": {},
     "output_type": "execute_result"
    }
   ],
   "source": [
    "data['seller__seller_reputation__level_id'].unique()"
   ]
  },
  {
   "cell_type": "code",
   "execution_count": 9,
   "metadata": {},
   "outputs": [
    {
     "data": {
      "text/plain": [
       "array([\"['extended_warranty_eligible', 'good_quality_picture', 'good_quality_thumbnail', 'immediate_payment', 'cart_eligible']\",\n",
       "       \"['extended_warranty_eligible', 'good_quality_picture', 'good_quality_thumbnail', 'immediate_payment', 'cart_eligible', 'best_seller_candidate', 'shipping_guaranteed']\",\n",
       "       \"['brand_verified', 'good_quality_picture', 'good_quality_thumbnail', 'immediate_payment', 'cart_eligible', 'shipping_guaranteed']\",\n",
       "       ...,\n",
       "       \"['brand_verified', 'dragged_bids_and_visits', 'extended_warranty_eligible', 'good_quality_picture', 'good_quality_thumbnail', 'ahora-paid-by-buyer', 'immediate_payment', 'shipping_guaranteed']\",\n",
       "       \"['good_quality_thumbnail', 'loyalty_discount_eligible', 'extended_warranty_eligible', 'good_quality_picture', 'immediate_payment']\",\n",
       "       \"['loyalty_discount_eligible', 'ahora-paid-by-buyer', 'brand_verified', 'extended_warranty_eligible', 'good_quality_picture', 'good_quality_thumbnail', 'immediate_payment', 'shipping_guaranteed']\"],\n",
       "      dtype=object)"
      ]
     },
     "execution_count": 9,
     "metadata": {},
     "output_type": "execute_result"
    }
   ],
   "source": [
    "data['tags'].unique()"
   ]
  },
  {
   "cell_type": "code",
   "execution_count": 10,
   "metadata": {},
   "outputs": [],
   "source": [
    "import matplotlib.pyplot as plt"
   ]
  },
  {
   "cell_type": "code",
   "execution_count": 14,
   "metadata": {},
   "outputs": [
    {
     "name": "stderr",
     "output_type": "stream",
     "text": [
      "/var/folders/ms/v5w4mc3d0nscpg3rdtjqm5200000gp/T/ipykernel_13302/1374074867.py:2: UserWarning: FixedFormatter should only be used together with FixedLocator\n",
      "  ax=plt.gca().set_yticklabels(['{:,.0f}'.format(x) for x in plt.gca().get_yticks()])\n"
     ]
    },
    {
     "data": {
      "image/png": "[encoded data removed]",
      "text/plain": [
       "<Figure size 640x480 with 1 Axes>"
      ]
     },
     "metadata": {},
     "output_type": "display_data"
    }
   ],
   "source": [
    "ax=data['seller__seller_reputation__level_id'].value_counts().plot(kind = 'bar')\n",
    "ax=plt.gca().set_yticklabels(['{:,.0f}'.format(x) for x in plt.gca().get_yticks()])\n",
    "ax=plt.grid(color='#c7c7c7', linewidth=0.5, axis='both', alpha=0.5)"
   ]
  },
  {
   "cell_type": "code",
   "execution_count": 23,
   "metadata": {},
   "outputs": [
    {
     "data": {
      "text/plain": [
       "[(0.0, 120000.0)]"
      ]
     },
     "execution_count": 23,
     "metadata": {},
     "output_type": "execute_result"
    },
    {
     "data": {
      "image/png": "[encoded data removed]",
      "text/plain": [
       "<Figure size 640x480 with 1 Axes>"
      ]
     },
     "metadata": {},
     "output_type": "display_data"
    }
   ],
   "source": [
    "sns.set(rc={\"figure.dpi\":100})\n",
    "g=sns.boxplot(data=data, y=data['price'])\n",
    "#g.set(title='Operaciones monetarias por cluster')\n",
    "g.set (ylim=(0,120000))\n",
    "#g.set(xlabel='Cluster', ylabel='operaciones_monetarias')"
   ]
  },
  {
   "cell_type": "code",
   "execution_count": 24,
   "metadata": {},
   "outputs": [
    {
     "name": "stderr",
     "output_type": "stream",
     "text": [
      "/var/folders/ms/v5w4mc3d0nscpg3rdtjqm5200000gp/T/ipykernel_13302/2830784572.py:2: UserWarning: FixedFormatter should only be used together with FixedLocator\n",
      "  ax=plt.gca().set_yticklabels(['{:,.0f}'.format(x) for x in plt.gca().get_yticks()])\n"
     ]
    },
    {
     "data": {
      "image/png": "[encoded data removed]",
      "text/plain": [
       "<Figure size 640x480 with 1 Axes>"
      ]
     },
     "metadata": {},
     "output_type": "display_data"
    }
   ],
   "source": [
    "ax=data['listing_type_id'].value_counts().plot(kind = 'bar')\n",
    "ax=plt.gca().set_yticklabels(['{:,.0f}'.format(x) for x in plt.gca().get_yticks()])\n",
    "ax=plt.grid(color='#c7c7c7', linewidth=0.5, axis='both', alpha=0.5)"
   ]
  },
  {
   "cell_type": "code",
   "execution_count": null,
   "metadata": {},
   "outputs": [],
   "source": []
  }
 ],
 "metadata": {
  "kernelspec": {
   "display_name": "DH",
   "language": "python",
   "name": "python3"
  },
  "language_info": {
   "codemirror_mode": {
    "name": "ipython",
    "version": 3
   },
   "file_extension": ".py",
   "mimetype": "text/x-python",
   "name": "python",
   "nbconvert_exporter": "python",
   "pygments_lexer": "ipython3",
   "version": "3.10.6"
  },
  "orig_nbformat": 4,
  "vscode": {
   "interpreter": {
    "hash": "51f772a01f3728c9cb60ced237e3bf91381106f96875877db9afd61c9cb425c3"
   }
  }
 },
 "nbformat": 4,
 "nbformat_minor": 2
}
