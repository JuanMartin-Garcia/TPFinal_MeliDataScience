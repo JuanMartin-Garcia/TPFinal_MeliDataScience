{
 "cells": [
  {
   "cell_type": "code",
   "execution_count": 2,
   "metadata": {},
   "outputs": [
    {
     "name": "stderr",
     "output_type": "stream",
     "text": [
      "/Users/sofiaforni/Documents/Data Science/TPFinal_MeliDataScience/venv_tpfinal/lib/python3.7/site-packages/ipykernel_launcher.py:3: DeprecationWarning: `import pandas_profiling` is going to be deprecated by April 1st. Please use `import ydata_profiling` instead.\n",
      "  This is separate from the ipykernel package so we can avoid doing imports until\n"
     ]
    }
   ],
   "source": [
    "import numpy as np\n",
    "import pandas as pd\n",
    "from pandas_profiling import ProfileReport\n",
    "import seaborn as sns\n",
    "import matplotlib.pyplot as plt\n",
    "import re\n",
    "\n",
    "from sklearn.model_selection import train_test_split\n",
    "from sklearn.model_selection import cross_val_score\n",
    "from sklearn.model_selection import cross_validate\n",
    "\n",
    "from sklearn.preprocessing import MinMaxScaler\n",
    "from sklearn.preprocessing import StandardScaler\n",
    "from sklearn.model_selection import learning_curve\n",
    "from sklearn.model_selection import GridSearchCV\n",
    "from sklearn.model_selection import StratifiedKFold\n",
    "from sklearn.base import BaseEstimator, TransformerMixin\n",
    "from sklearn.linear_model import LogisticRegression\n",
    "from sklearn.neighbors import KNeighborsClassifier\n",
    "from sklearn.pipeline import Pipeline\n",
    "from sklearn.tree import DecisionTreeClassifier\n",
    "import sklearn.metrics as metrics\n",
    "from sklearn.metrics import accuracy_score\n",
    "from sklearn.metrics import classification_report"
   ]
  },
  {
   "cell_type": "code",
   "execution_count": 3,
   "metadata": {},
   "outputs": [],
   "source": [
    "#Unión de los archivos con sus respectivas categorías de búsqueda\n",
    "\n",
    "files = {\n",
    "    'juguetes':'mla1132_meli.csv',\n",
    "    'elementos de fotografia': 'mla1039_meli.csv',\n",
    "    'cuidado de la piel': 'mla1246_meli.csv',\n",
    "    'accesorios' : 'mla3937_meli.csv',\n",
    "    'herramientas' : 'mla407134_meli.csv'\n",
    "}\n",
    "\n",
    "out_df = pd.DataFrame()\n",
    "for key,value in files.items():\n",
    "    df = pd.read_csv(f'./Data/{value}')\n",
    "    df['Categoria']=key\n",
    "    out_df = pd.concat([out_df, df])\n",
    "\n",
    "out_df.to_csv(f'./Data/Categorias_complete.csv', index=False)"
   ]
  },
  {
   "cell_type": "code",
   "execution_count": 4,
   "metadata": {},
   "outputs": [
    {
     "name": "stdout",
     "output_type": "stream",
     "text": [
      "<class 'pandas.core.frame.DataFrame'>\n",
      "Int64Index: 19991 entries, 0 to 3996\n",
      "Data columns (total 48 columns):\n",
      " #   Column                                                             Non-Null Count  Dtype  \n",
      "---  ------                                                             --------------  -----  \n",
      " 0   id                                                                 19991 non-null  object \n",
      " 1   title                                                              19991 non-null  object \n",
      " 2   thumbnail_id                                                       19991 non-null  object \n",
      " 3   listing_type_id                                                    19991 non-null  object \n",
      " 4   permalink                                                          19991 non-null  object \n",
      " 5   category_id                                                        19991 non-null  object \n",
      " 6   domain_id                                                          19991 non-null  object \n",
      " 7   order_backend                                                      19991 non-null  int64  \n",
      " 8   price                                                              19991 non-null  float64\n",
      " 9   sold_quantity                                                      19991 non-null  int64  \n",
      " 10  available_quantity                                                 19991 non-null  int64  \n",
      " 11  tags                                                               19991 non-null  object \n",
      " 12  shipping__logistic_type                                            19991 non-null  object \n",
      " 13  shipping__mode                                                     15993 non-null  object \n",
      " 14  shipping__store_pick_up                                            19991 non-null  bool   \n",
      " 15  shipping__free_shipping                                            19991 non-null  bool   \n",
      " 16  shipping__tags                                                     19991 non-null  object \n",
      " 17  seller__id                                                         19991 non-null  int64  \n",
      " 18  seller__nickname                                                   19991 non-null  object \n",
      " 19  seller__tags                                                       19991 non-null  object \n",
      " 20  seller__seller_reputation__level_id                                19987 non-null  object \n",
      " 21  seller__seller_reputation__power_seller_status                     19541 non-null  object \n",
      " 22  seller__seller_reputation__transactions__canceled                  19991 non-null  int64  \n",
      " 23  seller__seller_reputation__transactions__completed                 19991 non-null  int64  \n",
      " 24  seller__seller_reputation__transactions__ratings__negative         19991 non-null  float64\n",
      " 25  seller__seller_reputation__transactions__ratings__neutral          19991 non-null  float64\n",
      " 26  seller__seller_reputation__transactions__ratings__positive         19991 non-null  float64\n",
      " 27  seller__seller_reputation__transactions__total                     19991 non-null  int64  \n",
      " 28  seller__seller_reputation__metrics__sales__period                  19991 non-null  object \n",
      " 29  seller__seller_reputation__metrics__sales__completed               19991 non-null  int64  \n",
      " 30  seller__seller_reputation__metrics__claims__period                 19991 non-null  object \n",
      " 31  seller__seller_reputation__metrics__claims__rate                   19991 non-null  float64\n",
      " 32  seller__seller_reputation__metrics__claims__value                  19991 non-null  int64  \n",
      " 33  seller__seller_reputation__metrics__delayed_handling_time__period  19991 non-null  object \n",
      " 34  seller__seller_reputation__metrics__delayed_handling_time__rate    19991 non-null  float64\n",
      " 35  seller__seller_reputation__metrics__delayed_handling_time__value   19991 non-null  int64  \n",
      " 36  seller__seller_reputation__metrics__cancellations__period          19991 non-null  object \n",
      " 37  seller__seller_reputation__metrics__cancellations__rate            19991 non-null  float64\n",
      " 38  seller__seller_reputation__metrics__cancellations__value           19991 non-null  int64  \n",
      " 39  installments__quantity                                             19987 non-null  float64\n",
      " 40  installments__amount                                               19987 non-null  float64\n",
      " 41  installments__rate                                                 19987 non-null  float64\n",
      " 42  days_remaining                                                     19991 non-null  int64  \n",
      " 43  years_active                                                       19991 non-null  int64  \n",
      " 44  Categoria                                                          19991 non-null  object \n",
      " 45  seller__car_dealer                                                 7997 non-null   object \n",
      " 46  seller__car_dealer_logo                                            6 non-null      object \n",
      " 47  variation_filters                                                  3382 non-null   object \n",
      "dtypes: bool(2), float64(10), int64(13), object(23)\n",
      "memory usage: 7.2+ MB\n"
     ]
    }
   ],
   "source": [
    "out_df.info()"
   ]
  },
  {
   "cell_type": "code",
   "execution_count": 5,
   "metadata": {},
   "outputs": [
    {
     "data": {
      "text/html": [
       "<div>\n",
       "<style scoped>\n",
       "    .dataframe tbody tr th:only-of-type {\n",
       "        vertical-align: middle;\n",
       "    }\n",
       "\n",
       "    .dataframe tbody tr th {\n",
       "        vertical-align: top;\n",
       "    }\n",
       "\n",
       "    .dataframe thead th {\n",
       "        text-align: right;\n",
       "    }\n",
       "</style>\n",
       "<table border=\"1\" class=\"dataframe\">\n",
       "  <thead>\n",
       "    <tr style=\"text-align: right;\">\n",
       "      <th></th>\n",
       "      <th>id</th>\n",
       "      <th>title</th>\n",
       "      <th>thumbnail_id</th>\n",
       "      <th>listing_type_id</th>\n",
       "      <th>permalink</th>\n",
       "      <th>category_id</th>\n",
       "      <th>domain_id</th>\n",
       "      <th>order_backend</th>\n",
       "      <th>price</th>\n",
       "      <th>sold_quantity</th>\n",
       "      <th>...</th>\n",
       "      <th>seller__seller_reputation__metrics__cancellations__value</th>\n",
       "      <th>installments__quantity</th>\n",
       "      <th>installments__amount</th>\n",
       "      <th>installments__rate</th>\n",
       "      <th>days_remaining</th>\n",
       "      <th>years_active</th>\n",
       "      <th>Categoria</th>\n",
       "      <th>seller__car_dealer</th>\n",
       "      <th>seller__car_dealer_logo</th>\n",
       "      <th>variation_filters</th>\n",
       "    </tr>\n",
       "  </thead>\n",
       "  <tbody>\n",
       "    <tr>\n",
       "      <th>0</th>\n",
       "      <td>MLA1112140771</td>\n",
       "      <td>Pileta Inflable Redonda Bestway Kiddie Lounge ...</td>\n",
       "      <td>623284-MLA53605777143_022023</td>\n",
       "      <td>gold_pro</td>\n",
       "      <td>https://www.mercadolibre.com.ar/pileta-inflabl...</td>\n",
       "      <td>MLA11226</td>\n",
       "      <td>MLA-INFLATABLE_POOLS</td>\n",
       "      <td>1</td>\n",
       "      <td>1692.9</td>\n",
       "      <td>250</td>\n",
       "      <td>...</td>\n",
       "      <td>0</td>\n",
       "      <td>6.0</td>\n",
       "      <td>282.15</td>\n",
       "      <td>0.00</td>\n",
       "      <td>6833</td>\n",
       "      <td>4</td>\n",
       "      <td>juguetes</td>\n",
       "      <td>NaN</td>\n",
       "      <td>NaN</td>\n",
       "      <td>NaN</td>\n",
       "    </tr>\n",
       "    <tr>\n",
       "      <th>1</th>\n",
       "      <td>MLA1275803410</td>\n",
       "      <td>Cry Babies Fantasy Dreamy Imc Toys 99180im</td>\n",
       "      <td>843969-MLA48269133730_112021</td>\n",
       "      <td>gold_special</td>\n",
       "      <td>https://www.mercadolibre.com.ar/cry-babies-fan...</td>\n",
       "      <td>MLA2968</td>\n",
       "      <td>MLA-DOLLS</td>\n",
       "      <td>2</td>\n",
       "      <td>15990.0</td>\n",
       "      <td>200</td>\n",
       "      <td>...</td>\n",
       "      <td>135</td>\n",
       "      <td>6.0</td>\n",
       "      <td>3953.53</td>\n",
       "      <td>48.35</td>\n",
       "      <td>7223</td>\n",
       "      <td>4</td>\n",
       "      <td>juguetes</td>\n",
       "      <td>NaN</td>\n",
       "      <td>NaN</td>\n",
       "      <td>NaN</td>\n",
       "    </tr>\n",
       "    <tr>\n",
       "      <th>2</th>\n",
       "      <td>MLA1109575910</td>\n",
       "      <td>Juego De Cartas Desconectados En Palabras</td>\n",
       "      <td>633026-MLA48408537360_122021</td>\n",
       "      <td>gold_special</td>\n",
       "      <td>https://www.mercadolibre.com.ar/juego-de-carta...</td>\n",
       "      <td>MLA1161</td>\n",
       "      <td>MLA-BOARD_GAMES</td>\n",
       "      <td>3</td>\n",
       "      <td>6499.0</td>\n",
       "      <td>5000</td>\n",
       "      <td>...</td>\n",
       "      <td>1</td>\n",
       "      <td>6.0</td>\n",
       "      <td>1606.88</td>\n",
       "      <td>48.35</td>\n",
       "      <td>6815</td>\n",
       "      <td>2</td>\n",
       "      <td>juguetes</td>\n",
       "      <td>NaN</td>\n",
       "      <td>NaN</td>\n",
       "      <td>NaN</td>\n",
       "    </tr>\n",
       "    <tr>\n",
       "      <th>3</th>\n",
       "      <td>MLA1110677111</td>\n",
       "      <td>Juego De Mesa Código Secreto Czech Games Editi...</td>\n",
       "      <td>960516-MLA44936648183_022021</td>\n",
       "      <td>gold_special</td>\n",
       "      <td>https://www.mercadolibre.com.ar/juego-de-mesa-...</td>\n",
       "      <td>MLA1161</td>\n",
       "      <td>MLA-BOARD_GAMES</td>\n",
       "      <td>4</td>\n",
       "      <td>9500.0</td>\n",
       "      <td>250</td>\n",
       "      <td>...</td>\n",
       "      <td>5</td>\n",
       "      <td>6.0</td>\n",
       "      <td>2348.88</td>\n",
       "      <td>48.35</td>\n",
       "      <td>6822</td>\n",
       "      <td>16</td>\n",
       "      <td>juguetes</td>\n",
       "      <td>NaN</td>\n",
       "      <td>NaN</td>\n",
       "      <td>NaN</td>\n",
       "    </tr>\n",
       "    <tr>\n",
       "      <th>4</th>\n",
       "      <td>MLA1240728057</td>\n",
       "      <td>Bellies Bebe Interactivo Beth Edic Especial In...</td>\n",
       "      <td>994457-MLA49925702800_052022</td>\n",
       "      <td>gold_special</td>\n",
       "      <td>https://www.mercadolibre.com.ar/bellies-bebe-i...</td>\n",
       "      <td>MLA2968</td>\n",
       "      <td>MLA-DOLLS</td>\n",
       "      <td>5</td>\n",
       "      <td>21900.0</td>\n",
       "      <td>0</td>\n",
       "      <td>...</td>\n",
       "      <td>28</td>\n",
       "      <td>6.0</td>\n",
       "      <td>5414.78</td>\n",
       "      <td>48.35</td>\n",
       "      <td>7200</td>\n",
       "      <td>10</td>\n",
       "      <td>juguetes</td>\n",
       "      <td>NaN</td>\n",
       "      <td>NaN</td>\n",
       "      <td>NaN</td>\n",
       "    </tr>\n",
       "  </tbody>\n",
       "</table>\n",
       "<p>5 rows × 48 columns</p>\n",
       "</div>"
      ],
      "text/plain": [
       "              id                                              title  \\\n",
       "0  MLA1112140771  Pileta Inflable Redonda Bestway Kiddie Lounge ...   \n",
       "1  MLA1275803410         Cry Babies Fantasy Dreamy Imc Toys 99180im   \n",
       "2  MLA1109575910          Juego De Cartas Desconectados En Palabras   \n",
       "3  MLA1110677111  Juego De Mesa Código Secreto Czech Games Editi...   \n",
       "4  MLA1240728057  Bellies Bebe Interactivo Beth Edic Especial In...   \n",
       "\n",
       "                   thumbnail_id listing_type_id  \\\n",
       "0  623284-MLA53605777143_022023        gold_pro   \n",
       "1  843969-MLA48269133730_112021    gold_special   \n",
       "2  633026-MLA48408537360_122021    gold_special   \n",
       "3  960516-MLA44936648183_022021    gold_special   \n",
       "4  994457-MLA49925702800_052022    gold_special   \n",
       "\n",
       "                                           permalink category_id  \\\n",
       "0  https://www.mercadolibre.com.ar/pileta-inflabl...    MLA11226   \n",
       "1  https://www.mercadolibre.com.ar/cry-babies-fan...     MLA2968   \n",
       "2  https://www.mercadolibre.com.ar/juego-de-carta...     MLA1161   \n",
       "3  https://www.mercadolibre.com.ar/juego-de-mesa-...     MLA1161   \n",
       "4  https://www.mercadolibre.com.ar/bellies-bebe-i...     MLA2968   \n",
       "\n",
       "              domain_id  order_backend    price  sold_quantity  ...  \\\n",
       "0  MLA-INFLATABLE_POOLS              1   1692.9            250  ...   \n",
       "1             MLA-DOLLS              2  15990.0            200  ...   \n",
       "2       MLA-BOARD_GAMES              3   6499.0           5000  ...   \n",
       "3       MLA-BOARD_GAMES              4   9500.0            250  ...   \n",
       "4             MLA-DOLLS              5  21900.0              0  ...   \n",
       "\n",
       "   seller__seller_reputation__metrics__cancellations__value  \\\n",
       "0                                                  0          \n",
       "1                                                135          \n",
       "2                                                  1          \n",
       "3                                                  5          \n",
       "4                                                 28          \n",
       "\n",
       "  installments__quantity installments__amount installments__rate  \\\n",
       "0                    6.0               282.15               0.00   \n",
       "1                    6.0              3953.53              48.35   \n",
       "2                    6.0              1606.88              48.35   \n",
       "3                    6.0              2348.88              48.35   \n",
       "4                    6.0              5414.78              48.35   \n",
       "\n",
       "   days_remaining  years_active Categoria  seller__car_dealer  \\\n",
       "0            6833             4  juguetes                 NaN   \n",
       "1            7223             4  juguetes                 NaN   \n",
       "2            6815             2  juguetes                 NaN   \n",
       "3            6822            16  juguetes                 NaN   \n",
       "4            7200            10  juguetes                 NaN   \n",
       "\n",
       "  seller__car_dealer_logo variation_filters  \n",
       "0                     NaN               NaN  \n",
       "1                     NaN               NaN  \n",
       "2                     NaN               NaN  \n",
       "3                     NaN               NaN  \n",
       "4                     NaN               NaN  \n",
       "\n",
       "[5 rows x 48 columns]"
      ]
     },
     "execution_count": 5,
     "metadata": {},
     "output_type": "execute_result"
    }
   ],
   "source": [
    "out_df.head()"
   ]
  },
  {
   "attachments": {},
   "cell_type": "markdown",
   "metadata": {},
   "source": [
    "## EDA"
   ]
  },
  {
   "cell_type": "code",
   "execution_count": 6,
   "metadata": {},
   "outputs": [
    {
     "data": {
      "text/plain": [
       "Index(['id', 'title', 'thumbnail_id', 'listing_type_id', 'permalink',\n",
       "       'category_id', 'domain_id', 'order_backend', 'price', 'sold_quantity',\n",
       "       'available_quantity', 'tags', 'shipping__logistic_type',\n",
       "       'shipping__mode', 'shipping__store_pick_up', 'shipping__free_shipping',\n",
       "       'shipping__tags', 'seller__id', 'seller__nickname', 'seller__tags',\n",
       "       'seller__seller_reputation__level_id',\n",
       "       'seller__seller_reputation__power_seller_status',\n",
       "       'seller__seller_reputation__transactions__canceled',\n",
       "       'seller__seller_reputation__transactions__completed',\n",
       "       'seller__seller_reputation__transactions__ratings__negative',\n",
       "       'seller__seller_reputation__transactions__ratings__neutral',\n",
       "       'seller__seller_reputation__transactions__ratings__positive',\n",
       "       'seller__seller_reputation__transactions__total',\n",
       "       'seller__seller_reputation__metrics__sales__period',\n",
       "       'seller__seller_reputation__metrics__sales__completed',\n",
       "       'seller__seller_reputation__metrics__claims__period',\n",
       "       'seller__seller_reputation__metrics__claims__rate',\n",
       "       'seller__seller_reputation__metrics__claims__value',\n",
       "       'seller__seller_reputation__metrics__delayed_handling_time__period',\n",
       "       'seller__seller_reputation__metrics__delayed_handling_time__rate',\n",
       "       'seller__seller_reputation__metrics__delayed_handling_time__value',\n",
       "       'seller__seller_reputation__metrics__cancellations__period',\n",
       "       'seller__seller_reputation__metrics__cancellations__rate',\n",
       "       'seller__seller_reputation__metrics__cancellations__value',\n",
       "       'installments__quantity', 'installments__amount', 'installments__rate',\n",
       "       'days_remaining', 'years_active', 'Categoria', 'seller__car_dealer',\n",
       "       'seller__car_dealer_logo', 'variation_filters'],\n",
       "      dtype='object')"
      ]
     },
     "execution_count": 6,
     "metadata": {},
     "output_type": "execute_result"
    }
   ],
   "source": [
    "out_df.columns"
   ]
  },
  {
   "cell_type": "code",
   "execution_count": 7,
   "metadata": {},
   "outputs": [
    {
     "name": "stderr",
     "output_type": "stream",
     "text": [
      "/Users/sofiaforni/Documents/Data Science/TPFinal_MeliDataScience/venv_tpfinal/lib/python3.7/site-packages/ipykernel_launcher.py:3: UserWarning: FixedFormatter should only be used together with FixedLocator\n",
      "  This is separate from the ipykernel package so we can avoid doing imports until\n"
     ]
    },
    {
     "data": {
      "image/png": "[encoded data removed]",
      "text/plain": [
       "<Figure size 640x480 with 1 Axes>"
      ]
     },
     "metadata": {},
     "output_type": "display_data"
    }
   ],
   "source": [
    "c=['#7fc97f', '#beaed4', '#fdc086', '#ffff99', '#386cb0']\n",
    "ax=out_df['Categoria'].value_counts().plot(kind = 'bar', title='Cantidad de elementos por categoría', color= c,xlabel='Categoría', ylabel=' ',)\n",
    "ax=plt.gca().set_yticklabels(['{:,.0f}'.format(x) for x in plt.gca().get_yticks()])\n",
    "ax=plt.grid(color='#c7c7c7', linewidth=0.5, axis='both', alpha=0.5)"
   ]
  },
  {
   "cell_type": "code",
   "execution_count": 8,
   "metadata": {},
   "outputs": [],
   "source": [
    "# Reindexamos la base de datos que fue concatenada\n",
    "\n",
    "out_df.reset_index(inplace=True)"
   ]
  },
  {
   "cell_type": "code",
   "execution_count": 9,
   "metadata": {},
   "outputs": [
    {
     "data": {
      "application/vnd.jupyter.widget-view+json": {
       "model_id": "f8361edd3bff4b95bc1582a76f306a24",
       "version_major": 2,
       "version_minor": 0
      },
      "text/plain": [
       "Summarize dataset:   0%|          | 0/5 [00:00<?, ?it/s]"
      ]
     },
     "metadata": {},
     "output_type": "display_data"
    },
    {
     "data": {
      "application/vnd.jupyter.widget-view+json": {
       "model_id": "16428a3ab7474d1a8e10b12769e5f3c6",
       "version_major": 2,
       "version_minor": 0
      },
      "text/plain": [
       "Generate report structure:   0%|          | 0/1 [00:00<?, ?it/s]"
      ]
     },
     "metadata": {},
     "output_type": "display_data"
    },
    {
     "data": {
      "application/vnd.jupyter.widget-view+json": {
       "model_id": "e2dfcc6530234f488b4773c27eccaf51",
       "version_major": 2,
       "version_minor": 0
      },
      "text/plain": [
       "Render HTML:   0%|          | 0/1 [00:00<?, ?it/s]"
      ]
     },
     "metadata": {},
     "output_type": "display_data"
    },
    {
     "data": {
      "application/vnd.jupyter.widget-view+json": {
       "model_id": "f03e7d19b8944c93b577946acf9d3d13",
       "version_major": 2,
       "version_minor": 0
      },
      "text/plain": [
       "Export report to file:   0%|          | 0/1 [00:00<?, ?it/s]"
      ]
     },
     "metadata": {},
     "output_type": "display_data"
    }
   ],
   "source": [
    "#AutoEDA\n",
    "\n",
    "prof = ProfileReport(out_df)\n",
    "prof.to_file(output_file='eda_output.html')"
   ]
  },
  {
   "cell_type": "code",
   "execution_count": 10,
   "metadata": {},
   "outputs": [],
   "source": [
    "columns = out_df.columns"
   ]
  },
  {
   "cell_type": "code",
   "execution_count": 11,
   "metadata": {},
   "outputs": [
    {
     "name": "stdout",
     "output_type": "stream",
     "text": [
      "['seller__id', 'seller__nickname', 'seller__tags', 'seller__seller_reputation__level_id', 'seller__seller_reputation__power_seller_status', 'seller__seller_reputation__transactions__canceled', 'seller__seller_reputation__transactions__completed', 'seller__seller_reputation__transactions__ratings__negative', 'seller__seller_reputation__transactions__ratings__neutral', 'seller__seller_reputation__transactions__ratings__positive', 'seller__seller_reputation__transactions__total', 'seller__seller_reputation__metrics__sales__period', 'seller__seller_reputation__metrics__sales__completed', 'seller__seller_reputation__metrics__claims__period', 'seller__seller_reputation__metrics__claims__rate', 'seller__seller_reputation__metrics__claims__value', 'seller__seller_reputation__metrics__delayed_handling_time__period', 'seller__seller_reputation__metrics__delayed_handling_time__rate', 'seller__seller_reputation__metrics__delayed_handling_time__value', 'seller__seller_reputation__metrics__cancellations__period', 'seller__seller_reputation__metrics__cancellations__rate', 'seller__seller_reputation__metrics__cancellations__value', 'seller__car_dealer', 'seller__car_dealer_logo']\n"
     ]
    }
   ],
   "source": [
    "#Eliminamos las columnas que hacen referencias a cuestiones vinculadas al vendedor\n",
    "\n",
    "regex = re.compile('^seller__')\n",
    "seller_columns = list(filter(regex.match, columns))\n",
    "print(seller_columns)"
   ]
  },
  {
   "cell_type": "code",
   "execution_count": 21,
   "metadata": {},
   "outputs": [
    {
     "ename": "KeyError",
     "evalue": "\"['seller__id' 'seller__nickname' 'seller__tags'\\n 'seller__seller_reputation__level_id'\\n 'seller__seller_reputation__power_seller_status'\\n 'seller__seller_reputation__transactions__canceled'\\n 'seller__seller_reputation__transactions__completed'\\n 'seller__seller_reputation__transactions__ratings__negative'\\n 'seller__seller_reputation__transactions__ratings__neutral'\\n 'seller__seller_reputation__transactions__ratings__positive'\\n 'seller__seller_reputation__transactions__total'\\n 'seller__seller_reputation__metrics__sales__period'\\n 'seller__seller_reputation__metrics__sales__completed'\\n 'seller__seller_reputation__metrics__claims__period'\\n 'seller__seller_reputation__metrics__claims__rate'\\n 'seller__seller_reputation__metrics__claims__value'\\n 'seller__seller_reputation__metrics__delayed_handling_time__period'\\n 'seller__seller_reputation__metrics__delayed_handling_time__rate'\\n 'seller__seller_reputation__metrics__delayed_handling_time__value'\\n 'seller__seller_reputation__metrics__cancellations__period'\\n 'seller__seller_reputation__metrics__cancellations__rate'\\n 'seller__seller_reputation__metrics__cancellations__value'\\n 'seller__car_dealer' 'seller__car_dealer_logo'] not found in axis\"",
     "output_type": "error",
     "traceback": [
      "\u001b[0;31m---------------------------------------------------------------------------\u001b[0m",
      "\u001b[0;31mKeyError\u001b[0m                                  Traceback (most recent call last)",
      "\u001b[0;32m/var/folders/ms/v5w4mc3d0nscpg3rdtjqm5200000gp/T/ipykernel_4184/3982421254.py\u001b[0m in \u001b[0;36m<module>\u001b[0;34m\u001b[0m\n\u001b[0;32m----> 1\u001b[0;31m \u001b[0mout_df\u001b[0m\u001b[0;34m.\u001b[0m\u001b[0mdrop\u001b[0m\u001b[0;34m(\u001b[0m\u001b[0mcolumns\u001b[0m\u001b[0;34m=\u001b[0m\u001b[0mseller_columns\u001b[0m\u001b[0;34m,\u001b[0m \u001b[0minplace\u001b[0m\u001b[0;34m=\u001b[0m\u001b[0;32mTrue\u001b[0m\u001b[0;34m)\u001b[0m\u001b[0;34m\u001b[0m\u001b[0;34m\u001b[0m\u001b[0m\n\u001b[0m",
      "\u001b[0;32m~/Documents/Data Science/TPFinal_MeliDataScience/venv_tpfinal/lib/python3.7/site-packages/pandas/util/_decorators.py\u001b[0m in \u001b[0;36mwrapper\u001b[0;34m(*args, **kwargs)\u001b[0m\n\u001b[1;32m    309\u001b[0m                     \u001b[0mstacklevel\u001b[0m\u001b[0;34m=\u001b[0m\u001b[0mstacklevel\u001b[0m\u001b[0;34m,\u001b[0m\u001b[0;34m\u001b[0m\u001b[0;34m\u001b[0m\u001b[0m\n\u001b[1;32m    310\u001b[0m                 )\n\u001b[0;32m--> 311\u001b[0;31m             \u001b[0;32mreturn\u001b[0m \u001b[0mfunc\u001b[0m\u001b[0;34m(\u001b[0m\u001b[0;34m*\u001b[0m\u001b[0margs\u001b[0m\u001b[0;34m,\u001b[0m \u001b[0;34m**\u001b[0m\u001b[0mkwargs\u001b[0m\u001b[0;34m)\u001b[0m\u001b[0;34m\u001b[0m\u001b[0;34m\u001b[0m\u001b[0m\n\u001b[0m\u001b[1;32m    312\u001b[0m \u001b[0;34m\u001b[0m\u001b[0m\n\u001b[1;32m    313\u001b[0m         \u001b[0;32mreturn\u001b[0m \u001b[0mwrapper\u001b[0m\u001b[0;34m\u001b[0m\u001b[0;34m\u001b[0m\u001b[0m\n",
      "\u001b[0;32m~/Documents/Data Science/TPFinal_MeliDataScience/venv_tpfinal/lib/python3.7/site-packages/pandas/core/frame.py\u001b[0m in \u001b[0;36mdrop\u001b[0;34m(self, labels, axis, index, columns, level, inplace, errors)\u001b[0m\n\u001b[1;32m   4911\u001b[0m             \u001b[0mlevel\u001b[0m\u001b[0;34m=\u001b[0m\u001b[0mlevel\u001b[0m\u001b[0;34m,\u001b[0m\u001b[0;34m\u001b[0m\u001b[0;34m\u001b[0m\u001b[0m\n\u001b[1;32m   4912\u001b[0m             \u001b[0minplace\u001b[0m\u001b[0;34m=\u001b[0m\u001b[0minplace\u001b[0m\u001b[0;34m,\u001b[0m\u001b[0;34m\u001b[0m\u001b[0;34m\u001b[0m\u001b[0m\n\u001b[0;32m-> 4913\u001b[0;31m             \u001b[0merrors\u001b[0m\u001b[0;34m=\u001b[0m\u001b[0merrors\u001b[0m\u001b[0;34m,\u001b[0m\u001b[0;34m\u001b[0m\u001b[0;34m\u001b[0m\u001b[0m\n\u001b[0m\u001b[1;32m   4914\u001b[0m         )\n\u001b[1;32m   4915\u001b[0m \u001b[0;34m\u001b[0m\u001b[0m\n",
      "\u001b[0;32m~/Documents/Data Science/TPFinal_MeliDataScience/venv_tpfinal/lib/python3.7/site-packages/pandas/core/generic.py\u001b[0m in \u001b[0;36mdrop\u001b[0;34m(self, labels, axis, index, columns, level, inplace, errors)\u001b[0m\n\u001b[1;32m   4148\u001b[0m         \u001b[0;32mfor\u001b[0m \u001b[0maxis\u001b[0m\u001b[0;34m,\u001b[0m \u001b[0mlabels\u001b[0m \u001b[0;32min\u001b[0m \u001b[0maxes\u001b[0m\u001b[0;34m.\u001b[0m\u001b[0mitems\u001b[0m\u001b[0;34m(\u001b[0m\u001b[0;34m)\u001b[0m\u001b[0;34m:\u001b[0m\u001b[0;34m\u001b[0m\u001b[0;34m\u001b[0m\u001b[0m\n\u001b[1;32m   4149\u001b[0m             \u001b[0;32mif\u001b[0m \u001b[0mlabels\u001b[0m \u001b[0;32mis\u001b[0m \u001b[0;32mnot\u001b[0m \u001b[0;32mNone\u001b[0m\u001b[0;34m:\u001b[0m\u001b[0;34m\u001b[0m\u001b[0;34m\u001b[0m\u001b[0m\n\u001b[0;32m-> 4150\u001b[0;31m                 \u001b[0mobj\u001b[0m \u001b[0;34m=\u001b[0m \u001b[0mobj\u001b[0m\u001b[0;34m.\u001b[0m\u001b[0m_drop_axis\u001b[0m\u001b[0;34m(\u001b[0m\u001b[0mlabels\u001b[0m\u001b[0;34m,\u001b[0m \u001b[0maxis\u001b[0m\u001b[0;34m,\u001b[0m \u001b[0mlevel\u001b[0m\u001b[0;34m=\u001b[0m\u001b[0mlevel\u001b[0m\u001b[0;34m,\u001b[0m \u001b[0merrors\u001b[0m\u001b[0;34m=\u001b[0m\u001b[0merrors\u001b[0m\u001b[0;34m)\u001b[0m\u001b[0;34m\u001b[0m\u001b[0;34m\u001b[0m\u001b[0m\n\u001b[0m\u001b[1;32m   4151\u001b[0m \u001b[0;34m\u001b[0m\u001b[0m\n\u001b[1;32m   4152\u001b[0m         \u001b[0;32mif\u001b[0m \u001b[0minplace\u001b[0m\u001b[0;34m:\u001b[0m\u001b[0;34m\u001b[0m\u001b[0;34m\u001b[0m\u001b[0m\n",
      "\u001b[0;32m~/Documents/Data Science/TPFinal_MeliDataScience/venv_tpfinal/lib/python3.7/site-packages/pandas/core/generic.py\u001b[0m in \u001b[0;36m_drop_axis\u001b[0;34m(self, labels, axis, level, errors)\u001b[0m\n\u001b[1;32m   4183\u001b[0m                 \u001b[0mnew_axis\u001b[0m \u001b[0;34m=\u001b[0m \u001b[0maxis\u001b[0m\u001b[0;34m.\u001b[0m\u001b[0mdrop\u001b[0m\u001b[0;34m(\u001b[0m\u001b[0mlabels\u001b[0m\u001b[0;34m,\u001b[0m \u001b[0mlevel\u001b[0m\u001b[0;34m=\u001b[0m\u001b[0mlevel\u001b[0m\u001b[0;34m,\u001b[0m \u001b[0merrors\u001b[0m\u001b[0;34m=\u001b[0m\u001b[0merrors\u001b[0m\u001b[0;34m)\u001b[0m\u001b[0;34m\u001b[0m\u001b[0;34m\u001b[0m\u001b[0m\n\u001b[1;32m   4184\u001b[0m             \u001b[0;32melse\u001b[0m\u001b[0;34m:\u001b[0m\u001b[0;34m\u001b[0m\u001b[0;34m\u001b[0m\u001b[0m\n\u001b[0;32m-> 4185\u001b[0;31m                 \u001b[0mnew_axis\u001b[0m \u001b[0;34m=\u001b[0m \u001b[0maxis\u001b[0m\u001b[0;34m.\u001b[0m\u001b[0mdrop\u001b[0m\u001b[0;34m(\u001b[0m\u001b[0mlabels\u001b[0m\u001b[0;34m,\u001b[0m \u001b[0merrors\u001b[0m\u001b[0;34m=\u001b[0m\u001b[0merrors\u001b[0m\u001b[0;34m)\u001b[0m\u001b[0;34m\u001b[0m\u001b[0;34m\u001b[0m\u001b[0m\n\u001b[0m\u001b[1;32m   4186\u001b[0m             \u001b[0mresult\u001b[0m \u001b[0;34m=\u001b[0m \u001b[0mself\u001b[0m\u001b[0;34m.\u001b[0m\u001b[0mreindex\u001b[0m\u001b[0;34m(\u001b[0m\u001b[0;34m**\u001b[0m\u001b[0;34m{\u001b[0m\u001b[0maxis_name\u001b[0m\u001b[0;34m:\u001b[0m \u001b[0mnew_axis\u001b[0m\u001b[0;34m}\u001b[0m\u001b[0;34m)\u001b[0m\u001b[0;34m\u001b[0m\u001b[0;34m\u001b[0m\u001b[0m\n\u001b[1;32m   4187\u001b[0m \u001b[0;34m\u001b[0m\u001b[0m\n",
      "\u001b[0;32m~/Documents/Data Science/TPFinal_MeliDataScience/venv_tpfinal/lib/python3.7/site-packages/pandas/core/indexes/base.py\u001b[0m in \u001b[0;36mdrop\u001b[0;34m(self, labels, errors)\u001b[0m\n\u001b[1;32m   6015\u001b[0m         \u001b[0;32mif\u001b[0m \u001b[0mmask\u001b[0m\u001b[0;34m.\u001b[0m\u001b[0many\u001b[0m\u001b[0;34m(\u001b[0m\u001b[0;34m)\u001b[0m\u001b[0;34m:\u001b[0m\u001b[0;34m\u001b[0m\u001b[0;34m\u001b[0m\u001b[0m\n\u001b[1;32m   6016\u001b[0m             \u001b[0;32mif\u001b[0m \u001b[0merrors\u001b[0m \u001b[0;34m!=\u001b[0m \u001b[0;34m\"ignore\"\u001b[0m\u001b[0;34m:\u001b[0m\u001b[0;34m\u001b[0m\u001b[0;34m\u001b[0m\u001b[0m\n\u001b[0;32m-> 6017\u001b[0;31m                 \u001b[0;32mraise\u001b[0m \u001b[0mKeyError\u001b[0m\u001b[0;34m(\u001b[0m\u001b[0;34mf\"{labels[mask]} not found in axis\"\u001b[0m\u001b[0;34m)\u001b[0m\u001b[0;34m\u001b[0m\u001b[0;34m\u001b[0m\u001b[0m\n\u001b[0m\u001b[1;32m   6018\u001b[0m             \u001b[0mindexer\u001b[0m \u001b[0;34m=\u001b[0m \u001b[0mindexer\u001b[0m\u001b[0;34m[\u001b[0m\u001b[0;34m~\u001b[0m\u001b[0mmask\u001b[0m\u001b[0;34m]\u001b[0m\u001b[0;34m\u001b[0m\u001b[0;34m\u001b[0m\u001b[0m\n\u001b[1;32m   6019\u001b[0m         \u001b[0;32mreturn\u001b[0m \u001b[0mself\u001b[0m\u001b[0;34m.\u001b[0m\u001b[0mdelete\u001b[0m\u001b[0;34m(\u001b[0m\u001b[0mindexer\u001b[0m\u001b[0;34m)\u001b[0m\u001b[0;34m\u001b[0m\u001b[0;34m\u001b[0m\u001b[0m\n",
      "\u001b[0;31mKeyError\u001b[0m: \"['seller__id' 'seller__nickname' 'seller__tags'\\n 'seller__seller_reputation__level_id'\\n 'seller__seller_reputation__power_seller_status'\\n 'seller__seller_reputation__transactions__canceled'\\n 'seller__seller_reputation__transactions__completed'\\n 'seller__seller_reputation__transactions__ratings__negative'\\n 'seller__seller_reputation__transactions__ratings__neutral'\\n 'seller__seller_reputation__transactions__ratings__positive'\\n 'seller__seller_reputation__transactions__total'\\n 'seller__seller_reputation__metrics__sales__period'\\n 'seller__seller_reputation__metrics__sales__completed'\\n 'seller__seller_reputation__metrics__claims__period'\\n 'seller__seller_reputation__metrics__claims__rate'\\n 'seller__seller_reputation__metrics__claims__value'\\n 'seller__seller_reputation__metrics__delayed_handling_time__period'\\n 'seller__seller_reputation__metrics__delayed_handling_time__rate'\\n 'seller__seller_reputation__metrics__delayed_handling_time__value'\\n 'seller__seller_reputation__metrics__cancellations__period'\\n 'seller__seller_reputation__metrics__cancellations__rate'\\n 'seller__seller_reputation__metrics__cancellations__value'\\n 'seller__car_dealer' 'seller__car_dealer_logo'] not found in axis\""
     ]
    }
   ],
   "source": [
    "out_df.drop(columns=seller_columns, inplace=True)"
   ]
  },
  {
   "cell_type": "code",
   "execution_count": 22,
   "metadata": {},
   "outputs": [
    {
     "name": "stdout",
     "output_type": "stream",
     "text": [
      "<class 'pandas.core.frame.DataFrame'>\n",
      "RangeIndex: 19991 entries, 0 to 19990\n",
      "Data columns (total 17 columns):\n",
      " #   Column                   Non-Null Count  Dtype  \n",
      "---  ------                   --------------  -----  \n",
      " 0   listing_type_id          19991 non-null  object \n",
      " 1   domain_id                19991 non-null  object \n",
      " 2   price                    19991 non-null  float64\n",
      " 3   sold_quantity            19991 non-null  int64  \n",
      " 4   available_quantity       19991 non-null  int64  \n",
      " 5   shipping__logistic_type  19991 non-null  object \n",
      " 6   shipping__mode           15993 non-null  object \n",
      " 7   shipping__store_pick_up  19991 non-null  bool   \n",
      " 8   shipping__free_shipping  19991 non-null  bool   \n",
      " 9   shipping__tags           19991 non-null  object \n",
      " 10  installments__quantity   19987 non-null  float64\n",
      " 11  installments__amount     19987 non-null  float64\n",
      " 12  installments__rate       19987 non-null  float64\n",
      " 13  days_remaining           19991 non-null  int64  \n",
      " 14  years_active             19991 non-null  int64  \n",
      " 15  Categoria                19991 non-null  object \n",
      " 16  variation_filters        3382 non-null   object \n",
      "dtypes: bool(2), float64(4), int64(4), object(7)\n",
      "memory usage: 2.3+ MB\n"
     ]
    }
   ],
   "source": [
    "out_df.drop(columns=['id', 'title', 'thumbnail_id', 'permalink', 'order_backend', 'tags', 'category_id', 'df_index'], inplace=True)\n",
    "out_df.info()"
   ]
  },
  {
   "cell_type": "code",
   "execution_count": 23,
   "metadata": {},
   "outputs": [
    {
     "name": "stdout",
     "output_type": "stream",
     "text": [
      "['MLA-INFLATABLE_POOLS', 'MLA-DOLLS', 'MLA-BOARD_GAMES', 'MLA-STUFFED_TOYS', 'MLA-KICK_SCOOTERS', 'MLA-ACTION_FIGURES', 'MLA-STICKER_ALBUMS', 'MLA-PUZZLE_CUBES', 'MLA-DOLL_AND_ACTION_FIGURE_SETS', 'MLA-BEACH_TEJOS', 'MLA-TOYS_AND_GAMES', 'MLA-TOY_ROBOTS', 'MLA-TOY_BUILDING_SETS', 'MLA-PLAYING_CARDS', 'MLA-BABY_GYMS', 'MLA-MAGNETIC_DRAWING_BOARDS', 'MLA-REMOTE_CONTROL_TOY_VEHICLES', 'MLA-POOL_INFLATABLES', 'MLA-TOY_PRETEND_SUITCASES', 'MLA-TRAMPOLINE_SPRINGS', 'MLA-TABLE_TENNIS_RACKETS', 'MLA-PUSH_AND_RIDING_TOYS', 'MLA-PUZZLES', 'MLA-BALANCE_BICYCLES', 'MLA-COLLECTIBLE_ALBUM_STICKERS', 'MLA-TRADING_CARD_GAMES', 'MLA-KIDS_TENTS', 'MLA-ANIMAL_AND_BALL_HOPPERS', 'MLA-KIDS_TRICYCLES', 'MLA-CHALKBOARDS_AND_WHITEBOARDS', 'MLA-TABLE_TENNIS_NETS', 'MLA-POKER_SETS', 'MLA-BEACH_PADDLES', 'MLA-JEWELRY_MAKING_KITS', 'MLA-BABY_ACTIVITY_TABLES', 'MLA-BEACH_TOYS_SETS', 'MLA-NON_REMOTE_CONTROL_TOY_VEHICLES', 'MLA-TOY_KEYBOARDS_AND_PIANOS', 'MLA-BALL_PIT_BALLS', 'MLA-TOY_PRETEND_PLAY_BLENDERS', 'MLA-KID_SKATEBOARDS', 'MLA-SQUISHIES', 'MLA-TOY_VIRTUAL_PETS', 'MLA-DOLLHOUSES', 'MLA-TOY_BUBBLE_BLOWERS', 'MLA-VIDEO_GAME_CONTROLLER_CHARGER_PINS', 'MLA-TABLE_TENNIS_SETS', 'MLA-BABY_SUPPLIES', 'MLA-ELECTRIC_SCOOTERS', 'MLA-POP_ITS', 'MLA-BABY_ACTIVITY_CENTERS', 'MLA-POWERED_RIDE_ON_TOYS', 'MLA-TRAMPOLINES', 'MLA-KITCHEN_PLAYSETS', 'MLA-LOOM_BANDS', 'MLA-DIECAST_VEHICLES', 'MLA-FIDGET_SPINNERS', 'MLA-DOLL_VEHICLES', 'MLA-BILLIARD_CUE_FERRULES', 'MLA-TOY_SWORDS', 'MLA-TOY_GUITARS', 'MLA-SCHOOL_MODELING_CLAYS', 'MLA-BEACH_BALLS', 'MLA-KIDS_MICROPHONES', 'MLA-LEARNING_MAZES', 'MLA-MAGIC_SAND', 'MLA-TOY_GUNS', 'MLA-BICYCLES', 'MLA-BILLIARD_TABLE_CLOTHS', 'MLA-DANCE_MATS', 'MLA-PLAYGROUND_SWING_SETS', 'MLA-TABLE_TENNIS_BALLS', 'MLA-CAR_RACE_TRACKS_AND_BLAST_LAUNCHERS', 'MLA-DOLLHOUSE_FURNITURE_AND_APPLIANCES', 'MLA-CHESS_CLOCKS', 'MLA-PLAYGROUND_SLIDES', 'MLA-SPINNING_TOPS', 'MLA-DOLL_STROLLERS', 'MLA-BABY_SORTING_AND_STACKING_TOYS', 'MLA-DARTS', 'MLA-FINGER_SKATEBOARDS', 'MLA-BABY_BOUNCERS', 'MLA-CARD_ALBUMS', 'MLA-DOLL_CLOTHES', 'MLA-DICE', 'MLA-PUPPETS', 'MLA-MODEL_NAVAL_BOATS', 'MLA-TOY_GARAGES_AND_GAS_STATIONS', 'MLA-JOKE_TOYS', 'MLA-TOY_CASH_REGISTERS', 'MLA-TOY_TOOLS_SETS', 'MLA-TOY_VANITIES', 'MLA-DOLL_CRIBS', 'MLA-TOY_WORKSHOPS', 'MLA-TOY_KITES', 'MLA-DOLL_PLAYSETS', 'MLA-INFLATABLE_BALL_PITS', 'MLA-TOY_WASHING_MACHINES', 'MLA-RATTLES', 'MLA-MODEL_AIRCRAFT_PLANES', 'MLA-TOY_MICROWAVES', 'MLA-SLIME_MAKING_KITS', 'MLA-WATER_SLIDING_PADS', 'MLA-TOY_REFRIGERATORS', 'MLA-FOOSBALL_TABLES', 'MLA-KIDS_EASELS', 'MLA-TOY_SOLDIERS', 'MLA-AIR_POWER_BALLS', 'MLA-TABLE_TENNIS_TABLES', 'MLA-DRAGGING_TOYS', 'MLA-KIDS_TABLES_AND_CHAIRS_SETS', 'MLA-BATH_TOYS', 'MLA-TOY_WRISTWATCHES', 'MLA-TOY_SEWING_MACHINES', 'MLA-COLLECTION_DISPLAYS', 'MLA-MODEL_AIRCRAFT_HELICOPTERS', 'MLA-PLAYGROUND_ROUNDABOUTS', 'MLA-POKER_CHIPS', 'MLA-TOY_DRUMS', 'MLA-GAME_CONSOLES_VIDEO_GAMES_AND_ARCADE_MACHINES', 'MLA-AUTOMODELISM_VEHICLES', 'MLA-MODELISM_BATTERY_CHARGERS', 'MLA-TOY_MIXERS', 'MLA-PEDAL_RIDE_ON_TOYS', 'MLA-BILLIARD_BALLS', 'MLA-TOY_DRONES', 'MLA-ROLLER_SKATES', 'MLA-SAPO_GAMES', 'MLA-TOY_BOWS_AND_ARROWS', 'MLA-KIDS_WALKIE_TALKIES', 'MLA-MODELISM_BATTERIES', 'MLA-LEARNING_TOY_LAPTOPS', 'MLA-ANALOG_CAMERAS', 'MLA-MEMORY_CARDS', 'MLA-DIGITAL_CAMERAS', 'MLA-VIDEO_CAMERAS', 'MLA-PHOTOGRAPHY_ACCESSORIES_AND_SPARE_PARTS', 'MLA-PRINTERS', 'MLA-WATERPROOF_CAMERA_CASES', 'MLA-LENS_CAPS', 'MLA-CAMERA_TRIPODS', 'MLA-MICROPHONES', 'MLA-CAMERA_CLEANING_KITS', 'MLA-PHOTO_ALBUMS', 'MLA-LENS_FILTERS', 'MLA-MICROSCOPES', 'MLA-LENS_HOODS', 'MLA-DATA_CABLES_AND_ADAPTERS', 'MLA-CAMERA_AND_CELLPHONE_STABILIZERS', 'MLA-CAMERA_CHARGERS', 'MLA-LENS_ADAPTER_RINGS', 'MLA-CAMERA_MONOPODS', 'MLA-PHOTOGRAPHIC_REFLECTORS', 'MLA-MINI_PHOTO_STUDIOS', 'MLA-CAMERA_AND_VIDEO_CAMERA_BAGS_AND_CASES', 'MLA-PHOTOGRAPHIC_FILM_ROLLS', 'MLA-CAMERA_BATTERIES', 'MLA-CAMERA_LENSES', 'MLA-ACTION_CAMERA_MOUNTS', 'MLA-MEMORY_CARD_READERS', 'MLA-PICTURE_FRAMES', 'MLA-OPTICAL_INSTRUMENT_EYEPIECES', 'MLA-BINOCULARS', 'MLA-MONOCULARS', 'MLA-DRONES', 'MLA-CLAPPERBOARDS', 'MLA-ACTION_CAMERA_ACCESSORIES_KITS', 'MLA-PHOTOGRAPHIC_INSTANT_FILMS', 'MLA-CONTINUOUS_LIGHTING', 'MLA-CAMERA_REMOTE_CONTROLS', 'MLA-PHOTOGRAPHIC_DIFFUSERS', 'MLA-CAMERA_CASES', 'MLA-CAMERA_STRAPS', 'MLA-OPTICAL_INSTRUMENTS', 'MLA-BABY_PHOTOGRAPHIC_POSITIONERS', 'MLA-CAMERA_SCREEN_PROTECTORS', 'MLA-PHOTOGRAPHY_BACKDROPS', 'MLA-FLASH_TRIGGERS', 'MLA-CAMERA_FLASHES', 'MLA-LENS_EXTENSION_TUBES', 'MLA-PHOTOGRAPHY_BACKDROP_STANDS', 'MLA-VIDEO_CAMERA_CASES_AND_BAGS', 'MLA-TELESCOPES', 'MLA-DRONE_LANDING_GEARS', 'MLA-CAMERA_BATTERY_GRIPS', 'MLA-SCREWS', 'MLA-CAMERA_BACKPACKS', 'MLA-FLASH_FILTERS', 'MLA-ELECTRONIC_ACCESSORIES_AND_SPARE_PARTS', 'MLA-MEMORY_CARD_CASES_AND_BAGS', 'MLA-DRONE_PROPELLERS', 'MLA-ELECTRONIC_PRODUCTS', 'MLA-PHOTO_STUDIO_KITS', 'MLA-ACTION_CAMERA_ANTI_FOG_INSERTS', 'MLA-DRONES_FLEX_CABLES', 'MLA-DRONE_MODULES', 'MLA-CAMERA_SHOE_MOUNT_ADAPTERS', 'MLA-CAMERA_FIELD_MONITORS', 'MLA-DRONE_BATTERY_CHARGERS', 'MLA-DRONE_BACKPACKS_AND_CASES', 'MLA-AUDIO_AND_VIDEO_CABLES_AND_ADAPTERS', 'MLA-DRONE_BODY_SHELLS', 'MLA-PHOTOGRAPHIC_STUDIO_FLASHES', 'MLA-DIGITAL_PICTURE_FRAMES', 'MLA-PHOTOGRAPHIC_EQUIPMENT_SUITCASES', 'MLA-PHOTOGRAPHY_WEIGHT_BAGS', 'MLA-DRONE_PROPELLER_GUARDS', 'MLA-TELEPROMPTERS', 'MLA-DRONE_ANTENNAS', 'MLA-CAMERA_SLIDERS', 'MLA-DRONE_BATTERIES', 'MLA-CAMERA_PHOTOMETERS', 'MLA-DRONE_REPLACEMENT_CAMERAS', 'MLA-SUNSCREENS', 'MLA-HAIR_FIXATIVES', 'MLA-FACIAL_SKIN_CARE_PRODUCTS', 'MLA-EYEBROW_TRIMMERS', 'MLA-HAIR_SHAMPOOS_AND_CONDITIONERS', 'MLA-PERFUMES', 'MLA-HAIR_TREATMENTS', 'MLA-MASCARAS', 'MLA-FACIAL_TISSUES', 'MLA-ADULT_DIAPERS', 'MLA-LIPSTICKS', 'MLA-PADS', 'MLA-FOUNDATIONS', 'MLA-HYGIENIC_WET_WIPES', 'MLA-ELECTRIC_HAIR_BRUSHES', 'MLA-CONCEALERS', 'MLA-ORAL_IRRIGATORS', 'MLA-DEODORANTS', 'MLA-MAKEUP_BRUSHES', 'MLA-BODY_SKIN_CARE_PRODUCTS', 'MLA-EYELASH_EXTENSIONS', 'MLA-HYDROPHILIC_COTTON', 'MLA-MAKEUP', 'MLA-MAKEUP_REMOVERS', 'MLA-PERSONAL_LUBRICANTS_AND_GELS', 'MLA-MOUTHWASHES', 'MLA-HAIR_CLIPPERS', 'MLA-FALSE_EYELASHES', 'MLA-SELF_TANNERS', 'MLA-HAIR_DRYERS', 'MLA-EAR_COTTON_SWABS', 'MLA-SKIN_REPELLENTS', 'MLA-EYELINERS', 'MLA-TOILET_PAPERS', 'MLA-INCONTINENCE_PADS', 'MLA-HAIR_STRAIGHTENERS', 'MLA-MANICURE_AND_PEDICURE_SUPPLIES', 'MLA-TOOTHPASTES', 'MLA-CONDOMS', 'MLA-DEPILATORY_CREAMS', 'MLA-LIP_GLOSSES', 'MLA-FACE_MASKS', 'MLA-EPILATORS_AND_TRIMMERS', 'MLA-EYELASH_GLUES', 'MLA-TAMPONS', 'MLA-HAIR_DYES_AND_BLEACHES', 'MLA-EYELASH_TREATMENTS', 'MLA-RAZOR_CARTRIDGES', 'MLA-BAR_SOAPS', 'MLA-HEALTH_CARE_SUPPLIES', 'MLA-LIQUID_HAND_AND_BODY_SOAPS', 'MLA-LIP_BALMS', 'MLA-INCONTINENCE_UNDERPADS', 'MLA-EYELASH_CURLERS', 'MLA-GAUZES', 'MLA-ELECTRONIC_MUSCLE_STIMULATORS', 'MLA-TALCUMS', 'MLA-PANTY_LINERS', 'MLA-EYEBROW_LINERS', 'MLA-MAKEUP_ORGANIZERS', 'MLA-MICROBLADING_NEEDLES', 'MLA-MAKEUP_SETS', 'MLA-TOOTHBRUSHES', 'MLA-FEMALE_URINATION_DEVICES', 'MLA-HAIRDRESSING_ACCESSORIES', 'MLA-RAZOR_BLADES', 'MLA-HAIR_EXTENSIONS', 'MLA-SKIN_CARE_SUPPLIES', 'MLA-DISPOSABLE_AND_REFILLABLE_RAZORS', 'MLA-NURSING_PADS', 'MLA-AFTER_SUNS', 'MLA-SODIUM_BICARBONATE', 'MLA-INTIMATE_SOAPS', 'MLA-MAKEUP_ILLUMINATORS', 'MLA-BODY_SHAPERS', 'MLA-DEPILATORY_WAXES', 'MLA-DENTAL_FLOSSES', 'MLA-MANUAL_FACIAL_BRUSHES_AND_SPONGES', 'MLA-SUN_TANNER_PRODUCTS', 'MLA-MAKEUP_SPONGES', 'MLA-NAIL_POLISH', 'MLA-BEAUTY_AND_PERSONAL_CARE_SUPPLIES', 'MLA-HAND_AND_FOOT_MASKS', 'MLA-HAIR_REMOVAL_STRIPS', 'MLA-CONDUCTIVE_GELS', 'MLA-RADIO_FREQUENCY_MACHINES', 'MLA-EYESHADOWS', 'MLA-MENSTRUAL_CUPS', 'MLA-MICRONEEDLING_CARTRIDGES', 'MLA-NAIL_DRYERS', 'MLA-AFTERSHAVES', 'MLA-COLOSTOMY_BAGS', 'MLA-MANICURE_AND_PEDICURE_ELECTRONIC_EXFOLIATORS_AND_FILES', 'MLA-WAX_WARMERS', 'MLA-HAIR_BRUSHES', 'MLA-LIP_LINERS', 'MLA-BLUSHES', 'MLA-GEL_NAIL_KITS', 'MLA-NAIL_SAMPLES', 'MLA-PREGNANCY_AND_OVULATION_TESTS', 'MLA-PENCIL_SHARPENERS', 'MLA-ELECTRIC_TOOTHBRUSHES', 'MLA-MAKEUP_TRAIN_CASES', 'MLA-MANICURE_AND_PEDICURE_DRILLS', 'MLA-NAIL_POLISH_REMOVERS', 'MLA-CURLING_IRONS', 'MLA-EAR_WAX_REMOVERS', 'MLA-HAIR_REMOVAL', 'MLA-BACK_SCRATCHERS', 'MLA-SKIN_CARE_KITS', 'MLA-INTERDENTAL_BRUSHES', 'MLA-CHINESE_MEDICAL_CUPS_SETS', 'MLA-TEETH_WHITENING_SYRINGES', 'MLA-ESTHETIC_ELECTRIC_DEVICES', 'MLA-NAIL_AND_CUTICLE_CUTTERS', 'MLA-MAKEUP_PRIMERS', 'MLA-TEETH_WHITENING_STRIPS', 'MLA-HAIR_REMOVAL_KITS', 'MLA-ELECTRIC_FACIAL_BRUSHES_AND_SPONGES', 'MLA-HAIRDRESSING_SCISSORS', 'MLA-SCULPTURED_NAIL_BUILDER_GELS', 'MLA-EXFOLIATING_GLOVES', 'MLA-TONG_CLEANERS', 'MLA-NOSE_SHAPERS', 'MLA-NAIL_GLUES', 'MLA-PERMANENT_EPILATORS', 'MLA-MICRONEEDLE_ROLLERS', 'MLA-ANTIBACTERIAL_ALCOHOLS', 'MLA-BEARD_KITS', 'MLA-BEARD_OILS_AND_BALMS', 'MLA-HAIR_APPLIANCE_KITS', 'MLA-LED_THERAPY_FACE_MASKS', 'MLA-SPORT_AND_MEDICAL_BANDAGES', 'MLA-BLACKHEAD_MANUAL_REMOVERS', 'MLA-ELECTRODE_PADS', 'MLA-NAIL_STRENGTHENERS', 'MLA-CUTICLE_REMOVERS', 'MLA-SMARTWATCHES', 'MLA-WRISTWATCHES', 'MLA-NECKLACES', 'MLA-ALARM_CLOCKS', 'MLA-RINGS', 'MLA-WATCH_BANDS', 'MLA-EARRINGS', 'MLA-JEWELRY', 'MLA-BRACELETS_AND_ANKLE_BRACES', 'MLA-CHARMS_AND_MEDALS', 'MLA-WALL_CLOCKS', 'MLA-WEDDING_BANDS', 'MLA-JEWELRY_BOXES', 'MLA-JEWELRY_TOOLS', 'MLA-RING_SIZERS', 'MLA-PIERCINGS', 'MLA-CLOCKS_ACCESSORIES_AND_SPARE_PARTS', 'MLA-WRISTWATCH_SCREEN_PROTECTORS', 'MLA-JEWELRY_DISPLAYS', 'MLA-WATCH_BOXES', 'MLA-JEWELRY_AND_WATCHES', 'MLA-JEWELRY_ROLLS', 'MLA-JEWELRY_DISPLAYS_AND_BOXES', 'MLA-TABLE_CLOCKS', 'MLA-TIPPED_PLIERS', 'MLA-PRECIOUS_AND_SEMI_PRECIOUS_STONES', 'MLA-BROOCHES', 'MLA-WATCH_RINGS', 'MLA-POCKET_WATCHES', 'MLA-CUTTING_PLIERS', 'MLA-POWER_GRINDERS', 'MLA-ELECTRIC_DRILLS', 'MLA-COMBINED_TOOL_SETS', 'MLA-TOOL_AND_CONSTRUCTION_SUPPLIES', 'MLA-ELECTRIC_SCREWDRIVERS_AND_IMPACT_WRENCHES', 'MLA-ELECTRIC_PRESSURE_WASHERS', 'MLA-MANUAL_STAPLERS_AND_BRAD_NAILERS', 'MLA-PAINT_MACHINES', 'MLA-ELECTRIC_BRUSH_CUTTERS_AND_STRING_TRIMMERS', 'MLA-SCREWDRIVERS_SETS', 'MLA-ELECTRIC_LAWN_MOWERS', 'MLA-LASER_LEVELS', 'MLA-LASER_MEASURES', 'MLA-WELDING_MACHINES', 'MLA-ELECTRIC_CIRCULAR_SAWS', 'MLA-SUCTION_CUP_DENT_PULLERS', 'MLA-CUTTING_AND_GRINDING_DISCS_AND_STONES', 'MLA-POLYFUSION_DEVICES', 'MLA-WRENCH_SETS', 'MLA-JIG_SAWS', 'MLA-WIRE_STRIPPERS', 'MLA-TAPE_MEASURES', 'MLA-SANDER_MACHINES', 'MLA-HAND_FILES', 'MLA-HYGROMETERS', 'MLA-ELECTRIC_CHAINSAWS', 'MLA-TIE_DOWN_STRAPS', 'MLA-ELECTRIC_HAND_PLANERS', 'MLA-TOOL_MILLS', 'MLA-ELECTRIC_BLOWERS', 'MLA-MICRO_ROTARY_TOOLS', 'MLA-GARDEN_SPRAYERS', 'MLA-TILE_LEVELER_SPACERS', 'MLA-COMBUSTION_CHAINSAWS', 'MLA-HEAT_GUNS', 'MLA-TOOL_ACCESSORIES_AND_SPARES', 'MLA-PH_METERS', 'MLA-MECHANICAL_TALLY_COUNTERS', 'MLA-COMBUSTION_WATER_PUMPS', 'MLA-BAR_CLAMPS', 'MLA-INDUSTRIAL_MAGNETS', 'MLA-AMBIENT_THERMOMETERS', 'MLA-AIR_COMPRESSORS', 'MLA-OFFICE_STAPLER_STAPLES', 'MLA-GARDEN_MACHINE_TRIMMER_LINES', 'MLA-TILE_CUTTERS', 'MLA-HAMMER_DRILLS', 'MLA-CALIPERS', 'MLA-MULTIMETERS', 'MLA-VISES', 'MLA-HACKSAW_BLADES', 'MLA-WRENCHES', 'MLA-AIRBRUSHES', 'MLA-TOOLS', 'MLA-METAL_DETECTORS', 'MLA-SANDPAPERS', 'MLA-DRILL_BITS', 'MLA-METAL_WIRES', 'MLA-MANUAL_HOISTS', 'MLA-COMPRESSOR_ACCESSORIES_KITS', 'MLA-PNEUMATIC_STAPLERS', 'MLA-DIAL_INDICATORS', 'MLA-CRIMPING_PLIERS', 'MLA-TOOL_ARMATURES', 'MLA-PLIER_SETS', 'MLA-MAGNETIC_WELDING_HOLDERS', 'MLA-CLAMP_METERS', 'MLA-TOOL_BOXES', 'MLA-GLASS_CUTTERS', 'MLA-DIGITAL_TEMPERATURE_CONTROLLERS', 'MLA-TOOL_NOZZLES', 'MLA-PLUNGE_ROUTERS', 'MLA-LOCKING_PLIERS', 'MLA-WELDING_MASKS', 'MLA-GROOVE_JOINT_PLIERS', 'MLA-HEDGE_TRIMMERS', 'MLA-WELDING_CURTAINS', 'MLA-MASONRY_TROWELS', 'MLA-SOLDERING_IRONS', 'MLA-MANIFOLD_GAUGE_SETS', 'MLA-ELECTRIC_PAINT_SPRAYERS', 'MLA-GARDEN_MACHINE_RECOIL_STARTERS', 'MLA-CONDUCTIVITY_METERS', 'MLA-STRING_TRIMMER_HEADS', 'MLA-HAND_HELD_REFRACTOMETERS', 'MLA-CROWBARS', 'MLA-RIVET_GUNS', 'MLA-GONIOMETERS', 'MLA-INDUSTRIAL_HOSES', 'MLA-BEARING_PULLERS', 'MLA-ORGANIZER_CABINETS_AND_BOXES', 'MLA-TOOL_BAGS_AND_BACKPACKS', 'MLA-PRESSURE_GAUGES', 'MLA-ANEMOMETERS', 'MLA-GARDEN_MACHINE_CARBURETORS', 'MLA-BRUSH_CUTTER_FUEL_TANKS', 'MLA-LINEMAN_PLIERS', 'MLA-CONSTRUCTION_FINISHING_TROWELS', 'MLA-SCREW_EXTRACTORS', 'MLA-OXYGEN_PRESSURE_REGULATORS', 'MLA-INSPECTION_MIRRORS', 'MLA-PRUNING_SHEARS', 'MLA-SOLDERING_STATIONS', 'MLA-MANUAL_EDGE_BANDING_TRIMMERS', 'MLA-MEASURING_WHEELS', 'MLA-AXES', 'MLA-COMBUSTION_BRUSH_CUTTERS_AND_STRING_TRIMMERS', 'MLA-CAULK_GUNS', 'MLA-TOOL_ELECTRIC_SHARPENERS', 'MLA-GEOMETRY_RULERS_PROTRACTORS_AND_SET_SQUARES', 'MLA-LAWN_MOWER_BLADES', 'MLA-MATTOCKS', 'MLA-QUICK_COUPLERS', 'MLA-PH_METER_BUFFER_SOLUTIONS', 'MLA-MANUAL_OIL_CANS', 'MLA-PLASMA_CUTTERS', 'MLA-GARDEN_RAKES', 'MLA-INFRARED_THERMOMETERS', 'MLA-PLASMA_CUTTER_CONSUMABLES_SETS', 'MLA-ANALOG_RAIN_GAUGES', 'MLA-TOOL_POUCHES', 'MLA-CHISELS', 'MLA-MANUAL_SCREWDRIVERS', 'MLA-SNAP_OFF_UTILITY_KNIVES', 'MLA-PIPE_CUTTERS', 'MLA-TABLE_DRILLS', 'MLA-WELDING_BLOWTORCHES', 'MLA-GARDEN_COMBUSTION_AUGERS', 'MLA-FLOOR_MAKER_MOLDS', 'MLA-VOLTMETERS', 'MLA-HAND_WIRE_BRUSHES', 'MLA-DRILL_CHUCKS', 'MLA-GARDEN_MACHINE_REPLACEMENT_PARTS_KITS', 'MLA-AIR_COMPRESSOR_HOSES', 'MLA-DIE_STOCKS', 'MLA-STAMP_PUNCHES', 'MLA-MAGNIFYING_GLASSES', 'MLA-MICRO_ROTARY_TOOL_KITS', 'MLA-HYDROMETERS', 'MLA-GARDEN_MACHINE_MOTORS', 'MLA-WELDING_RODS', 'MLA-GREASE_GUNS', 'MLA-TORQUE_WRENCHES', 'MLA-GAS_LAWN_MOWERS', 'MLA-MANUAL_HAMMERS', 'MLA-ELECTRIC_STAPLERS_AND_BRAD_NAILERS', 'MLA-WOOD_BURNING_MACHINES', 'MLA-MITER_SAWS', 'MLA-DIGITAL_WEATHER_STATIONS', 'MLA-HAND_SAWS', 'MLA-ELECTRIC_DRILL_AND_SCREWDRIVER_BITS', 'MLA-PNEUMATIC_POWER_GRINDERS', 'MLA-VOLTAGE_DETECTORS', 'MLA-HYDRAULIC_CRIMPING_PLIERS', 'MLA-TOOL_BATTERIES', 'MLA-DRILL_MIXERS', 'MLA-SNAP_RING_PLIERS', 'MLA-STEEL_SCRAPERS', 'MLA-PINCERS', 'MLA-LOCK_PICKS', 'MLA-PUNCH_PLIERS', 'MLA-WIRE_ROPE_THIMBLES', 'MLA-WORKBENCHES', 'MLA-HAND_POLISHERS', 'MLA-HOSE_CLAMP_PLIERS', 'MLA-SANDBLASTERS', 'MLA-SOUND_LEVEL_METERS', 'MLA-BENCH_POLISHERS', 'MLA-GARDENING_AND_CONSTRUCTION_SHOVELS', 'MLA-ELECTRIC_TOOL_SETS', 'MLA-CHAINSAW_CHAINS', 'MLA-ELECTRIC_DEMOLITION_HAMMERS', 'MLA-ELECTRODE_HOLDERS', 'MLA-HOES', 'MLA-PLUMB_BOBS', 'MLA-MANUAL_HAND_PLANES', 'MLA-PAINT_MIXERS', 'MLA-BUBBLE_LEVELS', 'MLA-MITER_BOXES', 'MLA-INDUSTRIAL_PULLEYS', 'MLA-TABLE_SAWS', 'MLA-OSCILLOSCOPES', 'MLA-ABRASIVE_SAWS', 'MLA-WATER_FLOW_SENSORS', 'MLA-LIGHT_METERS', 'MLA-PNEUMATIC_SANDERS', 'MLA-DRILL_ADAPTERS', 'MLA-RECIPROCATING_SAWS', 'MLA-SLEDGEHAMMERS', 'MLA-MANUAL_LAWN_MOWERS']\n"
     ]
    }
   ],
   "source": [
    "import pickle\n",
    "with open('df_categorias.pkl', 'wb') as f_df:\n",
    "    pickle.dump(out_df, f_df)"
   ]
  },
  {
   "cell_type": "code",
   "execution_count": 30,
   "metadata": {},
   "outputs": [
    {
     "name": "stdout",
     "output_type": "stream",
     "text": [
      "[282.15, 3953.53, 1606.88, 2348.88, 5414.78, 1706.0, 2000.5, 2274.68, 1434.05, 1110.15, 2153.33, 1990.36, 862.9, 3706.28, 683.33, 341.67, 714.31, 420.08, 3285.03, 1666.71, 516.75, 2141.93, 640.13, 1246.39, 926.94, 1853.26, 803.56, 1730.75, 716.78, 3041.15, 776.61, 1728.28, 4178.28, 3463.33, 4476.46, 563.73, 417.85, 1730.5, 1112.6, 5362.85, 660.03, 1236.0, 822.11, 3634.55, 764.0, 778.84, 10506.02, 1162.08, 2112.58, 717.03, 2052.15, 420.33, 5333.33, 1233.78, 741.5, 559.03, 2222.78, 378.05, 808.26, 1060.7, 2101.38, 749.17, 3436.75, 907.16, 3026.86, 3335.4, 1338.61, 1037.21, 892.33, 986.53, 590.93, 415.13, 4293.33, 4870.82, 3053.33, 2719.73, 2123.88, 1581.91, 3007.43, 1077.99, 464.58, 1477.67, 967.5, 6423.33, 939.53, 1884.29, 1681.3, 1332.92, 442.57, 8727.68, 3383.62, 1038.45, 1075.29, 1978.0, 300.68, 1211.53, 2225.25, 2470.03, 441.36, 1251.09, 1159.6, 1483.25, 2771.62, 509.25, 5142.8, 864.39, 1390.6, 900.98, 642.6, 1481.03, 153.27, 666.83, 986.28, 785.7, 2826.07, 345.9, 865.38, 553.1, 1372.24, 617.88, 2534.31, 890.1, 3449.14, 467.3, 1656.58, 741.75, 1184.33, 925.95, 1977.75, 6799.38, 1777.73, 2959.58, 1002.35, 3214.0, 1211.28, 2173.33, 1718.14, 1508.23, 5147.74, 1307.95, 5338.13, 407.96, 1015.21, 1607.12, 1778.55, 740.96, 1223.62, 2670.3, 435.08, 3211.78, 2220.3, 4548.91, 766.23, 3890.23, 2917.55, 444.83, 1228.69, 1308.45, 898.01, 4944.75, 902.46, 2521.95, 2593.65, 568.68, 1013.52, 2043.31, 2137.48, 5760.68, 1532.95, 2471.26, 2435.41, 2618.38, 1629.38, 1013.73, 2039.65, 4994.45, 12362.25, 1557.68, 3708.75, 4398.58, 7417.5, 1231.31, 689.83, 618.12, 561.23, 887.63, 2585.62, 999.14, 162.44, 704.66, 390.66, 642.33, 4748.93, 1357.4, 401.16, 7402.66, 148.35, 1577.21, 1340.1, 937.08, 877.49, 133.17, 2002.73, 1035.98, 3708.74, 3303.26, 1731.67, 426.51, 2905.19, 1446.41, 1976.76, 474.83, 649.67, 593.15, 1955.5, 247.0, 3864.83, 964.03, 3337.88, 2461.87, 519.23, 2421.81, 1100.26, 939.3, 858.2, 1414.27, 771.42, 3971.33, 957.35, 1706.02, 951.91, 1124.98, 506.86, 2348.63, 1753.0, 1907.04, 2346.4, 1792.56, 1983.19, 1616.0, 10013.62, 5184.83, 1199.16, 473.02, 898.26, 709.85, 1435.29, 494.25, 788.73, 1483.01, 222.53, 1310.18, 11707.04, 1322.52, 3065.9, 3164.8, 714.55, 1530.48, 3049.83, 861.54, 692.05, 566.2, 676.72, 828.29, 937.5, 1324.02, 6774.65, 667.58, 1768.58, 1599.46, 4289.79, 4392.89, 984.05, 865.13, 9642.5, 318.95, 1335.15, 567.69, 1604.65, 1779.95, 761.04, 2338.99, 912.35, 1235.01, 5713.45, 398.32, 1433.8, 81.59, 1142.3, 998.88, 1137.1, 1279.35, 217.38, 442.58, 4203.25, 600.82, 394.36, 1233.28, 1755.23, 1555.45, 9271.63, 736.5, 1332.68, 1087.9, 5068.38, 7612.83, 2334.64, 692.3, 791.2, 862.41, 611.76, 393.13, 615.65, 1352.46, 1085.92, 4621.1, 1312.9, 565.96, 1876.63, 4450.25, 2867.85, 2051.93, 1092.1, 437.63, 939.0, 1342.57, 709.61, 1063.17, 828.04, 6228.54, 1038.2, 3904.08, 989.0, 1560.15, 2615.91, 1087.65, 1572.73, 2841.67, 1953.27, 2148.6, 2843.38, 2407.47, 2058.36, 820.87, 1687.24, 1743.11, 1854.13, 504.39, 1097.91, 2967.0, 642.85, 1040.92, 2472.01, 3978.75, 679.94, 766.47, 1691.19, 568.43, 4764.26, 2462.61, 23884.35, 1593.71, 182.97, 422.65, 1010.79, 3584.88, 1406.85, 2424.0, 852.77, 1444.56, 3758.2, 1780.2, 949.93, 739.28, 783.78, 312.77, 165.66, 1673.64, 4920.03, 467.04, 1649.16, 469.53, 344.91, 527.38, 183.97, 1236.25, 1939.82, 543.95, 778.59, 5439.25, 1359.63, 838.18, 1851.41, 381.26, 482.14, 1260.73, 786.25, 2188.16, 2472.49, 5192.0, 233.17, 1653.36, 606.75, 961.8, 932.13, 1945.61, 501.42, 856.72, 1674.62, 1681.05, 914.58, 1396.96, 2097.92, 3459.03, 493.26, 1290.64, 7170.25, 1047.6, 672.52, 1471.14, 8873.8, 2536.55, 188.4, 2099.15, 1404.38, 430.71, 655.21, 2027.45, 86.54, 1663.99, 1120.04, 964.28, 444.8, 4932.64, 4697.5, 810.98, 1582.4, 1600.0, 853.01, 1632.47, 200.27, 467.06, 346.15, 740.51, 1359.88, 927.19, 370.88, 4351.6, 1025.59, 1063.15, 1975.53, 1359.85, 303.0, 3461.25, 914.33, 111.26, 1686.74, 10631.75, 9341.5, 761.53, 1854.38, 1694.52, 395.58, 541.48, 2645.58, 1710.97, 459.64, 348.62, 177.1, 2126.1, 395.35, 506.12, 1011.01, 5513.65, 1158.12, 492.03, 1203.86, 2325.39, 2581.03, 209.92, 518.98, 4005.2, 2016.32, 2835.96, 2447.53, 2717.28, 7194.97, 1456.3, 3538.39, 815.68, 590.19, 719.99, 1298.8, 2840.9, 847.72, 2086.79, 4821.38, 1253.8, 407.72, 813.21, 2666.5, 412.89, 794.91, 875.02, 2831.01, 2198.05, 531.34, 2966.75, 1964.9, 2000.25, 1701.08, 452.22, 1209.05, 3031.28, 3632.1, 12856.75, 648.04, 615.16, 725.18, 4786.76, 135.99, 674.0, 2067.01, 5066.58, 1663.75, 3844.1, 3189.53, 1275.81, 556.31, 241.07, 890.08, 8428.51, 4200.78, 1298.06, 6153.06, 3849.68, 4598.54, 3905.31, 1766.85, 2348.85, 3956.0, 691.81, 1323.28, 379.68, 2052.37, 158.24, 468.54, 652.74, 394.86, 358.51, 4574.12, 2011.38, 2945.24, 753.22, 2843.13, 2276.43, 3464.96, 3550.51, 1334.9, 1364.82, 2076.9, 1061.94, 1483.5, 9596.88, 2445.3, 1544.52, 2151.08, 1718.39, 85.24, 1453.83, 5810.35, 6050.45, 849.06, 3668.94, 1545.31, 1248.81, 2101.62, 1423.94, 919.77, 2832.5, 927.85, 1928.55, 14366.33, 4998.33, 328.82, 1162.07, 472.49, 765.6, 8316.5, 445.03, 2502.66, 988.42, 793.41, 2398.08, 1161.83, 1631.6, 620.84, 783.39, 1223.72, 1572.51, 815.93, 1332.81, 2957.11, 5884.53, 4611.21, 689.58, 516.04, 1119.8, 457.41, 1053.29, 4895.55, 1705.28, 195.33, 877.74, 343.92, 866.12, 121.15, 1806.9, 1938.53, 281.72, 252.2, 199.04, 3291.14, 487.08, 988.75, 280.43, 2645.33, 321.43, 2719.75, 3026.34, 1401.91, 1322.79, 1729.51, 1483.49, 2964.53, 593.4, 1928.3, 9395.25, 1137.35, 2031.16, 9148.25, 3585.12, 543.7, 2027.43, 3461.5, 3051.93, 1200.72, 670.05, 1314.88, 934.61, 1631.85, 4944.99, 4274.95, 368.4, 4227.98, 1851.9, 610.71, 3201.89, 882.68, 2100.39, 2942.28, 7415.03, 6865.0, 160.71, 2150.83, 4324.4, 852.83, 3535.67, 987.76, 551.12, 10755.38, 640.38, 7793.07, 2521.74, 537.03, 2225.0, 2467.31, 1581.16, 336.51, 3832.13, 494.53, 672.27, 1656.33, 889.85, 766.48, 6057.38, 3708.5, 743.5, 550.0, 5698.33, 3974.05, 463.59, 247.25, 10458.68, 840.4, 1316.36, 2039.54, 467.43, 3405.13, 853.24, 8900.75, 1085.43, 11618.28, 244.78, 3166.67, 2225.23, 172.83, 988.38, 1076.67, 3757.97, 456.17, 247.23, 2396.46, 3337.86, 757.82, 1285.45, 432.69, 715.79, 485.48, 2314.07, 2371.1, 654.97, 958.34, 1218.94, 465.74, 716.67, 291.75, 13843.53, 887.87, 4131.84, 1804.93, 949.44, 181.73, 844.61, 1656.11, 665.1, 4425.78, 1308.2, 185.44, 4695.28, 2833.0, 2317.97, 1067.13, 1112.38, 531.59, 2729.07, 266.78, 1594.76, 1149.47, 750.28, 2114.97, 1186.55, 1210.0, 2373.35, 363.46, 321.42, 951.67, 2218.48, 293.73, 1001.61, 1582.15, 271.73, 630.49, 1730.26, 4046.99, 356.04, 1347.24, 882.44, 1134.88, 1305.48, 182.72, 12904.08, 1903.83, 1495.0, 2433.68, 583.17, 370.63, 2447.78, 4942.53, 98.65, 2873.17, 3493.64, 1129.93, 736.8, 1252.78, 1384.35, 1445.71, 494.5, 1384.6, 6181.24, 3065.0, 1409.33, 1829.65, 1481.52, 1685.01, 474.72, 403.44, 2472.5, 10854.27, 739.9, 1015.89, 10802.11, 127.46, 4049.97, 1458.53, 3411.8, 1704.79, 2200.5, 1804.68, 309.06, 765.98, 908.89, 1470.4, 850.54, 3856.81, 2581.41, 1073.81, 476.59, 2096.68, 1703.55, 1191.5, 2256.67, 778.58, 196.56, 284.34, 2816.3, 4418.6, 1288.28, 1103.74, 3009.35, 2113.75, 1878.87, 1050.81, 1926.82, 128.32, 3090.62, 336.05, 946.97, 5807.69, 2239.34, 82.09, 635.93, 2966.51, 656.45, 1358.64, 2068.8, 538.51, 11391.0, 1357.05, 5735.95, 1186.8, 3953.63, 1848.19, 484.61, 667.57, 2442.64, 1779.71, 2793.92, 3300.0, 2110.0, 1318.11, 333.79, 1345.02, 1062.93, 1382.13, 1847.77, 547.41, 1268.39, 2311.79, 2466.32, 1996.54, 2012.62, 1523.8, 206.36, 9024.62, 3521.46, 360.98, 3881.08, 419.09, 327.85, 1482.26, 604.17, 3263.45, 733.34, 7368.05, 987.83, 395.33, 2076.65, 7412.31, 266.29, 2017.07, 7664.75, 1505.75, 4549.15, 4920.28, 1802.45, 6080.32, 306.59, 469.78, 914.82, 320.19, 6007.43, 1273.83, 845.59, 1540.37, 1701.06, 1137.33, 1403.72, 2366.5, 1273.34, 1087.88, 555.82, 5628.75, 537.55, 457.17, 616.89, 4697.75, 5117.8, 4821.13, 772.9, 1568.8, 8653.5, 1612.39, 1532.7, 8156.78, 1378.42, 1201.63, 82.83, 3953.16, 192.61, 1162.05, 1574.98, 1165.78, 1005.05, 364.08, 135.74, 2813.7, 790.95, 1785.15, 8925.73, 148.16, 383.24, 800.84, 5731.26, 2616.89, 3078.02, 908.64, 2347.64, 991.72, 1778.96, 5909.28, 205.22, 2081.84, 2719.5, 912.33, 741.26, 1591.05, 3210.54, 449.75, 1726.3, 197.55, 1367.29, 400.0, 1944.32, 1395.83, 3313.15, 1260.98, 4673.03, 3659.3, 888.86, 1285.7, 466.67, 3708.73, 2293.33, 311.54, 1869.21, 1654.1, 472.25, 1347.51, 2999.67, 1487.54, 753.69, 1419.22, 3600.0, 646.83, 1107.43, 1800.0, 1182.88, 283.33, 2363.71, 1940.91, 10260.63, 5365.02, 3315.62, 1817.29, 2907.0, 4401.85, 2675.0, 798.41, 1677.84, 707.14, 526.64, 741.48, 519.02, 2299.43, 1641.86, 529.86, 8653.75, 3786.88, 4269.76, 861.42, 2967.41, 4203.0, 1163.31, 1820.75, 1112.62, 3316.67, 761.51, 2979.36, 712.08, 15477.85, 1746.2, 185.68, 3671.66, 892.34, 15576.5, 8901.0, 2266.67, 2422.8, 1824.7, 2089.51, 583.51, 2695.03, 1348.28, 810.49, 1978.99, 1146.67, 702.19, 2630.74, 2145.88, 163.19, 2595.88, 275.78, 1839.79, 258.37, 871.56, 2818.4, 2274.21, 3931.28, 1221.17, 1293.33, 1013.7, 967.77, 400.55, 539.0, 3337.63, 1161.58, 357.81, 556.56, 843.12, 343.68, 1018.42, 488.57, 1223.89, 757.08, 3624.55, 1105.21, 4054.9, 5924.11, 11240.63, 615.63, 119.92, 2459.89, 409.2, 1996.67, 259.61, 3362.16, 242.3, 3130.18, 1057.74, 222.25, 3150.0, 2571.15, 2267.04, 1766.5, 787.29, 2420.58, 1985.42, 1630.61, 1104.0, 3413.53, 2002.48, 481.59, 3312.9, 1285.68, 2643.1, 1525.53, 938.96, 1926.08, 5118.07, 11126.0, 939.55, 5610.1, 533.03, 1235.76, 6272.98, 3015.66, 1677.59, 3183.09, 1360.0, 864.14, 219.06, 1421.69, 13598.5, 2143.66, 1371.99, 3288.42, 775.13, 5014.23, 1965.39, 765.49, 1258.5, 1379.43, 4774.72, 2203.0, 197.8, 234.89, 170.6, 445.05, 1426.69, 1828.41, 7394.71, 222.5, 3955.75, 1526.53, 512.55, 2224.01, 704.64, 2319.98, 2715.94, 495.24, 504.76, 428.06, 795.68, 1280.76, 1555.2, 2222.53, 2314.26, 955.62, 3954.76, 153.79, 439.86, 1366.06, 2373.6, 6581.8, 263.57, 10614.41, 2259.87, 5192.23, 489.56, 1227.1, 4268.77, 1846.71, 1201.14, 554.09, 1748.06, 684.35, 382.88, 5934.0, 1278.05, 2323.9, 4321.93, 326.49, 1603.39, 1355.18, 430.4, 1083.17, 5102.99, 169.12, 1958.22, 403.32, 588.58, 6749.92, 1005.32, 436.44, 2380.75, 11497.12, 231.79, 1196.69, 1357.16, 1827.18, 2666.67, 7773.91, 298.55, 2049.7, 4209.43, 16812.75, 281.87, 1678.83, 599.83, 3572.52, 887.05, 10359.77, 751.64, 688.13, 726.42, 2467.55, 222.28, 1458.77, 239.86, 925.69, 586.26, 4522.2, 7912.0, 947.46, 1829.4, 4450.5, 4203.24, 844.11, 172.33, 1421.44, 16763.28, 1102.73, 835.71, 2336.51, 1527.24, 3041.17, 600.43, 667.33, 1396.72, 1838.75, 3442.71, 498.7, 9766.13, 3013.98, 899.99, 1108.33, 216.35, 2430.47, 1223.64, 2148.71, 464.83, 4301.93, 202.86, 321.18, 474.05, 315.49, 163.02, 567.44, 2388.26, 370.13, 3187.05, 1193.85, 581.04, 3687.03, 3807.4, 1430.34, 4005.23, 278.16, 32018.88, 1339.33, 1076.13, 1457.54, 2274.45, 813.45, 3147.49, 419.17, 1056.99, 6549.65, 1859.67, 271.98, 5686.75, 420.82, 2200.53, 995.42, 401.78, 294.23, 1573.99, 949.19, 825.57, 220.05, 586.15, 16813.0, 2441.47, 5437.03, 1078.25, 2047.23, 344.05, 883.92, 1676.81, 1311.67, 2620.85, 2324.15, 103.1, 3286.45, 1949.83, 2273.96, 4202.01, 3881.03, 729.39, 2052.18, 385.71, 2089.26, 7664.5, 1309.78, 1593.33, 983.56, 3387.08, 1977.98, 1066.5, 1552.48, 6427.26, 1396.47, 2428.28, 708.43, 714.34, 1700.88, 727.16, 3251.09, 1329.96, 3696.39, 2026.21, 875.26, 1030.79, 3212.52, 1033.26, 725.95, 1902.59, 2062.56, 6181.0, 316.48, 164.42, 314.77, 160.47, 1687.48, 98.87, 1980.47, 103.6, 588.28, 284.09, 2730.79, 477.19, 325.44, 96.43, 2301.9, 225.0, 605.76, 1146.01, 2565.94, 2995.43, 2395.85, 2788.49, 776.34, 1652.86, 326.35, 4635.94, 2024.98, 446.05, 1354.68, 2568.93, 3063.43, 7909.53, 1288.79, 2140.58, 3395.31, 1302.98, 1549.0, 844.21, 3498.34, 3424.41, 250.09, 1075.54, 905.53, 988.26, 5743.86, 2333.17, 1155.4, 6178.78, 2917.3, 1280.16, 3586.11, 3757.95, 699.47, 2134.01, 6428.25, 2175.8, 3871.72, 514.28, 239.09, 1918.66, 949.96, 752.66, 2609.23, 3882.95, 898.71, 1854.12, 174.48, 559.28, 11609.2, 801.68, 2111.51, 2929.91, 951.72, 4894.2, 18543.5, 3387.33, 460.38, 2546.43, 598.07, 786.01, 2048.81, 1862.53, 336.26, 539.5, 3548.04, 553.59, 865.35, 2030.91, 216.34, 978.78, 2793.68, 6329.6, 756.59, 2358.76, 1078.01, 2439.37, 1892.2, 210.16, 306.57, 528.13, 2942.52, 1643.98, 296.7, 252.05, 1272.14, 293.41, 2296.95, 4302.13, 1718.71, 1012.39, 1896.9, 2961.81, 656.7, 3444.64, 1018.18, 1488.08, 2605.21, 6675.5, 2445.55, 1814.81, 412.91, 521.45, 1101.62, 1080.24, 759.65, 3100.0, 180.49, 1076.03, 111.02, 6107.08, 8233.43, 1446.17, 1841.41, 1460.26, 647.79, 12948.24, 476.45, 419.83, 840.65, 942.02, 1011.75, 1690.97, 6304.88, 16068.78, 435.16, 289.78, 611.88, 1022.38, 349.12, 6923.0, 1146.99, 1112.4, 157.75, 562.49, 1333.45, 945.48, 443.94, 716.28, 909.24, 5078.91, 272.94, 585.98, 1715.91, 916.5, 351.59, 724.0, 3415.76, 292.99, 630.24, 3684.03, 9939.2, 1629.13, 1823.44, 900.0, 526.88, 1057.51, 2069.25, 5793.81, 717.42, 6156.28, 748.69, 927.0, 1054.27, 306.84, 3333.95, 5378.18, 2175.55, 566.4, 1524.05, 2690.08, 1639.69, 6181.25, 461.12, 366.18, 1296.33, 1784.9, 1489.68, 1883.55, 18345.7, 93.95, 4598.85, 6577.1, 1557.43, 805.29, 543.93, 1391.77, 1223.88, 3211.53, 5884.55, 1197.18, 1608.83, 4079.62, 1206.58, 5439.49, 1578.69, 2111.61, 5439.01, 1000.0, 315.24, 128.57, 870.32, 641.07, 325.13, 4025.0, 395.6, 103.85, 3986.33, 790.6, 1597.23, 2860.44, 6673.28, 427.5, 416.5, 358.95, 1903.58, 1266.5, 630.37, 4450.49, 1011.25, 1153.55, 41.67, 904.69, 303.31, 1607.11, 6005.95, 3523.08, 211.4, 4571.65, 1795.04, 1543.33, 967.98, 892.57, 6651.03, 2583.53, 2465.08, 7392.78, 239.83, 2398.33, 1916.19, 1053.68, 1980.25, 1079.4, 284.31, 2052.97, 5241.45, 204.48, 3140.08, 4646.11, 1851.66, 1977.26, 1266.17, 786.63, 385.0, 783.54, 1283.23, 1144.77, 3194.47, 1677.7, 8159.25, 611.6, 662.63, 2163.33, 3683.78, 872.51, 1667.7, 2059.59, 537.52, 183.95, 1879.1, 483.35, 1029.18, 1479.79, 1013.48, 2764.35, 2634.7, 2218.33, 1822.23, 684.88, 857.96, 1855.38, 272.96, 3213.01, 1456.07, 2775.88, 543.65, 250.0, 2912.4, 2074.43, 4250.0, 1805.57, 319.45, 123.62, 365.9, 227.22, 61.81, 1910.5, 1331.67, 2321.68, 1753.74, 3807.19, 2563.02, 1546.06, 921.25, 5254.06, 729.63, 591.12, 834.46, 263.07, 3333.0, 380.52, 337.0, 7293.63, 1441.22, 242.8, 208.93, 1619.49, 382.87, 2691.07, 1853.88, 1500.6, 2160.72, 2004.46, 553.84, 1383.36, 148.1, 1188.04, 1554.46, 2405.27, 21461.06, 3117.15, 8010.68, 1433.76, 1493.64, 2718.51, 1289.3, 204.97, 2106.98, 3055.76, 473.24, 1090.37, 3807.65, 237.36, 2991.73, 1331.94, 841.64, 1684.61, 847.82, 3659.05, 194.83, 839.41, 7417.25, 1444.7, 2254.43, 5439.5, 231.14, 1579.93, 1803.41, 790.71, 1549.08, 1224.13, 231.34, 3263.46, 3460.76, 739.38, 7293.88, 1181.86, 7100.0, 165.0, 545.19, 541.23, 137.65, 496.73, 843.37, 345.66, 3325.51, 1565.83, 815.26, 1915.94, 2354.3, 617.63, 525.2, 4333.0, 1653.61, 1033.75, 3854.38, 4892.83, 2027.2, 6574.38, 556.09, 897.11, 581.03, 3090.61, 4821.35, 964.25, 1794.49, 943.26, 487.06, 3983.33, 988.51, 165.75, 301.89, 328.08, 1435.53, 1905.56, 1345.04, 284.26, 1990.12, 1597.61, 1609.35, 3504.77, 859.19, 793.67, 773.89, 1630.12, 4253.33, 941.78, 444.31, 218.82, 3263.7, 1953.03, 6922.75, 1557.45, 539.99, 322.45, 5847.22, 3112.58, 3554.17, 4783.17, 3634.33, 718.48, 7120.8, 4448.03, 1286.77, 2840.66, 2472.26, 437.39, 729.14, 2371.13, 1674.77, 3607.38, 4071.09, 1996.07, 395.11, 9889.75, 168.13, 1738.4, 3717.52, 1072.81, 204.65, 3267.16, 1854.59, 1755.48, 432.05, 1931.52, 1310.42, 806.03, 697.25, 1096.55, 581.45, 2309.93, 6299.93, 3684.0, 356.02, 3616.5, 8151.83, 836.45, 66.76, 4650.0, 117.44, 763.01, 340.96, 481.49, 635.43, 126.84, 726.91, 3210.79, 143.65, 457.4, 296.68, 687.36, 942.17, 1614.54, 1605.89, 4948.56, 5933.75, 411.67, 350.85, 3707.27, 829.03, 2346.16, 7158.38, 420.7, 1490.0, 630.28, 557.55, 1038.08, 704.43, 5983.45, 864.63, 3080.71, 4083.42, 4941.29, 98.9, 4017.81, 276.46, 3201.64, 1115.34, 1363.09, 1062.68, 488.32, 687.11, 353.15, 3498.0, 7216.98, 922.24, 787.49, 451.23, 2757.83, 281.63, 2044.85, 612.93, 219.56, 3287.04, 632.71, 433.18, 2566.69, 5685.51, 815.02, 1483.31, 5412.55, 80.36, 9890.0, 4326.88, 7615.3, 122.39, 1025.84, 3214.25, 4124.13, 3998.33, 1425.15, 823.34, 2116.2, 1005.81, 1796.67, 788.23, 115.31, 1522.81, 5375.54, 2989.25, 2724.7, 1334.66, 21854.43, 601.18, 123.38, 111.17, 1296.83, 388.18, 62554.0, 1660.41, 582.15, 580.79, 3222.9, 3675.74, 1964.4, 1299.67, 637.91, 5684.28, 933.62, 9840.3, 2274.7, 3398.7, 323.65, 551.37, 9113.64, 8949.21, 2069.89, 787.18, 7354.01, 846.66, 1031.03, 1686.25, 2098.91, 1868.44, 2472.25, 581.23, 4623.36, 4129.07, 481.89, 1164.55, 21757.75, 458.33, 1633.17, 1335.13, 4738.55, 1489.83, 1927.81, 246.01, 763.71, 959.33, 1252.07, 2022.51, 254.67, 244.83, 598.59, 2538.9, 1134.17, 1173.26, 7765.0, 999.83, 922.0, 3560.15, 466.11, 2067.11, 2462.2, 1512.38, 896.28, 2768.95, 796.67, 8876.27, 2954.39, 1310.87, 3701.31, 8722.98, 1197.29, 207.44, 3006.55, 538.76, 18790.77, 1216.24, 600.32, 981.58, 215.6, 2410.69, 5627.43, 2781.56, 754.11, 909.88, 3609.6, 489.33, 1903.55, 915.0, 296.45, 6052.66, 1808.4, 971.69, 887.13, 1505.54, 721.97, 2829.16, 1003.84, 713.07, 2091.49, 673.32, 273.77, 1304.24, 2469.78, 3560.4, 202.5, 169.04, 1733.22, 611.94, 11626.93, 1169.25, 404.25, 104.09, 1315.37, 532.98, 1740.64, 1087.63, 1269.91, 281.45, 286.79, 386.98, 11126.25, 571.15, 1898.88, 3604.29, 143.41, 3555.21, 157.0, 2177.38, 24724.75, 1186.6, 43713.8, 16071.0, 69005.51, 45263.56, 55438.91, 649.03, 9345.8, 17020.69, 11846.24, 440.72, 56840.06, 3218.97, 724.44, 26089.82, 40105.0, 556.07, 1619.24, 5534.69, 1038.43, 463.43, 17030.58, 89009.75, 23488.5, 3931.03, 96427.5, 18761.33, 2727.84, 3037.47, 16071.25, 222524.75, 4524.43, 2673.51, 13624.46, 45741.25, 2351.1, 25961.0, 55588.72, 276919.75, 14043.8, 5909.03, 6623.58, 72552.42, 1167.76, 20984.11, 108000.04, 11620.5, 8499.67, 597.36, 492.41, 9123.52, 92965.75, 7380.17, 393.75, 5140.33, 50748.06, 1034.74, 137747.18, 4351.35, 1913.39, 68314.93, 71993.02, 680.43, 1927.31, 20274.25, 18246.8, 24477.5, 7335.91, 50995.33, 68033.17, 1963.16, 3881.82, 38352.08, 14350.0, 37038.05, 38701.12, 4804.07, 234.64, 17307.25, 244777.25, 3832.38, 11014.99, 269.5, 326.1, 81592.25, 1292.87, 22714.86, 317.08, 80366.33, 17302.8, 56867.25, 14807.8, 6846.11, 99493.4, 5036.48, 363.95, 3332.44, 74669.25, 15808.33, 2583.76, 79218.65, 14565.74, 468.87, 39333.0, 23749.83, 2933.17, 22225.3, 3461.01, 123624.75, 25466.5, 1119.55, 24230.5, 378.58, 17270.41, 3906.3, 37087.25, 34120.5, 2421.84, 7496.62, 5671.17, 45804.32, 7908.17, 9964.17, 15009.06, 22994.0, 360984.75, 481.73, 95233.53, 463.34, 4078.88, 3448.91, 148349.75, 667.55, 433.68, 6731.38, 44208.05, 105785.67, 2248.32, 551.95, 11480.0, 5008.17, 17681.33, 3684.02, 462.05, 96056.62, 91433.0, 69229.75, 22252.25, 445.77, 3896.66, 15277.38, 2967.49, 195327.5, 11373.01, 7452.12, 3857.1, 974.78, 15588.62, 53158.75, 3501.06, 6495.26, 56159.13, 93171.29, 3331.33, 571.12, 67845.4, 18171.89, 27666.33, 28315.07, 7166.5, 380.02, 4178.53, 40828.39, 74174.75, 64729.8, 711.73, 6552.12, 7862.55, 615.41, 108789.75, 51672.28, 2695.02, 10621.86, 58412.81, 271.97, 1428.32, 48213.75, 866.73, 549.14, 4326.87, 4199.79, 45716.28, 3095.32, 1211.5, 125850.25, 19139.67, 39560.0, 137940.53, 12477.17, 49449.75, 3182.1, 182669.78, 2620.6, 469.75, 1438.5, 18727.17, 59092.75, 277.54, 3510.95, 3439.25, 24403.58, 16797.27, 1271.85, 11853.31, 671.28, 24046.71, 13430.62, 14383.28, 1765.37, 6274.83, 38323.5, 535.52, 6628.77, 4866.66, 72713.01, 46666.5, 3276.19, 117196.5, 4029.93, 67999.83, 4942.28, 61716.64, 7021.9, 1861.99, 1448.17, 8030.68, 44381.13, 183929.28, 2672.77, 7911.75, 1185.12, 41275.0, 3141.5, 92685.89, 1725.81, 80832.95, 36372.98, 2840.65, 61748.42, 440.11, 506.37, 40919.85, 442.33, 2091.5, 3546.54, 61565.25, 6663.39, 76325.83, 3582.65, 96666.5, 6898.03, 59611.73, 552.79, 1705.78, 48554.25, 203101.33, 54394.75, 69745.79, 61508.49, 4032.65, 1499.83, 68980.45, 4301.9, 142079.99, 69847.88, 4981.67, 60851.02, 1040.76, 70429.66, 2929.67, nan, 34120.01, 113732.53, 46468.17, 1513.17, 46480.53, 3238.97, 67549.02, 5033.17, 143500.93, 7127.97, 27644.12, 57624.18, 3844.74, 132402.38, 93435.78, 44963.17, 12332.84, 147955.0, 1570.04, 41367.17, 58794.67, 202.75, 49415.39, 78097.35, 3153.18, 109214.53, 16293.78, 5810.38, 37062.78, 35833.17, 2126.35, 50588.33, 108295.25, 5674.39, 376.56, 170044.67, 50384.0, 76996.67, 162533.77, 6255.43, 222824.33, 55037.6, 4085.54, 178.02, 77689.91, 15947.62, 27762.71, 3150.71, 48213.5, 133101.85, 70919.39, 271076.33, 44818.81, 568.65, 140.93, 2034.87, 61812.25, 798.33, 51273.15, 112114.95, 10686.39, 6055.15, 213347.0, 15791.5, 709.6, 341355.33, 682.96, 174466.33, 70466.0, 301.15, 155434.67, 31281.43, 4312.04, 239814.0, 86813.46, 5065.41, 657.69, 250000.0, 3112.38, 335739.67, 213167.33, 121622.28, 117194.03, 195000.0, 341205.0, 59339.75, 468.96, 268591.33, 3355.67, 86537.25, 134.75, 4935.11, 270172.67, 278564.54, 1406.67, 245766.5, 324.89, 11957.75, 268506.42, 41833.17, 190505.4, 123239.81, 2766.73, 215.11, 415.38, 8133.17, 2122.64, 1000.37, 6666.5, 23465.69, 12983.17, 1653.52, 2224.95, 28928.23, 15868.26, 2717.03, 302.5, 189.15, 209.42, 58103.5, 9257.04, 4908.3, 1001.78, 491.78, 563.48, 19866.5, 3703.81, 30164.5, 1336.59, 1604.41, 4299.67, 2954.34, 3980.73, 373.47, 447.28, 2264.81, 2580.05, 380.77, 1331.64, 40460.24, 4198.31, 13537.92, 391.92, 2699.7, 3310.68, 42885.51, 8333.33, 2950.68, 1524.01, 574.63, 368.16, 874.03, 428.34, 603.04, 5192.25, 3192.24, 466.5, 1132.4, 777.75, 787.23, 3953.28, 8530.12, 2323.92, 427.74, 8448.53, 49447.53, 5612.58, 47999.83, 168.75, 1777.95, 1308.92, 604.53, 4599.59, 1966.66, 11917.45, 866.67, 7574.83, 47499.83, 3144.92, 561.0, 343.43, 145.63, 3922.37, 10851.8, 244.53, 2289.54, 337.8, 1297.8, 1973.06, 1480.78, 10060.36, 23604.71, 3213.26, 2860.93, 587.22, 34615.0, 403.02, 190.54, 1411.8, 2746.62, 3200.0, 24230.25, 10878.75, 376.84, 825.82, 55919.17, 171.69, 466.31, 2320.98, 1454.39, 4141.19, 1998.96, 796.14, 3943.64, 56.62, 13351.25, 25782.98, 4553.44, 2817.49, 30906.25, 3421.94, 25590.37, 4549.06, 4969.73, 9243.33, 803.07, 3523.31, 63048.5, 7961.45, 602.8, 3166.5, 916.53, 7400.93, 636.67, 1547.79, 2961.34, 68333.17, 6599.1, 7240.72, 6201.52, 515.76, 21758.0, 4153.8, 59042.56, 378.29, 6280.15, 1064.38, 447.83, 3815.07, 857.71, 28433.5, 1233.53, 588.46, 52815.57, 646.36, 44257.75, 1391.15, 2511.31, 3016.67, 2401.04, 1965.64, 1684.78, 284.83, 23263.75, 12502.2, 62059.5, 133.27, 10486.61, 3384.85, 26666.5, 1571.19, 3174.69, 3652.96, 1867.73, 683.89, 15984.47, 5572.77, 1041.76, 2766.35, 91666.33, 22005.25, 116.5, 9294.82, 3731.74, 6620.12, 94483.33, 248.98, 602.05, 56666.5, 432.44, 480.9, 310500.32, 1137.07, 105.82, 537.89, 1913.72, 11101.53, 12461.04, 5776.25, 3187.09, 1098.04, 207.69, 4076.88, 308992.24, 1123.69, 2966.67, 1163.78, 293.33, 12115.0, 37087.5, 24388.7, 2207.94, 280.0, 6502.67, 1333.44, 1829.79, 1669.05, 12783.17, 1770.31, 9744.12, 3921.39, 4082.67, 4302.15, 1415.05, 1434.87, 44999.83, 1223.86, 2573.33, 1108.92, 2515.28, 146416.5, 2548.9, 3498.17, 24725.0, 2707.14, 50283.23, 1967.12, 1531.45, 5189.78, 1849.43, 646.37, 15541.15, 894.07, 3533.2, 1082.96, 1836.86, 1833.17, 3557.93, 1474.6, 2892.83, 3370.15, 498.57, 1095.32, 352.3, 643.14, 3775.51, 17183.85, 1295.59, 4491.6, 590.05, 11123.78, 833.17, 17060.25, 673.76, 3008.53, 405.24, 5438.51, 5633.65, 183.17, 21583.17, 4327.86, 370.85, 631.72, 2101.74, 1791.82, 7790.35, 2979.6, 188.65, 1204.6, 744.22, 1285.4, 903.45, 4147.51, 1470.89, 5043.9, 2529.12, 954.39, 20204.28, 1114.31, 358.01, 1120.59, 236.87, 2001.74, 987.27, 10771.96, 1099.27, 40548.98, 1409.08, 2596.12, 331.31, 8789.74, 2991.48, 214.18, 450.83, 1824.67, 451.73, 2405.5, 9575.99, 6477.7, 3138.72, 33378.5, 9747.58, 39316.5, 2306.1, 369.86, 220.74, 11011.03, 1443.94, 380.0, 1834.04, 3634.58, 1335.64, 1503.28, 420.45, 1149.17, 1882.92, 528.87, 31981.54, 4287.31, 31895.25, 16810.53, 5490.99, 4300.61, 3992.1, 5637.3, 609.78, 11277.57, 3628.15, 3409.83, 466.81, 659.42, 2863.16, 3458.78, 4423.3, 717.0, 3405.62, 1087.85, 12980.6, 18410.16, 8243.32, 24415.94, 3597.98, 1829.16, 1831.02, 19901.65, 642.36, 18896.67, 2423.05, 552.6, 4040.07, 364.69, 991.47, 3782.92, 8406.25, 3117.2, 2574.36, 14834.75, 5123.81, 19465.75, 4673.0, 9794.56, 4549.13, 6798.13, 602.3, 860.43, 6544.71, 5741.01, 3115.35, 7575.74, 4116.47, 4524.67, 857.68, 5091.12, 14252.43, 22939.61, 235.38, 4739.71, 12458.93, 508.17, 1560.64, 590.43, 2497.22, 1005.76, 293.67, 387.56, 4389.83, 2151.07, 1307.8, 118.68, 14024.02, 11299.08, 197.31, 489.53, 19604.45, 1024.85, 979.79, 2282.12, 1191.75, 1312.4, 3037.46, 6168.64, 21777.78, 3906.55, 2644.31, 1099.03, 333.17, 304.81, 4981.84, 600.52, 1295.47, 966.75, 3053.54, 4686.38, 1058.23, 463.17, 12019.15, 7868.24, 806.67, 170.36, 9166.5, 227.47, 4557.76, 2552.51, 269.14, 1144.89, 4950.0, 4846.1, 17265.47, 2145.9, 4017.25, 151.2, 1163.25, 10807.3, 3151.6, 1328.97, 2758.07, 1990.08, 7493.9, 228.71, 5775.0, 336.16, 5686.73, 11913.74, 86.67, 3273.59, 2071.46, 7343.33, 8012.64, 1108.91, 4771.92, 1014.47, 384.5, 1068.12, 53333.17, 5456.56, 741.73, 222.03, 2930.4, 55650.0, 688.59, 29050.64, 1551.0, 6213.64, 10084.83, 2818.65, 1016.2, 291.43, 3115.1, 1789.84, 455.43, 10569.69, 1964.72, 23365.12, 5867.24, 473.48, 3992.09, 1082.95, 12861.94, 2193.11, 934.36, 22902.77, 2198.49, 367.17, 2433.19, 15452.88, 8060.33, 12362.5, 7558.43, 740.02, 6956.63, 953.89, 233.31, 1740.0, 637.81, 565.71, 399.72, 1014.71, 23407.16, 2664.79, 126097.25, 556.69, 3500.32, 2752.63, 267.77, 15828.94, 8654.83, 954.36, 8093.98, 1219.44, 3034.99, 4994.2, 3066.39, 1349.98, 16598.3, 980.35, 9840.53, 463.0, 762.99, 22722.27, 263.27, 580.05, 3597.49, 3955.51, 1839.31, 835.46, 1492.87, 32138.17, 1092.88, 2240.05, 11002.62, 6046.0, 649.97, 1598.1, 3213.76, 13482.3, 2900.24, 173.08, 1069.57, 319.63, 3293.37, 9815.58, 45993.17, 1644.21, 14384.76, 3122.77, 153.05, 3109.91, 841.5, 760.0, 1085.18, 153.58, 1373.2, 15114.15, 14810.28, 283.1, 13166.06, 267.03, 2499.83, 218.07, 2516.92, 4947.47, 1248.17, 1681.09, 1931.02, 4333.33, 1536.91, 3854.63, 9460.77, 581.76, 2859.21, 653.98, 1524.39, 10505.65, 747.31, 3505.76, 1700.09, 12721.01, 6505.15, 3250.0, 5063.68, 2370.88, 5859.83, 1950.8, 21016.25, 2544.83, 2883.68, 2769.2, 5469.96, 10656.48, 9690.93, 16516.3, 13326.03, 3986.41, 5685.49, 433.92, 1864.27, 3722.84, 5271.37, 2254.83, 160.96, 3255.54, 307.33, 3269.56, 1050.06, 591.19, 5189.53, 34848.17, 4970.56, 1856.85, 1016.38, 2126.15, 12254.45, 505.63, 2080.0, 333.54, 6885.67, 5914.22, 240.57, 2603.54, 2409.2, 6675.75, 603.29, 2583.52, 2446.88, 25516.69, 1151.69, 1124.99, 739.03, 318.13, 5434.31, 86.29, 431.95, 580.3, 954.78, 11618.03, 6492.11, 310.3, 1155.99, 608.27, 11037.24, 7145.52, 7633.33, 1405.54, 2377.12, 306.34, 3673.89, 3026.67, 11625.69, 881.5, 2032.29, 3537.94, 10903.73, 7216.11, 236.12, 12753.16, 2915.08, 584.87, 2546.68, 3186.56, 561.26, 2086.54, 5451.86, 1581.79, 8404.03, 5641.01, 1367.46, 2663.6, 14650.55, 459.66, 10641.64, 4405.75, 1851.29, 17680.5, 24148.22, 6339.49, 2986.53, 6230.7, 405.49, 19030.0, 185.19, 6082.7, 2360.99, 3284.72, 158.47, 956.86, 2069.24, 2197.8, 25437.08, 7023.14, 4729.65, 4277.42, 1160.24, 420.32, 7973.22, 4009.16, 10599.61, 724.69, 3100.27, 13806.44, 289.28, 2422.2, 1094.7, 384.0, 78724.15, 310.42, 2610.77, 4642.45, 349.98, 88.76, 15327.03, 1705.02, 42465.19, 2833.17, 9214.59, 3471.39, 545.81, 3863.03, 1111.88, 303.98, 945.24, 89.44, 4680.44, 1174.44, 9346.05, 4101.63, 3650.0, 625.52, 3283.48, 5588.77, 4774.15, 6428.5, 1684.13, 628.07, 24230.48, 4413.41, 685.31, 16070.93, 1975.28, 135.86, 2202.75, 2971.95, 340.0, 490.79, 1029.17, 432.19, 3330.46, 403.33, 4419.35, 489.59, 5624.94, 22721.76, 4401.05, 3344.79, 3833.17, 3587.1, 1740.83, 1041.41, 7714.2, 2057.12, 1264.45, 1761.41, 3090.21, 781.31, 4665.0, 2662.88, 914.45, 436.4, 5488.7, 27914.52, 3164.78, 3634.47, 30164.48, 7692.0, 19521.51, 50213.83, 642.98, 851.25, 1239.96, 2985.54, 14510.86, 2163.44, 1033.17, 3672.31, 2381.67, 4663.14, 359.75, 8967.02, 5293.38, 6663.63, 1269.63, 899.73, 410.44, 14252.23, 3008.54, 436.3, 7573.27, 1436.52, 4338.99, 8282.85, 1666.5, 2428.86, 11939.46, 7719.15, 12997.44, 2218.82, 867.85, 154.53, 1468.13, 6159.99, 192.86, 3518.86, 2099.17, 2437.89, 4395.86, 12360.03, 1790.09, 230.93, 2076.92, 8505.15, 2434.92, 145.88, 8653.73, 264.29, 3555.45, 3743.17, 4376.32, 2192.28, 179.75, 5748.33, 23344.36, 7170.0, 5417.25, 12585.03, 1557.08, 2113.96, 3644.96, 176.17, 4104.1, 4938.82, 479.67, 4496.67, 3818.52, 21238.78, 2408.22, 5477.5, 34973.51, 5273.6, 3189.52, 686.68, 2156.0, 1643.72, 312.4, 11435.07, 3034.94, 9390.56, 2692.55, 5043.65, 7962.69, 3891.74, 399.31, 17885.82, 2527.39, 16681.22, 498.17, 2297.57, 313.14, 5337.39, 430.21, 181.98, 14654.26, 11947.61, 6552.1, 1749.83, 756.37, 350.07, 80.11, 84.65, 13648.2, 34788.08, 18889.9, 450.0, 114.0, 31161.91, 471.5, 766.67, 8554.85, 6430.73, 1489.43, 5380.65, 367.82, 711.59, 1419.81, 1491.22, 311.51, 4277.43, 1054.03, 4549.4, 1799.11, 3442.46, 1803.13, 982.5, 217.58, 446.29, 8918.31, 255.9, 9778.74, 5587.83, 1676.65, 3600.21, 259.59, 3214.23, 4208.71, 204.72, 5181.62, 1057.98, 14338.03, 180.25, 2533.32, 422.8, 316.0, 2161.91, 17305.03, 544.91, 2180.97, 575.27, 25201.5, 4339.24, 1817.26, 206.95, 2247.5, 13333.45, 7523.82, 1303.83, 17554.75, 6753.43, 498.12, 10302.41, 7046.62, 6057.62, 1878.85, 864.88, 1804.9, 8430.98, 5241.7, 7026.85, 13700.12, 3845.86, 2450.74, 2450.83, 1727.43, 743.23, 4486.1, 3377.93, 11514.98, 412.9, 2721.44, 1935.52, 2045.85, 630.43, 1001.3, 15823.01, 301.65, 478.43, 1026.08, 57549.91, 749.29, 11532.98, 6151.09, 23106.01, 2803.82, 1139.58, 618.87, 5991.86, 9338.17, 4474.98, 3004.49, 2144.4, 1997.61, 101.37, 11024.63, 766.39, 41988.0, 1040.24, 15662.17, 26777.18, 1165.0, 2299.2, 7949.83, 1829.6, 348.17, 28297.76, 299.17, 338.49, 3788.83, 5315.33, 1490.42, 3555.96, 19070.67, 3820.0, 664.61, 291.51, 10527.81, 1122.76, 1280.68, 2115.24, 2076.6, 1217.21, 385.26, 1970.58, 5523.32, 690.83, 3683.33, 1244.16, 296.21, 2854.01, 9148.0, 596.85, 198.0, 1678.33, 2689.09, 2947.22, 722.22, 4300.62, 2596.1, 1073.07, 5315.88, 1528.01, 598.34, 7597.99, 3153.17, 10313.28, 246.76, 16605.56, 933.2, 2732.61, 156.28, 4586.32, 3702.81, 1465.19, 8591.69, 11373.75, 9041.93, 743.97, 929.66, 6128.59, 2701.2, 441.09, 326.37, 1253.19, 14119.1, 1947.07, 2563.24, 1184.62, 40288.78, 20956.91, 15749.51, 75.16, 1333.33, 213.65, 3645.56, 1514.41, 3338.73, 2698.67, 14337.78, 337.5, 96427.25, 1198.79, 276.36, 15859.54, 7464.38, 3124.25, 6145.15, 8894.47, 2490.05, 160.77, 1493.14, 2959.34, 6009.38, 2964.28, 245.12, 1728.91, 1817.21, 1154.98, 222.2, 1194.22, 8537.54, 1149.48, 895.66, 1122.69, 13598.26, 7788.13, 2221.18, 9862.31, 4107.81, 1043.39, 2893.51, 5409.58, 2663.67, 10372.14, 3766.85, 6848.82, 2673.76, 3550.59, 2360.0, 6166.05, 5938.94, 540.24, 778.65, 501.67, 627.56, 6156.53, 2075.42, 755.35, 4722.23, 2640.63, 341.2, 899.83, 6414.16, 1829.9, 746.39, 1331.5, 32389.75, 1999.83, 27638.17, 536.29, 46300.0, 5570.54, 6959.84, 9160.85, 14623.35, 810.84, 650.27, 5019.18, 4108.33, 2991.45, 3186.42, 3286.94, 489.06, 316.5, 2571.4, 63.96, 1438.75, 128.01, 1542.64, 382.0, 18778.64, 3437.71, 5207.08, 2964.42, 124.58, 3318.09, 287.55, 13796.55, 2726.92, 3105.82, 330.82, 1103.14, 4878.41, 197.28, 1684.89, 732.11, 708.47, 24275.01, 32142.25, 2305.22, 574.83, 86.36, 3461.48, 5837.82, 9839.31, 1228.5, 16722.86, 2348.38, 2194.84, 1347.37, 3209.31, 1974.18, 1476.08, 483.23, 618.1, 9034.52, 6008.18, 10494.28, 63.3, 1099.83, 135.25, 6626.3, 8712.6, 1462.95, 20585.64, 5911.5, 830.76, 4939.83, 3448.25, 3858.17, 4771.68, 1621.96, 175.3, 1908.77, 12221.32, 3787.2, 1278.26, 1668.94, 287.43, 3558.17, 843.25, 2589.38, 5122.7, 6393.14, 2416.5, 6403.78, 13549.3, 7854.89, 138.46, 699.83, 429.97, 981.51, 257.14, 3355.68, 6884.92, 8678.47, 735.36, 70466.25, 7736.43, 891.09, 1623.62, 666.5, 76889.81, 7990.87, 565.44, 5742.54, 13029.83, 4079.35, 4326.85, 2851.04, 7254.31, 1855.86, 7864.03, 3525.54, 2000.0, 6740.03, 141.18, 11242.46, 25034.06, 25936.28, 207.2, 875.0, 20125.16, 2622.06, 125.89, 3593.17, 511.96, 2936.09, 679.69, 2902.47, 2252.57, 758.81, 598.17, 687.35, 3546.8, 3387.3, 13206.33, 976.64, 3211.04, 5931.28, 11388.33, 455.68, 1516.5, 2577.65, 13267.43, 1312.93, 218.73, 1270.62, 5817.29, 10979.7, 2254.67, 1530.75, 199.72, 22182.53, 6072.46, 342.58, 18560.81, 4873.05, 16747.23, 2113.99, 2685.71, 285.57, 6088.41, 865.37, 10176.56, 3436.78, 14587.75, 2772.86, 2088.4, 74333.08, 517.67, 211.55, 1000.44, 15763.67, 2998.17, 10508.12, 5186.4, 269.6, 57454.47, 9996.67, 11413.06, 511.81, 219.33, 6898.28, 5575.24, 3366.67, 4432.44, 5589.09, 6725.2, 3023.62, 1730.53, 1139.82, 35034.58, 1438.58, 16997.94, 12394.4, 8035.38, 2310.92, 1477.01, 12792.72, 1837.24, 407.94, 5018.93, 2376.81, 10419.61, 20522.92, 2754.12, 12809.28, 1573.29, 598.35, 332.55, 16887.15, 752.88, 438.73, 4556.2, 677.59, 7687.95, 8999.9, 25711.53, 19863.32, 383.23, 9751.29, 4759.54, 413.9, 1179.38, 40723.31, 1598.33, 1083.94, 1780.18, 155.47, 4497.79, 3220.87, 1379.16, 2529.37, 4079.6, 505.6, 34666.5, 746.94, 3637.59, 963.53, 5322.8, 35812.18, 4524.68, 20998.94, 23251.67, 141357.77, 1101.43, 963.68, 73.93, 921.75, 972.68, 595.35, 125.83, 301.4, 6747.45, 6354.33, 3797.76, 20882.49, 2623.08, 1743.17, 4410.94, 758.17, 448.39, 32861.75, 11326.52, 3148.98, 15749.58, 682.41, 41713.0, 4552.05, 913.59, 519.2, 2100.0, 1755.54, 3968.84, 25704.6, 9401.68, 3456.56, 213.82, 5208.07, 4079.03, 370.87, 13592.57, 2877.22, 1041.67, 2039.81, 8277.93, 13140.35, 4612.45, 436.26, 3125.46, 440.0, 8244.55, 853.51, 6856.0, 8802.1, 1002.61, 2064.29, 623.07, 290.52, 5250.0, 3394.02, 525.35, 7723.84, 1999.8, 3861.55, 16830.33, 3063.8, 1295.1, 4166.5, 4999.83, 1365.47, 1300.54, 684.9, 1654.35, 3870.71, 24645.88, 5929.55, 1253.53, 149.46, 127.83, 4454.95, 26690.39, 985.08, 662.38, 1133.17, 592.66, 311.29, 10629.28, 5173.29, 159.48, 720.73, 11620.73, 7841.78, 6357.38, 161.11, 1876.13, 1531.71, 49449.98, 606.74, 735.57, 365.68, 1775.01, 425.02, 13559.19, 13356.44, 9405.01, 260.85, 12609.5, 177.77, 677.22, 954.08, 5254.19, 35455.4, 482.76, 452.47, 20686.87, 166.89, 5662.03, 395.57, 2979.61, 134.14, 187.91, 2742.49, 560.3, 994.42, 1583.17, 745.74, 21066.33, 4005.45, 23488.75, 1174.2, 2693.03, 5184.59, 502.66, 14192.15, 2136.67, 2573.27, 166780.76, 1319.82, 3362.6, 4308.33, 40347.49, 79119.75, 1284.57, 1756.66, 1649.67, 1023.62, 1272.0, 1666.47, 905.43, 704.93, 7366.67, 1269.33, 4870.33, 10297.96, 2744.48, 1548.77, 12184.73, 198.33, 146.45, 13514.68, 3881.83, 8099.91, 231.5, 1945.36, 505.85, 17356.7, 629.25, 8418.12, 5459.03, 4005.21, 2510.55, 4796.65, 7676.87, 14514.07, 4447.78, 3948.58, 1166.5, 304.12, 2608.49, 13022.62, 590.59, 2828.54, 20358.56, 6379.05, 5436.78, 641.54, 6848.83, 1728.03, 11586.63, 13961.47, 3664.25, 7573.02, 8208.45, 21854.18, 3312.87, 7347.77, 10848.13, 13337.22, 1190.85, 3510.7, 32589.5, 17653.63, 425.39, 1494.49, 84.06, 470.21, 16530.0, 981.34, 2334.04, 25928.37, 1197.71, 514.03, 22128.63, 5686.5, 27303.82, 3019.66, 15972.1, 261.59, 7601.11, 1414.83, 2083.17, 9667.26, 144.64, 1883.33, 1444.32, 1414.52, 3617.9, 3179.64, 16015.12, 3847.45, 2804.8, 816.0, 126.1, 6422.07, 2112.26, 11349.83, 5522.09, 3075.79, 1051.76, 5315.85, 1127.95, 1520.59, 44695.0, 372.36, 933.17, 308.12, 4944.98, 1202.33, 1547.91, 462.51, 6562.51, 2173.57, 11083.18, 1085.46, 2940.0, 1114.03, 772.66, 4666.67, 13066.92, 3659.79, 4833.74, 3452.35, 891.5, 3165.0, 133.33, 536.53, 5768.1, 4526.67, 465.07, 2044.51, 2262.09, 2609.72, 2367.47, 20436.41, 595.38, 293.98, 735.07, 522.93, 713.56, 399.63, 246.38, 3950.0, 42.68, 1377.18, 944.99, 904.44, 980.84, 350.35, 164.19, 1522.07, 1041.91, 3953.82, 1603.66, 4445.56, 963.78, 1844.48, 1489.67, 273.26, 3715.0, 3911.25, 1960.2, 2663.33, 504.14, 250.43, 2049.46, 745.95, 276.9, 1488.69, 1071.33, 324.14, 369.89, 1045.37, 6529.87, 139.45, 2114.73, 986.03, 109.6, 609.47, 470.71, 1740.39, 622.08, 6246.6, 79.37, 5554.15, 31.9, 1112.13, 2652.25, 610.46, 210.41, 1916.93, 7887.28, 625.54, 706.39, 564.97, 378.74, 1284.46, 385.22, 146.37, 2088.03, 472.74, 451.97, 2389.42, 418.96, 821.1, 2089.02, 353.77, 330.06, 243.29, 398.07, 3770.32, 6270.58, 1246.08, 99.15, 700.46, 522.19, 3352.71, 170.16, 939.76, 827.79, 417.46, 849.8, 620.62, 1447.9, 3631.67, 595.13, 2635.68, 240.82, 3470.0, 3164.55, 698.38, 1415.51, 592.91, 759.8, 641.86, 645.32, 3309.44, 3295.0, 885.65, 2978.87, 5723.84, 1933.5, 688.78, 1757.95, 173.29, 780.07, 500.68, 728.65, 2299.18, 475.09, 538.02, 1070.23, 235.88, 292.74, 1062.43, 775.78, 4567.15, 319.94, 79.12, 139.7, 529.12, 1870.88, 7773.05, 96.72, 37.09, 781.06, 826.87, 6416.67, 2750.66, 2379.78, 387.98, 10557.33, 176.04, 218.32, 3741.67, 1772.54, 935.03, 106.63, 1259.99, 3106.67, 1237.98, 3397.22, 658.43, 5995.32, 1566.33, 583.26, 885.91, 292.3, 671.1, 3561.64, 131.46, 220.03, 956.69, 60.57, 908.67, 4488.08, 795.65, 2190.63, 89.26, 608.73, 78.44, 2426.02, 728.0, 2965.02, 848.31, 2694.78, 382.99, 1194.5, 2379.9, 49.2, 834.22, 1710.5, 2665.0, 802.08, 119.79, 331.07, 597.83, 1043.64, 519.97, 591.42, 84.31, 1451.07, 986.29, 659.66, 2502.17, 176.02, 1620.72, 727.66, 1487.96, 462.36, 4636.59, 81.35, 556.21, 627.52, 308.82, 184.5, 218.08, 370.39, 411.03, 117.94, 222.91, 1888.5, 2869.83, 306.72, 3177.66, 1214.24, 1032.86, 2165.91, 412.41, 9997.0, 2496.98, 1205.34, 150.13, 3534.44, 611.57, 710.28, 199.53, 1294.35, 191.9, 1322.54, 1604.9, 359.25, 72.44, 1613.31, 750.0, 2577.09, 1171.96, 1288.0, 2670.32, 140.7, 31.65, 2180.37, 2391.4, 1855.62, 24.72, 1416.99, 168.54, 631.67, 1487.95, 4191.73, 1265.43, 1251.18, 258.38, 6768.47, 1168.11, 1049.58, 3410.81, 288.29, 701.94, 4063.31, 533.32, 66.26, 323.98, 311.41, 2250.0, 417.61, 2861.67, 1456.06, 113.53, 1321.8, 3827.68, 4171.11, 240.89, 73.29, 1326.99, 1367.54, 6665.0, 623.56, 315.01, 1289.41, 1133.59, 542.96, 124.87, 4548.33, 451.45, 3819.77, 855.98, 3337.61, 1393.8, 15910.54, 716.53, 3412.5, 1139.33, 5073.33, 934.85, 1464.96, 194.59, 604.43, 613.72, 9865.27, 752.63, 3249.85, 2198.3, 361.58, 752.13, 524.17, 981.09, 3226.61, 3485.99, 362.03, 830.27, 2347.89, 362.96, 521.83, 8597.03, 423.04, 1713.33, 137.97, 1633.83, 86.01, 4989.51, 1650.0, 150.58, 718.54, 249.48, 543.68, 444.81, 585.51, 1796.27, 1033.5, 2822.41, 517.99, 176.78, 322.81, 597.11, 1414.02, 418.84, 111.76, 1061.22, 1955.25, 1103.97, 15666.67, 1066.67, 4326.63, 1450.37, 2775.38, 6095.21, 1364.88, 1354.19, 630.64, 2667.58, 2582.53, 822.45, 3357.66, 1620.0, 60.82, 11325.0, 1071.58, 230.44, 1812.34, 3540.42, 2590.19, 1126.97, 137.27, 1025.35, 550.36, 976.39, 1246.14, 1143.53, 435.83, 1380.15, 2518.98, 155.57, 893.56, 571.64, 1306.22, 2332.06, 751.15, 1216.72, 992.71, 1539.72, 741.1, 1222.6, 410.22, 150.08, 1719.62, 5932.02, 881.2, 105.46, 375.59, 805.18, 886.89, 1980.72, 1353.69, 704.42, 1507.98, 2717.61, 1066.14, 288.59, 870.02, 465.57, 1228.59, 1106.69, 1094.08, 2888.62, 1059.22, 136.23, 353.32, 747.73, 1006.06, 1174.19, 5081.67, 115.96, 711.83, 990.24, 2604.53, 899.08, 210.15, 3412.05, 574.41, 1106.44, 127.34, 3517.87, 673.98, 1374.71, 1603.42, 893.66, 431.45, 1080.48, 417.36, 253.19, 1199.67, 1661.52, 458.79, 3937.7, 497.96, 1787.86, 655.46, 671.67, 4645.98, 1268.89, 388.68, 1123.01, 5587.74, 603.53, 985.54, 1079.99, 6666.33, 685.87, 190.41, 595.87, 302.54, 515.27, 131.62, 920.81, 1208.01, 511.31, 4193.36, 805.1, 792.93, 3088.15, 3360.13, 4007.92, 1693.42, 547.16, 527.57, 1674.33, 614.42, 1491.73, 5916.67, 461.86, 1910.33, 526.15, 5275.0, 759.06, 1328.23, 582.77, 133.52, 7396.48, 2517.67, 1615.53, 63.89, 1129.44, 436.15, 516.26, 3312.17, 2068.0, 938.81, 48.96, 2190.0, 409.45, 1026.58, 2181.87, 248.73, 493.0, 197.16, 830.51, 1009.52, 6529.62, 457.66, 327.36, 1028.81, 4136.67, 5661.02, 170.85, 1110.89, 725.31, 848.07, 1046.61, 202.83, 1004.58, 696.26, 2945.74, 2512.55, 2591.18, 418.72, 576.09, 246.51, 1760.42, 13289.67, 1123.75, 565.21, 187.67, 5352.96, 937.87, 1889.36, 573.87, 437.14, 1001.23, 2703.68, 118.88, 923.97, 307.83, 263.59, 8054.42, 5923.86, 1109.16, 5921.64, 446.53, 2168.14, 9642.75, 823.1, 428.98, 1355.67, 3372.0, 5316.67, 231.92, 391.64, 1173.94, 917.3, 1105.33, 176.54, 4010.0, 884.66, 1994.0, 6070.9, 861.47, 1133.33, 2359.75, 3749.3, 178.27, 805.79, 3051.19, 1311.66, 1176.42, 1152.98, 437.62, 741.61, 500.22, 1055.51, 1307.21, 1521.33, 1020.9, 2939.8, 1418.23, 1364.33, 400.3, 172.46, 4520.97, 582.13, 734.09, 193.1, 3440.98, 807.02, 314.01, 131.54, 4128.83, 957.1, 820.38, 410.25, 1823.72, 3706.02, 998.89, 353.57, 3081.67, 1540.49, 238.05, 810.08, 163.43, 5390.05, 315.74, 653.23, 932.38, 263.09, 187.68, 286.32, 4966.67, 2615.0, 2200.28, 1035.99, 553.0, 750.06, 1080.36, 969.75, 2637.33, 846.83, 1880.34, 901.97, 386.67, 5931.53, 712.11, 1287.43, 1092.85, 1920.64, 946.72, 225.47, 428.33, 229.2, 1196.4, 1030.04, 572.0, 949.46, 1536.41, 984.67, 1288.91, 233.65, 270.74, 533.81, 8060.1, 775.67, 3300.54, 1383.12, 1100.51, 1322.29, 105.33, 247.87, 117.67, 563.33, 677.71, 4588.96, 716.04, 2903.07, 61.07, 305.6, 148.44, 796.64, 1485.73, 884.41, 963.04, 471.26, 1238.72, 171.84, 2693.54, 2806.04, 10382.03, 266.54, 969.83, 1150.95, 1058.48, 418.22, 983.81, 4504.2, 980.1, 976.14, 305.92, 633.75, 764.74, 454.94, 1417.67, 1703.8, 273.21, 2313.27, 5633.33, 1184.82, 1096.06, 1035.68, 164.22, 3508.21, 1794.05, 2392.19, 520.0, 1050.17, 650.76, 712.45, 5587.6, 683.44, 1310.78, 1671.41, 1221.18, 813.95, 4868.33, 1045.87, 583.02, 884.17, 328.6, 107.55, 225.1, 403.51, 1510.94, 521.21, 2831.67, 719.0, 360.74, 1601.93, 89.96, 1726.79, 2471.51, 944.0, 1766.6, 475.23, 5021.67, 838.67, 4433.19, 7533.33, 1283.33, 264.06, 1191.0, 5712.71, 1128.6, 212.39, 2093.96, 8777.38, 483.37, 709.49, 918.33, 592.63, 874.04, 681.07, 152.31, 775.38, 123.87, 1029.3, 708.37, 730.03, 1184.57, 522.44, 162.64, 878.73, 5281.68, 960.07, 3399.69, 1966.67, 84.56, 1167.02, 3496.12, 7200.0, 965.51, 751.47, 2160.97, 486.33, 2040.55, 228.09, 153.29, 374.58, 7331.67, 2692.31, 179.01, 1331.19, 553.42, 13932.54, 422.63, 2875.52, 1440.16, 2155.03, 23785.45, 3072.58, 607.25, 124.19, 2038.33, 2694.23, 1010.51, 561.65, 466.42, 817.22, 1152.74, 834.47, 494.6, 93.71, 2041.05, 1472.61, 2038.67, 2024.0, 504.58, 231.18, 1891.22, 630.51, 144.63, 8290.29, 977.05, 531.85, 661.45, 781.67, 202.15, 1710.0, 809.74, 301.58, 3313.33, 930.55, 4287.0, 516.52, 204.23, 448.76, 4000.26, 1720.37, 252.44, 271.23, 1772.26, 2353.82, 1390.78, 140.69, 1111.64, 255.94, 354.85, 9951.81, 451.86, 4754.86, 885.16, 594.11, 2344.46, 553.35, 697.0, 589.66, 319.69, 8381.77, 192.36, 1690.2, 2422.31, 37085.03, 669.06, 2682.42, 120.66, 400.76, 219.81, 564.72, 3286.08, 6195.0, 544.44, 1399.67, 1272.84, 6116.67, 423.79, 267.8, 1438.65, 746.65, 894.8, 695.02, 2143.41, 380.67, 2486.35, 1281.5, 10725.46, 1750.53, 2316.73, 2099.67, 3311.67, 1602.18, 3996.67, 933.33, 2178.77, 79.61, 1283.47, 624.55, 7266.67, 174.22, 329.83, 643.63, 153.12, 163.93, 996.42, 390.41, 2313.02, 2168.63, 847.44, 194.09, 115.05, 660.8, 624.8, 1914.83, 1695.15, 666.59, 427.35, 749.91, 949.67, 1947.5, 943.06, 2002.07, 814.19, 1766.33, 1155.65, 8923.93, 614.76, 223.27, 125.9, 812.96, 8629.03, 259.37, 869.58, 10697.72, 4496.49, 1596.99, 2336.27, 1339.35, 94.2, 747.41, 556.81, 497.72, 294.47, 83.08, 9862.8, 1723.33, 8808.28, 84.81, 2642.81, 506.62, 6433.33, 956.03, 1833.33, 199.42, 752.07, 3433.56, 1474.1, 2558.05, 3967.25, 3645.45, 2251.22, 538.26, 262.58, 434.72, 1454.08, 133.22, 2105.33, 9494.4, 234.65, 64.29, 275.04, 6185.09, 2664.12, 316.23, 48.08, 917.54, 3467.68, 1046.86, 1327.98, 261.1, 1889.24, 401.29, 10247.03, 11519.38, 1974.54, 1479.92, 306.1, 492.85, 703.67, 2189.65, 831.35, 320.68, 136.3, 3489.19, 55.38, 1622.7, 1338.33, 928.18, 444.06, 840.16, 76.0, 880.95, 232.68, 1430.84, 461.37, 99.89, 122.96, 1042.41, 241.32, 183.2, 2337.75, 1739.67, 337.25, 578.32, 3470.1, 636.92, 179.77, 971.2, 6100.67, 226.23, 1155.89, 568.89, 4072.88, 326.16, 1000.13, 2958.05, 366.87, 1093.09, 221.29, 2444.07, 1260.0, 775.0, 1626.9, 245.46, 1875.64, 2180.75, 322.87, 3848.45, 2029.43, 660.16, 1432.81, 286.81, 727.9, 163.04, 5215.91, 405.43, 652.14, 350.44, 4625.0, 2665.85, 189.86, 1630.86, 375.82, 502.91, 1149.71, 1222.16, 6933.33, 308.57, 1416.0, 789.22, 343.65, 652.99, 2644.69, 1300.0, 2691.32, 1395.97, 268.51, 2230.2, 6065.29, 2512.06, 666.67, 380.78, 660.0, 13598.81, 1279.02, 63.17, 773.15, 696.43, 252.94, 4139.62, 3521.33, 520.21, 222.52, 1115.84, 1825.3, 251.95, 1745.34, 6210.67, 829.93, 5299.31, 533.33, 719.92, 190.14, 1858.97, 257.71, 306.03, 571.95, 574.36, 510.18, 1214.99, 2014.03, 100.21, 2357.04, 1860.0, 1234.49, 279.15, 6408.72, 594.39, 3330.0, 1015.7, 3159.86, 205.96, 2983.5, 2902.72, 7582.81, 267.12, 91.73, 2911.25, 255.98, 543.46, 4200.28, 572.63, 231.67, 812.71, 1910.99, 11442.73, 395.85, 393.37, 192.97, 3246.39, 384.72, 9519.12, 1724.57, 419.34, 531.23, 156.37, 6795.42, 920.51, 214.86, 9887.53, 6448.28, 2356.33, 699.22, 134.01, 11044.66, 1317.84, 249.97, 3087.29, 237.98, 272.47, 5000.0, 280.01, 485.1, 784.17, 314.35, 935.01, 1300.6, 397.33, 253.55, 1556.93, 1423.17, 7941.18, 214.37, 630.0, 151.07, 494.58, 4698.33, 143.21, 994.93, 200.03, 563.24, 193.84, 996.67, 649.77, 1613.0, 718.35, 286.56, 262.29, 1377.43, 1022.63, 2930.65, 121.65, 2895.3, 2075.91, 948.7, 1183.09, 313.05, 125.97, 1083.33, 744.17, 4202.51, 2624.31, 120.16, 634.69, 458.4, 1569.79, 5583.33, 2744.23, 7412.56, 388.92, 795.9, 73.06, 1816.05, 367.84, 574.86, 459.88, 5980.98, 6708.33, 104.59, 298.68, 98.41, 1265.92, 3299.67, 1262.46, 94.94, 1084.44, 950.0, 1002.05, 242.64, 190.74, 770.93, 2457.66, 190.63, 923.23, 1657.81, 647.3, 895.05, 3231.31, 8493.53, 4262.18, 902.96, 1538.88, 1714.43, 169.37, 628.93, 648.78, 233.63, 2707.39, 5211.54, 130.8, 1239.62, 192.5, 9393.03, 195.32, 19532.75, 569.66, 837.19, 1065.36, 2826.56, 3031.53, 3141.31, 500.43, 768.45, 2179.51, 157.33, 3152.44, 628.26, 1612.07, 771.17, 1658.18, 205.71, 3658.06, 114.97, 1120.29, 402.33, 1091.86, 2622.88, 607.74, 760.29, 1008.53, 258.33, 2359.26, 5934.74, 219.31, 1093.75, 2322.91, 3128.45, 19780.0, 1891.46, 2584.75, 3065.65, 66.33, 13820.0, 3867.48, 2533.33, 411.18, 13919.93, 413.4, 118.54, 654.72, 593.25, 3973.31, 148.6, 3277.3, 3441.72, 63.64, 4190.89, 1441.21, 201.51, 348.13, 5906.01, 145.89, 471.75, 7677.11, 1122.52, 9352.0, 833.13, 1682.29, 206.17, 2194.34, 1667.95, 851.03, 286.68, 161.55, 8060.35, 731.61, 366.92, 1923.61, 5533.33, 275.12, 6983.33, 269.26, 6686.31, 1009.27, 862.66, 4873.33, 466.56, 1996.0, 1778.47, 10398.35, 389.91, 249.72, 2539.75, 529.61, 348.52, 30911.0, 552.11, 584.75, 2230.0, 270.0, 161.95, 788.48, 599.09, 292.5, 423.45, 8883.33, 155.77, 906.42, 4143.72, 10384.5, 261.84, 632.96, 2266.0, 531.09, 6791.67, 1899.67, 66.23, 1841.77, 2066.67, 38.47, 8556.09, 2021.27, 89.01, 127.54, 862.16, 308.72, 6100.0, 953.64, 231.7, 6183.33, 147.11, 169.74, 390.16, 1210.78, 275.44, 1703.43, 711.88, 168.14, 2277.67, 1331.69, 2531.35, 9938.71, 4321.7, 668.32, 2392.14, 2697.5, 135.0, 923.19, 18543.75, 2385.72, 100.14, 1137.75, 217.31, 269.84, 685.13, 342.69, 9243.94, 514.53, 271.56, 1104.71, 11471.91, 3746.0, 434.67, 349.36, 168.87, 256.4, 2224.26, 686.12, 1621.47, 833.33, 348.92, 110.52, 485.85, 1500.0, 817.66, 5115.6, 298.46, 635.68, 236.62, 560.27, 1333.0, 663.87, 1050.26, 114.23, 855.73, 536.11, 1917.67, 8480.68, 393.53, 1632.84, 208.18, 535.79, 274.94, 66.79, 1999.67, 770.18, 767.46, 549.17, 1649.4, 1022.67, 1823.47, 1696.13, 549.39, 499.2, 792.44, 2090.33, 1465.7, 223.8, 889.61, 1772.78, 1619.61, 359.01, 6291.67, 300.9, 115.61, 334.03, 2389.92, 523.43, 2420.36, 248.15, 855.49, 1185.81, 498.11, 2432.94, 627.03, 494.08, 6266.09, 329.55, 1313.89, 6144.9, 6685.64, 2832.66, 257.88, 151.83, 233.34, 1050.32, 6448.33, 693.12, 340.86, 962.3, 453.21, 4460.0, 6058.33, 371.87, 553.29, 58.91, 334.53, 5936.72, 669.8, 447.52, 300.66, 4271.24, 286.87, 265.55, 11843.28, 1954.51, 767.71, 4878.39, 1273.09, 1119.99, 510.88, 2369.45, 3273.33, 813.33, 313.24, 337.77, 413.15, 2125.0, 325.88, 324.39, 4588.47, 208.43, 324.66, 136.33, 680.94, 1584.87, 968.73, 580.0, 67.5, 14586.51, 474.23, 12679.48, 8458.18, 170.11, 1302.02, 851.78, 684.64, 8282.88, 2300.91, 1982.54, 1391.03, 116.43, 3235.27, 1477.44, 489.95, 675.35, 497.71, 113.49, 1843.74, 9618.02, 548.9, 590.34, 303.83, 243.99, 106.32, 1411.3, 7233.33, 2158.74, 508.65, 4051.0, 1639.17, 318.71, 246.29, 1599.67, 1340.84, 3605.0, 51.92, 691.06, 1306.47, 172.35, 1975.5, 363.43, 349.61, 3589.82, 3604.91, 156.76, 3426.89, 223.68, 195.08, 417.81, 2530.77, 950.18, 188.11, 2415.31, 713.66, 264.56, 446.78, 1969.35, 1088.64, 186.67, 373.66, 5163.57, 5600.0, 2811.23, 1133.89, 293.49, 288.23, 224.75, 1777.97, 2943.83, 304.86, 932.87, 1113.37, 184.45, 7667.37, 657.19, 1003.34, 2083.13, 1379.65, 1008.78, 5661.78, 330.23, 1655.59, 253.68, 2880.0, 180.74, 1888.99, 1421.67, 582.52, 323.9, 566.21, 600.0, 4096.69, 818.85, 3597.24, 7675.0, 67.99, 4313.4, 266.04, 11457.81, 3522.08, 2654.72, 129.81, 11534.21, 1221.41, 260.35, 160.0, 283.07, 1299.55, 260.11, 225.62, 9380.0, 1537.4, 906.91, 931.02, 1012.49, 1001.86, 3121.28, 1567.07, 746.2, 44.51, 1286.19, 3495.54, 1390.33, 2237.86, 1624.43, 160.07, 4709.62, 42.03, 3844.49, 913.34, 104.91, 605.52, 254.95, 670.54, 216.84, 1531.96, 61.57, 217.63, 4438.14, 823.8, 582.03, 1030.29, 254.42, 152.06, 3114.11, 8291.03, 765.24, 9145.78, 43.52, 1361.11, 1348.01, 197.3, 655.95, 2291.76, 2734.84, 1683.28, 8939.82, 355.3, 690.07, 2524.92, 623.05, 1198.17, 2014.16, 351.34, 241.56, 3219.2, 445.54, 237.11, 16639.68, 204792.3, 935.59, 641.67, 915.32, 57.36, 746.7, 3289.0, 3875.41, 5091.67, 1079.25, 520.46, 4769.45, 601.81, 151.42, 418.81, 2299.83, 6962.56, 123.07, 71.7, 781.8, 369.69, 279.39, 53.66, 7674.64, 661.76, 1063.2, 4376.08, 344.16, 1866.49, 785.02, 168.38, 179.91, 46.56, 731.86, 3226.67, 1783.41, 1599.71, 2513.05, 285.08, 7788.38, 126.67, 505.87, 648.1, 108.79, 262.06, 280.13, 129.69, 786.75, 8560.78, 257.67, 119.67, 778.34, 7731.01, 109.07, 472.2, 1393.67, 1065.0, 78.33, 161.21, 1183.33, 249.99, 1484.74, 2269.76, 294.67, 999.63, 3483.9, 8748.33, 162.69, 125.85, 112.99, 626.53, 276.67, 1091.61, 9543.6, 7472.39, 525.33, 398.35, 1081.47, 543.98, 442.08, 3005.82, 345.28, 172.58, 543.73, 1117.08, 2509.59, 106.43, 263.89, 199.63, 320.44, 1563.11, 348.75, 7713.95, 275.68, 2631.33, 734.33, 674.99, 291.01, 157.99, 7248.33, 775.87, 7248.26, 8574.63, 3650.4, 245.52, 973.67, 403.6, 189.89, 5315.0, 314.5, 558.54, 29.42, 244.54, 188.96, 1396.22, 1626.67, 876.25, 6500.0, 907.04, 827.01, 1190.51, 1670.92, 235.63, 142.65, 733.84, 251.21, 1827.24, 90.42, 68.01, 6881.67, 499.83, 1160.81, 217.33, 2121.8, 8103.62, 4663.33, 336.75, 140.44, 332.33, 373.84, 8970.23, 728.03, 1846.46, 1782.67, 1436.77, 8317.24, 846.09, 169.61, 1653.86, 338.83, 3650.65, 13967.65, 9779.97, 299.92, 13069.64, 1997.04, 410.19, 919.54, 7380.41, 371.59, 1154.16, 1942.89, 138.21, 11914.98, 223.0, 8109.8, 936.83, 210.9, 671.24, 7599.23, 1401.67, 685.93, 2770.93, 3298.32, 52.99, 255.14, 1935.97, 501.92, 1594.52, 2081.35, 1384.85, 928.92, 1008.04, 65.27, 2272.23, 63.05, 425.52, 1398.2, 4464.59, 824.08, 107.68, 58.59, 1266.67, 6125.0, 1001.36, 457.03, 5253.82, 258.13, 155.52, 718.76, 2892.6, 490.57, 1963.33, 3331.67, 167.35, 228.33, 5653.37, 2410.44, 109.7, 1596.81, 2009.9, 4289.54, 186.92, 517.27, 76.65, 4583.33, 748.35, 4904.7, 648.29, 454.69, 888.12, 3082.71, 3485.98, 5555.71, 631.28, 601.56, 139.82, 386.95, 1495.62, 3301.53, 51.53, 1456.8, 14166.5, 5336.67, 2974.42, 197.32, 620.35, 5215.0, 818.89, 112.43, 816.23, 4875.0, 315.61, 239.59, 434.49, 1519.26, 1720.61, 167.02, 410.68, 120.91, 3506.75, 679.58, 647.58, 460.63, 2544.2, 231.64, 191.62, 11274.6, 3050.0, 411.23, 2689.59, 1087.7, 6343.2, 673.01, 1713.44, 298.24, 7437.28, 61.96, 162.94, 1428.12, 180.0, 209.17, 232.17, 506.17, 245.06, 1041.42, 1168.26, 166.65, 1026.83, 5313.4, 1481.27, 11921.0, 591.92, 640.74, 339.23, 181.48, 2483.38, 1562.62, 3454.08, 989.74, 573.37, 6032.9, 5563.12, 1528.25, 225.99, 4592.67, 294.82, 193.89, 2519.48, 73.51, 180.97, 525.41, 165.16, 73.68, 1212.76, 678.19, 12090.53, 3431.83, 772.16, 4310.17, 1021.06, 9457.31, 498.24, 206.26, 497.88, 3637.29, 1652.87, 149.59, 300.63, 541.97, 242.06, 750.77, 2331.57, 453.0, 1103.59, 420.29, 2166.33, 667.82, 315.06, 1521.08, 351.84, 2844.76, 63.9, 1086.66, 1674.5, 2767.47, 703.13, 139.33, 422.3, 2610.96, 402.38, 96.23, 6599.84, 193.67, 7027.5, 915.81, 815.33, 12008.93, 807.27, 1167.27, 472.99, 138.71, 8831.77, 1135.4, 262.73, 10737.57, 207.0, 176.29, 4266.67, 736.06, 283.84, 3016.45, 2548.33, 694.77, 4055.86, 803.52, 213.62, 3859.33, 392.39, 798.37, 3150.21, 8742.76, 158.98, 1433.04, 102.86, 2830.77, 487.82, 13598.75, 108.54, 8403.78, 739.43, 428.36, 230.89, 908.15, 493.76, 2312.28, 4942.65, 617.59, 1040.18, 562.25, 362.68, 132.96, 1774.51, 9125.0, 241.93, 2709.86, 179.26, 166.37, 362.71, 5875.0, 106.19, 491.37, 664.5, 294.72, 7883.33, 922.54, 5508.98, 8327.38, 375.33, 1730.73, 127.33, 3352.09, 192.23, 729.88, 3387.57, 95.66, 2120.17, 60.08, 978.84, 167.33, 503.4, 281.49, 5822.74, 866.61, 1030.74, 251.47, 6450.0, 834.31, 2269.51, 424.99, 1347.27, 902.35, 791.45, 2293.99, 3446.61, 11769.1, 189.39, 5306.67, 145.14, 3021.89, 483.13, 2865.13, 3053.29, 498.46, 3716.32, 457.31, 11373.5, 458.65, 359.45, 506.24, 495.49, 897.52, 9828.19, 209.77, 913.84, 58.1, 438.37, 814.2, 129.56, 705.84, 584.61, 7618.76, 3627.16, 983.07, 411.93, 309.19, 6883.44, 274.83, 352.83, 979.11, 412.55, 5168.46, 396.12, 1207.82, 160.2, 206.43, 300.41, 8504.66, 124.55, 663.12, 371.83, 150.21, 18800.0, 274.45, 5287.44, 5691.67, 51.58, 1198.92, 1634.32, 4603.33, 168.35, 180.04, 1761.9, 8095.39, 913.33, 8166.5, 36840.0, 3370.26, 3090.38, 7232.14, 522.71, 1931.67, 650.5, 309.78, 12833.17, 2330.0, 456.5, 2626.04, 4413.17, 184.2, 2130.19, 2477.45, 407.15, 4979.62, 2477.94, 271.7, 13326.53, 590.68, 466.29, 1087.92, 178.14, 4153.55, 1825.0, 7403.16, 8764.77, 511.56, 2276.67, 5664.25, 47173.07, 2765.99, 216.08, 7890.26, 3230.77, 810.73, 9446.06, 678.44, 3999.83, 20694.58, 2985.79, 1966.24, 504.51, 1290.4, 13524.33, 1759.67, 266.76, 1249.83, 1697.53, 159.23, 10704.69, 17307.5, 12980.38, 22991.78, 195.55, 702.08, 1204.11, 7965.0, 3857.86, 861.17, 1849.18, 7666.5, 26021.33, 3578.94, 537.77, 7833.37, 4299.83, 11620.52, 3452.1, 15830.92, 3035.24, 4182.48, 2135.13, 399.53, 358.27, 222.75, 128.08, 4796.4, 2716.78, 5166.5, 18643.18, 495.02, 814.29, 787.9, 10276.89, 2013.6, 173.07, 3499.83, 282.38, 16936.38, 3579.69, 1166.67, 8577.1, 16420.37, 1487.22, 389.38, 1249.67, 17060.0, 742.21, 15400.96, 290.02, 5099.83, 274.42, 215.0, 9524.78, 480.39, 1841.5, 14587.5, 2514.04, 156.05, 507.36, 575.6, 17383.9, 330.08, 3547.05, 935.22, 4399.95, 1053.04, 783.29, 11101.28, 281.67, 13190.29, 56.68, 1593.53, 2309.83, 3488.7, 27710.38, 463.72, 15333.17, 2071.95, 187.36, 4883.43, 2185.0, 195.1, 7500.82, 2753.76, 1001.12, 9803.96, 5238.17, 4443.08, 4633.33, 9199.67, 1248.61, 1979.67, 454.2, 3013.48, 974.16, 1070.82, 4896.29, 2316.67, 2212.89, 208.06, 2294.83, 1193.97, 332.06, 439.24, 179.23, 1771.95, 249.83, 4457.67, 2403.27, 4573.88, 274.2, 16085.84, 325.15, 5634.83, 15697.9, 45494.0, 2017.31, 796.58, 1128.33, 227.1, 4079.38, 2249.97, 20496.53, 801.83, 1032.44, 1973.05, 1223.66, 20645.38, 490.87, 929.41, 505.88, 400.28, 553.11, 4645.83, 179.83, 507.09, 7226.67, 2518.03, 525.65, 13526.8, 856.23, 1254.81, 1208.81, 4695.17, 821.87, 646.56, 172.7, 2888.37, 1045.62, 5130.0, 651.75, 4042.54, 492.32, 15774.55, 253.18, 3226.37, 821.86, 1913.47, 713.29, 19916.44, 161.83, 1074.57, 17925.38, 239.13, 5560.65, 1315.18, 333.33, 19146.79, 9185.34, 27691.75, 1063.33, 136.73, 2701.21, 181.95, 312.52, 453.68, 2626.78, 3170.75, 3021.16, 17833.33, 289.39, 1184.83, 5717.66, 4415.65, 353.07, 10716.56, 209.79, 566.67, 3450.0, 1714.93, 5530.74, 4626.79, 6551.88, 4556.82, 224.5, 19285.5, 3613.33, 4842.89, 1355.42, 2396.35, 2494.23, 310.05, 1345.67, 254.44, 152.8, 2886.64, 438.21, 4600.04, 43738.77, 247.5, 491.04, 14117.98, 1176.78, 1842.01, 20860.24, 2818.42, 620.6, 320.93, 789.98, 294.93, 2868.84, 2536.54, 650.0, 4883.19, 262.08, 239.34, 141.9, 888.62, 5288.68, 19755.04, 6097.19, 878.13, 369.64, 2759.67, 3913.97, 27150.0, 657.44, 733.33, 92.88, 434.91, 11240.0, 143.9, 945.73, 1213.5, 2204.48, 3829.66, 461.08, 2793.0, 33114.9, 3914.21, 971.71, 8374.36, 837.68, 330.33, 1001.14, 12999.83, 652.12, 19779.75, 611.69, 4535.0, 738.04, 598.1, 3374.72, 1233.04, 308.02, 65.77, 2500.69, 3775.26, 734.11, 19833.17, 82.33, 5105.47, 5683.66, 277.14, 784.22, 118.38, 2343.35, 1660.04, 5552.39, 195.82, 6426.03, 327.61, 10965.29, 5947.6, 382.92, 1967.86, 214.59, 11793.82, 1109.36, 1002.65, 3233.17, 406.97, 3464.91, 556.43, 561.01, 17722.88, 1449.71, 4541.67, 307.08, 6180.01, 1394.83, 978.86, 19363.33, 434.89, 225.24, 341.95, 1802.21, 1346.03, 39780.0, 4158.99, 301.91, 1556.88, 866.45, 5315.63, 90.99, 1334.88, 239.79, 2849.67, 431.21, 720.98, 1512.92, 425.27, 714.56, 1807.15, 18499.83, 5260.0, 295.97, 168.48, 1657.33, 133.76, 2595.33, 2909.83, 494.01, 970.21, 20170.41, 491.01, 7045.39, 4838.68, 44257.5, 4261.67, 1141.67, 343.4, 1064.41, 317.77, 4816.67, 307.72, 1084.5, 316.71, 1253.02, 90.25, 2380.13, 314.73, 130.28, 466.06, 4502.42, 19999.83, 2429.65, 160.19, 1327.73, 311.85, 1388.17, 1849.83, 46046.67, 22143.71, 831.67, 27444.4, 56.87, 919.52, 100.36, 5318.1, 2015.09, 10166.5, 733.47, 4833.17, 396.16, 4355.8, 45741.0, 1135.38, 1333.17, 3508.17, 560.49, 4695.03, 2492.03, 49425.28, 8898.53, 702.31, 110.03, 412.43, 956.63, 697.01, 5520.1, 22916.67, 1074.33, 2331.07, 13510.93, 685.38, 21723.14, 283.6, 1165.73, 462.11, 1430.0, 133.0, 2066.5, 405.74, 116.21, 4999.67, 1698.61, 24166.5, 568.67, 2061.37, 126.34, 3019.17, 707.88, 3495.37, 4943.76, 1841.85, 542.59, 2135.99, 269.01, 5642.57, 365.93, 2369.67, 1207.32, 882.23, 517.41, 542.71, 317.95, 1131.42, 38807.53, 3740.42, 4161.22, 2353.57, 1065.89, 28928.0, 211.42, 580.81, 453.7, 1303.17, 800.82, 2501.25, 16427.29, 963.95, 2058.0, 312.11, 6191.67, 335.02, 5412.3, 5345.31, 2026.96, 26700.53, 2159.83, 3333.17, 7183.33, 894.55, 533.84, 5663.33, 916.67, 4439.37, 4623.33, 1449.87, 104.73, 749.83, 2473.49, 17947.88, 3223.5, 1291.88, 475.71, 4233.6, 18296.18, 1945.86, 212.14, 16317.26, 416.29, 91.24, 19285.25, 1979.8, 2776.5, 162.91, 1044.55, 1084.69, 801.09, 1535.18, 6226.67, 54147.75, 182.79, 1416.5, 2483.17, 449.25, 1703.31, 1904.83, 1859.09, 4202.2, 726.87, 1044.63, 12361.26, 280.88, 5800.49, 295.96, 4922.17, 34367.75, 1372.58, 1733.17, 3248.87, 2750.0, 5460.52, 474.87, 171.68, 1587.35, 1931.27, 1648.17, 839.18, 2904.96, 2558.79, 3792.7, 352.33, 568.18, 11867.75, 174.56, 4849.83, 314.58, 879.05, 14833.17, 1760.17, 21570.09, 18160.51, 316.87, 251.98, 3599.83, 667.31, 2491.34, 113.96, 189.57, 10551.64, 11666.5, 1416.67, 310.45, 3214.79, 2223.02, 523.3, 2049.83, 3548.33, 609.22, 761.34, 4881.31, 7350.0, 541.88, 37860.05, 4255.02, 7242.15, 572.88, 667.35, 21016.0, 165.41, 3041.79, 5631.12, 1742.33, 329.09, 2166.5, 70.25, 1418.97, 9393.0, 1359.13, 1938.44, 12505.0, 63.79, 197.82, 33702.36, 270.24, 845.1, 426.98, 258.93, 1933.2, 470.76, 13575.0, 4986.67, 519.22, 1922.35, 2788.75, 1359.83, 346.17, 1341.51, 4949.83, 934.34, 1559.67, 248.33, 1217.74, 1316.61, 3047.11, 4074.68, 4499.83, 617.38, 162.21, 7205.61, 2644.59, 2299.67, 910.0, 554.29, 5559.29, 1799.83, 1081.72, 26925.52, 631.97, 23333.17, 5781.5, 1379.83, 1314.9, 4893.08, 951.64, 1771.0, 16984.84, 2064.54, 4307.0, 46235.5, 11118.59, 2633.0, 494.49, 99.41, 375.0, 2132.53, 371.73, 4843.63, 140.88, 1469.83, 2276.8, 12166.5, 10383.26, 14366.21, 137.47, 1559.83, 126.87, 1260.97, 20521.5, 6856.24, 2444.22, 2585.12, 6144.16, 30164.25, 309.56, 2733.17, 6883.15, 15666.35, 3318.89, 33996.1, 2039.83, 3564.73, 2150.0, 8651.28, 663.26, 164.67, 766.5, 611.59, 149.83, 30633.17, 28633.33, 349.22, 51.18, 276.92, 946.31, 1595.26, 11447.43, 342.76, 3207.29, 2009.83, 1070.84, 6589.21, 7862.3, 8536.94, 4331.67, 487.84, 58.33, 533.79, 2025.67, 6252.95, 4073.17, 3268.8, 13850.0, 34613.33, 5375.46, 4016.67, 477.54, 4052.18, 2731.87, 7225.09, 4183.22, 557.56, 3639.52, 2474.8, 766.33, 1483.17, 2343.13, 119.25, 2254.92, 3666.5, 977.31, 105.08, 27444.5, 216.1, 1765.12, 1905.06, 518.82, 131.04, 3957.29, 5016.7, 36098.25, 1735.43, 3779.69, 342.55, 613.9, 9394.26, 408.79, 2011.5, 10310.08, 180.99, 9789.86, 3260.44, 10607.02, 1116.58, 2474.67, 711.69, 2999.83, 1305.36, 998.64, 7150.22, 117443.75, 7588.1, 30351.37, 2181.5, 2259.62, 4895.3, 939.32, 151.25, 34614.75, 6026.42, 904.93, 6302.4, 4382.01, 1866.74, 1049.83, 2616.5, 438.88, 2913.69, 6043.33, 16688.14, 4499.95, 1613.91, 4227.74, 2460.14, 6584.27, 25674.44, 1847.33, 4696.51, 8435.0, 1600.04, 6304.83, 3985.6, 708.62, 1183.34, 326.33, 10090.27, 3806.41, 517.49, 3711.22, 404.97, 20717.08, 6821.63, 12683.33, 187.42, 538.53, 462.39, 38818.0, 239.07, 3348.01, 545.93, 1424.83, 516.92, 607.8, 1042.38, 1830.0, 4835.0, 1657.37, 217.83, 2031.49, 121004.15, 759.55, 491.85, 167.26, 6583.17, 1105.44, 490.54, 591.68, 1718.13, 383.57, 117.57, 1486.47, 4449.26, 11421.71, 1299.93, 23661.83, 8039.83, 320.17, 3796.67, 577.47, 44504.75, 2706.12, 1478.56, 6600.47, 9110.67, 4999.17, 1011.38, 4215.0, 219.38, 18945.78, 5510.96, 383.33, 32884.0, 16068.53, 2174.98, 3118.93, 717.02, 2710.35, 382.28, 503.46, 4431.33, 7662.28, 2521.7, 7755.0, 5160.73, 24326.93, 8495.33, 6790.0, 466.88, 22746.75, 14289.81, 408.47, 4193.11, 3840.06, 19473.41, 1117.33, 16046.53, 3151.67, 211.33, 74.17, 29548.85, 430.81, 11373.25, 326.12, 31666.67, 901.67, 1717.79, 3612.82, 899.8, 3733.23, 4150.0, 469.77, 2012.31, 17510.24, 10449.15, 1631.31, 4473.33, 3616.77, 1241.19, 6333.0, 3488.45, 1851.06, 4166.67, 7286.21, 2174.7, 5714.66, 6416.88, 3275.78, 60304.28, 4284.09, 1468.4, 5208.17, 17282.78, 489.57, 283.17, 1902.22, 10981.86, 12332.83, 3150.83, 5207.69, 33532.05, 8209.33, 599.45, 20138.51, 1852.5, 328.61, 130.55, 16033.33, 10369.67, 2742.0, 34590.28, 21973.11, 625.3, 13533.72, 394.9, 4442.72, 1700.83, 23266.67, 63518.53, 977.87, 434.96, 4397.73, 2581.88, 1147.24, 3701.5, 3366.33, 61787.78, 20767.76, 11249.63, 6131.55, 13126.67, 939.54, 1983.33, 63.47, 156.75, 3937.67, 376.07, 2950.93, 1153.42, 586.36, 1574.83, 11331.75, 12233.33, 2299.0, 193.6, 27889.8, 3856.85, 184.67, 4216.5, 7416.26, 3324.63, 49733.33, 2515.77, 18296.25, 92.72, 306.46, 4760.61, 12334.83, 8159.0, 857.46, 739.77, 19799.53, 521.4, 3966.5, 53406.0, 207.57, 20514.04, 4354.37, 2429.7, 767.96, 777.6, 3118.84, 2674.88, 3500.07, 6658.44, 17833.17, 400.94, 5645.0, 4648.07, 1901.11, 3416.5, 2429.83, 916.06, 661.42, 4516.67, 1024.45, 390.46, 112.5, 6309.42, 352.58, 13579.83, 3069.83, 4685.07, 7637.55, 3913.17, 2095.05, 4186.0, 278.65, 56668.46, 861.71, 12752.91, 2783.33, 489.28, 52.15, 1306.5, 542.47, 20037.14, 3712.62, 2816.18, 500.19, 134.5, 2726.26, 8077.05, 2538.68, 5186.02, 1516.63, 970.46, 24700.27, 171.07, 2076.41, 3636.67, 6020.54, 6910.64, 346.18, 6100.89, 2162.94, 7837.58, 13284.07, 863.7, 3557.53, 8733.28, 4320.0, 548.1, 2970.52, 852.0, 9603.67, 489.31, 10850.0, 209.15, 2559.04, 5467.44, 4524.99, 593.33, 3660.75, 4028.33, 5042.4, 950.68, 4690.09, 305.46, 7033.33, 1956.43, 7673.33, 3913.23, 4984.56, 1987.46, 1831.67, 7517.67, 2835.98, 6618.64, 717.47, 3071.5, 362.22, 26710.42, 3938.33, 1665.97, 6466.5, 289.07, 3213.33, 215.46, 694.22, 516.48, 8606.53, 3664.83, 477.5, 8035.62, 5182.11, 1005.0, 37954.79, 3343.0, 2632.2, 305.35, 2079.7, 1228.83, 189.37, 12337.78, 58083.97, 1154.41, 2471.76, 14716.67, 1549.17, 33666.5, 1730.13, 258.1, 10502.93, 104.83, 3104.83, 3118.8, 2765.0, 155250.75, 1359.87, 402.52, 3139.83, 19595.58, 441.28, 191.87, 116395.41, 218.57, 9166.67, 1116.5, 11720.0, 5627.41, 4232.0, 3168.46, 3232.55, 2511.38, 39139.68, 705.4, 1935.23, 4536.67, 156.44, 16833.17, 27004.65, 232.41, 1633.33, 14265.0, 43268.5, 200.0, 735.05, 6549.95, 2652.99, 615.76, 1182.82, 1052.05, 235.18, 835.8, 861.9, 19557.48, 9033.33, 1216.7, 12377.57, 2295.45, 57856.25, 172.09, 9646.78, 14833.33, 949.84, 2964.48, 1062.96, 3221.83, 31895.0, 29645.27, 548.89, 16466.33, 43763.0, 411.42, 102.11, 2335.8, 2778.85, 483.33, 249.18, 93.83, 452.44, 3055.7, 1026.09, 1919.75, 3215.67, 934.11, 2753.65, 106.07, 943.94, 88515.25, 328.84, 551.86, 1629.0, 131.08, 10486.67, 1439.83, 222.67, 14833.76, 4519.83, 2246.76, 4574.15, 61780.38, 9603.19, 17133.19, 843.74, 208.56, 1659.97, 15965.0, 4199.83, 1682.07, 167.39, 57950.45, 160.76, 27645.0, 4193.99, 615.02, 17799.53, 70.22, 600.94, 99.64, 14333.33, 8652.51, 15031.56, 6693.55, 290.79, 20385.52, 11044.8, 229.94, 592.38, 12758.1, 811.7, 5266.18, 1289.83, 2445.06, 602.88, 291.73, 1171.85, 4737.31, 4049.71, 22882.99, 565.07, 2742.99, 2993.86, 10683.67, 3192.2, 4306.67, 9968.63, 4430.72, 17970.63, 6233.33, 4462.86, 7143.05, 4791.7, 2653.07, 3874.41, 2315.99, 5779.26, 2121.41, 2920.02, 4484.6, 6037.85, 1420.71, 9576.49, 1454.32, 1653.39, 10703.45, 843.22, 1693.66, 3282.17, 2642.86, 3720.94, 6861.59, 2779.46, 6386.57, 7437.53, 4970.47, 7133.16, 3728.53, 4716.98, 3304.74, 3544.51, 1550.01, 2882.69, 8586.74, 4842.22, 7689.47, 7066.5, 1822.26, 3349.01, 4670.55, 6824.1, 8730.64, 1552.73, 302.52, 1487.7, 9568.33, 439.61, 3520.19, 5632.6, 1751.41, 6823.85, 686.37, 3683.83, 1815.83, 4940.06, 7859.83, 787.93, 3850.0, 6181.99, 27838.37, 5483.33, 1216.5, 6764.54, 16121.33, 3765.72, 4587.97, 2450.25, 6032.65, 696.75, 6290.78, 4617.33, 3780.18, 5070.11, 9841.59, 6851.79, 4997.17, 861.91, 1955.33, 3086.17, 2309.07, 8387.71, 4890.39, 12877.77, 4897.74, 4886.83, 699.72, 3681.06, 6018.83, 920.66, 4580.95, 5011.76, 2232.17, 2529.86, 16296.0, 4262.59, 9761.43, 7126.86, 5848.58, 3448.89, 666.34, 4818.9, 2564.73, 2250.13, 5958.72, 589.47, 2455.72, 3488.17, 3656.83, 8500.0, 1577.45, 4179.27, 1257.76, 14441.63, 3344.06, 14266.08, 5221.7, 33626.0, 3823.57, 5167.28, 2802.48, 897.17, 13101.78, 3189.28, 6255.18, 3116.34, 721.79, 13373.51, 8796.31, 5711.23, 4361.49, 4260.14, 6158.01, 881.0, 14291.05, 2027.47, 2425.5, 8245.54, 453.46, 13750.0, 1364.59, 4895.33, 6403.53, 3050.08, 7288.68, 2133.33, 9036.99, 9464.66, 1751.29, 2138.47, 20163.24, 2919.78, 182.33, 13350.5, 4568.19, 3426.66, 1547.04, 22895.84, 3613.07, 2665.36, 9796.05, 5489.94, 5169.32, 7464.33, 9025.0, 9083.17, 7634.83, 7071.35, 13318.62, 4264.82, 2601.07, 10980.13, 6118.45, 10384.25, 3936.22, 3000.22, 897.03, 6606.47, 6785.0, 14448.33, 12832.03, 8902.0, 5125.0, 2962.06, 14785.55, 629.85, 7915.96, 5712.61, 6576.85, 8737.36, 12732.68, 5524.1, 9352.48, 5121.29, 2214.12, 4298.59, 4746.95, 5550.0, 2242.31, 2994.94, 3827.21, 2151.47, 3228.1, 11300.0, 3019.42, 4067.26, 2469.32, 21607.04, 7157.64, 7145.53, 2648.0, 4710.08, 12414.42, 14609.51, 13252.35, 4782.91, 4281.44, 8690.19, 8600.0, 9695.41, 7885.3, 3329.75, 9083.97, 1023.37, 15219.47, 17777.28, 6094.86, 2484.86, 7472.14, 3187.95, 2601.67, 15635.55, 9539.65, 6979.87, 5425.9, 32634.53, 4623.57, 2537.16, 742.65, 4366.5, 7860.08, 6096.94, 14020.42, 5117.73, 2696.26, 11853.83, 10020.3, 3624.68, 4874.71, 3848.81, 1483.75, 3748.33, 809.19, 8235.16, 1225.7, 2860.86, 11634.1, 496.48, 3483.33, 5637.07, 5345.09, 3948.34, 2937.33, 3085.68, 2906.14, 1901.35, 179.07, 5736.2, 1652.37, 624.31, 2466.07, 3402.16, 5562.88, 5958.46, 9666.5, 5034.01, 1219.19, 6960.09, 4749.83, 485.81, 212.47, 12419.37, 23547.04, 3031.0, 15021.43, 7540.88, 402.77, 8239.87, 3719.2, 11271.14, 1457.74, 2787.33, 8483.0, 9640.28, 10137.25, 13935.17, 7203.13, 1564.49, 4028.94, 4991.98, 11839.5, 8255.68, 524.91, 3213.38, 5440.24, 10073.51, 2997.66, 2163.68, 14194.72, 8265.57, 7565.6, 18825.12, 4219.82, 1151.94, 556.72, 16194.88, 3750.0, 6180.76, 2348.64, 2008.66, 8991.89, 15500.1, 469.54, 13455.1, 9051.17, 4917.8, 2908.17, 2036.6, 8561.17, 36469.38, 7545.04, 569.42, 14464.12, 8328.62, 5258.76, 6538.82, 939.42, 1100.02, 18186.0, 486.84, 1354.93, 2708.17, 2777.18, 4356.79, 3937.21, 723.95, 753.48, 2757.79, 5068.62, 8527.41, 221.12, 11021.66, 9324.0, 3102.99, 19720.66, 3665.9, 9693.68, 464.34, 19409.14, 2153.83, 13997.51, 1815.41, 6631.19, 1368.78, 5647.19, 18444.85, 3993.09, 5340.6, 11021.91, 5085.93, 2283.11, 6141.46, 12042.79, 4146.38, 7999.67, 12052.45, 2304.37, 5217.72, 9936.98, 8536.31, 4776.42, 4373.61, 16498.67, 9601.46, 7716.67, 3759.44, 4301.41, 5289.55, 14438.16, 1865.25, 635.37, 4252.7, 14214.32, 30270.84, 3212.5, 978.12, 29394.85, 3662.02, 5284.08, 8559.17, 4030.17, 8655.0, 299.42, 4314.51, 1015.95, 10631.5, 4535.33, 5083.17, 768.95, 15016.67, 2474.48, 7313.16, 28096.67, 4945.0, 6997.18, 157.25, 638.89, 17948.3, 731.12, 7553.49, 12361.53, 8833.17, 5899.83, 11150.03, 6023.33, 17132.43, 4071.96, 22498.33, 466.9, 5016.17, 1778.45, 6815.45, 17899.67, 1329.67, 10458.43, 203.8, 46153.98, 3789.11, 4252.45, 5368.22, 5957.24, 944.5, 5169.75, 8607.17, 693.53, 5417.82, 8953.07, 37087.19, 3651.39, 1061.2, 2690.57, 19903.62, 5810.13, 4598.6, 1884.02, 4499.7, 46121.13, 1609.15, 11211.06, 4147.88, 16666.58, 6682.67, 13453.86, 2242.56, 5387.58, 1573.71, 5315.38, 31024.93, 20914.88, 23461.55, 13566.67, 4312.43, 14803.6, 4027.7, 10235.16, 26559.93, 4379.29, 3111.15, 4156.03, 3923.03, 2650.27, 5383.87, 31766.68, 7710.99, 5609.61, 7784.17, 7148.49, 10789.99, 9589.36, 747.93, 8024.05, 9488.47, 15501.15, 5785.65, 3692.68, 5167.53, 205.83, 4166.16, 1503.79, 19530.28, 10555.23, 5206.46, 2343.93, 630.15, 3019.67, 6650.78, 5714.69, 6627.78, 3411.82, 256.89, 7164.11, 1478.8, 4998.41, 1137.55, 8846.61, 4527.61, 3733.93, 8306.71, 9913.68, 1785.02, 20024.78, 16565.75, 18275.0, 3889.74, 14783.28, 6345.42, 5443.7, 5357.66, 1189.11, 13529.77, 12164.7, 8333.17, 589.33, 3451.61, 4504.57, 218.92, 12038.6, 12016.35, 2403.76, 276.18, 6846.95, 4561.19, 807.77, 2041.5, 33378.75, 4077.0, 2638.98, 10799.66, 978.62, 5812.33, 11744.13, 9160.37, 165.95, 3270.87, 612.19, 937.2, 4577.59, 3700.84, 13640.78, 24191.68, 3986.8, 2460.65, 22327.66, 2946.97, 439.36, 6836.46, 568.39, 13197.2, 3762.65, 2225.5, 22336.91, 12118.46, 3076.28, 3741.5, 7813.1, 453.95, 5869.84, 5345.55, 3006.56, 12013.88, 16161.33, 3685.76, 29670.0, 238.55, 4349.29, 6383.5, 753.62, 3855.25, 1580.17, 39060.56, 10879.0, 3903.83, 5300.79, 3256.35, 5212.03, 16936.62, 5001.13, 10705.68, 2868.1, 6841.16, 2699.83, 242.05, 4472.75, 16318.25, 7167.78, 14797.91, 3734.96, 9451.41, 5107.17, 162.24, 7508.98, 4099.16, 1708.25, 20382.55, 179.11, 556.01, 4604.96, 4833.33, 1370.75, 211.15, 15004.23, 11131.19, 655.41, 3063.18, 3386.51, 5416.33, 12379.4, 693.78, 5777.67, 2673.02, 682.18, 188.9, 15062.96, 14979.15, 441.34, 13166.31, 599.22, 240.08, 6122.76, 361.73, 8572.4, 3745.84, 28359.58, 1918.14, 5049.17, 19681.1, 2823.21, 1127.12, 12937.36, 5433.32, 5936.17, 22052.23, 1853.14, 3266.33, 586.98, 20497.03, 2198.55, 253.43, 11466.71, 14549.18, 10310.33, 12009.18, 2760.0, 4356.67, 7376.34, 3437.02, 318.16, 871.5, 4807.53, 902.22, 10134.78, 18004.5, 16038.86, 3667.21, 8289.5, 7424.92, 6613.69, 9651.65, 3399.38, 181.57, 3941.91, 47719.25, 2985.51, 3322.79, 4784.04, 13845.75, 2322.42, 1154.66, 10779.85, 417.14, 1112.44, 28085.13, 429.05, 1332.57, 5419.67, 6726.19, 9432.34, 8183.97, 3444.69, 2537.41, 5812.85, 13528.78, 4194.1, 237.78, 18745.8, 32140.03, 357.14, 11825.23, 4399.81, 1020.15, 6542.86, 1028.56, 7572.53, 27097.67, 9751.33, 4214.38, 17925.62, 8383.26, 2897.52, 136.81, 1436.28, 12924.99, 1308.38, 4151.08, 107.95, 13499.85, 692.13, 14748.59, 115.09, 138.2, 8279.91, 4582.67, 12077.67, 149.07, 3835.59, 110.1, 6007.33, 7390.3, 2472.23, 3040.93, 9999.83, 5899.76, 3885.78, 3698.86, 14173.61, 4392.4, 15138.87, 3112.88, 5521.72, 81.2, 5537.67, 10477.75, 6372.62, 3783.76, 7886.78, 1972.57, 7986.18, 521.42, 10007.44, 5441.5, 23901.07, 10038.35, 3574.86, 677.16, 1204.03, 7646.88, 776.26, 7185.78, 469.71, 11345.81, 7538.65, 5426.89, 3120.3, 2838.43, 1723.09, 9073.83, 324.8, 3991.85, 335.07, 4896.83, 6749.93, 6265.56, 19669.86, 9539.4, 7583.33, 1273.93, 612.3, 4889.86, 1173.7, 1680.73, 2656.7, 2377.06, 769.96, 11851.68, 2054.28, 1483.33, 2058.11, 3381.83, 456.18, 4094.46, 1432.58, 5099.53, 9693.19, 782.79, 266.84, 11736.46, 3025.77, 1169.49, 3179.14, 2075.0, 10299.0, 352.31, 3020.17, 3766.5, 7691.95, 31079.33, 4581.3, 12714.44, 7664.26, 4020.04, 556.26, 6866.67, 271.48, 9292.35, 1893.93, 2187.67, 231.25, 2687.83, 4694.17, 589.69, 6311.3, 633.96, 1526.03, 12345.19, 328.35, 610.24, 6749.68, 354.26, 4576.35, 558.78, 1529.89, 3478.72, 7083.71, 9151.71, 16588.74, 1122.02, 7856.12, 732.94, 7237.0, 9636.17, 18294.03, 225.73, 721.72, 8924.98, 2352.53, 276.05, 6725.0, 6129.33, 36840.25, 7032.04, 1233.33, 1484.49, 1535.88, 4166.33, 511.04, 593.48, 7833.17, 11250.88, 3060.95, 4716.5, 122.88, 6333.17, 10762.79, 10046.26, 5231.81, 5042.62, 3716.66, 12792.5, 14488.85, 4966.15, 4425.53, 29150.53, 3583.89, 12630.77, 10137.0, 2250.22, 107.3, 7824.72, 18667.13, 5249.77, 6536.33, 3659.55, 3381.14, 3729.17, 614.66, 4567.94, 10829.55, 11483.53, 223.56, 16000.0, 15035.48, 14785.05, 492.86, 6026.47, 4013.11, 3457.32, 8324.41, 8527.65, 669.55, 413.21, 4582.99, 13503.84, 5745.84, 3132.41, 1834.6, 1715.67, 36664.58, 2672.03, 14516.05, 5389.8, 290.77, 2432.0, 1899.83, 19181.23, 13750.17, 19800.54, 5133.17, 3102.74, 5701.59, 12451.58, 7120.55, 12152.45, 5357.93, 5499.78, 1671.06, 3989.87, 1366.0, 11019.93, 3236.5, 1750.28, 437.05, 658.92, 11917.2, 9254.57, 1137.12, 50438.75, 2225.03, 558.57, 631.38, 10825.59, 345.13, 6395.97, 33647.62, 13867.17, 32486.4, 707.73, 3913.47, 14002.51, 7617.56, 427.99, 16382.79, 32018.63, 4013.61, 4123.8, 564.19, 275.19, 11452.13, 8968.99, 2399.83, 794.14, 2054.89, 1693.64, 60197.22, 11650.42, 2801.34, 1253.43, 8092.68, 1373.92, 2745.46, 2993.21, 21928.11, 4716.14, 1514.65, 1070.59, 14090.78, 15608.89, 14340.25, 17433.33, 4426.01, 2914.58, 1956.59, 4467.83, 1680.56, 5862.34, 19508.03, 1881.57, 15489.83, 17076.33, 15136.67, 2586.24, 21216.75, 4389.33, 5999.92, 11323.8, 5263.95, 19331.49, 458.03, 33527.1, 178.3, 6774.4, 7620.5, 2821.12, 1173.2, 7266.68, 44148.96, 1449.99, 12987.2, 10260.88, 14963.13, 5415.52, 12115.25, 16907.45, 12185.7, 1043.57, 3672.33, 1192.25, 10100.74, 123.37, 3930.53, 5566.67, 3046.37, 6326.88, 5637.05, 425.0, 9593.05, 15959.99, 10142.94, 14612.48, 1108.52, 4088.03, 1461.59, 14461.65, 16316.03, 5070.85, 14207.97, 7071.1, 9714.45, 20232.48, 7467.67, 19063.96, 4074.43, 13316.5, 3673.64, 10998.33, 8483.39, 35356.5, 5142.55, 21510.5, 386.7, 3910.01, 2498.33, 9360.0, 6355.62, 5711.47, 11347.83, 412.66, 6808.03, 10780.1, 18909.91, 741.56, 1253.56, 4176.05, 15920.43, 10729.83, 373.94, 190.11, 14237.35, 7466.95, 1252.02, 4510.89, 20659.96, 7833.33, 21040.98, 9340.86, 1962.92, 6477.95, 17666.33, 11251.11, 19749.09, 5893.73, 1609.5, 8850.0, 2466.33, 4494.67, 7369.58, 3713.45, 23444.24, 15824.0, 12498.33, 17579.01, 4533.12, 2776.12, 39559.75, 2669.41, 1987.77, 31670.01, 6920.53, 15650.43, 1085.59, 17583.33, 21333.33, 23937.17, 3848.5, 1741.13, 18972.48, 28859.49, 266.36, 250.51, 16263.28, 20815.98, 2855.74, 5098.79, 4795.41, 3938.17, 1445.61, 2243.18, 4294.72, 31331.67, 148.39, 14045.94, 719.85, 2023.67, 8992.12, 2207.97, 6807.64, 4739.56, 9716.93, 9536.19, 34633.54, 4057.37, 8559.83, 8140.21, 37334.75, 9238.24, 42468.9, 3976.06, 8826.58, 5536.42, 5683.17, 33897.63, 22519.53, 10333.25, 11865.53, 4590.5, 28062.63, 6656.49, 637.5, 23589.11, 52862.05, 501.94, 25106.36, 22670.35, 2050.36, 150.73, 3582.62, 534.06, 6007.93, 21115.15, 1359.41, 3447.93, 12765.42, 489.63, 10803.59, 1892.02, 2904.94, 8451.0, 101.13, 8105.35, 5416.06, 367.61, 446.15, 18666.67, 5908.92, 34717.11, 784.77, 18554.32, 5841.04, 652.24, 30435.73, 7145.28, 10011.15, 9525.31, 775.12, 315.05, 13202.9, 24547.47, 11043.47, 17035.53, 2560.27, 2311.92, 10854.03, 8178.29, 3481.28, 17187.83, 652.48, 7334.67, 9927.09, 258.26, 5194.72, 477.69, 3808.11, 2670.05, 126.85, 33640.83, 670.36, 7442.22, 650.58, 22289.67, 2261.1, 914.49, 8733.33, 47867.6, 3334.17, 11669.95, 6527.15, 29313.96, 1541.67, 1291.39, 4521.71, 6829.18, 9692.2, 15032.8, 6895.8, 7510.0, 13178.43, 5287.69, 241.81, 13333.17, 462.69, 72.76, 41292.94, 7197.0, 572.75, 335.77, 28820.45, 838.55, 599.43, 5936.51, 10735.59, 14784.0, 1018.67, 8295.24, 5032.08, 2249.1, 749.69, 4333.17, 10950.68, 3240.3, 12003.93, 1135.04, 6012.13, 646.51, 3493.76, 3570.29, 1261.35, 606.4, 3026.83, 6648.55, 661.44, 2435.17, 130.67, 6028.23, 1584.62, 190.82, 407.71, 3288.18, 137.16, 8007.19, 23117.88, 18049.25, 6957.0, 280.08, 6252.71, 5535.93, 81.42, 10071.23, 1542.79, 5884.3, 1472.37, 18951.71, 319.58, 15611.8, 4086.07, 10526.92, 8084.83, 1019.91, 1196.44, 5587.85, 4267.04, 208.77, 12709.14, 2665.07, 17950.35, 243.76, 11692.21, 1350.0, 2318.22, 25017.67, 2429.53, 5262.04, 2857.1, 5504.32, 4152.0, 4868.8, 1363.83, 7963.43, 9140.73, 3280.76, 7423.33, 203.1, 2019.79, 220.79, 4526.41, 7357.67, 936.17, 19700.0, 385.12, 10072.37, 835.22, 3839.3, 8975.18, 11289.56, 467.7, 3033.76, 20766.5, 1358.89, 1286.93, 7340.85, 8858.47, 6351.85, 16926.71, 7157.15, 404.99, 961.05, 9809.4, 8706.66, 6261.85, 5906.56, 648.69, 7130.2, 573.41, 12536.07, 4801.6, 6802.34, 2446.79, 2122.39, 7171.73, 10992.74, 33845.56, 12591.7, 3623.0, 3759.7, 7835.33, 740.39, 19135.81, 9355.69, 162.93, 1382.62, 12398.0, 3560.18, 3115.13, 690.2, 4872.32, 1623.49, 401.53, 1329.71, 5831.39, 4746.71, 354.22, 11027.1, 191.47, 1643.93, 7923.13, 255.64, 1554.96, 6216.36, 611.05, 6893.77, 5872.19, 119.94, 2018.05, 6771.57, 7606.65, 9383.14, 7244.18, 17373.27, 187.66, 320.76, 8676.0, 16957.5, 282.37, 3047.87, 481.05, 1397.7, 5513.68, 7704.96, 10710.13, 1440.97, 3615.29, 10839.19, 793.29, 1526.52, 10879.99, 104.71, 4804.81, 17552.28, 2378.44, 1399.83, 18647.6, 386.47, 17505.3, 7640.03, 686.86, 5197.5, 5658.25, 8770.45, 9518.93, 11521.6, 3582.19, 10795.67, 2326.62, 2499.7, 2501.68, 5930.79, 8763.78, 413.52, 12640.33, 851.28, 6576.6, 157.96, 763.51, 3770.67, 13462.76, 1656.08, 2372.61, 9213.47, 708.12, 295.46, 4566.46, 4898.02, 216.33, 7436.67, 8611.22, 1238.68, 502.8, 5093.1, 1968.11, 50476.38, 741.29, 6143.92, 4278.91, 14394.89, 23750.0, 354.06, 6478.0, 316.97, 15336.03, 9067.86, 5572.79, 7021.65, 21139.88, 13806.93, 1861.79, 5109.12, 3755.33, 17759.72, 3593.33, 224.4, 5584.0, 2405.0, 758.03, 5566.83, 3177.16, 4983.32, 17283.17, 4779.34, 11123.53, 829.76, 352.08, 1572.26, 8313.78, 1574.0, 7398.96, 884.91, 12609.75, 7133.33, 2191.67, 8929.26, 2096.89, 1230.98, 2597.0, 1611.82, 14781.59, 2176.54, 220.19, 27214.56, 1600.64, 1188.53, 20249.94, 3384.63, 1817.49, 1720.55, 6967.01, 2988.07, 8693.11, 882.58, 961.33, 973.55, 6069.99, 4664.1, 259.44, 8368.18, 1026.5, 1573.51, 743.09, 1927.91, 11241.23, 1004.03, 8805.7, 5915.33, 1468.42, 8760.58, 7137.61, 922.17, 510.08, 112.9, 699.09, 2244.78, 419.13, 725.43, 16093.0, 1035.26, 2400.6, 10360.15, 3254.0, 5009.4, 16214.06, 4142.0, 6247.03, 1483.99, 854.94, 1419.71, 10057.14, 2995.19, 3535.43, 5226.33, 11924.37, 408.17, 5241.67, 1220.92, 16002.02, 1603.53, 268.76, 1873.22, 486.71, 21263.5, 4815.51, 1036.32, 223.3, 6225.18, 1609.6, 2069.48, 1799.17, 11031.55, 3085.43, 14499.36, 367.1, 396.84, 253.93, 450.09, 16501.0, 2950.43, 3172.67, 19283.03, 11370.78, 327.26, 4687.86, 5384.86, 13796.3, 143.89, 287.77, 976.94, 7222.17, 1549.27, 5435.17, 8811.99, 677.47, 2234.4, 7013.5, 514.9, 1593.1, 28884.04, 11583.33, 15039.97, 392.63, 20055.18, 5233.33, 19961.73, 799.71, 15098.07, 2882.66, 1198.74, 432.59, 12812.25, 6710.12, 534.63, 1893.69, 219.43, 3428.17, 16750.96, 8969.02, 1070.45, 5870.7, 8166.67, 7119.81, 390.0, 21881.38, 1616.77, 7348.52, 4685.96, 406.26, 7934.67, 5411.56, 8406.5, 8626.8, 2198.08, 1966.5, 14562.79, 11144.17, 5250.85, 1911.0, 608.36, 12854.53, 3436.53, 2215.53, 12434.33, 969.22, 1259.74, 6924.67, 2134.51, 143.16, 9865.03, 1968.98, 7836.33, 165.67, 7228.11, 8455.95, 217.09, 277.41, 15502.57, 4688.38, 28226.67, 139.48, 371.06, 6554.35, 13744.63, 6726.2, 1204.68, 11074.57, 65.52, 3093.34, 10049.23, 8229.22, 4393.16, 6015.35, 8880.33, 16665.0, 11967.54, 2005.2, 6586.38, 1411.06, 6164.44, 11746.17, 13336.17, 10591.45, 20648.3, 1802.92, 3609.85, 137.91, 23302.82, 639.88, 29999.44, 998.27, 18049.0, 2570.67, 990.5, 21988.83, 164.64, 12411.95, 1118.56, 22224.81, 169.93, 2952.91, 16853.93, 4592.39, 334.93, 8299.94, 5582.9, 837.38, 3872.43, 676.23, 9501.08, 219.0, 3688.72, 1389.5, 6129.08, 343.93, 3420.46, 2306.84, 849.44, 5414.53, 18148.15, 15203.4, 880.38, 477.68, 6601.33, 486.09, 7162.83, 299.83, 935.3, 8629.02, 3592.7, 38802.92, 469.03, 15082.0, 12969.75, 3127.71, 1427.13, 13417.02, 10384.01, 2892.58, 1875.44, 1170.3, 15445.98, 178.51, 8134.28, 161.84, 1317.74, 2091.74, 2336.29, 12608.17, 1359.86, 152.21, 2629.02, 525.82, 2311.54, 11595.78, 769.69, 14944.48, 812.36, 36055.23, 15104.26, 5600.17, 3306.97, 10876.53, 2682.66, 507.11, 1754.98, 3735.18, 17208.35, 16791.5, 1565.71, 1699.6, 1789.46, 33356.5, 6205.97, 8554.6, 3399.17, 987.52, 2769.17, 11400.45, 174.81, 492.44, 358.02, 5307.08, 21698.8, 4275.45, 321.78, 18596.67, 10671.11, 26208.25, 511.0, 4475.47, 3225.97, 3574.99, 1431.73, 9199.18, 9162.06, 4111.77, 5366.23, 13679.57, 8390.92, 94.41, 13885.44, 1520.83, 22035.53, 10848.84, 1288.75, 3733.48, 407.08, 1851.16, 23839.85, 3011.01, 11663.03, 318.23, 2654.83, 4161.97, 7679.36, 8482.91, 22994.46, 710.95, 13670.21, 350.03, 3869.46, 888.73, 7993.18, 5733.73, 4545.2, 2028.93, 4419.91, 12792.64, 8693.31, 45183.33, 6118.2, 23735.75, 5072.58, 4337.23, 16081.9, 21806.46, 607.34, 2653.65, 3419.69, 471.96, 7175.94, 2219.87, 5044.6, 998.15, 5317.61, 7095.83, 620.99, 18950.63, 360.49, 4998.0, 5256.9, 7874.91, 715.71, 3666.67, 87.85, 4880.64, 2300.41, 17134.18, 256.08, 1890.47, 14459.67, 175.79, 1997.53, 264.83, 1123.64, 2423.24, 13079.53, 740.76, 3800.23, 27593.48, 112.78, 17753.04, 12312.8, 1974.44, 12112.78, 14142.45, 345.05, 11627.92, 735.84, 9504.54, 799.32, 16829.58, 534.55, 9715.94, 19222.2, 522.85, 17481.67, 10784.8, 519.05, 6389.43, 9543.85, 662.75, 9763.9, 12238.88, 27886.09, 162.4, 12965.56, 732.85, 12461.15, 257.7, 7886.65, 1773.28, 7442.62, 4235.39, 4977.14, 3645.95, 26950.0, 20092.5, 15333.96, 370.97, 5299.83, 3640.33, 5873.42, 4101.49, 7168.52, 7809.3, 19965.19, 2409.18, 4726.43, 5884.42, 3586.52, 4428.25, 3893.94, 5136.37, 526.4, 200.1, 4549.17, 7456.33, 10816.94, 1343.83, 947.73, 6671.57, 613.17, 16534.53, 12578.23, 18766.28, 4753.88, 4718.5, 255.46, 14093.0, 124.32, 124.12, 762.27, 19777.53, 4634.96, 858.67, 6883.96, 986.77, 7445.19, 16887.17, 58323.31, 22257.2, 11310.2, 1941.41, 15821.53, 2792.69, 178.58, 11324.05, 2729.83, 21386.88, 400.18, 351.1, 24388.54, 2852.52, 1403.14, 19561.43, 604.39, 6698.0, 8181.01, 175.05, 744.47, 1231.34, 1906.79, 3897.9, 4891.1, 22014.15, 853.26, 11153.15, 1150.06, 822.85, 7681.67, 1145.5, 19586.9, 484.3, 3350.43, 596.56, 199.18, 11517.89, 10844.14, 2446.54, 10198.57, 17057.78, 387.08, 14216.88, 30526.72, 639.14, 93.82, 21744.25, 209.11, 6302.72, 326.04, 10245.0, 5380.16, 280.38, 12332.58, 307.21, 6767.23, 637.41, 252.96, 14834.51, 536.54, 816.84, 155.27, 6989.76, 4667.33, 1473.61, 22843.43, 601.29, 10068.61, 25155.0, 8479.18, 603.78, 13196.67, 3208.32, 52220.0, 383.73, 7917.97, 886.39, 17727.83, 30816.67, 187.69, 32513.13, 357.27, 6536.05, 629.11, 5605.65, 3787.38, 19307.51, 2137.69, 1926.32, 1483.9, 12236.6, 18914.62, 490.91, 4156.27, 2524.42, 4624.32, 2392.89, 24475.28, 132.05, 1629.09, 8307.35, 1458.52, 5612.33, 17331.98, 10482.16, 3329.22, 14914.86, 91.4, 12333.33, 3368.04, 267.52, 14748.46, 229.23, 900.73, 100.94, 3789.6, 8323.67, 1749.04, 2395.61, 513.04, 5742.33, 14557.83, 393.62, 5420.96, 7934.25, 3182.31, 27320.88, 11857.86, 2256.16, 416.76, 285.14, 1077.98, 8533.0, 338.24, 12433.46, 728.27, 30608.36, 2641.67, 854.38, 8145.67, 1375.95, 10583.17, 287.8, 424.78, 841.89, 3575.24, 635.66, 3833.33, 1722.09, 2344.17, 143.76, 10289.17, 198.7, 11866.27, 11628.33, 422.98, 2183.33, 942.19, 6677.73, 5875.82, 2932.14, 829.77, 2015.58, 369.92, 3433.83, 382.74, 10824.61, 786.65, 76.59, 721.27, 21679.09, 12665.0, 33724.9, 808.59, 36812.56, 13816.5, 13573.78, 1819.76, 611.38, 15301.81, 793.92, 128.36, 7382.51, 497.22, 9308.17, 311.31, 4373.02, 398.29, 160.34, 8066.67, 2110.37, 39312.75, 1671.78, 938.98, 272.31, 3264.67, 7417.33, 15106.85, 1005.62, 9296.35, 1981.43, 11028.83, 320.87, 6799.13, 13937.48, 598.79, 33354.03, 170.71, 3723.59, 110250.0, 910.07, 570.9, 18579.6, 4890.36, 21450.67, 10838.95, 541.5, 16579.0, 20891.38, 5699.26, 612.96, 1462.03, 1179.14, 3826.19, 12184.48, 390.27, 10114.75, 3097.8, 12807.3, 492.27, 2923.73, 1047.1, 24507.42, 5392.53, 67111.56, 404.56, 3497.1, 3186.81, 4198.33, 679.22, 540.76, 1360.67, 1958.96, 328.16, 9530.13, 385.46, 27878.75, 6335.04, 848.81, 188.38, 1872.67, 1319.41, 5283.33, 321.2, 284.05, 11496.88, 1144.18, 838.08, 3292.15, 14681.17, 499.65, 1600.69, 4594.69, 22870.38, 5418.34, 397.83, 3412.99, 6045.26, 312.12, 4342.44, 22250.03, 336.61, 12160.71, 970.2, 511.07, 4060.5, 6135.67, 7869.97, 254.58]\n"
     ]
    }
   ],
   "source": [
    "print(out_df.variation_filters.unique().tolist())"
   ]
  },
  {
   "cell_type": "code",
   "execution_count": 271,
   "metadata": {},
   "outputs": [],
   "source": [
    "#Creamos dummies para las variables categoricas que usaremos\n",
    "\n",
    "out_df = pd.get_dummies(out_df, columns=['domain_id', 'listing_type_id', 'shipping__logistic_type', 'shipping__mode', 'shipping__tags', 'variation_filters'])"
   ]
  },
  {
   "cell_type": "code",
   "execution_count": 272,
   "metadata": {},
   "outputs": [
    {
     "data": {
      "text/plain": [
       "(19987, 935)"
      ]
     },
     "execution_count": 272,
     "metadata": {},
     "output_type": "execute_result"
    }
   ],
   "source": [
    "#Eliminamos valores faltantes\n",
    "\n",
    "out_df.dropna(inplace=True)\n",
    "out_df.shape"
   ]
  },
  {
   "attachments": {},
   "cell_type": "markdown",
   "metadata": {},
   "source": [
    "## Premodel"
   ]
  },
  {
   "cell_type": "code",
   "execution_count": 273,
   "metadata": {},
   "outputs": [
    {
     "data": {
      "text/plain": [
       "(13391, 927)"
      ]
     },
     "metadata": {},
     "output_type": "display_data"
    },
    {
     "data": {
      "text/plain": [
       "(6596, 927)"
      ]
     },
     "metadata": {},
     "output_type": "display_data"
    },
    {
     "data": {
      "text/plain": [
       "(13391,)"
      ]
     },
     "metadata": {},
     "output_type": "display_data"
    },
    {
     "data": {
      "text/plain": [
       "(6596,)"
      ]
     },
     "metadata": {},
     "output_type": "display_data"
    }
   ],
   "source": [
    "# Separamos las variables independientes de la target\n",
    "X=out_df.drop(columns=['Categoria']) #, 'id', 'title', 'thumbnail_id', 'permalink', 'order_backend', 'tags', 'category_id', 'df_index'\n",
    "y=out_df['Categoria']\n",
    "\n",
    "# Dividimos los datos en el set de train y el de test: \n",
    "X_train, X_test, y_train, y_test = train_test_split(X, y, test_size=0.33, random_state=42)\n",
    "display(X_train.shape, X_test.shape, y_train.shape, y_test.shape)"
   ]
  },
  {
   "cell_type": "code",
   "execution_count": 274,
   "metadata": {},
   "outputs": [
    {
     "data": {
      "text/plain": [
       "array(['index', 'price', 'sold_quantity', 'available_quantity',\n",
       "       'shipping__store_pick_up', 'shipping__free_shipping',\n",
       "       'installments__quantity', 'installments__amount',\n",
       "       'installments__rate', 'days_remaining', 'years_active',\n",
       "       'domain_id_MLA-ABRASIVE_SAWS',\n",
       "       'domain_id_MLA-ACTION_CAMERA_ACCESSORIES_KITS',\n",
       "       'domain_id_MLA-ACTION_CAMERA_ANTI_FOG_INSERTS',\n",
       "       'domain_id_MLA-ACTION_CAMERA_MOUNTS',\n",
       "       'domain_id_MLA-ACTION_FIGURES', 'domain_id_MLA-ADULT_DIAPERS',\n",
       "       'domain_id_MLA-AFTERSHAVES', 'domain_id_MLA-AFTER_SUNS',\n",
       "       'domain_id_MLA-AIRBRUSHES', 'domain_id_MLA-AIR_COMPRESSORS',\n",
       "       'domain_id_MLA-AIR_COMPRESSOR_HOSES',\n",
       "       'domain_id_MLA-AIR_POWER_BALLS', 'domain_id_MLA-ALARM_CLOCKS',\n",
       "       'domain_id_MLA-AMBIENT_THERMOMETERS',\n",
       "       'domain_id_MLA-ANALOG_CAMERAS', 'domain_id_MLA-ANALOG_RAIN_GAUGES',\n",
       "       'domain_id_MLA-ANEMOMETERS',\n",
       "       'domain_id_MLA-ANIMAL_AND_BALL_HOPPERS',\n",
       "       'domain_id_MLA-ANTIBACTERIAL_ALCOHOLS',\n",
       "       'domain_id_MLA-AUDIO_AND_VIDEO_CABLES_AND_ADAPTERS',\n",
       "       'domain_id_MLA-AUTOMODELISM_VEHICLES', 'domain_id_MLA-AXES',\n",
       "       'domain_id_MLA-BABY_ACTIVITY_CENTERS',\n",
       "       'domain_id_MLA-BABY_ACTIVITY_TABLES',\n",
       "       'domain_id_MLA-BABY_BOUNCERS', 'domain_id_MLA-BABY_GYMS',\n",
       "       'domain_id_MLA-BABY_PHOTOGRAPHIC_POSITIONERS',\n",
       "       'domain_id_MLA-BABY_SORTING_AND_STACKING_TOYS',\n",
       "       'domain_id_MLA-BABY_SUPPLIES', 'domain_id_MLA-BACK_SCRATCHERS',\n",
       "       'domain_id_MLA-BALANCE_BICYCLES', 'domain_id_MLA-BALL_PIT_BALLS',\n",
       "       'domain_id_MLA-BAR_CLAMPS', 'domain_id_MLA-BAR_SOAPS',\n",
       "       'domain_id_MLA-BATH_TOYS', 'domain_id_MLA-BEACH_BALLS',\n",
       "       'domain_id_MLA-BEACH_PADDLES', 'domain_id_MLA-BEACH_TEJOS',\n",
       "       'domain_id_MLA-BEACH_TOYS_SETS', 'domain_id_MLA-BEARD_KITS',\n",
       "       'domain_id_MLA-BEARD_OILS_AND_BALMS',\n",
       "       'domain_id_MLA-BEARING_PULLERS',\n",
       "       'domain_id_MLA-BEAUTY_AND_PERSONAL_CARE_SUPPLIES',\n",
       "       'domain_id_MLA-BENCH_POLISHERS', 'domain_id_MLA-BICYCLES',\n",
       "       'domain_id_MLA-BILLIARD_BALLS',\n",
       "       'domain_id_MLA-BILLIARD_CUE_FERRULES',\n",
       "       'domain_id_MLA-BILLIARD_TABLE_CLOTHS', 'domain_id_MLA-BINOCULARS',\n",
       "       'domain_id_MLA-BLACKHEAD_MANUAL_REMOVERS', 'domain_id_MLA-BLUSHES',\n",
       "       'domain_id_MLA-BOARD_GAMES', 'domain_id_MLA-BODY_SHAPERS',\n",
       "       'domain_id_MLA-BODY_SKIN_CARE_PRODUCTS',\n",
       "       'domain_id_MLA-BRACELETS_AND_ANKLE_BRACES',\n",
       "       'domain_id_MLA-BROOCHES', 'domain_id_MLA-BRUSH_CUTTER_FUEL_TANKS',\n",
       "       'domain_id_MLA-BUBBLE_LEVELS', 'domain_id_MLA-CALIPERS',\n",
       "       'domain_id_MLA-CAMERA_AND_CELLPHONE_STABILIZERS',\n",
       "       'domain_id_MLA-CAMERA_AND_VIDEO_CAMERA_BAGS_AND_CASES',\n",
       "       'domain_id_MLA-CAMERA_BACKPACKS', 'domain_id_MLA-CAMERA_BATTERIES',\n",
       "       'domain_id_MLA-CAMERA_BATTERY_GRIPS', 'domain_id_MLA-CAMERA_CASES',\n",
       "       'domain_id_MLA-CAMERA_CHARGERS',\n",
       "       'domain_id_MLA-CAMERA_CLEANING_KITS',\n",
       "       'domain_id_MLA-CAMERA_FIELD_MONITORS',\n",
       "       'domain_id_MLA-CAMERA_FLASHES', 'domain_id_MLA-CAMERA_LENSES',\n",
       "       'domain_id_MLA-CAMERA_MONOPODS',\n",
       "       'domain_id_MLA-CAMERA_PHOTOMETERS',\n",
       "       'domain_id_MLA-CAMERA_REMOTE_CONTROLS',\n",
       "       'domain_id_MLA-CAMERA_SCREEN_PROTECTORS',\n",
       "       'domain_id_MLA-CAMERA_SHOE_MOUNT_ADAPTERS',\n",
       "       'domain_id_MLA-CAMERA_SLIDERS', 'domain_id_MLA-CAMERA_STRAPS',\n",
       "       'domain_id_MLA-CAMERA_TRIPODS', 'domain_id_MLA-CARD_ALBUMS',\n",
       "       'domain_id_MLA-CAR_RACE_TRACKS_AND_BLAST_LAUNCHERS',\n",
       "       'domain_id_MLA-CAULK_GUNS', 'domain_id_MLA-CHAINSAW_CHAINS',\n",
       "       'domain_id_MLA-CHALKBOARDS_AND_WHITEBOARDS',\n",
       "       'domain_id_MLA-CHARMS_AND_MEDALS', 'domain_id_MLA-CHESS_CLOCKS',\n",
       "       'domain_id_MLA-CHINESE_MEDICAL_CUPS_SETS', 'domain_id_MLA-CHISELS',\n",
       "       'domain_id_MLA-CLAMP_METERS', 'domain_id_MLA-CLAPPERBOARDS',\n",
       "       'domain_id_MLA-CLOCKS_ACCESSORIES_AND_SPARE_PARTS',\n",
       "       'domain_id_MLA-COLLECTIBLE_ALBUM_STICKERS',\n",
       "       'domain_id_MLA-COLLECTION_DISPLAYS',\n",
       "       'domain_id_MLA-COLOSTOMY_BAGS', 'domain_id_MLA-COMBINED_TOOL_SETS',\n",
       "       'domain_id_MLA-COMBUSTION_BRUSH_CUTTERS_AND_STRING_TRIMMERS',\n",
       "       'domain_id_MLA-COMBUSTION_CHAINSAWS',\n",
       "       'domain_id_MLA-COMBUSTION_WATER_PUMPS',\n",
       "       'domain_id_MLA-COMPRESSOR_ACCESSORIES_KITS',\n",
       "       'domain_id_MLA-CONCEALERS', 'domain_id_MLA-CONDOMS',\n",
       "       'domain_id_MLA-CONDUCTIVE_GELS',\n",
       "       'domain_id_MLA-CONDUCTIVITY_METERS',\n",
       "       'domain_id_MLA-CONSTRUCTION_FINISHING_TROWELS',\n",
       "       'domain_id_MLA-CONTINUOUS_LIGHTING',\n",
       "       'domain_id_MLA-CRIMPING_PLIERS', 'domain_id_MLA-CROWBARS',\n",
       "       'domain_id_MLA-CURLING_IRONS', 'domain_id_MLA-CUTICLE_REMOVERS',\n",
       "       'domain_id_MLA-CUTTING_AND_GRINDING_DISCS_AND_STONES',\n",
       "       'domain_id_MLA-CUTTING_PLIERS', 'domain_id_MLA-DANCE_MATS',\n",
       "       'domain_id_MLA-DARTS', 'domain_id_MLA-DATA_CABLES_AND_ADAPTERS',\n",
       "       'domain_id_MLA-DENTAL_FLOSSES', 'domain_id_MLA-DEODORANTS',\n",
       "       'domain_id_MLA-DEPILATORY_CREAMS',\n",
       "       'domain_id_MLA-DEPILATORY_WAXES', 'domain_id_MLA-DIAL_INDICATORS',\n",
       "       'domain_id_MLA-DICE', 'domain_id_MLA-DIECAST_VEHICLES',\n",
       "       'domain_id_MLA-DIE_STOCKS', 'domain_id_MLA-DIGITAL_CAMERAS',\n",
       "       'domain_id_MLA-DIGITAL_PICTURE_FRAMES',\n",
       "       'domain_id_MLA-DIGITAL_TEMPERATURE_CONTROLLERS',\n",
       "       'domain_id_MLA-DIGITAL_WEATHER_STATIONS',\n",
       "       'domain_id_MLA-DISPOSABLE_AND_REFILLABLE_RAZORS',\n",
       "       'domain_id_MLA-DOLLHOUSES',\n",
       "       'domain_id_MLA-DOLLHOUSE_FURNITURE_AND_APPLIANCES',\n",
       "       'domain_id_MLA-DOLLS', 'domain_id_MLA-DOLL_AND_ACTION_FIGURE_SETS',\n",
       "       'domain_id_MLA-DOLL_CLOTHES', 'domain_id_MLA-DOLL_CRIBS',\n",
       "       'domain_id_MLA-DOLL_PLAYSETS', 'domain_id_MLA-DOLL_STROLLERS',\n",
       "       'domain_id_MLA-DOLL_VEHICLES', 'domain_id_MLA-DRAGGING_TOYS',\n",
       "       'domain_id_MLA-DRILL_ADAPTERS', 'domain_id_MLA-DRILL_BITS',\n",
       "       'domain_id_MLA-DRILL_CHUCKS', 'domain_id_MLA-DRILL_MIXERS',\n",
       "       'domain_id_MLA-DRONES', 'domain_id_MLA-DRONES_FLEX_CABLES',\n",
       "       'domain_id_MLA-DRONE_ANTENNAS',\n",
       "       'domain_id_MLA-DRONE_BACKPACKS_AND_CASES',\n",
       "       'domain_id_MLA-DRONE_BATTERIES',\n",
       "       'domain_id_MLA-DRONE_BATTERY_CHARGERS',\n",
       "       'domain_id_MLA-DRONE_BODY_SHELLS',\n",
       "       'domain_id_MLA-DRONE_LANDING_GEARS', 'domain_id_MLA-DRONE_MODULES',\n",
       "       'domain_id_MLA-DRONE_PROPELLERS',\n",
       "       'domain_id_MLA-DRONE_PROPELLER_GUARDS',\n",
       "       'domain_id_MLA-DRONE_REPLACEMENT_CAMERAS',\n",
       "       'domain_id_MLA-EARRINGS', 'domain_id_MLA-EAR_COTTON_SWABS',\n",
       "       'domain_id_MLA-EAR_WAX_REMOVERS', 'domain_id_MLA-ELECTRIC_BLOWERS',\n",
       "       'domain_id_MLA-ELECTRIC_BRUSH_CUTTERS_AND_STRING_TRIMMERS',\n",
       "       'domain_id_MLA-ELECTRIC_CHAINSAWS',\n",
       "       'domain_id_MLA-ELECTRIC_CIRCULAR_SAWS',\n",
       "       'domain_id_MLA-ELECTRIC_DEMOLITION_HAMMERS',\n",
       "       'domain_id_MLA-ELECTRIC_DRILLS',\n",
       "       'domain_id_MLA-ELECTRIC_DRILL_AND_SCREWDRIVER_BITS',\n",
       "       'domain_id_MLA-ELECTRIC_FACIAL_BRUSHES_AND_SPONGES',\n",
       "       'domain_id_MLA-ELECTRIC_HAIR_BRUSHES',\n",
       "       'domain_id_MLA-ELECTRIC_HAND_PLANERS',\n",
       "       'domain_id_MLA-ELECTRIC_LAWN_MOWERS',\n",
       "       'domain_id_MLA-ELECTRIC_PAINT_SPRAYERS',\n",
       "       'domain_id_MLA-ELECTRIC_PRESSURE_WASHERS',\n",
       "       'domain_id_MLA-ELECTRIC_SCOOTERS',\n",
       "       'domain_id_MLA-ELECTRIC_SCREWDRIVERS_AND_IMPACT_WRENCHES',\n",
       "       'domain_id_MLA-ELECTRIC_STAPLERS_AND_BRAD_NAILERS',\n",
       "       'domain_id_MLA-ELECTRIC_TOOL_SETS',\n",
       "       'domain_id_MLA-ELECTRIC_TOOTHBRUSHES',\n",
       "       'domain_id_MLA-ELECTRODE_HOLDERS', 'domain_id_MLA-ELECTRODE_PADS',\n",
       "       'domain_id_MLA-ELECTRONIC_ACCESSORIES_AND_SPARE_PARTS',\n",
       "       'domain_id_MLA-ELECTRONIC_MUSCLE_STIMULATORS',\n",
       "       'domain_id_MLA-ELECTRONIC_PRODUCTS',\n",
       "       'domain_id_MLA-EPILATORS_AND_TRIMMERS',\n",
       "       'domain_id_MLA-ESTHETIC_ELECTRIC_DEVICES',\n",
       "       'domain_id_MLA-EXFOLIATING_GLOVES', 'domain_id_MLA-EYEBROW_LINERS',\n",
       "       'domain_id_MLA-EYEBROW_TRIMMERS', 'domain_id_MLA-EYELASH_CURLERS',\n",
       "       'domain_id_MLA-EYELASH_EXTENSIONS', 'domain_id_MLA-EYELASH_GLUES',\n",
       "       'domain_id_MLA-EYELASH_TREATMENTS', 'domain_id_MLA-EYELINERS',\n",
       "       'domain_id_MLA-EYESHADOWS', 'domain_id_MLA-FACE_MASKS',\n",
       "       'domain_id_MLA-FACIAL_SKIN_CARE_PRODUCTS',\n",
       "       'domain_id_MLA-FACIAL_TISSUES', 'domain_id_MLA-FALSE_EYELASHES',\n",
       "       'domain_id_MLA-FEMALE_URINATION_DEVICES',\n",
       "       'domain_id_MLA-FIDGET_SPINNERS',\n",
       "       'domain_id_MLA-FINGER_SKATEBOARDS', 'domain_id_MLA-FLASH_FILTERS',\n",
       "       'domain_id_MLA-FLASH_TRIGGERS', 'domain_id_MLA-FLOOR_MAKER_MOLDS',\n",
       "       'domain_id_MLA-FOOSBALL_TABLES', 'domain_id_MLA-FOUNDATIONS',\n",
       "       'domain_id_MLA-GAME_CONSOLES_VIDEO_GAMES_AND_ARCADE_MACHINES',\n",
       "       'domain_id_MLA-GARDENING_AND_CONSTRUCTION_SHOVELS',\n",
       "       'domain_id_MLA-GARDEN_COMBUSTION_AUGERS',\n",
       "       'domain_id_MLA-GARDEN_MACHINE_CARBURETORS',\n",
       "       'domain_id_MLA-GARDEN_MACHINE_MOTORS',\n",
       "       'domain_id_MLA-GARDEN_MACHINE_RECOIL_STARTERS',\n",
       "       'domain_id_MLA-GARDEN_MACHINE_REPLACEMENT_PARTS_KITS',\n",
       "       'domain_id_MLA-GARDEN_MACHINE_TRIMMER_LINES',\n",
       "       'domain_id_MLA-GARDEN_RAKES', 'domain_id_MLA-GARDEN_SPRAYERS',\n",
       "       'domain_id_MLA-GAS_LAWN_MOWERS', 'domain_id_MLA-GAUZES',\n",
       "       'domain_id_MLA-GEL_NAIL_KITS',\n",
       "       'domain_id_MLA-GEOMETRY_RULERS_PROTRACTORS_AND_SET_SQUARES',\n",
       "       'domain_id_MLA-GLASS_CUTTERS', 'domain_id_MLA-GONIOMETERS',\n",
       "       'domain_id_MLA-GREASE_GUNS', 'domain_id_MLA-GROOVE_JOINT_PLIERS',\n",
       "       'domain_id_MLA-HACKSAW_BLADES',\n",
       "       'domain_id_MLA-HAIRDRESSING_ACCESSORIES',\n",
       "       'domain_id_MLA-HAIRDRESSING_SCISSORS',\n",
       "       'domain_id_MLA-HAIR_APPLIANCE_KITS', 'domain_id_MLA-HAIR_BRUSHES',\n",
       "       'domain_id_MLA-HAIR_CLIPPERS', 'domain_id_MLA-HAIR_DRYERS',\n",
       "       'domain_id_MLA-HAIR_DYES_AND_BLEACHES',\n",
       "       'domain_id_MLA-HAIR_EXTENSIONS', 'domain_id_MLA-HAIR_FIXATIVES',\n",
       "       'domain_id_MLA-HAIR_REMOVAL', 'domain_id_MLA-HAIR_REMOVAL_KITS',\n",
       "       'domain_id_MLA-HAIR_REMOVAL_STRIPS',\n",
       "       'domain_id_MLA-HAIR_SHAMPOOS_AND_CONDITIONERS',\n",
       "       'domain_id_MLA-HAIR_STRAIGHTENERS',\n",
       "       'domain_id_MLA-HAIR_TREATMENTS', 'domain_id_MLA-HAMMER_DRILLS',\n",
       "       'domain_id_MLA-HAND_AND_FOOT_MASKS', 'domain_id_MLA-HAND_FILES',\n",
       "       'domain_id_MLA-HAND_HELD_REFRACTOMETERS',\n",
       "       'domain_id_MLA-HAND_POLISHERS', 'domain_id_MLA-HAND_SAWS',\n",
       "       'domain_id_MLA-HAND_WIRE_BRUSHES',\n",
       "       'domain_id_MLA-HEALTH_CARE_SUPPLIES', 'domain_id_MLA-HEAT_GUNS',\n",
       "       'domain_id_MLA-HEDGE_TRIMMERS', 'domain_id_MLA-HOES',\n",
       "       'domain_id_MLA-HOSE_CLAMP_PLIERS',\n",
       "       'domain_id_MLA-HYDRAULIC_CRIMPING_PLIERS',\n",
       "       'domain_id_MLA-HYDROMETERS', 'domain_id_MLA-HYDROPHILIC_COTTON',\n",
       "       'domain_id_MLA-HYGIENIC_WET_WIPES', 'domain_id_MLA-HYGROMETERS',\n",
       "       'domain_id_MLA-INCONTINENCE_PADS',\n",
       "       'domain_id_MLA-INCONTINENCE_UNDERPADS',\n",
       "       'domain_id_MLA-INDUSTRIAL_HOSES',\n",
       "       'domain_id_MLA-INDUSTRIAL_MAGNETS',\n",
       "       'domain_id_MLA-INDUSTRIAL_PULLEYS',\n",
       "       'domain_id_MLA-INFLATABLE_BALL_PITS',\n",
       "       'domain_id_MLA-INFLATABLE_POOLS',\n",
       "       'domain_id_MLA-INFRARED_THERMOMETERS',\n",
       "       'domain_id_MLA-INSPECTION_MIRRORS',\n",
       "       'domain_id_MLA-INTERDENTAL_BRUSHES',\n",
       "       'domain_id_MLA-INTIMATE_SOAPS', 'domain_id_MLA-JEWELRY',\n",
       "       'domain_id_MLA-JEWELRY_AND_WATCHES', 'domain_id_MLA-JEWELRY_BOXES',\n",
       "       'domain_id_MLA-JEWELRY_DISPLAYS',\n",
       "       'domain_id_MLA-JEWELRY_DISPLAYS_AND_BOXES',\n",
       "       'domain_id_MLA-JEWELRY_MAKING_KITS', 'domain_id_MLA-JEWELRY_ROLLS',\n",
       "       'domain_id_MLA-JEWELRY_TOOLS', 'domain_id_MLA-JIG_SAWS',\n",
       "       'domain_id_MLA-JOKE_TOYS', 'domain_id_MLA-KICK_SCOOTERS',\n",
       "       'domain_id_MLA-KIDS_EASELS', 'domain_id_MLA-KIDS_MICROPHONES',\n",
       "       'domain_id_MLA-KIDS_TABLES_AND_CHAIRS_SETS',\n",
       "       'domain_id_MLA-KIDS_TENTS', 'domain_id_MLA-KIDS_TRICYCLES',\n",
       "       'domain_id_MLA-KIDS_WALKIE_TALKIES',\n",
       "       'domain_id_MLA-KID_SKATEBOARDS', 'domain_id_MLA-KITCHEN_PLAYSETS',\n",
       "       'domain_id_MLA-LASER_LEVELS', 'domain_id_MLA-LASER_MEASURES',\n",
       "       'domain_id_MLA-LAWN_MOWER_BLADES', 'domain_id_MLA-LEARNING_MAZES',\n",
       "       'domain_id_MLA-LEARNING_TOY_LAPTOPS',\n",
       "       'domain_id_MLA-LED_THERAPY_FACE_MASKS',\n",
       "       'domain_id_MLA-LENS_ADAPTER_RINGS', 'domain_id_MLA-LENS_CAPS',\n",
       "       'domain_id_MLA-LENS_EXTENSION_TUBES', 'domain_id_MLA-LENS_FILTERS',\n",
       "       'domain_id_MLA-LENS_HOODS', 'domain_id_MLA-LIGHT_METERS',\n",
       "       'domain_id_MLA-LINEMAN_PLIERS', 'domain_id_MLA-LIPSTICKS',\n",
       "       'domain_id_MLA-LIP_BALMS', 'domain_id_MLA-LIP_GLOSSES',\n",
       "       'domain_id_MLA-LIP_LINERS',\n",
       "       'domain_id_MLA-LIQUID_HAND_AND_BODY_SOAPS',\n",
       "       'domain_id_MLA-LOCKING_PLIERS', 'domain_id_MLA-LOCK_PICKS',\n",
       "       'domain_id_MLA-LOOM_BANDS', 'domain_id_MLA-MAGIC_SAND',\n",
       "       'domain_id_MLA-MAGNETIC_DRAWING_BOARDS',\n",
       "       'domain_id_MLA-MAGNETIC_WELDING_HOLDERS',\n",
       "       'domain_id_MLA-MAGNIFYING_GLASSES', 'domain_id_MLA-MAKEUP',\n",
       "       'domain_id_MLA-MAKEUP_BRUSHES',\n",
       "       'domain_id_MLA-MAKEUP_ILLUMINATORS',\n",
       "       'domain_id_MLA-MAKEUP_ORGANIZERS', 'domain_id_MLA-MAKEUP_PRIMERS',\n",
       "       'domain_id_MLA-MAKEUP_REMOVERS', 'domain_id_MLA-MAKEUP_SETS',\n",
       "       'domain_id_MLA-MAKEUP_SPONGES', 'domain_id_MLA-MAKEUP_TRAIN_CASES',\n",
       "       'domain_id_MLA-MANICURE_AND_PEDICURE_DRILLS',\n",
       "       'domain_id_MLA-MANICURE_AND_PEDICURE_ELECTRONIC_EXFOLIATORS_AND_FILES',\n",
       "       'domain_id_MLA-MANICURE_AND_PEDICURE_SUPPLIES',\n",
       "       'domain_id_MLA-MANIFOLD_GAUGE_SETS',\n",
       "       'domain_id_MLA-MANUAL_EDGE_BANDING_TRIMMERS',\n",
       "       'domain_id_MLA-MANUAL_FACIAL_BRUSHES_AND_SPONGES',\n",
       "       'domain_id_MLA-MANUAL_HAMMERS', 'domain_id_MLA-MANUAL_HAND_PLANES',\n",
       "       'domain_id_MLA-MANUAL_HOISTS', 'domain_id_MLA-MANUAL_LAWN_MOWERS',\n",
       "       'domain_id_MLA-MANUAL_OIL_CANS',\n",
       "       'domain_id_MLA-MANUAL_SCREWDRIVERS',\n",
       "       'domain_id_MLA-MANUAL_STAPLERS_AND_BRAD_NAILERS',\n",
       "       'domain_id_MLA-MASCARAS', 'domain_id_MLA-MASONRY_TROWELS',\n",
       "       'domain_id_MLA-MATTOCKS', 'domain_id_MLA-MEASURING_WHEELS',\n",
       "       'domain_id_MLA-MECHANICAL_TALLY_COUNTERS',\n",
       "       'domain_id_MLA-MEMORY_CARDS',\n",
       "       'domain_id_MLA-MEMORY_CARD_CASES_AND_BAGS',\n",
       "       'domain_id_MLA-MEMORY_CARD_READERS',\n",
       "       'domain_id_MLA-MENSTRUAL_CUPS', 'domain_id_MLA-METAL_DETECTORS',\n",
       "       'domain_id_MLA-METAL_WIRES', 'domain_id_MLA-MICROBLADING_NEEDLES',\n",
       "       'domain_id_MLA-MICRONEEDLE_ROLLERS',\n",
       "       'domain_id_MLA-MICRONEEDLING_CARTRIDGES',\n",
       "       'domain_id_MLA-MICROPHONES', 'domain_id_MLA-MICROSCOPES',\n",
       "       'domain_id_MLA-MICRO_ROTARY_TOOLS',\n",
       "       'domain_id_MLA-MICRO_ROTARY_TOOL_KITS',\n",
       "       'domain_id_MLA-MINI_PHOTO_STUDIOS', 'domain_id_MLA-MITER_BOXES',\n",
       "       'domain_id_MLA-MITER_SAWS', 'domain_id_MLA-MODELISM_BATTERIES',\n",
       "       'domain_id_MLA-MODELISM_BATTERY_CHARGERS',\n",
       "       'domain_id_MLA-MODEL_AIRCRAFT_HELICOPTERS',\n",
       "       'domain_id_MLA-MODEL_AIRCRAFT_PLANES',\n",
       "       'domain_id_MLA-MODEL_NAVAL_BOATS', 'domain_id_MLA-MONOCULARS',\n",
       "       'domain_id_MLA-MOUTHWASHES', 'domain_id_MLA-MULTIMETERS',\n",
       "       'domain_id_MLA-NAIL_AND_CUTICLE_CUTTERS',\n",
       "       'domain_id_MLA-NAIL_DRYERS', 'domain_id_MLA-NAIL_GLUES',\n",
       "       'domain_id_MLA-NAIL_POLISH', 'domain_id_MLA-NAIL_POLISH_REMOVERS',\n",
       "       'domain_id_MLA-NAIL_SAMPLES', 'domain_id_MLA-NAIL_STRENGTHENERS',\n",
       "       'domain_id_MLA-NECKLACES',\n",
       "       'domain_id_MLA-NON_REMOTE_CONTROL_TOY_VEHICLES',\n",
       "       'domain_id_MLA-NOSE_SHAPERS', 'domain_id_MLA-NURSING_PADS',\n",
       "       'domain_id_MLA-OFFICE_STAPLER_STAPLES',\n",
       "       'domain_id_MLA-OPTICAL_INSTRUMENTS',\n",
       "       'domain_id_MLA-OPTICAL_INSTRUMENT_EYEPIECES',\n",
       "       'domain_id_MLA-ORAL_IRRIGATORS',\n",
       "       'domain_id_MLA-ORGANIZER_CABINETS_AND_BOXES',\n",
       "       'domain_id_MLA-OSCILLOSCOPES',\n",
       "       'domain_id_MLA-OXYGEN_PRESSURE_REGULATORS', 'domain_id_MLA-PADS',\n",
       "       'domain_id_MLA-PAINT_MACHINES', 'domain_id_MLA-PAINT_MIXERS',\n",
       "       'domain_id_MLA-PANTY_LINERS', 'domain_id_MLA-PEDAL_RIDE_ON_TOYS',\n",
       "       'domain_id_MLA-PENCIL_SHARPENERS', 'domain_id_MLA-PERFUMES',\n",
       "       'domain_id_MLA-PERMANENT_EPILATORS',\n",
       "       'domain_id_MLA-PERSONAL_LUBRICANTS_AND_GELS',\n",
       "       'domain_id_MLA-PHOTOGRAPHIC_DIFFUSERS',\n",
       "       'domain_id_MLA-PHOTOGRAPHIC_EQUIPMENT_SUITCASES',\n",
       "       'domain_id_MLA-PHOTOGRAPHIC_FILM_ROLLS',\n",
       "       'domain_id_MLA-PHOTOGRAPHIC_INSTANT_FILMS',\n",
       "       'domain_id_MLA-PHOTOGRAPHIC_REFLECTORS',\n",
       "       'domain_id_MLA-PHOTOGRAPHIC_STUDIO_FLASHES',\n",
       "       'domain_id_MLA-PHOTOGRAPHY_ACCESSORIES_AND_SPARE_PARTS',\n",
       "       'domain_id_MLA-PHOTOGRAPHY_BACKDROPS',\n",
       "       'domain_id_MLA-PHOTOGRAPHY_BACKDROP_STANDS',\n",
       "       'domain_id_MLA-PHOTOGRAPHY_WEIGHT_BAGS',\n",
       "       'domain_id_MLA-PHOTO_ALBUMS', 'domain_id_MLA-PHOTO_STUDIO_KITS',\n",
       "       'domain_id_MLA-PH_METERS',\n",
       "       'domain_id_MLA-PH_METER_BUFFER_SOLUTIONS',\n",
       "       'domain_id_MLA-PICTURE_FRAMES', 'domain_id_MLA-PIERCINGS',\n",
       "       'domain_id_MLA-PINCERS', 'domain_id_MLA-PIPE_CUTTERS',\n",
       "       'domain_id_MLA-PLASMA_CUTTERS',\n",
       "       'domain_id_MLA-PLASMA_CUTTER_CONSUMABLES_SETS',\n",
       "       'domain_id_MLA-PLAYGROUND_ROUNDABOUTS',\n",
       "       'domain_id_MLA-PLAYGROUND_SLIDES',\n",
       "       'domain_id_MLA-PLAYGROUND_SWING_SETS',\n",
       "       'domain_id_MLA-PLAYING_CARDS', 'domain_id_MLA-PLIER_SETS',\n",
       "       'domain_id_MLA-PLUMB_BOBS', 'domain_id_MLA-PLUNGE_ROUTERS',\n",
       "       'domain_id_MLA-PNEUMATIC_POWER_GRINDERS',\n",
       "       'domain_id_MLA-PNEUMATIC_SANDERS',\n",
       "       'domain_id_MLA-PNEUMATIC_STAPLERS', 'domain_id_MLA-POCKET_WATCHES',\n",
       "       'domain_id_MLA-POKER_CHIPS', 'domain_id_MLA-POKER_SETS',\n",
       "       'domain_id_MLA-POLYFUSION_DEVICES',\n",
       "       'domain_id_MLA-POOL_INFLATABLES', 'domain_id_MLA-POP_ITS',\n",
       "       'domain_id_MLA-POWERED_RIDE_ON_TOYS',\n",
       "       'domain_id_MLA-POWER_GRINDERS',\n",
       "       'domain_id_MLA-PRECIOUS_AND_SEMI_PRECIOUS_STONES',\n",
       "       'domain_id_MLA-PREGNANCY_AND_OVULATION_TESTS',\n",
       "       'domain_id_MLA-PRESSURE_GAUGES', 'domain_id_MLA-PRINTERS',\n",
       "       'domain_id_MLA-PRUNING_SHEARS', 'domain_id_MLA-PUNCH_PLIERS',\n",
       "       'domain_id_MLA-PUPPETS', 'domain_id_MLA-PUSH_AND_RIDING_TOYS',\n",
       "       'domain_id_MLA-PUZZLES', 'domain_id_MLA-PUZZLE_CUBES',\n",
       "       'domain_id_MLA-QUICK_COUPLERS',\n",
       "       'domain_id_MLA-RADIO_FREQUENCY_MACHINES', 'domain_id_MLA-RATTLES',\n",
       "       'domain_id_MLA-RAZOR_BLADES', 'domain_id_MLA-RAZOR_CARTRIDGES',\n",
       "       'domain_id_MLA-RECIPROCATING_SAWS',\n",
       "       'domain_id_MLA-REMOTE_CONTROL_TOY_VEHICLES', 'domain_id_MLA-RINGS',\n",
       "       'domain_id_MLA-RING_SIZERS', 'domain_id_MLA-RIVET_GUNS',\n",
       "       'domain_id_MLA-ROLLER_SKATES', 'domain_id_MLA-SANDBLASTERS',\n",
       "       'domain_id_MLA-SANDER_MACHINES', 'domain_id_MLA-SANDPAPERS',\n",
       "       'domain_id_MLA-SAPO_GAMES', 'domain_id_MLA-SCHOOL_MODELING_CLAYS',\n",
       "       'domain_id_MLA-SCREWDRIVERS_SETS', 'domain_id_MLA-SCREWS',\n",
       "       'domain_id_MLA-SCREW_EXTRACTORS',\n",
       "       'domain_id_MLA-SCULPTURED_NAIL_BUILDER_GELS',\n",
       "       'domain_id_MLA-SELF_TANNERS', 'domain_id_MLA-SKIN_CARE_KITS',\n",
       "       'domain_id_MLA-SKIN_CARE_SUPPLIES',\n",
       "       'domain_id_MLA-SKIN_REPELLENTS', 'domain_id_MLA-SLEDGEHAMMERS',\n",
       "       'domain_id_MLA-SLIME_MAKING_KITS', 'domain_id_MLA-SMARTWATCHES',\n",
       "       'domain_id_MLA-SNAP_OFF_UTILITY_KNIVES',\n",
       "       'domain_id_MLA-SNAP_RING_PLIERS',\n",
       "       'domain_id_MLA-SODIUM_BICARBONATE',\n",
       "       'domain_id_MLA-SOLDERING_IRONS',\n",
       "       'domain_id_MLA-SOLDERING_STATIONS',\n",
       "       'domain_id_MLA-SOUND_LEVEL_METERS', 'domain_id_MLA-SPINNING_TOPS',\n",
       "       'domain_id_MLA-SPORT_AND_MEDICAL_BANDAGES',\n",
       "       'domain_id_MLA-SQUISHIES', 'domain_id_MLA-STAMP_PUNCHES',\n",
       "       'domain_id_MLA-STEEL_SCRAPERS', 'domain_id_MLA-STICKER_ALBUMS',\n",
       "       'domain_id_MLA-STRING_TRIMMER_HEADS', 'domain_id_MLA-STUFFED_TOYS',\n",
       "       'domain_id_MLA-SUCTION_CUP_DENT_PULLERS',\n",
       "       'domain_id_MLA-SUNSCREENS', 'domain_id_MLA-SUN_TANNER_PRODUCTS',\n",
       "       'domain_id_MLA-TABLE_CLOCKS', 'domain_id_MLA-TABLE_DRILLS',\n",
       "       'domain_id_MLA-TABLE_SAWS', 'domain_id_MLA-TABLE_TENNIS_BALLS',\n",
       "       'domain_id_MLA-TABLE_TENNIS_NETS',\n",
       "       'domain_id_MLA-TABLE_TENNIS_RACKETS',\n",
       "       'domain_id_MLA-TABLE_TENNIS_SETS',\n",
       "       'domain_id_MLA-TABLE_TENNIS_TABLES', 'domain_id_MLA-TALCUMS',\n",
       "       'domain_id_MLA-TAMPONS', 'domain_id_MLA-TAPE_MEASURES',\n",
       "       'domain_id_MLA-TEETH_WHITENING_STRIPS',\n",
       "       'domain_id_MLA-TEETH_WHITENING_SYRINGES',\n",
       "       'domain_id_MLA-TELEPROMPTERS', 'domain_id_MLA-TELESCOPES',\n",
       "       'domain_id_MLA-TIE_DOWN_STRAPS', 'domain_id_MLA-TILE_CUTTERS',\n",
       "       'domain_id_MLA-TILE_LEVELER_SPACERS',\n",
       "       'domain_id_MLA-TIPPED_PLIERS', 'domain_id_MLA-TOILET_PAPERS',\n",
       "       'domain_id_MLA-TONG_CLEANERS', 'domain_id_MLA-TOOLS',\n",
       "       'domain_id_MLA-TOOL_ACCESSORIES_AND_SPARES',\n",
       "       'domain_id_MLA-TOOL_AND_CONSTRUCTION_SUPPLIES',\n",
       "       'domain_id_MLA-TOOL_ARMATURES',\n",
       "       'domain_id_MLA-TOOL_BAGS_AND_BACKPACKS',\n",
       "       'domain_id_MLA-TOOL_BATTERIES', 'domain_id_MLA-TOOL_BOXES',\n",
       "       'domain_id_MLA-TOOL_ELECTRIC_SHARPENERS',\n",
       "       'domain_id_MLA-TOOL_MILLS', 'domain_id_MLA-TOOL_NOZZLES',\n",
       "       'domain_id_MLA-TOOL_POUCHES', 'domain_id_MLA-TOOTHBRUSHES',\n",
       "       'domain_id_MLA-TOOTHPASTES', 'domain_id_MLA-TORQUE_WRENCHES',\n",
       "       'domain_id_MLA-TOYS_AND_GAMES',\n",
       "       'domain_id_MLA-TOY_BOWS_AND_ARROWS',\n",
       "       'domain_id_MLA-TOY_BUBBLE_BLOWERS',\n",
       "       'domain_id_MLA-TOY_BUILDING_SETS',\n",
       "       'domain_id_MLA-TOY_CASH_REGISTERS', 'domain_id_MLA-TOY_DRONES',\n",
       "       'domain_id_MLA-TOY_DRUMS',\n",
       "       'domain_id_MLA-TOY_GARAGES_AND_GAS_STATIONS',\n",
       "       'domain_id_MLA-TOY_GUITARS', 'domain_id_MLA-TOY_GUNS',\n",
       "       'domain_id_MLA-TOY_KEYBOARDS_AND_PIANOS',\n",
       "       'domain_id_MLA-TOY_KITES', 'domain_id_MLA-TOY_MICROWAVES',\n",
       "       'domain_id_MLA-TOY_MIXERS',\n",
       "       'domain_id_MLA-TOY_PRETEND_PLAY_BLENDERS',\n",
       "       'domain_id_MLA-TOY_PRETEND_SUITCASES',\n",
       "       'domain_id_MLA-TOY_REFRIGERATORS', 'domain_id_MLA-TOY_ROBOTS',\n",
       "       'domain_id_MLA-TOY_SEWING_MACHINES', 'domain_id_MLA-TOY_SOLDIERS',\n",
       "       'domain_id_MLA-TOY_SWORDS', 'domain_id_MLA-TOY_TOOLS_SETS',\n",
       "       'domain_id_MLA-TOY_VANITIES', 'domain_id_MLA-TOY_VIRTUAL_PETS',\n",
       "       'domain_id_MLA-TOY_WASHING_MACHINES',\n",
       "       'domain_id_MLA-TOY_WORKSHOPS', 'domain_id_MLA-TOY_WRISTWATCHES',\n",
       "       'domain_id_MLA-TRADING_CARD_GAMES', 'domain_id_MLA-TRAMPOLINES',\n",
       "       'domain_id_MLA-TRAMPOLINE_SPRINGS', 'domain_id_MLA-VIDEO_CAMERAS',\n",
       "       'domain_id_MLA-VIDEO_CAMERA_CASES_AND_BAGS',\n",
       "       'domain_id_MLA-VIDEO_GAME_CONTROLLER_CHARGER_PINS',\n",
       "       'domain_id_MLA-VISES', 'domain_id_MLA-VOLTAGE_DETECTORS',\n",
       "       'domain_id_MLA-VOLTMETERS', 'domain_id_MLA-WALL_CLOCKS',\n",
       "       'domain_id_MLA-WATCH_BANDS', 'domain_id_MLA-WATCH_BOXES',\n",
       "       'domain_id_MLA-WATCH_RINGS',\n",
       "       'domain_id_MLA-WATERPROOF_CAMERA_CASES',\n",
       "       'domain_id_MLA-WATER_FLOW_SENSORS',\n",
       "       'domain_id_MLA-WATER_SLIDING_PADS', 'domain_id_MLA-WAX_WARMERS',\n",
       "       'domain_id_MLA-WEDDING_BANDS', 'domain_id_MLA-WELDING_BLOWTORCHES',\n",
       "       'domain_id_MLA-WELDING_CURTAINS', 'domain_id_MLA-WELDING_MACHINES',\n",
       "       'domain_id_MLA-WELDING_MASKS', 'domain_id_MLA-WELDING_RODS',\n",
       "       'domain_id_MLA-WIRE_ROPE_THIMBLES', 'domain_id_MLA-WIRE_STRIPPERS',\n",
       "       'domain_id_MLA-WOOD_BURNING_MACHINES', 'domain_id_MLA-WORKBENCHES',\n",
       "       'domain_id_MLA-WRENCHES', 'domain_id_MLA-WRENCH_SETS',\n",
       "       'domain_id_MLA-WRISTWATCHES',\n",
       "       'domain_id_MLA-WRISTWATCH_SCREEN_PROTECTORS',\n",
       "       'listing_type_id_gold_pro', 'listing_type_id_gold_special',\n",
       "       'shipping__logistic_type_cross_docking',\n",
       "       'shipping__logistic_type_custom',\n",
       "       'shipping__logistic_type_default',\n",
       "       'shipping__logistic_type_drop_off',\n",
       "       'shipping__logistic_type_fulfillment',\n",
       "       'shipping__logistic_type_not_specified',\n",
       "       'shipping__logistic_type_xd_drop_off', 'shipping__mode_custom',\n",
       "       'shipping__mode_me1', 'shipping__mode_me2',\n",
       "       'shipping__mode_not_specified',\n",
       "       \"shipping__tags_['MLA-chg-threshold-Feb-23', 'fbm_in_process']\",\n",
       "       \"shipping__tags_['MLA-chg-threshold-Feb-23', 'mandatory_free_shipping']\",\n",
       "       \"shipping__tags_['MLA-chg-threshold-Feb-23', 'self_service_in', 'fbm_in_process', 'mandatory_free_shipping']\",\n",
       "       \"shipping__tags_['MLA-chg-threshold-Feb-23', 'self_service_in', 'fbm_in_process']\",\n",
       "       \"shipping__tags_['MLA-chg-threshold-Feb-23', 'self_service_in', 'mandatory_free_shipping']\",\n",
       "       \"shipping__tags_['MLA-chg-threshold-Feb-23', 'self_service_in']\",\n",
       "       \"shipping__tags_['MLA-chg-threshold-Feb-23', 'self_service_out', 'mandatory_free_shipping']\",\n",
       "       \"shipping__tags_['MLA-chg-threshold-Feb-23', 'self_service_out']\",\n",
       "       \"shipping__tags_['MLA-chg-threshold-Feb-23']\",\n",
       "       \"shipping__tags_['MLA-chg-threshold-ago-22', 'is_flammable', 'optional_me1_chosen']\",\n",
       "       \"shipping__tags_['MLA-chg-threshold-ago-22', 'mandatory_free_shipping']\",\n",
       "       \"shipping__tags_['MLA-chg-threshold-ago-22', 'self_service_in', 'mandatory_free_shipping']\",\n",
       "       \"shipping__tags_['MLA-chg-threshold-ago-22', 'self_service_in']\",\n",
       "       \"shipping__tags_['MLA-chg-threshold-ago-22', 'self_service_out', 'mandatory_free_shipping']\",\n",
       "       \"shipping__tags_['MLA-chg-threshold-ago-22', 'self_service_out']\",\n",
       "       \"shipping__tags_['MLA-chg-threshold-ago-22']\",\n",
       "       \"shipping__tags_['MLA-chg-threshold-feb-22', 'is_flammable']\",\n",
       "       \"shipping__tags_['MLA-chg-threshold-feb-22', 'mandatory_free_shipping']\",\n",
       "       \"shipping__tags_['MLA-chg-threshold-feb-22', 'self_service_in', 'fbm_in_process']\",\n",
       "       \"shipping__tags_['MLA-chg-threshold-feb-22', 'self_service_in', 'mandatory_free_shipping']\",\n",
       "       \"shipping__tags_['MLA-chg-threshold-feb-22', 'self_service_in']\",\n",
       "       \"shipping__tags_['MLA-chg-threshold-feb-22', 'self_service_out', 'mandatory_free_shipping']\",\n",
       "       \"shipping__tags_['MLA-chg-threshold-feb-22']\",\n",
       "       \"shipping__tags_['brand_verified', 'extended_warranty_eligible', 'good_quality_picture', 'good_quality_thumbnail', 'immediate_payment', 'cart_eligible', 'self_service_in', 'mandatory_free_shipping']\",\n",
       "       \"shipping__tags_['fbm_in_process', 'fs_threshold_mla_change_feb2021', 'self_service_in', 'mandatory_free_shipping']\",\n",
       "       \"shipping__tags_['fbm_in_process', 'mandatory_free_shipping']\",\n",
       "       \"shipping__tags_['fbm_in_process', 'self_service_in', 'mandatory_free_shipping']\",\n",
       "       \"shipping__tags_['fbm_in_process', 'self_service_in']\",\n",
       "       \"shipping__tags_['fbm_in_process', 'self_service_out']\",\n",
       "       \"shipping__tags_['fbm_in_process']\",\n",
       "       \"shipping__tags_['fs_removed_by_tagger', 'fs_threshold_mla_change_feb2021', 'mandatory_free_shipping']\",\n",
       "       \"shipping__tags_['fs_removed_by_tagger', 'fs_threshold_mla_change_feb2021', 'self_service_in', 'mandatory_free_shipping']\",\n",
       "       \"shipping__tags_['fs_removed_by_tagger', 'fs_threshold_mla_change_feb2021', 'self_service_in']\",\n",
       "       \"shipping__tags_['fs_removed_by_tagger', 'fs_threshold_mla_change_feb2021', 'self_service_out', 'mandatory_free_shipping']\",\n",
       "       \"shipping__tags_['fs_removed_by_tagger', 'mandatory_free_shipping']\",\n",
       "       \"shipping__tags_['fs_removed_by_tagger', 'self_service_in', 'fs_threshold_mla_change_feb2021', 'mandatory_free_shipping']\",\n",
       "       \"shipping__tags_['fs_removed_by_tagger', 'self_service_in', 'fs_threshold_mla_change_feb2021']\",\n",
       "       \"shipping__tags_['fs_removed_by_tagger', 'self_service_in', 'mandatory_free_shipping']\",\n",
       "       \"shipping__tags_['fs_removed_by_tagger', 'self_service_in']\",\n",
       "       \"shipping__tags_['fs_removed_by_tagger', 'self_service_out', 'mandatory_free_shipping']\",\n",
       "       \"shipping__tags_['fs_threshold_mla_change_feb2021', 'mandatory_free_shipping', 'self_service_in']\",\n",
       "       \"shipping__tags_['fs_threshold_mla_change_feb2021', 'mandatory_free_shipping']\",\n",
       "       \"shipping__tags_['fs_threshold_mla_change_feb2021', 'self_service_in', 'fbm_in_process', 'mandatory_free_shipping']\",\n",
       "       \"shipping__tags_['fs_threshold_mla_change_feb2021', 'self_service_in', 'mandatory_free_shipping']\",\n",
       "       \"shipping__tags_['fs_threshold_mla_change_feb2021', 'self_service_in']\",\n",
       "       \"shipping__tags_['fs_threshold_mla_change_feb2021', 'self_service_out', 'mandatory_free_shipping']\",\n",
       "       \"shipping__tags_['fs_threshold_mla_change_feb2021', 'self_service_out']\",\n",
       "       \"shipping__tags_['fs_threshold_mla_change_feb2021']\",\n",
       "       \"shipping__tags_['fulfillment', '3x_campaign', 'good_quality_picture', 'good_quality_thumbnail', 'immediate_payment', 'cart_eligible', 'self_service_out', 'mandatory_free_shipping']\",\n",
       "       \"shipping__tags_['fulfillment', 'MLA-chg-threshold-Feb-23', 'mandatory_free_shipping']\",\n",
       "       \"shipping__tags_['fulfillment', 'MLA-chg-threshold-Feb-23', 'self_service_in', 'mandatory_free_shipping']\",\n",
       "       \"shipping__tags_['fulfillment', 'MLA-chg-threshold-Feb-23', 'self_service_in']\",\n",
       "       \"shipping__tags_['fulfillment', 'MLA-chg-threshold-Feb-23', 'self_service_out', 'mandatory_free_shipping']\",\n",
       "       \"shipping__tags_['fulfillment', 'MLA-chg-threshold-Feb-23', 'self_service_out']\",\n",
       "       \"shipping__tags_['fulfillment', 'MLA-chg-threshold-Feb-23']\",\n",
       "       \"shipping__tags_['fulfillment', 'MLA-chg-threshold-ago-22', 'mandatory_free_shipping']\",\n",
       "       \"shipping__tags_['fulfillment', 'MLA-chg-threshold-ago-22', 'self_service_in', 'mandatory_free_shipping']\",\n",
       "       \"shipping__tags_['fulfillment', 'MLA-chg-threshold-ago-22', 'self_service_in']\",\n",
       "       \"shipping__tags_['fulfillment', 'MLA-chg-threshold-ago-22', 'self_service_out', 'mandatory_free_shipping']\",\n",
       "       \"shipping__tags_['fulfillment', 'MLA-chg-threshold-ago-22', 'self_service_out']\",\n",
       "       \"shipping__tags_['fulfillment', 'MLA-chg-threshold-ago-22']\",\n",
       "       \"shipping__tags_['fulfillment', 'MLA-chg-threshold-feb-22', 'mandatory_free_shipping']\",\n",
       "       \"shipping__tags_['fulfillment', 'MLA-chg-threshold-feb-22', 'self_service_in', 'mandatory_free_shipping']\",\n",
       "       \"shipping__tags_['fulfillment', 'MLA-chg-threshold-feb-22', 'self_service_out']\",\n",
       "       \"shipping__tags_['fulfillment', 'MLA-chg-threshold-feb-22']\",\n",
       "       \"shipping__tags_['fulfillment', 'brand_verified', 'good_quality_picture', 'good_quality_thumbnail', 'immediate_payment', 'cart_eligible', 'self_service_out', 'mandatory_free_shipping']\",\n",
       "       \"shipping__tags_['fulfillment', 'brand_verified', 'immediate_payment', 'cart_eligible', 'self_service_out', 'mandatory_free_shipping']\",\n",
       "       \"shipping__tags_['fulfillment', 'extended_warranty_eligible', 'good_quality_picture', 'good_quality_thumbnail', 'immediate_payment', 'cart_eligible', 'self_service_out', 'mandatory_free_shipping']\",\n",
       "       \"shipping__tags_['fulfillment', 'extended_warranty_eligible', 'good_quality_picture', 'good_quality_thumbnail', 'mshops_3x_campaign', '3x_campaign', 'immediate_payment', 'cart_eligible', 'self_service_out', 'mandatory_free_shipping']\",\n",
       "       \"shipping__tags_['fulfillment', 'fs_removed_by_tagger', 'fs_threshold_mla_change_feb2021', 'self_service_in', 'mandatory_free_shipping']\",\n",
       "       \"shipping__tags_['fulfillment', 'fs_removed_by_tagger', 'fs_threshold_mla_change_feb2021', 'self_service_out', 'mandatory_free_shipping']\",\n",
       "       \"shipping__tags_['fulfillment', 'fs_removed_by_tagger', 'mandatory_free_shipping']\",\n",
       "       \"shipping__tags_['fulfillment', 'fs_removed_by_tagger', 'self_service_in', 'mandatory_free_shipping']\",\n",
       "       \"shipping__tags_['fulfillment', 'fs_removed_by_tagger', 'self_service_out', 'mandatory_free_shipping']\",\n",
       "       \"shipping__tags_['fulfillment', 'fs_removed_by_tagger', 'self_service_out']\",\n",
       "       \"shipping__tags_['fulfillment', 'fs_threshold_mla_change_feb2021', 'mandatory_free_shipping']\",\n",
       "       \"shipping__tags_['fulfillment', 'fs_threshold_mla_change_feb2021', 'self_service_in', 'mandatory_free_shipping']\",\n",
       "       \"shipping__tags_['fulfillment', 'fs_threshold_mla_change_feb2021', 'self_service_in']\",\n",
       "       \"shipping__tags_['fulfillment', 'fs_threshold_mla_change_feb2021', 'self_service_out', 'mandatory_free_shipping']\",\n",
       "       \"shipping__tags_['fulfillment', 'fs_threshold_mla_change_feb2021', 'self_service_out']\",\n",
       "       \"shipping__tags_['fulfillment', 'fs_threshold_mla_change_feb2021']\",\n",
       "       \"shipping__tags_['fulfillment', 'good_quality_picture', 'good_quality_thumbnail', 'immediate_payment', 'cart_eligible', 'self_service_out', 'mandatory_free_shipping']\",\n",
       "       \"shipping__tags_['fulfillment', 'good_quality_picture', 'good_quality_thumbnail', 'loyalty_discount_eligible', 'immediate_payment', 'cart_eligible', 'self_service_out', 'mandatory_free_shipping']\",\n",
       "       \"shipping__tags_['fulfillment', 'good_quality_thumbnail', 'good_quality_picture', 'immediate_payment', 'cart_eligible', 'self_service_out', 'mandatory_free_shipping']\",\n",
       "       \"shipping__tags_['fulfillment', 'loyalty_discount_eligible', 'brand_verified', 'good_quality_picture', 'good_quality_thumbnail', 'immediate_payment', 'cart_eligible', 'self_service_out', 'mandatory_free_shipping']\",\n",
       "       \"shipping__tags_['fulfillment', 'mandatory_free_shipping']\",\n",
       "       \"shipping__tags_['fulfillment', 'self_service_in', 'fs_threshold_mla_change_feb2021', 'mandatory_free_shipping']\",\n",
       "       \"shipping__tags_['fulfillment', 'self_service_in', 'fs_threshold_mla_change_feb2021']\",\n",
       "       \"shipping__tags_['fulfillment', 'self_service_in', 'mandatory_free_shipping']\",\n",
       "       \"shipping__tags_['fulfillment', 'self_service_in']\",\n",
       "       \"shipping__tags_['fulfillment', 'self_service_out', 'fs_threshold_mla_change_feb2021', 'mandatory_free_shipping']\",\n",
       "       \"shipping__tags_['fulfillment', 'self_service_out', 'fs_threshold_mla_change_feb2021']\",\n",
       "       \"shipping__tags_['fulfillment', 'self_service_out', 'mandatory_free_shipping']\",\n",
       "       \"shipping__tags_['fulfillment', 'self_service_out']\",\n",
       "       \"shipping__tags_['fulfillment']\",\n",
       "       \"shipping__tags_['good_quality_picture', 'good_quality_thumbnail', 'extended_warranty_eligible', 'immediate_payment', 'cart_eligible', 'self_service_out', 'mandatory_free_shipping']\",\n",
       "       \"shipping__tags_['is_flammable', 'optional_me1_chosen']\",\n",
       "       \"shipping__tags_['is_flammable']\",\n",
       "       \"shipping__tags_['lost_me2_by_dimensions']\",\n",
       "       \"shipping__tags_['mandatory_free_shipping', 'self_service_in']\",\n",
       "       \"shipping__tags_['mandatory_free_shipping', 'self_service_out']\",\n",
       "       \"shipping__tags_['mandatory_free_shipping']\",\n",
       "       \"shipping__tags_['me2_available']\",\n",
       "       \"shipping__tags_['optional_me1_chosen', 'lost_me2_by_dimensions']\",\n",
       "       \"shipping__tags_['optional_me1_chosen']\",\n",
       "       \"shipping__tags_['self_service_in', 'fbm_in_process', 'mandatory_free_shipping']\",\n",
       "       \"shipping__tags_['self_service_in', 'fbm_in_process']\",\n",
       "       \"shipping__tags_['self_service_in', 'fs_removed_by_tagger', 'fs_threshold_mla_change_feb2021', 'mandatory_free_shipping']\",\n",
       "       \"shipping__tags_['self_service_in', 'fs_removed_by_tagger', 'mandatory_free_shipping']\",\n",
       "       \"shipping__tags_['self_service_in', 'fs_removed_by_tagger']\",\n",
       "       \"shipping__tags_['self_service_in', 'fs_threshold_mla_change_feb2021', 'mandatory_free_shipping']\",\n",
       "       \"shipping__tags_['self_service_in', 'fs_threshold_mla_change_feb2021']\",\n",
       "       \"shipping__tags_['self_service_in', 'mandatory_free_shipping']\",\n",
       "       \"shipping__tags_['self_service_in']\",\n",
       "       \"shipping__tags_['self_service_out', 'fbm_in_process', 'mandatory_free_shipping']\",\n",
       "       \"shipping__tags_['self_service_out', 'fbm_in_process']\",\n",
       "       \"shipping__tags_['self_service_out', 'mandatory_free_shipping']\",\n",
       "       \"shipping__tags_['self_service_out']\", 'shipping__tags_[]',\n",
       "       \"variation_filters_['9x12']\",\n",
       "       \"variation_filters_['AGUJA', 'WALL_CLOCK_STRUCTURE_COLOR', 'WALL_CLOCK_FACE_COLOR', 'WALL_CLOCK_FACE_COLOR', 'WALL_CLOCK_STRUCTURE_COLOR', 'WALL_CLOCK_FACE_COLOR', 'WALL_CLOCK_STRUCTURE_COLOR', 'WALL_CLOCK_FACE_COLOR', 'WALL_CLOCK_FACE_COLOR', 'WALL_CLOCK_FACE_COLOR', 'WALL_CLOCK_STRUCTURE_COLOR', 'WALL_CLOCK_FACE_COLOR', 'WALL_CLOCK_FACE_COLOR', 'WALL_CLOCK_FACE_COLOR', 'WALL_CLOCK_STRUCTURE_COLOR', 'WALL_CLOCK_FACE_COLOR', 'WALL_CLOCK_FACE_COLOR', 'WALL_CLOCK_STRUCTURE_COLOR', 'WALL_CLOCK_FACE_COLOR', 'WALL_CLOCK_FACE_COLOR']\",\n",
       "       \"variation_filters_['Aro', 'STRAP_COLOR', 'BEZEL_COLOR', 'BACKGROUND_COLOR', 'STRAP_COLOR', 'BEZEL_COLOR', 'BACKGROUND_COLOR', 'STRAP_COLOR', 'BEZEL_COLOR', 'BACKGROUND_COLOR', 'STRAP_COLOR', 'BEZEL_COLOR', 'BACKGROUND_COLOR']\",\n",
       "       \"variation_filters_['Año', 'COLOR']\",\n",
       "       \"variation_filters_['BACKGROUND_COLOR', 'Malla']\",\n",
       "       \"variation_filters_['BACKGROUND_COLOR', 'Talle']\",\n",
       "       \"variation_filters_['BACKGROUND_COLOR']\",\n",
       "       \"variation_filters_['BEZEL_COLOR', 'BACKGROUND_COLOR', 'color de la correa']\",\n",
       "       \"variation_filters_['BEZEL_COLOR']\",\n",
       "       \"variation_filters_['CADENA', 'COLOR']\",\n",
       "       \"variation_filters_['CASE_COLOR', 'BEZEL_COLOR', 'CASE_COLOR', 'BEZEL_COLOR', 'BEZEL_COLOR', 'BEZEL_COLOR', 'CASE_COLOR', 'BEZEL_COLOR']\",\n",
       "       \"variation_filters_['CASE_COLOR', 'BEZEL_COLOR', 'CASE_COLOR', 'BEZEL_COLOR', 'BEZEL_COLOR']\",\n",
       "       \"variation_filters_['CASE_COLOR', 'BEZEL_COLOR', 'CASE_COLOR', 'BEZEL_COLOR']\",\n",
       "       \"variation_filters_['CASE_COLOR', 'BEZEL_COLOR']\",\n",
       "       \"variation_filters_['CASE_COLOR', 'WRISTBAND_COLOR', 'BEZEL_COLOR', 'BEZEL_COLOR', 'CASE_COLOR', 'WRISTBAND_COLOR', 'BEZEL_COLOR', 'BEZEL_COLOR', 'WRISTBAND_COLOR', 'BEZEL_COLOR', 'BEZEL_COLOR', 'BEZEL_COLOR', 'CASE_COLOR', 'WRISTBAND_COLOR', 'BEZEL_COLOR']\",\n",
       "       \"variation_filters_['CASE_COLOR', 'WRISTBAND_COLOR', 'BEZEL_COLOR', 'BEZEL_COLOR', 'CASE_COLOR', 'WRISTBAND_COLOR', 'BEZEL_COLOR', 'BEZEL_COLOR', 'WRISTBAND_COLOR', 'BEZEL_COLOR', 'BEZEL_COLOR', 'BEZEL_COLOR']\",\n",
       "       \"variation_filters_['CASE_COLOR', 'WRISTBAND_COLOR', 'BEZEL_COLOR', 'BEZEL_COLOR', 'CASE_COLOR', 'WRISTBAND_COLOR', 'BEZEL_COLOR', 'BEZEL_COLOR']\",\n",
       "       \"variation_filters_['CASE_COLOR', 'WRISTBAND_COLOR', 'BEZEL_COLOR', 'BEZEL_COLOR', 'CASE_COLOR', 'WRISTBAND_COLOR', 'BEZEL_COLOR']\",\n",
       "       \"variation_filters_['CASE_COLOR', 'WRISTBAND_COLOR', 'BEZEL_COLOR', 'BEZEL_COLOR']\",\n",
       "       \"variation_filters_['CASE_COLOR', 'WRISTBAND_COLOR', 'BEZEL_COLOR', 'WRISTBAND_DESIGN']\",\n",
       "       \"variation_filters_['CASE_COLOR', 'WRISTBAND_COLOR', 'BEZEL_COLOR']\",\n",
       "       \"variation_filters_['CASE_COLOR', 'WRISTBAND_COLOR', 'WRISTBAND_DESIGN']\",\n",
       "       \"variation_filters_['CASE_COLOR', 'WRISTBAND_COLOR']\",\n",
       "       \"variation_filters_['CASE_COLOR']\", \"variation_filters_['CLUB']\",\n",
       "       \"variation_filters_['COLOR', 'CASE_COLOR', 'WRISTBAND_COLOR', 'BEZEL_COLOR']\",\n",
       "       \"variation_filters_['COLOR', 'CASE_COLOR', 'WRISTBAND_COLOR', 'COLOR', 'CASE_COLOR', 'COLOR', 'CASE_COLOR', 'WRISTBAND_COLOR']\",\n",
       "       \"variation_filters_['COLOR', 'DIAMETER', 'LENGTH', 'Medida de Muñeca']\",\n",
       "       \"variation_filters_['COLOR', 'DIAMETER', 'LENGTH', 'Talle']\",\n",
       "       \"variation_filters_['COLOR', 'DIAMETER', 'LENGTH']\",\n",
       "       \"variation_filters_['COLOR', 'DIAMETER', 'Talle']\",\n",
       "       \"variation_filters_['COLOR', 'DIAMETER']\",\n",
       "       \"variation_filters_['COLOR', 'DIJE']\",\n",
       "       \"variation_filters_['COLOR', 'DISEÑO']\",\n",
       "       \"variation_filters_['COLOR', 'DIametro interno']\",\n",
       "       \"variation_filters_['COLOR', 'Diametro Interno']\",\n",
       "       \"variation_filters_['COLOR', 'Diametro falso expansor']\",\n",
       "       \"variation_filters_['COLOR', 'Diametro interno']\",\n",
       "       \"variation_filters_['COLOR', 'Diametro']\",\n",
       "       \"variation_filters_['COLOR', 'Forma', 'SIZE']\",\n",
       "       \"variation_filters_['COLOR', 'Forma']\",\n",
       "       \"variation_filters_['COLOR', 'Genero']\",\n",
       "       \"variation_filters_['COLOR', 'INICIAL']\",\n",
       "       \"variation_filters_['COLOR', 'Inicial']\",\n",
       "       \"variation_filters_['COLOR', 'LARGOS']\",\n",
       "       \"variation_filters_['COLOR', 'LENGTH']\",\n",
       "       \"variation_filters_['COLOR', 'LETRA']\",\n",
       "       \"variation_filters_['COLOR', 'Larga de la Cadena']\",\n",
       "       \"variation_filters_['COLOR', 'Largo Cadena']\",\n",
       "       \"variation_filters_['COLOR', 'Largo Collar']\",\n",
       "       \"variation_filters_['COLOR', 'Largo cadena']\",\n",
       "       \"variation_filters_['COLOR', 'Largo de Cadena']\",\n",
       "       \"variation_filters_['COLOR', 'Largo de Collar']\",\n",
       "       \"variation_filters_['COLOR', 'Largo de cadena']\",\n",
       "       \"variation_filters_['COLOR', 'Largo de la Cadena']\",\n",
       "       \"variation_filters_['COLOR', 'Largo de la cadena']\",\n",
       "       \"variation_filters_['COLOR', 'Largo del Collar']\",\n",
       "       \"variation_filters_['COLOR', 'Largo.']\",\n",
       "       \"variation_filters_['COLOR', 'Letra']\",\n",
       "       \"variation_filters_['COLOR', 'Letras']\",\n",
       "       \"variation_filters_['COLOR', 'Longitud']\",\n",
       "       \"variation_filters_['COLOR', 'M Band']\",\n",
       "       \"variation_filters_['COLOR', 'MODEL', 'SIZE']\",\n",
       "       \"variation_filters_['COLOR', 'Medida Piedra']\",\n",
       "       \"variation_filters_['COLOR', 'Medida de la Cadena']\",\n",
       "       \"variation_filters_['COLOR', 'Medida']\",\n",
       "       \"variation_filters_['COLOR', 'Metal']\",\n",
       "       \"variation_filters_['COLOR', 'Modelos']\",\n",
       "       \"variation_filters_['COLOR', 'Número']\",\n",
       "       \"variation_filters_['COLOR', 'Oreja']\",\n",
       "       \"variation_filters_['COLOR', 'PIEDRAS']\",\n",
       "       \"variation_filters_['COLOR', 'PULSERA']\",\n",
       "       \"variation_filters_['COLOR', 'Piedra']\",\n",
       "       \"variation_filters_['COLOR', 'SIZE', 'Talle HOMBRE']\",\n",
       "       \"variation_filters_['COLOR', 'SIZE', 'Talle Hombre']\",\n",
       "       \"variation_filters_['COLOR', 'SIZE', 'Talle plateado']\",\n",
       "       \"variation_filters_['COLOR', 'SIZE']\",\n",
       "       \"variation_filters_['COLOR', 'STRAP_COLOR', 'BEZEL_COLOR', 'BACKGROUND_COLOR']\",\n",
       "       \"variation_filters_['COLOR', 'Seleccionar Modelo']\",\n",
       "       \"variation_filters_['COLOR', 'TAMAÑO']\",\n",
       "       \"variation_filters_['COLOR', 'TIPO CADENA']\",\n",
       "       \"variation_filters_['COLOR', 'TIPO']\",\n",
       "       \"variation_filters_['COLOR', 'Talle']\",\n",
       "       \"variation_filters_['COLOR', 'Tamaño']\",\n",
       "       \"variation_filters_['COLOR', 'Tipo']\",\n",
       "       \"variation_filters_['COLOR', 'WRISTBAND_COLOR']\",\n",
       "       \"variation_filters_['COLOR', 'cm']\",\n",
       "       \"variation_filters_['COLOR', 'diseño de dije']\",\n",
       "       \"variation_filters_['COLOR', 'forma']\",\n",
       "       \"variation_filters_['COLOR', 'formas']\",\n",
       "       \"variation_filters_['COLOR', 'largo del collar']\",\n",
       "       \"variation_filters_['COLOR', 'largos']\",\n",
       "       \"variation_filters_['COLOR', 'medida']\",\n",
       "       \"variation_filters_['COLOR', 'modelos de cadenas']\",\n",
       "       \"variation_filters_['COLOR', 'modelos:']\",\n",
       "       \"variation_filters_['COLOR', 'tamaño']\",\n",
       "       \"variation_filters_['COLOR', 'tipo de collar']\",\n",
       "       \"variation_filters_['COLOR']\", \"variation_filters_['COLORS']\",\n",
       "       \"variation_filters_['CRISTAL SWAROVSKI', 'COLOR', 'CRISTAL SWAROVSKI', 'COLOR', 'COLOR', 'COLOR', 'CRISTAL SWAROVSKI', 'COLOR', 'COLOR', 'CRISTAL SWAROVSKI', 'COLOR', 'CRISTAL SWAROVSKI', 'COLOR', 'COLOR', 'COLOR', 'COLOR', 'CRISTAL SWAROVSKI', 'COLOR', 'COLOR', 'COLOR', 'CRISTAL SWAROVSKI', 'COLOR', 'COLOR', 'COLOR', 'CRISTAL SWAROVSKI', 'COLOR', 'COLOR', 'COLOR', 'CRISTAL SWAROVSKI', 'COLOR', 'CRISTAL SWAROVSKI', 'COLOR']\",\n",
       "       \"variation_filters_['Cadena', 'COLOR', 'Cadena', 'COLOR', 'COLOR', 'COLOR', 'Cadena', 'COLOR']\",\n",
       "       \"variation_filters_['Cadena', 'COLOR', 'Cadena', 'COLOR', 'COLOR', 'COLOR']\",\n",
       "       \"variation_filters_['Cadena', 'COLOR', 'Cadena', 'COLOR', 'COLOR']\",\n",
       "       \"variation_filters_['Cadena', 'COLOR', 'Cadena', 'COLOR']\",\n",
       "       \"variation_filters_['Caja', 'STRAP_COLOR', 'BEZEL_COLOR', 'BACKGROUND_COLOR', 'Caja', 'STRAP_COLOR', 'BEZEL_COLOR', 'BACKGROUND_COLOR']\",\n",
       "       \"variation_filters_['Calendario', 'STRAP_COLOR', 'BEZEL_COLOR', 'BACKGROUND_COLOR', 'Calendario', 'STRAP_COLOR', 'BEZEL_COLOR', 'BACKGROUND_COLOR', 'STRAP_COLOR', 'BEZEL_COLOR', 'BACKGROUND_COLOR', 'BEZEL_COLOR', 'BACKGROUND_COLOR', 'Calendario', 'STRAP_COLOR', 'BEZEL_COLOR', 'BACKGROUND_COLOR']\",\n",
       "       \"variation_filters_['Calendario', 'STRAP_COLOR', 'BEZEL_COLOR', 'BACKGROUND_COLOR', 'Calendario', 'STRAP_COLOR', 'BEZEL_COLOR', 'BACKGROUND_COLOR']\",\n",
       "       \"variation_filters_['Calendario', 'STRAP_COLOR', 'BEZEL_COLOR', 'BACKGROUND_COLOR']\",\n",
       "       \"variation_filters_['Carta', 'COLOR', 'Carta', 'COLOR', 'COLOR', 'COLOR', 'Carta', 'COLOR', 'COLOR', 'Carta', 'COLOR', 'Carta', 'COLOR', 'COLOR']\",\n",
       "       \"variation_filters_['Color y Dijes']\",\n",
       "       \"variation_filters_['Color y Medida']\",\n",
       "       \"variation_filters_['Color']\", \"variation_filters_['Colores']\",\n",
       "       \"variation_filters_['Colors', 'DIAMETER']\",\n",
       "       \"variation_filters_['DIAMETER', 'Forma']\",\n",
       "       \"variation_filters_['DIAMETER', 'LENGTH', 'Largo de Collar']\",\n",
       "       \"variation_filters_['DIAMETER', 'LENGTH', 'TONO']\",\n",
       "       \"variation_filters_['DIAMETER', 'LENGTH', 'Tamaño']\",\n",
       "       \"variation_filters_['DIAMETER', 'LENGTH', 'estilo']\",\n",
       "       \"variation_filters_['DIAMETER', 'LENGTH']\",\n",
       "       \"variation_filters_['DIAMETER', 'Largo de la pulsera']\",\n",
       "       \"variation_filters_['DIAMETER', 'Modelos']\",\n",
       "       \"variation_filters_['DIAMETER', 'Motivo']\",\n",
       "       \"variation_filters_['DIAMETER', 'SIGNO']\",\n",
       "       \"variation_filters_['DIAMETER', 'combo diseño']\",\n",
       "       \"variation_filters_['DIAMETER']\", \"variation_filters_['Estilo']\",\n",
       "       \"variation_filters_['Impresión']\", \"variation_filters_['LENGTH']\",\n",
       "       \"variation_filters_['MAQUINAS']\", \"variation_filters_['MEDIDA']\",\n",
       "       \"variation_filters_['MODEL']\",\n",
       "       \"variation_filters_['Medida de muñeca']\",\n",
       "       \"variation_filters_['Negro']\", \"variation_filters_['Numero']\",\n",
       "       \"variation_filters_['ORIENTACION ETIQUETA']\",\n",
       "       \"variation_filters_['Rojo']\", \"variation_filters_['SIZE']\",\n",
       "       \"variation_filters_['STRAP_COLOR', 'BACKGROUND_COLOR', 'STRAP_COLOR', 'BACKGROUND_COLOR', 'BACKGROUND_COLOR', 'BACKGROUND_COLOR', 'STRAP_COLOR', 'BACKGROUND_COLOR', 'BACKGROUND_COLOR', 'STRAP_COLOR', 'BACKGROUND_COLOR', 'STRAP_COLOR', 'BACKGROUND_COLOR', 'BACKGROUND_COLOR']\",\n",
       "       \"variation_filters_['STRAP_COLOR', 'BACKGROUND_COLOR', 'STRAP_COLOR', 'BACKGROUND_COLOR', 'BACKGROUND_COLOR', 'BACKGROUND_COLOR', 'STRAP_COLOR', 'BACKGROUND_COLOR', 'BACKGROUND_COLOR', 'STRAP_COLOR', 'BACKGROUND_COLOR', 'STRAP_COLOR', 'BACKGROUND_COLOR']\",\n",
       "       \"variation_filters_['STRAP_COLOR', 'BACKGROUND_COLOR', 'STRAP_COLOR', 'BACKGROUND_COLOR', 'BACKGROUND_COLOR', 'BACKGROUND_COLOR', 'STRAP_COLOR', 'BACKGROUND_COLOR', 'BACKGROUND_COLOR']\",\n",
       "       \"variation_filters_['STRAP_COLOR', 'BACKGROUND_COLOR', 'STRAP_COLOR', 'BACKGROUND_COLOR', 'BACKGROUND_COLOR', 'BACKGROUND_COLOR', 'STRAP_COLOR', 'BACKGROUND_COLOR']\",\n",
       "       \"variation_filters_['STRAP_COLOR', 'BACKGROUND_COLOR', 'STRAP_COLOR', 'BACKGROUND_COLOR', 'BACKGROUND_COLOR', 'BACKGROUND_COLOR']\",\n",
       "       \"variation_filters_['STRAP_COLOR', 'BACKGROUND_COLOR', 'STRAP_COLOR', 'BACKGROUND_COLOR', 'BACKGROUND_COLOR']\",\n",
       "       \"variation_filters_['STRAP_COLOR', 'BACKGROUND_COLOR', 'STRAP_COLOR', 'BACKGROUND_COLOR']\",\n",
       "       \"variation_filters_['STRAP_COLOR', 'BACKGROUND_COLOR']\",\n",
       "       \"variation_filters_['STRAP_COLOR', 'BEZEL_COLOR', 'BACKGROUND_COLOR', 'Luz']\",\n",
       "       \"variation_filters_['STRAP_COLOR', 'BEZEL_COLOR', 'BACKGROUND_COLOR', 'Malla']\",\n",
       "       \"variation_filters_['STRAP_COLOR', 'BEZEL_COLOR', 'BACKGROUND_COLOR', 'Mecanismo', 'STRAP_COLOR', 'BEZEL_COLOR', 'BACKGROUND_COLOR']\",\n",
       "       \"variation_filters_['STRAP_COLOR', 'BEZEL_COLOR', 'BACKGROUND_COLOR', 'STRAP_COLOR', 'BEZEL_COLOR', 'BACKGROUND_COLOR', 'BEZEL_COLOR', 'BACKGROUND_COLOR', 'STRAP_COLOR', 'BEZEL_COLOR', 'BACKGROUND_COLOR', 'BEZEL_COLOR', 'BACKGROUND_COLOR', 'STRAP_COLOR', 'BEZEL_COLOR', 'BACKGROUND_COLOR', 'BEZEL_COLOR', 'BACKGROUND_COLOR', 'STRAP_COLOR', 'BEZEL_COLOR', 'BACKGROUND_COLOR', 'STRAP_COLOR', 'BEZEL_COLOR', 'BACKGROUND_COLOR', 'BEZEL_COLOR', 'BACKGROUND_COLOR', 'BEZEL_COLOR', 'BACKGROUND_COLOR', 'BEZEL_COLOR', 'BACKGROUND_COLOR']\",\n",
       "       \"variation_filters_['STRAP_COLOR', 'BEZEL_COLOR', 'BACKGROUND_COLOR', 'STRAP_COLOR', 'BEZEL_COLOR', 'BACKGROUND_COLOR', 'BEZEL_COLOR', 'BACKGROUND_COLOR', 'STRAP_COLOR', 'BEZEL_COLOR', 'BACKGROUND_COLOR', 'BEZEL_COLOR', 'BACKGROUND_COLOR', 'STRAP_COLOR', 'BEZEL_COLOR', 'BACKGROUND_COLOR', 'BEZEL_COLOR', 'BACKGROUND_COLOR', 'STRAP_COLOR', 'BEZEL_COLOR', 'BACKGROUND_COLOR', 'STRAP_COLOR', 'BEZEL_COLOR', 'BACKGROUND_COLOR']\",\n",
       "       \"variation_filters_['STRAP_COLOR', 'BEZEL_COLOR', 'BACKGROUND_COLOR', 'STRAP_COLOR', 'BEZEL_COLOR', 'BACKGROUND_COLOR', 'BEZEL_COLOR', 'BACKGROUND_COLOR', 'STRAP_COLOR', 'BEZEL_COLOR', 'BACKGROUND_COLOR', 'BEZEL_COLOR', 'BACKGROUND_COLOR', 'STRAP_COLOR', 'BEZEL_COLOR', 'BACKGROUND_COLOR', 'BEZEL_COLOR', 'BACKGROUND_COLOR', 'STRAP_COLOR', 'BEZEL_COLOR', 'BACKGROUND_COLOR']\",\n",
       "       \"variation_filters_['STRAP_COLOR', 'BEZEL_COLOR', 'BACKGROUND_COLOR', 'STRAP_COLOR', 'BEZEL_COLOR', 'BACKGROUND_COLOR', 'BEZEL_COLOR', 'BACKGROUND_COLOR', 'STRAP_COLOR', 'BEZEL_COLOR', 'BACKGROUND_COLOR', 'BEZEL_COLOR', 'BACKGROUND_COLOR', 'STRAP_COLOR', 'BEZEL_COLOR', 'BACKGROUND_COLOR', 'BEZEL_COLOR', 'BACKGROUND_COLOR']\",\n",
       "       \"variation_filters_['STRAP_COLOR', 'BEZEL_COLOR', 'BACKGROUND_COLOR', 'STRAP_COLOR', 'BEZEL_COLOR', 'BACKGROUND_COLOR', 'BEZEL_COLOR', 'BACKGROUND_COLOR', 'STRAP_COLOR', 'BEZEL_COLOR', 'BACKGROUND_COLOR', 'BEZEL_COLOR', 'BACKGROUND_COLOR', 'STRAP_COLOR', 'BEZEL_COLOR', 'BACKGROUND_COLOR']\",\n",
       "       \"variation_filters_['STRAP_COLOR', 'BEZEL_COLOR', 'BACKGROUND_COLOR', 'STRAP_COLOR', 'BEZEL_COLOR', 'BACKGROUND_COLOR', 'BEZEL_COLOR', 'BACKGROUND_COLOR', 'STRAP_COLOR', 'BEZEL_COLOR', 'BACKGROUND_COLOR', 'BEZEL_COLOR', 'BACKGROUND_COLOR']\",\n",
       "       \"variation_filters_['STRAP_COLOR', 'BEZEL_COLOR', 'BACKGROUND_COLOR', 'STRAP_COLOR', 'BEZEL_COLOR', 'BACKGROUND_COLOR', 'BEZEL_COLOR', 'BACKGROUND_COLOR', 'STRAP_COLOR', 'BEZEL_COLOR', 'BACKGROUND_COLOR']\",\n",
       "       \"variation_filters_['STRAP_COLOR', 'BEZEL_COLOR', 'BACKGROUND_COLOR', 'STRAP_COLOR', 'BEZEL_COLOR', 'BACKGROUND_COLOR', 'BEZEL_COLOR', 'BACKGROUND_COLOR']\",\n",
       "       \"variation_filters_['STRAP_COLOR', 'BEZEL_COLOR', 'BACKGROUND_COLOR', 'STRAP_COLOR', 'BEZEL_COLOR', 'BACKGROUND_COLOR']\",\n",
       "       \"variation_filters_['STRAP_COLOR', 'BEZEL_COLOR', 'BACKGROUND_COLOR', 'Sumergible', 'STRAP_COLOR', 'BEZEL_COLOR', 'BACKGROUND_COLOR', 'STRAP_COLOR', 'BEZEL_COLOR', 'BACKGROUND_COLOR', 'Sumergible', 'STRAP_COLOR', 'BEZEL_COLOR', 'BACKGROUND_COLOR', 'Sumergible']\",\n",
       "       \"variation_filters_['STRAP_COLOR', 'BEZEL_COLOR', 'BACKGROUND_COLOR', 'Sumergible', 'STRAP_COLOR', 'BEZEL_COLOR', 'BACKGROUND_COLOR', 'STRAP_COLOR', 'BEZEL_COLOR', 'BACKGROUND_COLOR', 'Sumergible']\",\n",
       "       \"variation_filters_['STRAP_COLOR', 'BEZEL_COLOR', 'BACKGROUND_COLOR', 'Sumergible']\",\n",
       "       \"variation_filters_['STRAP_COLOR', 'BEZEL_COLOR', 'BACKGROUND_COLOR', 'Talle']\",\n",
       "       \"variation_filters_['STRAP_COLOR', 'BEZEL_COLOR', 'BACKGROUND_COLOR', 'cantidad de alarmas']\",\n",
       "       \"variation_filters_['STRAP_COLOR', 'BEZEL_COLOR', 'BACKGROUND_COLOR', 'color']\",\n",
       "       \"variation_filters_['STRAP_COLOR', 'BEZEL_COLOR', 'BACKGROUND_COLOR', 'material del bisel']\",\n",
       "       \"variation_filters_['STRAP_COLOR', 'BEZEL_COLOR', 'BACKGROUND_COLOR', 'talle']\",\n",
       "       \"variation_filters_['STRAP_COLOR', 'BEZEL_COLOR', 'BACKGROUND_COLOR']\",\n",
       "       \"variation_filters_['STRAP_COLOR', 'BEZEL_COLOR', 'STRAP_COLOR', 'BEZEL_COLOR', 'BEZEL_COLOR', 'BEZEL_COLOR', 'STRAP_COLOR', 'BEZEL_COLOR', 'BEZEL_COLOR', 'STRAP_COLOR', 'BEZEL_COLOR', 'STRAP_COLOR', 'BEZEL_COLOR', 'BEZEL_COLOR', 'BEZEL_COLOR']\",\n",
       "       \"variation_filters_['STRAP_COLOR', 'BEZEL_COLOR', 'STRAP_COLOR', 'BEZEL_COLOR', 'BEZEL_COLOR', 'BEZEL_COLOR', 'STRAP_COLOR', 'BEZEL_COLOR', 'BEZEL_COLOR']\",\n",
       "       \"variation_filters_['STRAP_COLOR', 'BEZEL_COLOR', 'STRAP_COLOR', 'BEZEL_COLOR', 'BEZEL_COLOR', 'BEZEL_COLOR', 'STRAP_COLOR', 'BEZEL_COLOR']\",\n",
       "       \"variation_filters_['STRAP_COLOR', 'BEZEL_COLOR', 'STRAP_COLOR', 'BEZEL_COLOR', 'BEZEL_COLOR', 'BEZEL_COLOR']\",\n",
       "       \"variation_filters_['STRAP_COLOR', 'BEZEL_COLOR', 'STRAP_COLOR', 'BEZEL_COLOR', 'BEZEL_COLOR']\",\n",
       "       \"variation_filters_['STRAP_COLOR', 'BEZEL_COLOR', 'STRAP_COLOR', 'BEZEL_COLOR']\",\n",
       "       \"variation_filters_['STRAP_COLOR', 'BEZEL_COLOR']\",\n",
       "       \"variation_filters_['STRAP_COLOR']\",\n",
       "       \"variation_filters_['Variantes:']\",\n",
       "       \"variation_filters_['WALL_CLOCK_STRUCTURE_COLOR', 'WALL_CLOCK_FACE_COLOR', 'WALL_CLOCK_STRUCTURE_COLOR', 'WALL_CLOCK_FACE_COLOR']\",\n",
       "       \"variation_filters_['WALL_CLOCK_STRUCTURE_COLOR', 'WALL_CLOCK_FACE_COLOR']\",\n",
       "       \"variation_filters_['WIDTH', 'COLOR', 'Medida', 'WIDTH', 'COLOR', 'WIDTH', 'COLOR', 'COLOR', 'Medida', 'WIDTH', 'COLOR', 'COLOR', 'COLOR', 'Medida', 'WIDTH', 'COLOR', 'COLOR', 'WIDTH', 'COLOR', 'COLOR', 'Medida', 'WIDTH', 'COLOR', 'COLOR', 'COLOR', 'Medida']\",\n",
       "       \"variation_filters_['WIDTH', 'COLOR', 'Talle', 'WIDTH', 'COLOR', 'WIDTH', 'COLOR', 'COLOR', 'Talle', 'WIDTH', 'COLOR', 'COLOR', 'COLOR', 'Talle', 'WIDTH', 'COLOR', 'COLOR', 'WIDTH', 'COLOR', 'COLOR', 'Talle', 'WIDTH', 'COLOR', 'COLOR', 'COLOR', 'Talle', 'WIDTH', 'COLOR', 'COLOR', 'COLOR', 'Talle', 'WIDTH', 'COLOR', 'COLOR', 'COLOR', 'COLOR', 'Talle', 'WIDTH', 'COLOR', 'COLOR', 'WIDTH', 'COLOR', 'COLOR', 'COLOR', 'Talle', 'COLOR', 'WIDTH', 'COLOR', 'WIDTH', 'COLOR', 'WIDTH', 'COLOR', 'COLOR', 'COLOR', 'Talle', 'COLOR', 'Talle', 'COLOR', 'WIDTH', 'COLOR', 'WIDTH', 'COLOR', 'COLOR', 'COLOR', 'COLOR', 'Talle', 'COLOR', 'COLOR', 'COLOR', 'WIDTH', 'COLOR', 'Talle', 'WIDTH', 'COLOR', 'COLOR', 'COLOR', 'COLOR', 'Talle', 'COLOR', 'Talle', 'COLOR', 'COLOR', 'COLOR', 'Talle', 'WIDTH', 'COLOR', 'COLOR', 'WIDTH', 'COLOR', 'COLOR', 'WIDTH', 'COLOR', 'COLOR', 'COLOR', 'WIDTH', 'COLOR', 'COLOR', 'COLOR', 'Talle', 'COLOR', 'COLOR', 'COLOR', 'COLOR', 'COLOR', 'WIDTH', 'COLOR', 'Talle', 'COLOR', 'Talle', 'WIDTH', 'COLOR', 'Talle', 'COLOR', 'WIDTH', 'COLOR', 'WIDTH', 'COLOR', 'COLOR', 'Talle', 'COLOR', 'COLOR', 'COLOR', 'COLOR', 'Talle', 'COLOR', 'Talle', 'WIDTH', 'COLOR', 'COLOR', 'COLOR', 'COLOR', 'COLOR', 'Talle', 'WIDTH', 'COLOR', 'COLOR', 'WIDTH', 'COLOR', 'COLOR', 'COLOR', 'COLOR', 'Talle', 'WIDTH', 'COLOR', 'COLOR', 'COLOR', 'COLOR', 'Talle', 'WIDTH', 'COLOR', 'Talle', 'COLOR', 'COLOR', 'Talle', 'WIDTH', 'COLOR', 'COLOR', 'COLOR', 'Talle', 'COLOR', 'WIDTH', 'COLOR', 'COLOR', 'WIDTH', 'COLOR', 'COLOR', 'WIDTH', 'COLOR', 'COLOR', 'COLOR', 'COLOR', 'COLOR', 'Talle', 'COLOR', 'COLOR', 'COLOR', 'COLOR', 'COLOR', 'Talle', 'WIDTH', 'COLOR', 'COLOR', 'COLOR', 'COLOR', 'COLOR', 'Talle', 'COLOR', 'WIDTH', 'COLOR', 'COLOR', 'COLOR', 'COLOR', 'Talle', 'COLOR', 'Talle', 'WIDTH', 'COLOR']\",\n",
       "       \"variation_filters_['WIDTH', 'COLOR', 'Tamaño', 'WIDTH', 'COLOR', 'WIDTH', 'COLOR', 'COLOR', 'Tamaño', 'WIDTH', 'COLOR', 'COLOR', 'COLOR', 'Tamaño', 'WIDTH', 'COLOR', 'COLOR', 'WIDTH', 'COLOR', 'COLOR', 'Tamaño', 'WIDTH', 'COLOR']\",\n",
       "       \"variation_filters_['WIDTH', 'COLOR', 'WIDTH', 'COLOR', 'COLOR', 'COLOR', 'WIDTH', 'COLOR', 'COLOR', 'WIDTH', 'COLOR', 'WIDTH', 'COLOR', 'COLOR', 'COLOR', 'COLOR', 'WIDTH', 'COLOR', 'COLOR', 'COLOR', 'WIDTH', 'COLOR', 'COLOR', 'COLOR', 'WIDTH', 'COLOR', 'COLOR', 'COLOR', 'WIDTH', 'COLOR', 'WIDTH', 'COLOR', 'COLOR', 'COLOR', 'COLOR', 'WIDTH', 'COLOR', 'COLOR', 'WIDTH', 'COLOR', 'COLOR', 'COLOR', 'WIDTH', 'COLOR', 'COLOR', 'WIDTH', 'COLOR', 'COLOR', 'COLOR', 'COLOR', 'COLOR', 'COLOR', 'WIDTH', 'COLOR', 'WIDTH', 'COLOR', 'COLOR', 'COLOR', 'WIDTH', 'COLOR', 'COLOR', 'COLOR', 'WIDTH', 'COLOR', 'COLOR', 'WIDTH', 'COLOR', 'COLOR', 'WIDTH', 'COLOR']\",\n",
       "       \"variation_filters_['WIDTH', 'COLOR', 'WIDTH', 'COLOR', 'COLOR', 'COLOR', 'WIDTH', 'COLOR', 'COLOR', 'WIDTH', 'COLOR', 'WIDTH', 'COLOR', 'COLOR', 'COLOR', 'COLOR', 'WIDTH', 'COLOR', 'COLOR', 'COLOR', 'WIDTH', 'COLOR', 'COLOR', 'COLOR', 'WIDTH', 'COLOR', 'COLOR', 'COLOR', 'WIDTH', 'COLOR', 'WIDTH', 'COLOR', 'COLOR', 'COLOR', 'COLOR', 'WIDTH', 'COLOR', 'COLOR', 'WIDTH', 'COLOR', 'COLOR', 'COLOR', 'WIDTH', 'COLOR', 'COLOR', 'WIDTH', 'COLOR', 'COLOR', 'COLOR', 'COLOR', 'COLOR', 'COLOR', 'WIDTH', 'COLOR']\",\n",
       "       \"variation_filters_['WIDTH', 'COLOR', 'WIDTH', 'COLOR', 'COLOR', 'COLOR', 'WIDTH', 'COLOR', 'COLOR', 'WIDTH', 'COLOR', 'WIDTH', 'COLOR', 'COLOR', 'COLOR', 'COLOR', 'WIDTH', 'COLOR', 'COLOR', 'COLOR', 'WIDTH', 'COLOR', 'COLOR', 'COLOR', 'WIDTH', 'COLOR', 'COLOR', 'COLOR', 'WIDTH', 'COLOR', 'WIDTH', 'COLOR', 'COLOR', 'COLOR', 'COLOR', 'WIDTH', 'COLOR', 'COLOR', 'WIDTH', 'COLOR', 'COLOR', 'COLOR', 'WIDTH', 'COLOR', 'COLOR', 'WIDTH', 'COLOR']\",\n",
       "       \"variation_filters_['WIDTH', 'COLOR', 'WIDTH', 'COLOR', 'COLOR', 'COLOR', 'WIDTH', 'COLOR', 'COLOR', 'WIDTH', 'COLOR', 'WIDTH', 'COLOR', 'COLOR', 'COLOR', 'COLOR', 'WIDTH', 'COLOR', 'COLOR', 'COLOR', 'WIDTH', 'COLOR', 'COLOR', 'COLOR', 'WIDTH', 'COLOR', 'COLOR', 'COLOR', 'WIDTH', 'COLOR', 'WIDTH', 'COLOR', 'COLOR']\",\n",
       "       \"variation_filters_['WIDTH', 'COLOR', 'WIDTH', 'COLOR', 'COLOR', 'COLOR', 'WIDTH', 'COLOR', 'COLOR', 'WIDTH', 'COLOR', 'WIDTH', 'COLOR', 'COLOR', 'COLOR', 'COLOR', 'WIDTH', 'COLOR', 'COLOR', 'COLOR', 'WIDTH', 'COLOR', 'COLOR', 'COLOR', 'WIDTH', 'COLOR', 'COLOR', 'COLOR', 'WIDTH', 'COLOR', 'WIDTH', 'COLOR']\",\n",
       "       \"variation_filters_['WIDTH', 'COLOR', 'WIDTH', 'COLOR', 'COLOR', 'COLOR', 'WIDTH', 'COLOR', 'COLOR', 'WIDTH', 'COLOR', 'WIDTH', 'COLOR', 'COLOR', 'COLOR', 'COLOR', 'WIDTH', 'COLOR', 'COLOR', 'COLOR', 'WIDTH', 'COLOR', 'COLOR', 'COLOR', 'WIDTH', 'COLOR', 'COLOR', 'COLOR', 'WIDTH', 'COLOR']\",\n",
       "       \"variation_filters_['WIDTH', 'COLOR', 'WIDTH', 'COLOR', 'COLOR', 'COLOR', 'WIDTH', 'COLOR', 'COLOR', 'WIDTH', 'COLOR', 'WIDTH', 'COLOR', 'COLOR', 'COLOR', 'COLOR', 'WIDTH', 'COLOR', 'COLOR', 'COLOR', 'WIDTH', 'COLOR', 'COLOR', 'COLOR', 'WIDTH', 'COLOR', 'COLOR', 'COLOR']\",\n",
       "       \"variation_filters_['WIDTH', 'COLOR', 'WIDTH', 'COLOR', 'COLOR', 'COLOR', 'WIDTH', 'COLOR', 'COLOR', 'WIDTH', 'COLOR', 'WIDTH', 'COLOR', 'COLOR', 'COLOR', 'COLOR', 'WIDTH', 'COLOR', 'COLOR', 'COLOR', 'WIDTH', 'COLOR', 'COLOR', 'COLOR', 'WIDTH', 'COLOR', 'COLOR']\",\n",
       "       \"variation_filters_['WIDTH', 'COLOR', 'WIDTH', 'COLOR', 'COLOR', 'COLOR', 'WIDTH', 'COLOR', 'COLOR', 'WIDTH', 'COLOR', 'WIDTH', 'COLOR', 'COLOR', 'COLOR', 'COLOR', 'WIDTH', 'COLOR', 'COLOR', 'COLOR', 'WIDTH', 'COLOR', 'COLOR', 'COLOR', 'WIDTH', 'COLOR']\",\n",
       "       \"variation_filters_['WIDTH', 'COLOR', 'WIDTH', 'COLOR', 'COLOR', 'COLOR', 'WIDTH', 'COLOR', 'COLOR', 'WIDTH', 'COLOR', 'WIDTH', 'COLOR', 'COLOR', 'COLOR', 'COLOR', 'WIDTH', 'COLOR', 'COLOR', 'COLOR', 'WIDTH', 'COLOR', 'COLOR', 'COLOR']\",\n",
       "       \"variation_filters_['WIDTH', 'COLOR', 'WIDTH', 'COLOR', 'COLOR', 'COLOR', 'WIDTH', 'COLOR', 'COLOR', 'WIDTH', 'COLOR', 'WIDTH', 'COLOR', 'COLOR', 'COLOR', 'COLOR', 'WIDTH', 'COLOR', 'COLOR', 'COLOR']\",\n",
       "       \"variation_filters_['WIDTH', 'COLOR', 'WIDTH', 'COLOR', 'COLOR', 'COLOR', 'WIDTH', 'COLOR', 'COLOR', 'WIDTH', 'COLOR', 'WIDTH', 'COLOR', 'COLOR', 'COLOR', 'COLOR', 'WIDTH', 'COLOR', 'COLOR']\",\n",
       "       \"variation_filters_['WIDTH', 'COLOR', 'WIDTH', 'COLOR', 'COLOR', 'COLOR', 'WIDTH', 'COLOR', 'COLOR', 'WIDTH', 'COLOR', 'WIDTH', 'COLOR', 'COLOR', 'COLOR', 'COLOR', 'WIDTH', 'COLOR']\",\n",
       "       \"variation_filters_['WIDTH', 'COLOR', 'WIDTH', 'COLOR', 'COLOR', 'COLOR', 'WIDTH', 'COLOR', 'COLOR', 'WIDTH', 'COLOR', 'WIDTH', 'COLOR', 'COLOR', 'COLOR']\",\n",
       "       \"variation_filters_['WIDTH', 'COLOR', 'WIDTH', 'COLOR', 'COLOR', 'COLOR', 'WIDTH', 'COLOR', 'COLOR', 'WIDTH', 'COLOR', 'WIDTH', 'COLOR', 'COLOR']\",\n",
       "       \"variation_filters_['WIDTH', 'COLOR', 'WIDTH', 'COLOR', 'COLOR', 'COLOR', 'WIDTH', 'COLOR', 'COLOR', 'WIDTH', 'COLOR', 'WIDTH', 'COLOR']\",\n",
       "       \"variation_filters_['WIDTH', 'COLOR', 'WIDTH', 'COLOR', 'COLOR', 'COLOR', 'WIDTH', 'COLOR', 'COLOR', 'WIDTH', 'COLOR']\",\n",
       "       \"variation_filters_['WIDTH', 'COLOR', 'WIDTH', 'COLOR', 'COLOR', 'COLOR', 'WIDTH', 'COLOR', 'COLOR']\",\n",
       "       \"variation_filters_['WIDTH', 'COLOR', 'WIDTH', 'COLOR', 'COLOR', 'COLOR', 'WIDTH', 'COLOR']\",\n",
       "       \"variation_filters_['WIDTH', 'COLOR', 'WIDTH', 'COLOR', 'COLOR', 'COLOR']\",\n",
       "       \"variation_filters_['WIDTH', 'COLOR', 'WIDTH', 'COLOR', 'COLOR']\",\n",
       "       \"variation_filters_['WIDTH', 'COLOR', 'WIDTH', 'COLOR']\",\n",
       "       \"variation_filters_['WIDTH', 'COLOR']\",\n",
       "       \"variation_filters_['WRISTBAND_COLOR', 'BEZEL_COLOR', 'WRISTBAND_COLOR', 'BEZEL_COLOR', 'BEZEL_COLOR', 'BEZEL_COLOR', 'WRISTBAND_COLOR', 'BEZEL_COLOR', 'BEZEL_COLOR', 'WRISTBAND_COLOR', 'BEZEL_COLOR', 'WRISTBAND_COLOR', 'BEZEL_COLOR', 'BEZEL_COLOR', 'BEZEL_COLOR', 'BEZEL_COLOR', 'WRISTBAND_COLOR', 'BEZEL_COLOR', 'BEZEL_COLOR', 'BEZEL_COLOR', 'WRISTBAND_COLOR', 'BEZEL_COLOR', 'BEZEL_COLOR', 'BEZEL_COLOR', 'WRISTBAND_COLOR', 'BEZEL_COLOR', 'BEZEL_COLOR', 'BEZEL_COLOR', 'WRISTBAND_COLOR', 'BEZEL_COLOR', 'WRISTBAND_COLOR', 'BEZEL_COLOR', 'BEZEL_COLOR', 'BEZEL_COLOR', 'BEZEL_COLOR', 'WRISTBAND_COLOR', 'BEZEL_COLOR', 'BEZEL_COLOR', 'WRISTBAND_COLOR', 'BEZEL_COLOR', 'BEZEL_COLOR', 'BEZEL_COLOR', 'WRISTBAND_COLOR', 'BEZEL_COLOR', 'BEZEL_COLOR', 'WRISTBAND_COLOR', 'BEZEL_COLOR', 'BEZEL_COLOR', 'BEZEL_COLOR', 'BEZEL_COLOR', 'BEZEL_COLOR', 'BEZEL_COLOR', 'WRISTBAND_COLOR', 'BEZEL_COLOR', 'WRISTBAND_COLOR', 'BEZEL_COLOR', 'BEZEL_COLOR', 'BEZEL_COLOR']\",\n",
       "       \"variation_filters_['WRISTBAND_COLOR', 'BEZEL_COLOR', 'WRISTBAND_COLOR', 'BEZEL_COLOR', 'BEZEL_COLOR']\",\n",
       "       \"variation_filters_['WRISTBAND_COLOR', 'BEZEL_COLOR']\",\n",
       "       \"variation_filters_['WRISTBAND_COLOR']\",\n",
       "       \"variation_filters_['WRISTBAND_DESIGN']\",\n",
       "       \"variation_filters_['anillo 4x4']\",\n",
       "       \"variation_filters_['color y medida']\",\n",
       "       \"variation_filters_['color']\", \"variation_filters_['grosor']\",\n",
       "       \"variation_filters_['tamaño']\"], dtype=object)"
      ]
     },
     "execution_count": 274,
     "metadata": {},
     "output_type": "execute_result"
    }
   ],
   "source": [
    "X.columns.values"
   ]
  },
  {
   "attachments": {},
   "cell_type": "markdown",
   "metadata": {},
   "source": [
    "## Classification models (pipeline)"
   ]
  },
  {
   "cell_type": "code",
   "execution_count": 275,
   "metadata": {},
   "outputs": [],
   "source": [
    "# class GetDummiesTransformer(BaseEstimator, TransformerMixin):\n",
    "#     def __init__(self, columns):\n",
    "#         self.columns = columns\n",
    "    \n",
    "#     def transform(self, X, *_):\n",
    "#         if not isinstance(X, pd.DataFrame):\n",
    "#             raise TypeError(\"Este Transformador solo funciona en DF de Pandas\")\n",
    "        \n",
    "#         out = pd.get_dummies(X, columns=self.columns, drop_first=True)\n",
    "#         out.dropna(how='all', inplace=True)\n",
    "#         return out\n",
    "\n",
    "#     def fit(self, X, *_):\n",
    "#         return self"
   ]
  },
  {
   "cell_type": "code",
   "execution_count": 276,
   "metadata": {},
   "outputs": [],
   "source": [
    "class CustomFeatureSelection(BaseEstimator, TransformerMixin):\n",
    "    \n",
    "    def __init__(self, selected_features):\n",
    "        self.selected_features=selected_features\n",
    "    \n",
    "    def fit(self,X,y=None):\n",
    "        return self\n",
    "    \n",
    "    def transform(self, X, y=None):\n",
    "        return X[self.selected_features]"
   ]
  },
  {
   "cell_type": "code",
   "execution_count": 277,
   "metadata": {},
   "outputs": [],
   "source": [
    "selector = CustomFeatureSelection(selected_features=X.columns.values)"
   ]
  },
  {
   "cell_type": "code",
   "execution_count": 278,
   "metadata": {},
   "outputs": [],
   "source": [
    "pasos = [('feature_engineering',selector),\n",
    "         ('preprocesamiento', MinMaxScaler()), \n",
    "         ('clasificador', KNeighborsClassifier())]\n",
    "\n",
    "pipe=Pipeline(pasos)"
   ]
  },
  {
   "cell_type": "code",
   "execution_count": 279,
   "metadata": {},
   "outputs": [],
   "source": [
    "from sklearn.ensemble import RandomForestClassifier"
   ]
  },
  {
   "cell_type": "code",
   "execution_count": 280,
   "metadata": {},
   "outputs": [],
   "source": [
    "param_grid = [{'feature_engineering':[selector, None],\n",
    "               'preprocesamiento':[StandardScaler(), MinMaxScaler(), None],\n",
    "               'clasificador': [KNeighborsClassifier(), RandomForestClassifier(), LogisticRegression(solver='lbfgs')]}]"
   ]
  },
  {
   "cell_type": "code",
   "execution_count": 281,
   "metadata": {},
   "outputs": [],
   "source": [
    "folds=StratifiedKFold(n_splits=5,shuffle=True, random_state=42)"
   ]
  },
  {
   "cell_type": "code",
   "execution_count": 282,
   "metadata": {},
   "outputs": [
    {
     "name": "stderr",
     "output_type": "stream",
     "text": [
      "/Users/sofiaforni/Documents/Data Science/TPFinal_MeliDataScience/venv_tpfinal/lib/python3.7/site-packages/sklearn/linear_model/_logistic.py:818: ConvergenceWarning: lbfgs failed to converge (status=1):\n",
      "STOP: TOTAL NO. of ITERATIONS REACHED LIMIT.\n",
      "\n",
      "Increase the number of iterations (max_iter) or scale the data as shown in:\n",
      "    https://scikit-learn.org/stable/modules/preprocessing.html\n",
      "Please also refer to the documentation for alternative solver options:\n",
      "    https://scikit-learn.org/stable/modules/linear_model.html#logistic-regression\n",
      "  extra_warning_msg=_LOGISTIC_SOLVER_CONVERGENCE_MSG,\n",
      "/Users/sofiaforni/Documents/Data Science/TPFinal_MeliDataScience/venv_tpfinal/lib/python3.7/site-packages/sklearn/linear_model/_logistic.py:818: ConvergenceWarning: lbfgs failed to converge (status=1):\n",
      "STOP: TOTAL NO. of ITERATIONS REACHED LIMIT.\n",
      "\n",
      "Increase the number of iterations (max_iter) or scale the data as shown in:\n",
      "    https://scikit-learn.org/stable/modules/preprocessing.html\n",
      "Please also refer to the documentation for alternative solver options:\n",
      "    https://scikit-learn.org/stable/modules/linear_model.html#logistic-regression\n",
      "  extra_warning_msg=_LOGISTIC_SOLVER_CONVERGENCE_MSG,\n",
      "/Users/sofiaforni/Documents/Data Science/TPFinal_MeliDataScience/venv_tpfinal/lib/python3.7/site-packages/sklearn/linear_model/_logistic.py:818: ConvergenceWarning: lbfgs failed to converge (status=1):\n",
      "STOP: TOTAL NO. of ITERATIONS REACHED LIMIT.\n",
      "\n",
      "Increase the number of iterations (max_iter) or scale the data as shown in:\n",
      "    https://scikit-learn.org/stable/modules/preprocessing.html\n",
      "Please also refer to the documentation for alternative solver options:\n",
      "    https://scikit-learn.org/stable/modules/linear_model.html#logistic-regression\n",
      "  extra_warning_msg=_LOGISTIC_SOLVER_CONVERGENCE_MSG,\n",
      "/Users/sofiaforni/Documents/Data Science/TPFinal_MeliDataScience/venv_tpfinal/lib/python3.7/site-packages/sklearn/linear_model/_logistic.py:818: ConvergenceWarning: lbfgs failed to converge (status=1):\n",
      "STOP: TOTAL NO. of ITERATIONS REACHED LIMIT.\n",
      "\n",
      "Increase the number of iterations (max_iter) or scale the data as shown in:\n",
      "    https://scikit-learn.org/stable/modules/preprocessing.html\n",
      "Please also refer to the documentation for alternative solver options:\n",
      "    https://scikit-learn.org/stable/modules/linear_model.html#logistic-regression\n",
      "  extra_warning_msg=_LOGISTIC_SOLVER_CONVERGENCE_MSG,\n",
      "/Users/sofiaforni/Documents/Data Science/TPFinal_MeliDataScience/venv_tpfinal/lib/python3.7/site-packages/sklearn/linear_model/_logistic.py:818: ConvergenceWarning: lbfgs failed to converge (status=1):\n",
      "STOP: TOTAL NO. of ITERATIONS REACHED LIMIT.\n",
      "\n",
      "Increase the number of iterations (max_iter) or scale the data as shown in:\n",
      "    https://scikit-learn.org/stable/modules/preprocessing.html\n",
      "Please also refer to the documentation for alternative solver options:\n",
      "    https://scikit-learn.org/stable/modules/linear_model.html#logistic-regression\n",
      "  extra_warning_msg=_LOGISTIC_SOLVER_CONVERGENCE_MSG,\n",
      "/Users/sofiaforni/Documents/Data Science/TPFinal_MeliDataScience/venv_tpfinal/lib/python3.7/site-packages/sklearn/linear_model/_logistic.py:818: ConvergenceWarning: lbfgs failed to converge (status=1):\n",
      "STOP: TOTAL NO. of ITERATIONS REACHED LIMIT.\n",
      "\n",
      "Increase the number of iterations (max_iter) or scale the data as shown in:\n",
      "    https://scikit-learn.org/stable/modules/preprocessing.html\n",
      "Please also refer to the documentation for alternative solver options:\n",
      "    https://scikit-learn.org/stable/modules/linear_model.html#logistic-regression\n",
      "  extra_warning_msg=_LOGISTIC_SOLVER_CONVERGENCE_MSG,\n",
      "/Users/sofiaforni/Documents/Data Science/TPFinal_MeliDataScience/venv_tpfinal/lib/python3.7/site-packages/sklearn/linear_model/_logistic.py:818: ConvergenceWarning: lbfgs failed to converge (status=1):\n",
      "STOP: TOTAL NO. of ITERATIONS REACHED LIMIT.\n",
      "\n",
      "Increase the number of iterations (max_iter) or scale the data as shown in:\n",
      "    https://scikit-learn.org/stable/modules/preprocessing.html\n",
      "Please also refer to the documentation for alternative solver options:\n",
      "    https://scikit-learn.org/stable/modules/linear_model.html#logistic-regression\n",
      "  extra_warning_msg=_LOGISTIC_SOLVER_CONVERGENCE_MSG,\n",
      "/Users/sofiaforni/Documents/Data Science/TPFinal_MeliDataScience/venv_tpfinal/lib/python3.7/site-packages/sklearn/linear_model/_logistic.py:818: ConvergenceWarning: lbfgs failed to converge (status=1):\n",
      "STOP: TOTAL NO. of ITERATIONS REACHED LIMIT.\n",
      "\n",
      "Increase the number of iterations (max_iter) or scale the data as shown in:\n",
      "    https://scikit-learn.org/stable/modules/preprocessing.html\n",
      "Please also refer to the documentation for alternative solver options:\n",
      "    https://scikit-learn.org/stable/modules/linear_model.html#logistic-regression\n",
      "  extra_warning_msg=_LOGISTIC_SOLVER_CONVERGENCE_MSG,\n",
      "/Users/sofiaforni/Documents/Data Science/TPFinal_MeliDataScience/venv_tpfinal/lib/python3.7/site-packages/sklearn/linear_model/_logistic.py:818: ConvergenceWarning: lbfgs failed to converge (status=1):\n",
      "STOP: TOTAL NO. of ITERATIONS REACHED LIMIT.\n",
      "\n",
      "Increase the number of iterations (max_iter) or scale the data as shown in:\n",
      "    https://scikit-learn.org/stable/modules/preprocessing.html\n",
      "Please also refer to the documentation for alternative solver options:\n",
      "    https://scikit-learn.org/stable/modules/linear_model.html#logistic-regression\n",
      "  extra_warning_msg=_LOGISTIC_SOLVER_CONVERGENCE_MSG,\n",
      "/Users/sofiaforni/Documents/Data Science/TPFinal_MeliDataScience/venv_tpfinal/lib/python3.7/site-packages/sklearn/linear_model/_logistic.py:818: ConvergenceWarning: lbfgs failed to converge (status=1):\n",
      "STOP: TOTAL NO. of ITERATIONS REACHED LIMIT.\n",
      "\n",
      "Increase the number of iterations (max_iter) or scale the data as shown in:\n",
      "    https://scikit-learn.org/stable/modules/preprocessing.html\n",
      "Please also refer to the documentation for alternative solver options:\n",
      "    https://scikit-learn.org/stable/modules/linear_model.html#logistic-regression\n",
      "  extra_warning_msg=_LOGISTIC_SOLVER_CONVERGENCE_MSG,\n",
      "/Users/sofiaforni/Documents/Data Science/TPFinal_MeliDataScience/venv_tpfinal/lib/python3.7/site-packages/sklearn/linear_model/_logistic.py:818: ConvergenceWarning: lbfgs failed to converge (status=1):\n",
      "STOP: TOTAL NO. of ITERATIONS REACHED LIMIT.\n",
      "\n",
      "Increase the number of iterations (max_iter) or scale the data as shown in:\n",
      "    https://scikit-learn.org/stable/modules/preprocessing.html\n",
      "Please also refer to the documentation for alternative solver options:\n",
      "    https://scikit-learn.org/stable/modules/linear_model.html#logistic-regression\n",
      "  extra_warning_msg=_LOGISTIC_SOLVER_CONVERGENCE_MSG,\n",
      "/Users/sofiaforni/Documents/Data Science/TPFinal_MeliDataScience/venv_tpfinal/lib/python3.7/site-packages/sklearn/linear_model/_logistic.py:818: ConvergenceWarning: lbfgs failed to converge (status=1):\n",
      "STOP: TOTAL NO. of ITERATIONS REACHED LIMIT.\n",
      "\n",
      "Increase the number of iterations (max_iter) or scale the data as shown in:\n",
      "    https://scikit-learn.org/stable/modules/preprocessing.html\n",
      "Please also refer to the documentation for alternative solver options:\n",
      "    https://scikit-learn.org/stable/modules/linear_model.html#logistic-regression\n",
      "  extra_warning_msg=_LOGISTIC_SOLVER_CONVERGENCE_MSG,\n",
      "/Users/sofiaforni/Documents/Data Science/TPFinal_MeliDataScience/venv_tpfinal/lib/python3.7/site-packages/sklearn/linear_model/_logistic.py:818: ConvergenceWarning: lbfgs failed to converge (status=1):\n",
      "STOP: TOTAL NO. of ITERATIONS REACHED LIMIT.\n",
      "\n",
      "Increase the number of iterations (max_iter) or scale the data as shown in:\n",
      "    https://scikit-learn.org/stable/modules/preprocessing.html\n",
      "Please also refer to the documentation for alternative solver options:\n",
      "    https://scikit-learn.org/stable/modules/linear_model.html#logistic-regression\n",
      "  extra_warning_msg=_LOGISTIC_SOLVER_CONVERGENCE_MSG,\n",
      "/Users/sofiaforni/Documents/Data Science/TPFinal_MeliDataScience/venv_tpfinal/lib/python3.7/site-packages/sklearn/linear_model/_logistic.py:818: ConvergenceWarning: lbfgs failed to converge (status=1):\n",
      "STOP: TOTAL NO. of ITERATIONS REACHED LIMIT.\n",
      "\n",
      "Increase the number of iterations (max_iter) or scale the data as shown in:\n",
      "    https://scikit-learn.org/stable/modules/preprocessing.html\n",
      "Please also refer to the documentation for alternative solver options:\n",
      "    https://scikit-learn.org/stable/modules/linear_model.html#logistic-regression\n",
      "  extra_warning_msg=_LOGISTIC_SOLVER_CONVERGENCE_MSG,\n",
      "/Users/sofiaforni/Documents/Data Science/TPFinal_MeliDataScience/venv_tpfinal/lib/python3.7/site-packages/sklearn/linear_model/_logistic.py:818: ConvergenceWarning: lbfgs failed to converge (status=1):\n",
      "STOP: TOTAL NO. of ITERATIONS REACHED LIMIT.\n",
      "\n",
      "Increase the number of iterations (max_iter) or scale the data as shown in:\n",
      "    https://scikit-learn.org/stable/modules/preprocessing.html\n",
      "Please also refer to the documentation for alternative solver options:\n",
      "    https://scikit-learn.org/stable/modules/linear_model.html#logistic-regression\n",
      "  extra_warning_msg=_LOGISTIC_SOLVER_CONVERGENCE_MSG,\n",
      "/Users/sofiaforni/Documents/Data Science/TPFinal_MeliDataScience/venv_tpfinal/lib/python3.7/site-packages/sklearn/linear_model/_logistic.py:818: ConvergenceWarning: lbfgs failed to converge (status=1):\n",
      "STOP: TOTAL NO. of ITERATIONS REACHED LIMIT.\n",
      "\n",
      "Increase the number of iterations (max_iter) or scale the data as shown in:\n",
      "    https://scikit-learn.org/stable/modules/preprocessing.html\n",
      "Please also refer to the documentation for alternative solver options:\n",
      "    https://scikit-learn.org/stable/modules/linear_model.html#logistic-regression\n",
      "  extra_warning_msg=_LOGISTIC_SOLVER_CONVERGENCE_MSG,\n",
      "/Users/sofiaforni/Documents/Data Science/TPFinal_MeliDataScience/venv_tpfinal/lib/python3.7/site-packages/sklearn/linear_model/_logistic.py:818: ConvergenceWarning: lbfgs failed to converge (status=1):\n",
      "STOP: TOTAL NO. of ITERATIONS REACHED LIMIT.\n",
      "\n",
      "Increase the number of iterations (max_iter) or scale the data as shown in:\n",
      "    https://scikit-learn.org/stable/modules/preprocessing.html\n",
      "Please also refer to the documentation for alternative solver options:\n",
      "    https://scikit-learn.org/stable/modules/linear_model.html#logistic-regression\n",
      "  extra_warning_msg=_LOGISTIC_SOLVER_CONVERGENCE_MSG,\n",
      "/Users/sofiaforni/Documents/Data Science/TPFinal_MeliDataScience/venv_tpfinal/lib/python3.7/site-packages/sklearn/linear_model/_logistic.py:818: ConvergenceWarning: lbfgs failed to converge (status=1):\n",
      "STOP: TOTAL NO. of ITERATIONS REACHED LIMIT.\n",
      "\n",
      "Increase the number of iterations (max_iter) or scale the data as shown in:\n",
      "    https://scikit-learn.org/stable/modules/preprocessing.html\n",
      "Please also refer to the documentation for alternative solver options:\n",
      "    https://scikit-learn.org/stable/modules/linear_model.html#logistic-regression\n",
      "  extra_warning_msg=_LOGISTIC_SOLVER_CONVERGENCE_MSG,\n",
      "/Users/sofiaforni/Documents/Data Science/TPFinal_MeliDataScience/venv_tpfinal/lib/python3.7/site-packages/sklearn/linear_model/_logistic.py:818: ConvergenceWarning: lbfgs failed to converge (status=1):\n",
      "STOP: TOTAL NO. of ITERATIONS REACHED LIMIT.\n",
      "\n",
      "Increase the number of iterations (max_iter) or scale the data as shown in:\n",
      "    https://scikit-learn.org/stable/modules/preprocessing.html\n",
      "Please also refer to the documentation for alternative solver options:\n",
      "    https://scikit-learn.org/stable/modules/linear_model.html#logistic-regression\n",
      "  extra_warning_msg=_LOGISTIC_SOLVER_CONVERGENCE_MSG,\n",
      "/Users/sofiaforni/Documents/Data Science/TPFinal_MeliDataScience/venv_tpfinal/lib/python3.7/site-packages/sklearn/linear_model/_logistic.py:818: ConvergenceWarning: lbfgs failed to converge (status=1):\n",
      "STOP: TOTAL NO. of ITERATIONS REACHED LIMIT.\n",
      "\n",
      "Increase the number of iterations (max_iter) or scale the data as shown in:\n",
      "    https://scikit-learn.org/stable/modules/preprocessing.html\n",
      "Please also refer to the documentation for alternative solver options:\n",
      "    https://scikit-learn.org/stable/modules/linear_model.html#logistic-regression\n",
      "  extra_warning_msg=_LOGISTIC_SOLVER_CONVERGENCE_MSG,\n"
     ]
    },
    {
     "data": {
      "text/plain": [
       "GridSearchCV(cv=StratifiedKFold(n_splits=5, random_state=42, shuffle=True),\n",
       "             estimator=Pipeline(steps=[('feature_engineering',\n",
       "                                        CustomFeatureSelection(selected_features=array(['index', 'price', 'sold_quantity', 'available_quantity',\n",
       "       'shipping__store_pick_up', 'shipping__free_shipping',\n",
       "       'installments__quantity', 'installments__amount',\n",
       "       'installments__rate', 'days_...\n",
       "       \"variation_filters_['WRISTBAND_COLOR', 'BEZEL_COLOR']\",\n",
       "       \"variation_filters_['WRISTBAND_COLOR']\",\n",
       "       \"variation_filters_['WRISTBAND_DESIGN']\",\n",
       "       \"variation_filters_['anillo 4x4']\",\n",
       "       \"variation_filters_['color y medida']\",\n",
       "       \"variation_filters_['color']\", \"variation_filters_['grosor']\",\n",
       "       \"variation_filters_['tamaño']\"], dtype=object)),\n",
       "                                                  None],\n",
       "                          'preprocesamiento': [StandardScaler(), MinMaxScaler(),\n",
       "                                               None]}])"
      ]
     },
     "execution_count": 282,
     "metadata": {},
     "output_type": "execute_result"
    }
   ],
   "source": [
    "grid_categorias = GridSearchCV(pipe, param_grid, cv=folds)\n",
    "grid_categorias.fit(X_train, y_train)"
   ]
  },
  {
   "attachments": {},
   "cell_type": "markdown",
   "metadata": {},
   "source": [
    "### Resultados pipeline"
   ]
  },
  {
   "cell_type": "code",
   "execution_count": 283,
   "metadata": {},
   "outputs": [
    {
     "data": {
      "text/plain": [
       "0.9949220014267471"
      ]
     },
     "execution_count": 283,
     "metadata": {},
     "output_type": "execute_result"
    }
   ],
   "source": [
    "grid_categorias.best_score_"
   ]
  },
  {
   "cell_type": "code",
   "execution_count": 284,
   "metadata": {},
   "outputs": [
    {
     "data": {
      "text/plain": [
       "Pipeline(steps=[('feature_engineering',\n",
       "                 CustomFeatureSelection(selected_features=array(['index', 'price', 'sold_quantity', 'available_quantity',\n",
       "       'shipping__store_pick_up', 'shipping__free_shipping',\n",
       "       'installments__quantity', 'installments__amount',\n",
       "       'installments__rate', 'days_remaining', 'years_active',\n",
       "       'domain_id_MLA-ABRASIVE_SAWS',\n",
       "       'domain_id_MLA-ACTION_CAMER...\n",
       "       \"variation_filters_['WRISTBAND_COLOR', 'BEZEL_COLOR']\",\n",
       "       \"variation_filters_['WRISTBAND_COLOR']\",\n",
       "       \"variation_filters_['WRISTBAND_DESIGN']\",\n",
       "       \"variation_filters_['anillo 4x4']\",\n",
       "       \"variation_filters_['color y medida']\",\n",
       "       \"variation_filters_['color']\", \"variation_filters_['grosor']\",\n",
       "       \"variation_filters_['tamaño']\"], dtype=object))),\n",
       "                ('preprocesamiento', StandardScaler()),\n",
       "                ('clasificador', LogisticRegression())])"
      ]
     },
     "execution_count": 284,
     "metadata": {},
     "output_type": "execute_result"
    }
   ],
   "source": [
    "grid_categorias.best_estimator_"
   ]
  },
  {
   "cell_type": "code",
   "execution_count": 285,
   "metadata": {},
   "outputs": [
    {
     "data": {
      "text/plain": [
       "0.9957550030321407"
      ]
     },
     "execution_count": 285,
     "metadata": {},
     "output_type": "execute_result"
    }
   ],
   "source": [
    "accuracy_score(grid_categorias.best_estimator_.predict(X_test),y_test)"
   ]
  },
  {
   "cell_type": "code",
   "execution_count": 286,
   "metadata": {},
   "outputs": [],
   "source": [
    "y_pred = grid_categorias.best_estimator_.predict(X_test)"
   ]
  },
  {
   "cell_type": "code",
   "execution_count": 287,
   "metadata": {},
   "outputs": [
    {
     "name": "stdout",
     "output_type": "stream",
     "text": [
      "                         precision    recall  f1-score   support\n",
      "\n",
      "             accesorios       1.00      1.00      1.00      1374\n",
      "     cuidado de la piel       1.00      0.99      1.00      1326\n",
      "elementos de fotografia       0.99      1.00      1.00      1326\n",
      "           herramientas       0.99      1.00      0.99      1270\n",
      "               juguetes       1.00      0.99      1.00      1300\n",
      "\n",
      "               accuracy                           1.00      6596\n",
      "              macro avg       1.00      1.00      1.00      6596\n",
      "           weighted avg       1.00      1.00      1.00      6596\n",
      "\n",
      "0.9957550030321407\n"
     ]
    }
   ],
   "source": [
    "print(classification_report(y_test, y_pred))\n",
    "print(accuracy_score(y_test, y_pred))"
   ]
  },
  {
   "attachments": {},
   "cell_type": "markdown",
   "metadata": {},
   "source": [
    "# Nueva clasificación: subcategorías"
   ]
  },
  {
   "cell_type": "code",
   "execution_count": 288,
   "metadata": {},
   "outputs": [],
   "source": [
    "data_subcategorias = pd.read_csv('./Data/mla3937_meli.csv')"
   ]
  },
  {
   "cell_type": "code",
   "execution_count": 289,
   "metadata": {},
   "outputs": [
    {
     "data": {
      "text/plain": [
       "MLA1442      1119\n",
       "MLA352679     738\n",
       "MLA1436       672\n",
       "MLA4559       278\n",
       "MLA1432       240\n",
       "MLA6312       236\n",
       "MLA417313     122\n",
       "MLA434353     114\n",
       "MLA1438        99\n",
       "MLA7715        68\n",
       "MLA1440        57\n",
       "MLA3949        28\n",
       "MLA9291        26\n",
       "MLA399230      25\n",
       "MLA414225      24\n",
       "MLA417306      20\n",
       "MLA417982      19\n",
       "MLA1437        18\n",
       "MLA418339      14\n",
       "MLA437168      13\n",
       "MLA430494      13\n",
       "MLA3938         8\n",
       "MLA413459       8\n",
       "MLA431679       7\n",
       "MLA31342        5\n",
       "MLA31327        3\n",
       "MLA417846       3\n",
       "MLA31347        3\n",
       "MLA431041       2\n",
       "MLA431727       2\n",
       "MLA31328        2\n",
       "MLA236752       2\n",
       "MLA431680       2\n",
       "MLA434345       1\n",
       "MLA431678       1\n",
       "MLA3947         1\n",
       "MLA436820       1\n",
       "MLA429296       1\n",
       "MLA434344       1\n",
       "MLA431735       1\n",
       "MLA431746       1\n",
       "Name: category_id, dtype: int64"
      ]
     },
     "execution_count": 289,
     "metadata": {},
     "output_type": "execute_result"
    }
   ],
   "source": [
    "data_subcategorias['category_id'].value_counts()"
   ]
  },
  {
   "cell_type": "code",
   "execution_count": 290,
   "metadata": {},
   "outputs": [
    {
     "data": {
      "text/html": [
       "<div>\n",
       "<style scoped>\n",
       "    .dataframe tbody tr th:only-of-type {\n",
       "        vertical-align: middle;\n",
       "    }\n",
       "\n",
       "    .dataframe tbody tr th {\n",
       "        vertical-align: top;\n",
       "    }\n",
       "\n",
       "    .dataframe thead th {\n",
       "        text-align: right;\n",
       "    }\n",
       "</style>\n",
       "<table border=\"1\" class=\"dataframe\">\n",
       "  <thead>\n",
       "    <tr style=\"text-align: right;\">\n",
       "      <th></th>\n",
       "      <th>id</th>\n",
       "      <th>title</th>\n",
       "      <th>thumbnail_id</th>\n",
       "      <th>listing_type_id</th>\n",
       "      <th>permalink</th>\n",
       "      <th>category_id</th>\n",
       "      <th>domain_id</th>\n",
       "      <th>order_backend</th>\n",
       "      <th>price</th>\n",
       "      <th>sold_quantity</th>\n",
       "      <th>...</th>\n",
       "      <th>seller__seller_reputation__metrics__delayed_handling_time__rate</th>\n",
       "      <th>seller__seller_reputation__metrics__delayed_handling_time__value</th>\n",
       "      <th>seller__seller_reputation__metrics__cancellations__period</th>\n",
       "      <th>seller__seller_reputation__metrics__cancellations__rate</th>\n",
       "      <th>seller__seller_reputation__metrics__cancellations__value</th>\n",
       "      <th>installments__quantity</th>\n",
       "      <th>installments__amount</th>\n",
       "      <th>installments__rate</th>\n",
       "      <th>days_remaining</th>\n",
       "      <th>years_active</th>\n",
       "    </tr>\n",
       "  </thead>\n",
       "  <tbody>\n",
       "    <tr>\n",
       "      <th>0</th>\n",
       "      <td>MLA1143742024</td>\n",
       "      <td>Smartwatch Digilink Monitoreo De Sueño Y Pulsa...</td>\n",
       "      <td>602153-MLA51538019666_092022</td>\n",
       "      <td>gold_special</td>\n",
       "      <td>https://articulo.mercadolibre.com.ar/MLA-11437...</td>\n",
       "      <td>MLA352679</td>\n",
       "      <td>MLA-SMARTWATCHES</td>\n",
       "      <td>1</td>\n",
       "      <td>4799.0</td>\n",
       "      <td>250</td>\n",
       "      <td>...</td>\n",
       "      <td>0.0477</td>\n",
       "      <td>338</td>\n",
       "      <td>60 days</td>\n",
       "      <td>0.0073</td>\n",
       "      <td>56</td>\n",
       "      <td>6</td>\n",
       "      <td>1186.55</td>\n",
       "      <td>48.35</td>\n",
       "      <td>7055</td>\n",
       "      <td>11</td>\n",
       "    </tr>\n",
       "    <tr>\n",
       "      <th>1</th>\n",
       "      <td>MLA1240842973</td>\n",
       "      <td>Reloj Pulsera Skmei 1389 De Cuerpo Color Plate...</td>\n",
       "      <td>646093-MLA47574132101_092021</td>\n",
       "      <td>gold_special</td>\n",
       "      <td>https://www.mercadolibre.com.ar/reloj-pulsera-...</td>\n",
       "      <td>MLA1442</td>\n",
       "      <td>MLA-WRISTWATCHES</td>\n",
       "      <td>2</td>\n",
       "      <td>7999.0</td>\n",
       "      <td>250</td>\n",
       "      <td>...</td>\n",
       "      <td>0.0002</td>\n",
       "      <td>1</td>\n",
       "      <td>60 days</td>\n",
       "      <td>0.0015</td>\n",
       "      <td>6</td>\n",
       "      <td>6</td>\n",
       "      <td>1977.75</td>\n",
       "      <td>48.35</td>\n",
       "      <td>7200</td>\n",
       "      <td>6</td>\n",
       "    </tr>\n",
       "    <tr>\n",
       "      <th>2</th>\n",
       "      <td>MLA1108316534</td>\n",
       "      <td>Colgante Yo Te Cielo</td>\n",
       "      <td>961694-MLA47881890118_102021</td>\n",
       "      <td>gold_special</td>\n",
       "      <td>https://articulo.mercadolibre.com.ar/MLA-11083...</td>\n",
       "      <td>MLA1436</td>\n",
       "      <td>MLA-NECKLACES</td>\n",
       "      <td>3</td>\n",
       "      <td>5990.0</td>\n",
       "      <td>500</td>\n",
       "      <td>...</td>\n",
       "      <td>0.0000</td>\n",
       "      <td>0</td>\n",
       "      <td>60 days</td>\n",
       "      <td>0.0000</td>\n",
       "      <td>0</td>\n",
       "      <td>6</td>\n",
       "      <td>1481.03</td>\n",
       "      <td>48.35</td>\n",
       "      <td>6804</td>\n",
       "      <td>2</td>\n",
       "    </tr>\n",
       "    <tr>\n",
       "      <th>3</th>\n",
       "      <td>MLA1182473246</td>\n",
       "      <td>Smartwatch Microwear W26 1.75  Caja De  Aleaci...</td>\n",
       "      <td>815732-MLA44916250737_022021</td>\n",
       "      <td>gold_special</td>\n",
       "      <td>https://www.mercadolibre.com.ar/smartwatch-mic...</td>\n",
       "      <td>MLA352679</td>\n",
       "      <td>MLA-SMARTWATCHES</td>\n",
       "      <td>4</td>\n",
       "      <td>6610.0</td>\n",
       "      <td>500</td>\n",
       "      <td>...</td>\n",
       "      <td>0.0004</td>\n",
       "      <td>1</td>\n",
       "      <td>60 days</td>\n",
       "      <td>0.0000</td>\n",
       "      <td>0</td>\n",
       "      <td>6</td>\n",
       "      <td>1634.32</td>\n",
       "      <td>48.35</td>\n",
       "      <td>7157</td>\n",
       "      <td>7</td>\n",
       "    </tr>\n",
       "    <tr>\n",
       "      <th>4</th>\n",
       "      <td>MLA1318105189</td>\n",
       "      <td>Reloj Skmei Táctico Militar 1346</td>\n",
       "      <td>751357-MLA31037529763_062019</td>\n",
       "      <td>gold_special</td>\n",
       "      <td>https://www.mercadolibre.com.ar/reloj-skmei-ta...</td>\n",
       "      <td>MLA1442</td>\n",
       "      <td>MLA-WRISTWATCHES</td>\n",
       "      <td>5</td>\n",
       "      <td>3999.0</td>\n",
       "      <td>50</td>\n",
       "      <td>...</td>\n",
       "      <td>0.0000</td>\n",
       "      <td>0</td>\n",
       "      <td>60 days</td>\n",
       "      <td>0.0000</td>\n",
       "      <td>0</td>\n",
       "      <td>6</td>\n",
       "      <td>988.75</td>\n",
       "      <td>48.35</td>\n",
       "      <td>7270</td>\n",
       "      <td>3</td>\n",
       "    </tr>\n",
       "  </tbody>\n",
       "</table>\n",
       "<p>5 rows × 44 columns</p>\n",
       "</div>"
      ],
      "text/plain": [
       "              id                                              title  \\\n",
       "0  MLA1143742024  Smartwatch Digilink Monitoreo De Sueño Y Pulsa...   \n",
       "1  MLA1240842973  Reloj Pulsera Skmei 1389 De Cuerpo Color Plate...   \n",
       "2  MLA1108316534                               Colgante Yo Te Cielo   \n",
       "3  MLA1182473246  Smartwatch Microwear W26 1.75  Caja De  Aleaci...   \n",
       "4  MLA1318105189                  Reloj Skmei Táctico Militar 1346    \n",
       "\n",
       "                   thumbnail_id listing_type_id  \\\n",
       "0  602153-MLA51538019666_092022    gold_special   \n",
       "1  646093-MLA47574132101_092021    gold_special   \n",
       "2  961694-MLA47881890118_102021    gold_special   \n",
       "3  815732-MLA44916250737_022021    gold_special   \n",
       "4  751357-MLA31037529763_062019    gold_special   \n",
       "\n",
       "                                           permalink category_id  \\\n",
       "0  https://articulo.mercadolibre.com.ar/MLA-11437...   MLA352679   \n",
       "1  https://www.mercadolibre.com.ar/reloj-pulsera-...     MLA1442   \n",
       "2  https://articulo.mercadolibre.com.ar/MLA-11083...     MLA1436   \n",
       "3  https://www.mercadolibre.com.ar/smartwatch-mic...   MLA352679   \n",
       "4  https://www.mercadolibre.com.ar/reloj-skmei-ta...     MLA1442   \n",
       "\n",
       "          domain_id  order_backend   price  sold_quantity  ...  \\\n",
       "0  MLA-SMARTWATCHES              1  4799.0            250  ...   \n",
       "1  MLA-WRISTWATCHES              2  7999.0            250  ...   \n",
       "2     MLA-NECKLACES              3  5990.0            500  ...   \n",
       "3  MLA-SMARTWATCHES              4  6610.0            500  ...   \n",
       "4  MLA-WRISTWATCHES              5  3999.0             50  ...   \n",
       "\n",
       "   seller__seller_reputation__metrics__delayed_handling_time__rate  \\\n",
       "0                                             0.0477                 \n",
       "1                                             0.0002                 \n",
       "2                                             0.0000                 \n",
       "3                                             0.0004                 \n",
       "4                                             0.0000                 \n",
       "\n",
       "  seller__seller_reputation__metrics__delayed_handling_time__value  \\\n",
       "0                                                338                 \n",
       "1                                                  1                 \n",
       "2                                                  0                 \n",
       "3                                                  1                 \n",
       "4                                                  0                 \n",
       "\n",
       "  seller__seller_reputation__metrics__cancellations__period  \\\n",
       "0                                            60 days          \n",
       "1                                            60 days          \n",
       "2                                            60 days          \n",
       "3                                            60 days          \n",
       "4                                            60 days          \n",
       "\n",
       "  seller__seller_reputation__metrics__cancellations__rate  \\\n",
       "0                                             0.0073        \n",
       "1                                             0.0015        \n",
       "2                                             0.0000        \n",
       "3                                             0.0000        \n",
       "4                                             0.0000        \n",
       "\n",
       "   seller__seller_reputation__metrics__cancellations__value  \\\n",
       "0                                                 56          \n",
       "1                                                  6          \n",
       "2                                                  0          \n",
       "3                                                  0          \n",
       "4                                                  0          \n",
       "\n",
       "   installments__quantity installments__amount  installments__rate  \\\n",
       "0                       6              1186.55               48.35   \n",
       "1                       6              1977.75               48.35   \n",
       "2                       6              1481.03               48.35   \n",
       "3                       6              1634.32               48.35   \n",
       "4                       6               988.75               48.35   \n",
       "\n",
       "  days_remaining years_active  \n",
       "0           7055           11  \n",
       "1           7200            6  \n",
       "2           6804            2  \n",
       "3           7157            7  \n",
       "4           7270            3  \n",
       "\n",
       "[5 rows x 44 columns]"
      ]
     },
     "execution_count": 290,
     "metadata": {},
     "output_type": "execute_result"
    }
   ],
   "source": [
    "data_subcategorias.head()"
   ]
  },
  {
   "cell_type": "code",
   "execution_count": 291,
   "metadata": {},
   "outputs": [
    {
     "data": {
      "text/plain": [
       "MLA-WRISTWATCHES                          1119\n",
       "MLA-SMARTWATCHES                           787\n",
       "MLA-NECKLACES                              672\n",
       "MLA-BRACELETS_AND_ANKLE_BRACES             291\n",
       "MLA-EARRINGS                               240\n",
       "MLA-WATCH_BANDS                            236\n",
       "MLA-CHARMS_AND_MEDALS                      236\n",
       "MLA-RINGS                                   99\n",
       "MLA-JEWELRY_TOOLS                           72\n",
       "MLA-JEWELRY                                 57\n",
       "MLA-ALARM_CLOCKS                            31\n",
       "MLA-WALL_CLOCKS                             31\n",
       "MLA-CLOCKS_ACCESSORIES_AND_SPARE_PARTS      22\n",
       "MLA-JEWELRY_DISPLAYS                        19\n",
       "MLA-WEDDING_BANDS                           18\n",
       "MLA-JEWELRY_BOXES                           14\n",
       "MLA-PIERCINGS                               13\n",
       "MLA-JEWELRY_AND_WATCHES                      8\n",
       "MLA-JEWELRY_ROLLS                            8\n",
       "MLA-JEWELRY_DISPLAYS_AND_BOXES               7\n",
       "MLA-TABLE_CLOCKS                             5\n",
       "MLA-RING_SIZERS                              3\n",
       "MLA-WRISTWATCH_SCREEN_PROTECTORS             2\n",
       "MLA-WATCH_RINGS                              2\n",
       "MLA-WATCH_BOXES                              1\n",
       "MLA-TIPPED_PLIERS                            1\n",
       "MLA-PRECIOUS_AND_SEMI_PRECIOUS_STONES        1\n",
       "MLA-BROOCHES                                 1\n",
       "MLA-POCKET_WATCHES                           1\n",
       "MLA-CUTTING_PLIERS                           1\n",
       "Name: domain_id, dtype: int64"
      ]
     },
     "execution_count": 291,
     "metadata": {},
     "output_type": "execute_result"
    }
   ],
   "source": [
    "data_subcategorias['domain_id'].value_counts()"
   ]
  },
  {
   "cell_type": "code",
   "execution_count": 292,
   "metadata": {},
   "outputs": [
    {
     "data": {
      "text/plain": [
       "MLA-WATCHES                              2245\n",
       "MLA-JEWELRY                              1359\n",
       "MLA-CHARMS_AND_MEDALS                     236\n",
       "MLA-JEWELRY_ACCESORIES                    120\n",
       "MLA-WEDDING_BANDS                          18\n",
       "MLA-PIERCINGS                              13\n",
       "MLA-RING_SIZERS                             3\n",
       "MLA-TIPPED_PLIERS                           1\n",
       "MLA-PRECIOUS_AND_SEMI_PRECIOUS_STONES       1\n",
       "MLA-BROOCHES                                1\n",
       "MLA-CUTTING_PLIERS                          1\n",
       "Name: nuevo_domain, dtype: int64"
      ]
     },
     "execution_count": 292,
     "metadata": {},
     "output_type": "execute_result"
    }
   ],
   "source": [
    "#Agrupamos subcategorías\n",
    "\n",
    "def agrupar(fila):\n",
    "\n",
    "    if re.findall(re.compile('WATCH|CLOCK'), fila):\n",
    "        return 'MLA-WATCHES'\n",
    "    if re.findall(re.compile('NECKLACES|BRACELETS|EARRINGS|RINGS'), fila) or re.match(re.compile('MLA-JEWELRY$'), fila):\n",
    "        return 'MLA-JEWELRY'\n",
    "    if re.findall(re.compile('MLA-JEWELRY_'), fila):\n",
    "        return 'MLA-JEWELRY_ACCESORIES'\n",
    "    else:\n",
    "        return fila\n",
    "    \n",
    "data_subcategorias['nuevo_domain'] = data_subcategorias['domain_id'].apply(lambda x: agrupar(x))\n",
    "data_subcategorias['nuevo_domain'].value_counts()"
   ]
  },
  {
   "cell_type": "code",
   "execution_count": 293,
   "metadata": {},
   "outputs": [],
   "source": [
    "#Nos quedamos con los dominios con al menos 20 registros\n",
    "\n",
    "valid_domains = ['MLA-WATCHES', 'MLA-JEWELRY', 'MLA-CHARMS_AND_MEDALS', 'MLA-JEWELRY_ACCESORIES']"
   ]
  },
  {
   "cell_type": "code",
   "execution_count": 294,
   "metadata": {},
   "outputs": [
    {
     "name": "stdout",
     "output_type": "stream",
     "text": [
      "<class 'pandas.core.frame.DataFrame'>\n",
      "Int64Index: 3960 entries, 0 to 3997\n",
      "Data columns (total 46 columns):\n",
      " #   Column                                                             Non-Null Count  Dtype  \n",
      "---  ------                                                             --------------  -----  \n",
      " 0   id                                                                 3960 non-null   object \n",
      " 1   title                                                              3960 non-null   object \n",
      " 2   thumbnail_id                                                       3960 non-null   object \n",
      " 3   listing_type_id                                                    3960 non-null   object \n",
      " 4   permalink                                                          3960 non-null   object \n",
      " 5   category_id                                                        3960 non-null   object \n",
      " 6   domain_id                                                          3960 non-null   object \n",
      " 7   order_backend                                                      3960 non-null   int64  \n",
      " 8   price                                                              3960 non-null   float64\n",
      " 9   sold_quantity                                                      3960 non-null   int64  \n",
      " 10  available_quantity                                                 3960 non-null   int64  \n",
      " 11  tags                                                               3960 non-null   object \n",
      " 12  variation_filters                                                  3350 non-null   object \n",
      " 13  shipping__logistic_type                                            3960 non-null   object \n",
      " 14  shipping__store_pick_up                                            3960 non-null   bool   \n",
      " 15  shipping__free_shipping                                            3960 non-null   bool   \n",
      " 16  shipping__tags                                                     3960 non-null   object \n",
      " 17  seller__id                                                         3960 non-null   int64  \n",
      " 18  seller__nickname                                                   3960 non-null   object \n",
      " 19  seller__tags                                                       3960 non-null   object \n",
      " 20  seller__seller_reputation__level_id                                3960 non-null   object \n",
      " 21  seller__seller_reputation__power_seller_status                     3891 non-null   object \n",
      " 22  seller__seller_reputation__transactions__canceled                  3960 non-null   int64  \n",
      " 23  seller__seller_reputation__transactions__completed                 3960 non-null   int64  \n",
      " 24  seller__seller_reputation__transactions__ratings__negative         3960 non-null   float64\n",
      " 25  seller__seller_reputation__transactions__ratings__neutral          3960 non-null   float64\n",
      " 26  seller__seller_reputation__transactions__ratings__positive         3960 non-null   float64\n",
      " 27  seller__seller_reputation__transactions__total                     3960 non-null   int64  \n",
      " 28  seller__seller_reputation__metrics__sales__period                  3960 non-null   object \n",
      " 29  seller__seller_reputation__metrics__sales__completed               3960 non-null   int64  \n",
      " 30  seller__seller_reputation__metrics__claims__period                 3960 non-null   object \n",
      " 31  seller__seller_reputation__metrics__claims__rate                   3960 non-null   float64\n",
      " 32  seller__seller_reputation__metrics__claims__value                  3960 non-null   int64  \n",
      " 33  seller__seller_reputation__metrics__delayed_handling_time__period  3960 non-null   object \n",
      " 34  seller__seller_reputation__metrics__delayed_handling_time__rate    3960 non-null   float64\n",
      " 35  seller__seller_reputation__metrics__delayed_handling_time__value   3960 non-null   int64  \n",
      " 36  seller__seller_reputation__metrics__cancellations__period          3960 non-null   object \n",
      " 37  seller__seller_reputation__metrics__cancellations__rate            3960 non-null   float64\n",
      " 38  seller__seller_reputation__metrics__cancellations__value           3960 non-null   int64  \n",
      " 39  installments__quantity                                             3960 non-null   int64  \n",
      " 40  installments__amount                                               3960 non-null   float64\n",
      " 41  installments__rate                                                 3960 non-null   float64\n",
      " 42  days_remaining                                                     3960 non-null   int64  \n",
      " 43  years_active                                                       3960 non-null   int64  \n",
      " 44  nuevo_domain                                                       3960 non-null   object \n",
      " 45  is_valid                                                           3960 non-null   bool   \n",
      "dtypes: bool(3), float64(9), int64(14), object(20)\n",
      "memory usage: 1.3+ MB\n"
     ]
    }
   ],
   "source": [
    "data_subcategorias['is_valid'] = data_subcategorias['nuevo_domain'].apply(lambda x: x in valid_domains)\n",
    "nuevo_subcategorías = data_subcategorias.loc[data_subcategorias['is_valid']==True]\n",
    "nuevo_subcategorías.info()"
   ]
  },
  {
   "cell_type": "code",
   "execution_count": 295,
   "metadata": {},
   "outputs": [],
   "source": [
    "columns = nuevo_subcategorías.columns"
   ]
  },
  {
   "cell_type": "code",
   "execution_count": 296,
   "metadata": {},
   "outputs": [
    {
     "name": "stdout",
     "output_type": "stream",
     "text": [
      "['seller__id', 'seller__nickname', 'seller__tags', 'seller__seller_reputation__level_id', 'seller__seller_reputation__power_seller_status', 'seller__seller_reputation__transactions__canceled', 'seller__seller_reputation__transactions__completed', 'seller__seller_reputation__transactions__ratings__negative', 'seller__seller_reputation__transactions__ratings__neutral', 'seller__seller_reputation__transactions__ratings__positive', 'seller__seller_reputation__transactions__total', 'seller__seller_reputation__metrics__sales__period', 'seller__seller_reputation__metrics__sales__completed', 'seller__seller_reputation__metrics__claims__period', 'seller__seller_reputation__metrics__claims__rate', 'seller__seller_reputation__metrics__claims__value', 'seller__seller_reputation__metrics__delayed_handling_time__period', 'seller__seller_reputation__metrics__delayed_handling_time__rate', 'seller__seller_reputation__metrics__delayed_handling_time__value', 'seller__seller_reputation__metrics__cancellations__period', 'seller__seller_reputation__metrics__cancellations__rate', 'seller__seller_reputation__metrics__cancellations__value']\n"
     ]
    }
   ],
   "source": [
    "#Eliminamos las columnas que hacen referencias a cuestiones vinculadas al vendedor\n",
    "\n",
    "regex = re.compile('^seller__')\n",
    "seller_columns = list(filter(regex.match, columns))\n",
    "print(seller_columns)"
   ]
  },
  {
   "cell_type": "code",
   "execution_count": 297,
   "metadata": {},
   "outputs": [
    {
     "name": "stderr",
     "output_type": "stream",
     "text": [
      "/Users/sofiaforni/Documents/Data Science/TPFinal_MeliDataScience/venv_tpfinal/lib/python3.7/site-packages/pandas/core/frame.py:4913: SettingWithCopyWarning: \n",
      "A value is trying to be set on a copy of a slice from a DataFrame\n",
      "\n",
      "See the caveats in the documentation: https://pandas.pydata.org/pandas-docs/stable/user_guide/indexing.html#returning-a-view-versus-a-copy\n",
      "  errors=errors,\n"
     ]
    }
   ],
   "source": [
    "nuevo_subcategorías.drop(columns=seller_columns, inplace=True)"
   ]
  },
  {
   "cell_type": "code",
   "execution_count": 298,
   "metadata": {},
   "outputs": [],
   "source": [
    "#Creamos dummies para las variables categoricas que usaremos\n",
    "nuevo_subcategorías = pd.get_dummies(nuevo_subcategorías, columns=['domain_id', 'listing_type_id', 'shipping__logistic_type', 'shipping__tags', 'variation_filters'])"
   ]
  },
  {
   "cell_type": "code",
   "execution_count": 299,
   "metadata": {},
   "outputs": [],
   "source": [
    "#Eliminamos valores faltantes\n",
    "\n",
    "out_df.dropna(inplace=True)"
   ]
  },
  {
   "attachments": {},
   "cell_type": "markdown",
   "metadata": {},
   "source": [
    "## Premodel"
   ]
  },
  {
   "cell_type": "code",
   "execution_count": 300,
   "metadata": {},
   "outputs": [
    {
     "data": {
      "text/plain": [
       "(2772, 313)"
      ]
     },
     "metadata": {},
     "output_type": "display_data"
    },
    {
     "data": {
      "text/plain": [
       "(1188, 313)"
      ]
     },
     "metadata": {},
     "output_type": "display_data"
    },
    {
     "data": {
      "text/plain": [
       "(2772,)"
      ]
     },
     "metadata": {},
     "output_type": "display_data"
    },
    {
     "data": {
      "text/plain": [
       "(1188,)"
      ]
     },
     "metadata": {},
     "output_type": "display_data"
    }
   ],
   "source": [
    "# Separamos las variables independientes de la target\n",
    "X=nuevo_subcategorías.drop(columns=['nuevo_domain', 'id', 'title', 'thumbnail_id', 'permalink', 'order_backend', 'tags', 'category_id'])\n",
    "y=nuevo_subcategorías['nuevo_domain']\n",
    "\n",
    "# Dividimos los datos en el set de train y el de test: \n",
    "X_train, X_test, y_train, y_test=train_test_split(X,y,test_size=0.3, random_state=30, stratify=y)\n",
    "display(X_train.shape, X_test.shape, y_train.shape, y_test.shape)"
   ]
  },
  {
   "cell_type": "code",
   "execution_count": 301,
   "metadata": {},
   "outputs": [],
   "source": [
    "X_test.sample(1).to_csv('x_test_sample.csv')\n",
    "y_test.sample(1).to_csv('y_test_sample.csv')"
   ]
  },
  {
   "attachments": {},
   "cell_type": "markdown",
   "metadata": {},
   "source": [
    "## Classification models (pipeline)"
   ]
  },
  {
   "cell_type": "code",
   "execution_count": 302,
   "metadata": {},
   "outputs": [],
   "source": [
    "selector = CustomFeatureSelection(selected_features=X.columns.values)"
   ]
  },
  {
   "cell_type": "code",
   "execution_count": 303,
   "metadata": {},
   "outputs": [],
   "source": [
    "pasos = [('feature_engineering',selector),\n",
    "         ('preprocesamiento', MinMaxScaler()), \n",
    "         ('clasificador', KNeighborsClassifier())]\n",
    "\n",
    "pipe = Pipeline(pasos)"
   ]
  },
  {
   "cell_type": "code",
   "execution_count": 304,
   "metadata": {},
   "outputs": [],
   "source": [
    "from sklearn.ensemble import RandomForestClassifier"
   ]
  },
  {
   "cell_type": "code",
   "execution_count": 305,
   "metadata": {},
   "outputs": [],
   "source": [
    "param_grid = [{'feature_engineering':[selector, None],\n",
    "               'preprocesamiento':[StandardScaler(), MinMaxScaler(), None],\n",
    "               'clasificador': [KNeighborsClassifier(), RandomForestClassifier()]}]"
   ]
  },
  {
   "cell_type": "code",
   "execution_count": 306,
   "metadata": {},
   "outputs": [],
   "source": [
    "folds  =StratifiedKFold(n_splits=5,shuffle=True, random_state=42)"
   ]
  },
  {
   "cell_type": "code",
   "execution_count": 307,
   "metadata": {},
   "outputs": [
    {
     "data": {
      "text/plain": [
       "GridSearchCV(cv=StratifiedKFold(n_splits=5, random_state=42, shuffle=True),\n",
       "             estimator=Pipeline(steps=[('feature_engineering',\n",
       "                                        CustomFeatureSelection(selected_features=array(['price', 'sold_quantity', 'available_quantity',\n",
       "       'shipping__store_pick_up', 'shipping__free_shipping',\n",
       "       'installments__quantity', 'installments__amount',\n",
       "       'installments__rate', 'days_remainin...\n",
       "       \"variation_filters_['WRISTBAND_COLOR', 'BEZEL_COLOR']\",\n",
       "       \"variation_filters_['WRISTBAND_COLOR']\",\n",
       "       \"variation_filters_['WRISTBAND_DESIGN']\",\n",
       "       \"variation_filters_['anillo 4x4']\",\n",
       "       \"variation_filters_['color y medida']\",\n",
       "       \"variation_filters_['color']\", \"variation_filters_['grosor']\",\n",
       "       \"variation_filters_['tamaño']\"], dtype=object)),\n",
       "                                                  None],\n",
       "                          'preprocesamiento': [StandardScaler(), MinMaxScaler(),\n",
       "                                               None]}])"
      ]
     },
     "execution_count": 307,
     "metadata": {},
     "output_type": "execute_result"
    }
   ],
   "source": [
    "grid = GridSearchCV(pipe, param_grid, cv=folds)\n",
    "grid.fit(X_train, y_train)"
   ]
  },
  {
   "cell_type": "markdown",
   "metadata": {},
   "source": [
    "### Resultados pipeline"
   ]
  },
  {
   "cell_type": "code",
   "execution_count": 308,
   "metadata": {},
   "outputs": [
    {
     "data": {
      "text/plain": [
       "0.9917058574820308"
      ]
     },
     "execution_count": 308,
     "metadata": {},
     "output_type": "execute_result"
    }
   ],
   "source": [
    "grid.best_score_"
   ]
  },
  {
   "cell_type": "code",
   "execution_count": 309,
   "metadata": {},
   "outputs": [
    {
     "data": {
      "text/plain": [
       "Pipeline(steps=[('feature_engineering',\n",
       "                 CustomFeatureSelection(selected_features=array(['price', 'sold_quantity', 'available_quantity',\n",
       "       'shipping__store_pick_up', 'shipping__free_shipping',\n",
       "       'installments__quantity', 'installments__amount',\n",
       "       'installments__rate', 'days_remaining', 'years_active', 'is_valid',\n",
       "       'domain_id_MLA-ALARM_CLOCKS',\n",
       "       'domain_id_MLA-BRACELETS_...\n",
       "       \"variation_filters_['WRISTBAND_COLOR', 'BEZEL_COLOR']\",\n",
       "       \"variation_filters_['WRISTBAND_COLOR']\",\n",
       "       \"variation_filters_['WRISTBAND_DESIGN']\",\n",
       "       \"variation_filters_['anillo 4x4']\",\n",
       "       \"variation_filters_['color y medida']\",\n",
       "       \"variation_filters_['color']\", \"variation_filters_['grosor']\",\n",
       "       \"variation_filters_['tamaño']\"], dtype=object))),\n",
       "                ('preprocesamiento', MinMaxScaler()),\n",
       "                ('clasificador', RandomForestClassifier())])"
      ]
     },
     "execution_count": 309,
     "metadata": {},
     "output_type": "execute_result"
    }
   ],
   "source": [
    "grid.best_estimator_"
   ]
  },
  {
   "cell_type": "code",
   "execution_count": 310,
   "metadata": {},
   "outputs": [
    {
     "data": {
      "text/plain": [
       "0.9932659932659933"
      ]
     },
     "execution_count": 310,
     "metadata": {},
     "output_type": "execute_result"
    }
   ],
   "source": [
    "accuracy_score(grid.best_estimator_.predict(X_test),y_test)"
   ]
  },
  {
   "cell_type": "code",
   "execution_count": 311,
   "metadata": {},
   "outputs": [],
   "source": [
    "y_pred = grid.best_estimator_.predict(X_test)"
   ]
  },
  {
   "cell_type": "code",
   "execution_count": 312,
   "metadata": {},
   "outputs": [
    {
     "name": "stdout",
     "output_type": "stream",
     "text": [
      "                        precision    recall  f1-score   support\n",
      "\n",
      " MLA-CHARMS_AND_MEDALS       1.00      1.00      1.00        71\n",
      "           MLA-JEWELRY       0.99      1.00      1.00       408\n",
      "MLA-JEWELRY_ACCESORIES       1.00      0.83      0.91        36\n",
      "           MLA-WATCHES       0.99      1.00      1.00       673\n",
      "\n",
      "              accuracy                           0.99      1188\n",
      "             macro avg       1.00      0.96      0.97      1188\n",
      "          weighted avg       0.99      0.99      0.99      1188\n",
      "\n",
      "0.9932659932659933\n"
     ]
    }
   ],
   "source": [
    "print(classification_report(y_test, y_pred))\n",
    "print(accuracy_score(y_test, y_pred))"
   ]
  },
  {
   "attachments": {},
   "cell_type": "markdown",
   "metadata": {},
   "source": [
    "## Guardado de los modelos con Shelve"
   ]
  },
  {
   "cell_type": "code",
   "execution_count": 313,
   "metadata": {},
   "outputs": [],
   "source": [
    "import shelve"
   ]
  },
  {
   "cell_type": "code",
   "execution_count": 314,
   "metadata": {},
   "outputs": [],
   "source": [
    "models = shelve.open('modelos_entrenados')\n",
    "\n",
    "models['modelo_categorias'] = grid_categorias.best_estimator_\n",
    "models['modelo_subcategorias'] = grid.best_estimator_\n",
    "\n",
    "models.close()"
   ]
  },
  {
   "attachments": {},
   "cell_type": "markdown",
   "metadata": {},
   "source": [
    "## Levantamos los modelos para probarlos"
   ]
  },
  {
   "cell_type": "code",
   "execution_count": 315,
   "metadata": {},
   "outputs": [],
   "source": [
    "opened_models = shelve.open('modelos_entrenados')\n",
    "\n",
    "category_best_estimator = opened_models['modelo_categorias']\n",
    "subcategory_best_estimator = opened_models['modelo_subcategorias']"
   ]
  },
  {
   "cell_type": "code",
   "execution_count": 316,
   "metadata": {},
   "outputs": [
    {
     "name": "stdout",
     "output_type": "stream",
     "text": [
      "                        precision    recall  f1-score   support\n",
      "\n",
      " MLA-CHARMS_AND_MEDALS       1.00      1.00      1.00        71\n",
      "           MLA-JEWELRY       0.99      1.00      1.00       408\n",
      "MLA-JEWELRY_ACCESORIES       1.00      0.83      0.91        36\n",
      "           MLA-WATCHES       0.99      1.00      1.00       673\n",
      "\n",
      "              accuracy                           0.99      1188\n",
      "             macro avg       1.00      0.96      0.97      1188\n",
      "          weighted avg       0.99      0.99      0.99      1188\n",
      "\n",
      "0.9932659932659933\n"
     ]
    }
   ],
   "source": [
    "# Probamos el modelo de subcategorías\n",
    "\n",
    "y_pred = subcategory_best_estimator.predict(X_test)\n",
    "print(classification_report(y_test, y_pred))\n",
    "print(accuracy_score(y_test, y_pred))"
   ]
  },
  {
   "attachments": {},
   "cell_type": "markdown",
   "metadata": {},
   "source": [
    "## Deploy usando streamlit"
   ]
  }
 ],
 "metadata": {
  "kernelspec": {
   "display_name": "venv_tpfinal",
   "language": "python",
   "name": "python3"
  },
  "language_info": {
   "codemirror_mode": {
    "name": "ipython",
    "version": 3
   },
   "file_extension": ".py",
   "mimetype": "text/x-python",
   "name": "python",
   "nbconvert_exporter": "python",
   "pygments_lexer": "ipython3",
   "version": "3.7.9"
  },
  "orig_nbformat": 4,
  "vscode": {
   "interpreter": {
    "hash": "32127ea2938821766ed32d9d1f57300536bf7ad6161e6fca56ccef41f7ac5c55"
   }
  }
 },
 "nbformat": 4,
 "nbformat_minor": 2
}
