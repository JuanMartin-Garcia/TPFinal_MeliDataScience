{
 "cells": [
  {
   "cell_type": "code",
   "execution_count": 24,
   "metadata": {},
   "outputs": [],
   "source": [
    "import numpy as np\n",
    "import pandas as pd\n",
    "from pandas_profiling import ProfileReport\n",
    "import seaborn as sns\n",
    "import matplotlib.pyplot as plt\n",
    "import re\n",
    "\n",
    "from sklearn.model_selection import train_test_split\n",
    "from sklearn.model_selection import cross_val_score\n",
    "from sklearn.model_selection import cross_validate\n",
    "\n",
    "from sklearn.preprocessing import MinMaxScaler\n",
    "from sklearn.preprocessing import StandardScaler\n",
    "from sklearn.model_selection import learning_curve\n",
    "from sklearn.model_selection import GridSearchCV\n",
    "from sklearn.model_selection import StratifiedKFold\n",
    "from sklearn.base import BaseEstimator, TransformerMixin\n",
    "from sklearn.linear_model import LogisticRegression\n",
    "from sklearn.neighbors import KNeighborsClassifier\n",
    "from sklearn.pipeline import Pipeline\n",
    "from sklearn.tree import DecisionTreeClassifier\n",
    "import sklearn.metrics as metrics\n",
    "from sklearn.metrics import accuracy_score\n",
    "from sklearn.metrics import classification_report"
   ]
  },
  {
   "cell_type": "code",
   "execution_count": 25,
   "metadata": {},
   "outputs": [],
   "source": [
    "#Unión de los archivos con sus respectivas categorías de búsqueda\n",
    "\n",
    "files = {\n",
    "    'juguetes':'mla1132_meli.csv',\n",
    "    'elementos de fotografia': 'mla1039_meli.csv',\n",
    "    'cuidado de la piel': 'mla1246_meli.csv',\n",
    "    'accesorios' : 'mla3937_meli.csv',\n",
    "    'herramientas' : 'mla407134_meli.csv'}\n",
    "\n",
    "out_df = pd.DataFrame()\n",
    "for key,value in files.items():\n",
    "    df = pd.read_csv(f'./Data/{value}')\n",
    "    df['Categoria']=key\n",
    "    out_df = pd.concat([out_df, df])\n",
    "\n",
    "out_df.to_csv(f'./Data/Categorias_complete.csv', index=False)"
   ]
  },
  {
   "cell_type": "code",
   "execution_count": 26,
   "metadata": {},
   "outputs": [
    {
     "name": "stdout",
     "output_type": "stream",
     "text": [
      "<class 'pandas.core.frame.DataFrame'>\n",
      "Int64Index: 19991 entries, 0 to 3996\n",
      "Data columns (total 48 columns):\n",
      " #   Column                                                             Non-Null Count  Dtype  \n",
      "---  ------                                                             --------------  -----  \n",
      " 0   id                                                                 19991 non-null  object \n",
      " 1   title                                                              19991 non-null  object \n",
      " 2   thumbnail_id                                                       19991 non-null  object \n",
      " 3   listing_type_id                                                    19991 non-null  object \n",
      " 4   permalink                                                          19991 non-null  object \n",
      " 5   category_id                                                        19991 non-null  object \n",
      " 6   domain_id                                                          19991 non-null  object \n",
      " 7   order_backend                                                      19991 non-null  int64  \n",
      " 8   price                                                              19991 non-null  float64\n",
      " 9   sold_quantity                                                      19991 non-null  int64  \n",
      " 10  available_quantity                                                 19991 non-null  int64  \n",
      " 11  tags                                                               19991 non-null  object \n",
      " 12  shipping__logistic_type                                            19991 non-null  object \n",
      " 13  shipping__mode                                                     15993 non-null  object \n",
      " 14  shipping__store_pick_up                                            19991 non-null  bool   \n",
      " 15  shipping__free_shipping                                            19991 non-null  bool   \n",
      " 16  shipping__tags                                                     19991 non-null  object \n",
      " 17  seller__id                                                         19991 non-null  int64  \n",
      " 18  seller__nickname                                                   19991 non-null  object \n",
      " 19  seller__tags                                                       19991 non-null  object \n",
      " 20  seller__seller_reputation__level_id                                19987 non-null  object \n",
      " 21  seller__seller_reputation__power_seller_status                     19541 non-null  object \n",
      " 22  seller__seller_reputation__transactions__canceled                  19991 non-null  int64  \n",
      " 23  seller__seller_reputation__transactions__completed                 19991 non-null  int64  \n",
      " 24  seller__seller_reputation__transactions__ratings__negative         19991 non-null  float64\n",
      " 25  seller__seller_reputation__transactions__ratings__neutral          19991 non-null  float64\n",
      " 26  seller__seller_reputation__transactions__ratings__positive         19991 non-null  float64\n",
      " 27  seller__seller_reputation__transactions__total                     19991 non-null  int64  \n",
      " 28  seller__seller_reputation__metrics__sales__period                  19991 non-null  object \n",
      " 29  seller__seller_reputation__metrics__sales__completed               19991 non-null  int64  \n",
      " 30  seller__seller_reputation__metrics__claims__period                 19991 non-null  object \n",
      " 31  seller__seller_reputation__metrics__claims__rate                   19991 non-null  float64\n",
      " 32  seller__seller_reputation__metrics__claims__value                  19991 non-null  int64  \n",
      " 33  seller__seller_reputation__metrics__delayed_handling_time__period  19991 non-null  object \n",
      " 34  seller__seller_reputation__metrics__delayed_handling_time__rate    19991 non-null  float64\n",
      " 35  seller__seller_reputation__metrics__delayed_handling_time__value   19991 non-null  int64  \n",
      " 36  seller__seller_reputation__metrics__cancellations__period          19991 non-null  object \n",
      " 37  seller__seller_reputation__metrics__cancellations__rate            19991 non-null  float64\n",
      " 38  seller__seller_reputation__metrics__cancellations__value           19991 non-null  int64  \n",
      " 39  installments__quantity                                             19987 non-null  float64\n",
      " 40  installments__amount                                               19987 non-null  float64\n",
      " 41  installments__rate                                                 19987 non-null  float64\n",
      " 42  days_remaining                                                     19991 non-null  int64  \n",
      " 43  years_active                                                       19991 non-null  int64  \n",
      " 44  Categoria                                                          19991 non-null  object \n",
      " 45  seller__car_dealer                                                 7997 non-null   object \n",
      " 46  seller__car_dealer_logo                                            6 non-null      object \n",
      " 47  variation_filters                                                  3382 non-null   object \n",
      "dtypes: bool(2), float64(10), int64(13), object(23)\n",
      "memory usage: 7.2+ MB\n"
     ]
    }
   ],
   "source": [
    "out_df.info()"
   ]
  },
  {
   "cell_type": "code",
   "execution_count": 27,
   "metadata": {},
   "outputs": [
    {
     "data": {
      "text/html": [
       "<div>\n",
       "<style scoped>\n",
       "    .dataframe tbody tr th:only-of-type {\n",
       "        vertical-align: middle;\n",
       "    }\n",
       "\n",
       "    .dataframe tbody tr th {\n",
       "        vertical-align: top;\n",
       "    }\n",
       "\n",
       "    .dataframe thead th {\n",
       "        text-align: right;\n",
       "    }\n",
       "</style>\n",
       "<table border=\"1\" class=\"dataframe\">\n",
       "  <thead>\n",
       "    <tr style=\"text-align: right;\">\n",
       "      <th></th>\n",
       "      <th>id</th>\n",
       "      <th>title</th>\n",
       "      <th>thumbnail_id</th>\n",
       "      <th>listing_type_id</th>\n",
       "      <th>permalink</th>\n",
       "      <th>category_id</th>\n",
       "      <th>domain_id</th>\n",
       "      <th>order_backend</th>\n",
       "      <th>price</th>\n",
       "      <th>sold_quantity</th>\n",
       "      <th>...</th>\n",
       "      <th>seller__seller_reputation__metrics__cancellations__value</th>\n",
       "      <th>installments__quantity</th>\n",
       "      <th>installments__amount</th>\n",
       "      <th>installments__rate</th>\n",
       "      <th>days_remaining</th>\n",
       "      <th>years_active</th>\n",
       "      <th>Categoria</th>\n",
       "      <th>seller__car_dealer</th>\n",
       "      <th>seller__car_dealer_logo</th>\n",
       "      <th>variation_filters</th>\n",
       "    </tr>\n",
       "  </thead>\n",
       "  <tbody>\n",
       "    <tr>\n",
       "      <th>0</th>\n",
       "      <td>MLA1112140771</td>\n",
       "      <td>Pileta Inflable Redonda Bestway Kiddie Lounge ...</td>\n",
       "      <td>623284-MLA53605777143_022023</td>\n",
       "      <td>gold_pro</td>\n",
       "      <td>https://www.mercadolibre.com.ar/pileta-inflabl...</td>\n",
       "      <td>MLA11226</td>\n",
       "      <td>MLA-INFLATABLE_POOLS</td>\n",
       "      <td>1</td>\n",
       "      <td>1692.9</td>\n",
       "      <td>250</td>\n",
       "      <td>...</td>\n",
       "      <td>0</td>\n",
       "      <td>6.0</td>\n",
       "      <td>282.15</td>\n",
       "      <td>0.00</td>\n",
       "      <td>6833</td>\n",
       "      <td>4</td>\n",
       "      <td>juguetes</td>\n",
       "      <td>NaN</td>\n",
       "      <td>NaN</td>\n",
       "      <td>NaN</td>\n",
       "    </tr>\n",
       "    <tr>\n",
       "      <th>1</th>\n",
       "      <td>MLA1275803410</td>\n",
       "      <td>Cry Babies Fantasy Dreamy Imc Toys 99180im</td>\n",
       "      <td>843969-MLA48269133730_112021</td>\n",
       "      <td>gold_special</td>\n",
       "      <td>https://www.mercadolibre.com.ar/cry-babies-fan...</td>\n",
       "      <td>MLA2968</td>\n",
       "      <td>MLA-DOLLS</td>\n",
       "      <td>2</td>\n",
       "      <td>15990.0</td>\n",
       "      <td>200</td>\n",
       "      <td>...</td>\n",
       "      <td>135</td>\n",
       "      <td>6.0</td>\n",
       "      <td>3953.53</td>\n",
       "      <td>48.35</td>\n",
       "      <td>7223</td>\n",
       "      <td>4</td>\n",
       "      <td>juguetes</td>\n",
       "      <td>NaN</td>\n",
       "      <td>NaN</td>\n",
       "      <td>NaN</td>\n",
       "    </tr>\n",
       "    <tr>\n",
       "      <th>2</th>\n",
       "      <td>MLA1109575910</td>\n",
       "      <td>Juego De Cartas Desconectados En Palabras</td>\n",
       "      <td>633026-MLA48408537360_122021</td>\n",
       "      <td>gold_special</td>\n",
       "      <td>https://www.mercadolibre.com.ar/juego-de-carta...</td>\n",
       "      <td>MLA1161</td>\n",
       "      <td>MLA-BOARD_GAMES</td>\n",
       "      <td>3</td>\n",
       "      <td>6499.0</td>\n",
       "      <td>5000</td>\n",
       "      <td>...</td>\n",
       "      <td>1</td>\n",
       "      <td>6.0</td>\n",
       "      <td>1606.88</td>\n",
       "      <td>48.35</td>\n",
       "      <td>6815</td>\n",
       "      <td>2</td>\n",
       "      <td>juguetes</td>\n",
       "      <td>NaN</td>\n",
       "      <td>NaN</td>\n",
       "      <td>NaN</td>\n",
       "    </tr>\n",
       "    <tr>\n",
       "      <th>3</th>\n",
       "      <td>MLA1110677111</td>\n",
       "      <td>Juego De Mesa Código Secreto Czech Games Editi...</td>\n",
       "      <td>960516-MLA44936648183_022021</td>\n",
       "      <td>gold_special</td>\n",
       "      <td>https://www.mercadolibre.com.ar/juego-de-mesa-...</td>\n",
       "      <td>MLA1161</td>\n",
       "      <td>MLA-BOARD_GAMES</td>\n",
       "      <td>4</td>\n",
       "      <td>9500.0</td>\n",
       "      <td>250</td>\n",
       "      <td>...</td>\n",
       "      <td>5</td>\n",
       "      <td>6.0</td>\n",
       "      <td>2348.88</td>\n",
       "      <td>48.35</td>\n",
       "      <td>6822</td>\n",
       "      <td>16</td>\n",
       "      <td>juguetes</td>\n",
       "      <td>NaN</td>\n",
       "      <td>NaN</td>\n",
       "      <td>NaN</td>\n",
       "    </tr>\n",
       "    <tr>\n",
       "      <th>4</th>\n",
       "      <td>MLA1240728057</td>\n",
       "      <td>Bellies Bebe Interactivo Beth Edic Especial In...</td>\n",
       "      <td>994457-MLA49925702800_052022</td>\n",
       "      <td>gold_special</td>\n",
       "      <td>https://www.mercadolibre.com.ar/bellies-bebe-i...</td>\n",
       "      <td>MLA2968</td>\n",
       "      <td>MLA-DOLLS</td>\n",
       "      <td>5</td>\n",
       "      <td>21900.0</td>\n",
       "      <td>0</td>\n",
       "      <td>...</td>\n",
       "      <td>28</td>\n",
       "      <td>6.0</td>\n",
       "      <td>5414.78</td>\n",
       "      <td>48.35</td>\n",
       "      <td>7200</td>\n",
       "      <td>10</td>\n",
       "      <td>juguetes</td>\n",
       "      <td>NaN</td>\n",
       "      <td>NaN</td>\n",
       "      <td>NaN</td>\n",
       "    </tr>\n",
       "  </tbody>\n",
       "</table>\n",
       "<p>5 rows × 48 columns</p>\n",
       "</div>"
      ],
      "text/plain": [
       "              id                                              title  \\\n",
       "0  MLA1112140771  Pileta Inflable Redonda Bestway Kiddie Lounge ...   \n",
       "1  MLA1275803410         Cry Babies Fantasy Dreamy Imc Toys 99180im   \n",
       "2  MLA1109575910          Juego De Cartas Desconectados En Palabras   \n",
       "3  MLA1110677111  Juego De Mesa Código Secreto Czech Games Editi...   \n",
       "4  MLA1240728057  Bellies Bebe Interactivo Beth Edic Especial In...   \n",
       "\n",
       "                   thumbnail_id listing_type_id  \\\n",
       "0  623284-MLA53605777143_022023        gold_pro   \n",
       "1  843969-MLA48269133730_112021    gold_special   \n",
       "2  633026-MLA48408537360_122021    gold_special   \n",
       "3  960516-MLA44936648183_022021    gold_special   \n",
       "4  994457-MLA49925702800_052022    gold_special   \n",
       "\n",
       "                                           permalink category_id  \\\n",
       "0  https://www.mercadolibre.com.ar/pileta-inflabl...    MLA11226   \n",
       "1  https://www.mercadolibre.com.ar/cry-babies-fan...     MLA2968   \n",
       "2  https://www.mercadolibre.com.ar/juego-de-carta...     MLA1161   \n",
       "3  https://www.mercadolibre.com.ar/juego-de-mesa-...     MLA1161   \n",
       "4  https://www.mercadolibre.com.ar/bellies-bebe-i...     MLA2968   \n",
       "\n",
       "              domain_id  order_backend    price  sold_quantity  ...  \\\n",
       "0  MLA-INFLATABLE_POOLS              1   1692.9            250  ...   \n",
       "1             MLA-DOLLS              2  15990.0            200  ...   \n",
       "2       MLA-BOARD_GAMES              3   6499.0           5000  ...   \n",
       "3       MLA-BOARD_GAMES              4   9500.0            250  ...   \n",
       "4             MLA-DOLLS              5  21900.0              0  ...   \n",
       "\n",
       "   seller__seller_reputation__metrics__cancellations__value  \\\n",
       "0                                                  0          \n",
       "1                                                135          \n",
       "2                                                  1          \n",
       "3                                                  5          \n",
       "4                                                 28          \n",
       "\n",
       "  installments__quantity installments__amount installments__rate  \\\n",
       "0                    6.0               282.15               0.00   \n",
       "1                    6.0              3953.53              48.35   \n",
       "2                    6.0              1606.88              48.35   \n",
       "3                    6.0              2348.88              48.35   \n",
       "4                    6.0              5414.78              48.35   \n",
       "\n",
       "   days_remaining  years_active Categoria  seller__car_dealer  \\\n",
       "0            6833             4  juguetes                 NaN   \n",
       "1            7223             4  juguetes                 NaN   \n",
       "2            6815             2  juguetes                 NaN   \n",
       "3            6822            16  juguetes                 NaN   \n",
       "4            7200            10  juguetes                 NaN   \n",
       "\n",
       "  seller__car_dealer_logo variation_filters  \n",
       "0                     NaN               NaN  \n",
       "1                     NaN               NaN  \n",
       "2                     NaN               NaN  \n",
       "3                     NaN               NaN  \n",
       "4                     NaN               NaN  \n",
       "\n",
       "[5 rows x 48 columns]"
      ]
     },
     "execution_count": 27,
     "metadata": {},
     "output_type": "execute_result"
    }
   ],
   "source": [
    "out_df.head()"
   ]
  },
  {
   "attachments": {},
   "cell_type": "markdown",
   "metadata": {},
   "source": [
    "## EDA"
   ]
  },
  {
   "cell_type": "code",
   "execution_count": 28,
   "metadata": {},
   "outputs": [
    {
     "data": {
      "text/plain": [
       "Index(['id', 'title', 'thumbnail_id', 'listing_type_id', 'permalink',\n",
       "       'category_id', 'domain_id', 'order_backend', 'price', 'sold_quantity',\n",
       "       'available_quantity', 'tags', 'shipping__logistic_type',\n",
       "       'shipping__mode', 'shipping__store_pick_up', 'shipping__free_shipping',\n",
       "       'shipping__tags', 'seller__id', 'seller__nickname', 'seller__tags',\n",
       "       'seller__seller_reputation__level_id',\n",
       "       'seller__seller_reputation__power_seller_status',\n",
       "       'seller__seller_reputation__transactions__canceled',\n",
       "       'seller__seller_reputation__transactions__completed',\n",
       "       'seller__seller_reputation__transactions__ratings__negative',\n",
       "       'seller__seller_reputation__transactions__ratings__neutral',\n",
       "       'seller__seller_reputation__transactions__ratings__positive',\n",
       "       'seller__seller_reputation__transactions__total',\n",
       "       'seller__seller_reputation__metrics__sales__period',\n",
       "       'seller__seller_reputation__metrics__sales__completed',\n",
       "       'seller__seller_reputation__metrics__claims__period',\n",
       "       'seller__seller_reputation__metrics__claims__rate',\n",
       "       'seller__seller_reputation__metrics__claims__value',\n",
       "       'seller__seller_reputation__metrics__delayed_handling_time__period',\n",
       "       'seller__seller_reputation__metrics__delayed_handling_time__rate',\n",
       "       'seller__seller_reputation__metrics__delayed_handling_time__value',\n",
       "       'seller__seller_reputation__metrics__cancellations__period',\n",
       "       'seller__seller_reputation__metrics__cancellations__rate',\n",
       "       'seller__seller_reputation__metrics__cancellations__value',\n",
       "       'installments__quantity', 'installments__amount', 'installments__rate',\n",
       "       'days_remaining', 'years_active', 'Categoria', 'seller__car_dealer',\n",
       "       'seller__car_dealer_logo', 'variation_filters'],\n",
       "      dtype='object')"
      ]
     },
     "execution_count": 28,
     "metadata": {},
     "output_type": "execute_result"
    }
   ],
   "source": [
    "out_df.columns"
   ]
  },
  {
   "cell_type": "code",
   "execution_count": 29,
   "metadata": {},
   "outputs": [
    {
     "name": "stderr",
     "output_type": "stream",
     "text": [
      "/Users/sofiaforni/Documents/Data Science/TPFinal_MeliDataScience/venv_tpfinal/lib/python3.7/site-packages/ipykernel_launcher.py:3: UserWarning: FixedFormatter should only be used together with FixedLocator\n",
      "  This is separate from the ipykernel package so we can avoid doing imports until\n"
     ]
    },
    {
     "data": {
      "image/png": "[encoded data removed]",
      "text/plain": [
       "<Figure size 640x480 with 1 Axes>"
      ]
     },
     "metadata": {},
     "output_type": "display_data"
    }
   ],
   "source": [
    "c=['#7fc97f', '#beaed4', '#fdc086', '#ffff99', '#386cb0']\n",
    "ax=out_df['Categoria'].value_counts().plot(kind = 'bar', title='Cantidad de elementos por categoría', color= c,xlabel='Categoría', ylabel=' ',)\n",
    "ax=plt.gca().set_yticklabels(['{:,.0f}'.format(x) for x in plt.gca().get_yticks()])\n",
    "ax=plt.grid(color='#c7c7c7', linewidth=0.5, axis='both', alpha=0.5)"
   ]
  },
  {
   "cell_type": "code",
   "execution_count": 30,
   "metadata": {},
   "outputs": [],
   "source": [
    "# Reindexamos la base de datos que fue concatenada\n",
    "\n",
    "out_df.reset_index(inplace=True)"
   ]
  },
  {
   "cell_type": "code",
   "execution_count": 31,
   "metadata": {},
   "outputs": [
    {
     "name": "stderr",
     "output_type": "stream",
     "text": [
      "Summarize dataset: 100%|██████████| 543/543 [00:50<00:00, 10.76it/s, Completed]                                                                                                                                 \n",
      "Generate report structure: 100%|██████████| 1/1 [00:07<00:00,  7.43s/it]\n",
      "Render HTML: 100%|██████████| 1/1 [00:10<00:00, 10.99s/it]\n",
      "Export report to file: 100%|██████████| 1/1 [00:00<00:00, 17.98it/s]\n"
     ]
    }
   ],
   "source": [
    "#AutoEDA\n",
    "\n",
    "prof = ProfileReport(out_df)\n",
    "prof.to_file(output_file='eda_output.html')"
   ]
  },
  {
   "cell_type": "code",
   "execution_count": 32,
   "metadata": {},
   "outputs": [],
   "source": [
    "columns = out_df.columns"
   ]
  },
  {
   "cell_type": "code",
   "execution_count": 33,
   "metadata": {},
   "outputs": [
    {
     "name": "stdout",
     "output_type": "stream",
     "text": [
      "['seller__id', 'seller__nickname', 'seller__tags', 'seller__seller_reputation__level_id', 'seller__seller_reputation__power_seller_status', 'seller__seller_reputation__transactions__canceled', 'seller__seller_reputation__transactions__completed', 'seller__seller_reputation__transactions__ratings__negative', 'seller__seller_reputation__transactions__ratings__neutral', 'seller__seller_reputation__transactions__ratings__positive', 'seller__seller_reputation__transactions__total', 'seller__seller_reputation__metrics__sales__period', 'seller__seller_reputation__metrics__sales__completed', 'seller__seller_reputation__metrics__claims__period', 'seller__seller_reputation__metrics__claims__rate', 'seller__seller_reputation__metrics__claims__value', 'seller__seller_reputation__metrics__delayed_handling_time__period', 'seller__seller_reputation__metrics__delayed_handling_time__rate', 'seller__seller_reputation__metrics__delayed_handling_time__value', 'seller__seller_reputation__metrics__cancellations__period', 'seller__seller_reputation__metrics__cancellations__rate', 'seller__seller_reputation__metrics__cancellations__value', 'seller__car_dealer', 'seller__car_dealer_logo']\n"
     ]
    }
   ],
   "source": [
    "#Eliminamos las columnas que hacen referencias a cuestiones vinculadas al vendedor\n",
    "\n",
    "regex = re.compile('^seller__')\n",
    "seller_columns = list(filter(regex.match, columns))\n",
    "print(seller_columns)"
   ]
  },
  {
   "cell_type": "code",
   "execution_count": 34,
   "metadata": {},
   "outputs": [],
   "source": [
    "out_df.drop(columns=seller_columns, inplace=True)"
   ]
  },
  {
   "cell_type": "code",
   "execution_count": 35,
   "metadata": {},
   "outputs": [],
   "source": [
    "#Creamos dummies para las variables categoricas que usaremos\n",
    "\n",
    "out_df = pd.get_dummies(out_df, columns=['domain_id', 'listing_type_id', 'shipping__logistic_type', 'shipping__mode', 'shipping__tags', 'variation_filters'])"
   ]
  },
  {
   "cell_type": "code",
   "execution_count": 36,
   "metadata": {},
   "outputs": [],
   "source": [
    "#Eliminamos valores faltantes\n",
    "\n",
    "out_df.dropna(inplace=True)"
   ]
  },
  {
   "attachments": {},
   "cell_type": "markdown",
   "metadata": {},
   "source": [
    "## Premodel"
   ]
  },
  {
   "cell_type": "code",
   "execution_count": 37,
   "metadata": {},
   "outputs": [
    {
     "data": {
      "text/plain": [
       "(13990, 927)"
      ]
     },
     "metadata": {},
     "output_type": "display_data"
    },
    {
     "data": {
      "text/plain": [
       "(5997, 927)"
      ]
     },
     "metadata": {},
     "output_type": "display_data"
    },
    {
     "data": {
      "text/plain": [
       "(13990,)"
      ]
     },
     "metadata": {},
     "output_type": "display_data"
    },
    {
     "data": {
      "text/plain": [
       "(5997,)"
      ]
     },
     "metadata": {},
     "output_type": "display_data"
    }
   ],
   "source": [
    "# Separamos las variables independientes de la target\n",
    "X=out_df.drop(columns=['Categoria', 'id', 'title', 'thumbnail_id', 'permalink', 'order_backend', 'tags', 'category_id'])\n",
    "y=out_df['Categoria']\n",
    "\n",
    "# Dividimos los datos en el set de train y el de test: \n",
    "X_train, X_test, y_train, y_test=train_test_split(X,y,test_size=0.3, random_state=30, stratify=y)\n",
    "display(X_train.shape, X_test.shape, y_train.shape, y_test.shape)"
   ]
  },
  {
   "attachments": {},
   "cell_type": "markdown",
   "metadata": {},
   "source": [
    "## Classification models (pipeline)"
   ]
  },
  {
   "cell_type": "code",
   "execution_count": 38,
   "metadata": {},
   "outputs": [],
   "source": [
    "class FeatureSelection(BaseEstimator, TransformerMixin):\n",
    "    \n",
    "    def __init__(self,selected_features):\n",
    "        self.selected_features=selected_features\n",
    "    \n",
    "    def fit(self,X,y=None):\n",
    "        return self\n",
    "    \n",
    "    def transform(self, X, y=None):\n",
    "        return X[self.selected_features]"
   ]
  },
  {
   "cell_type": "code",
   "execution_count": 39,
   "metadata": {},
   "outputs": [],
   "source": [
    "selector=FeatureSelection(selected_features=X.columns.values)"
   ]
  },
  {
   "cell_type": "code",
   "execution_count": 40,
   "metadata": {},
   "outputs": [],
   "source": [
    "pasos = [('feature_engineering',selector),\n",
    "         ('preprocesamiento', MinMaxScaler()), \n",
    "         ('clasificador', KNeighborsClassifier())]\n",
    "\n",
    "pipe=Pipeline(pasos)"
   ]
  },
  {
   "cell_type": "code",
   "execution_count": 41,
   "metadata": {},
   "outputs": [],
   "source": [
    "from sklearn.ensemble import RandomForestClassifier"
   ]
  },
  {
   "cell_type": "code",
   "execution_count": 42,
   "metadata": {},
   "outputs": [],
   "source": [
    "param_grid = [{'feature_engineering':[selector, None],\n",
    "               'preprocesamiento':[StandardScaler(), MinMaxScaler(), None],\n",
    "               'clasificador': [KNeighborsClassifier(), RandomForestClassifier(), LogisticRegression(solver='lbfgs')]}]"
   ]
  },
  {
   "cell_type": "code",
   "execution_count": 43,
   "metadata": {},
   "outputs": [],
   "source": [
    "folds=StratifiedKFold(n_splits=5,shuffle=True, random_state=42)"
   ]
  },
  {
   "cell_type": "code",
   "execution_count": 44,
   "metadata": {},
   "outputs": [
    {
     "name": "stderr",
     "output_type": "stream",
     "text": [
      "/Users/sofiaforni/Documents/Data Science/TPFinal_MeliDataScience/venv_tpfinal/lib/python3.7/site-packages/sklearn/linear_model/_logistic.py:818: ConvergenceWarning: lbfgs failed to converge (status=1):\n",
      "STOP: TOTAL NO. of ITERATIONS REACHED LIMIT.\n",
      "\n",
      "Increase the number of iterations (max_iter) or scale the data as shown in:\n",
      "    https://scikit-learn.org/stable/modules/preprocessing.html\n",
      "Please also refer to the documentation for alternative solver options:\n",
      "    https://scikit-learn.org/stable/modules/linear_model.html#logistic-regression\n",
      "  extra_warning_msg=_LOGISTIC_SOLVER_CONVERGENCE_MSG,\n",
      "/Users/sofiaforni/Documents/Data Science/TPFinal_MeliDataScience/venv_tpfinal/lib/python3.7/site-packages/sklearn/linear_model/_logistic.py:818: ConvergenceWarning: lbfgs failed to converge (status=1):\n",
      "STOP: TOTAL NO. of ITERATIONS REACHED LIMIT.\n",
      "\n",
      "Increase the number of iterations (max_iter) or scale the data as shown in:\n",
      "    https://scikit-learn.org/stable/modules/preprocessing.html\n",
      "Please also refer to the documentation for alternative solver options:\n",
      "    https://scikit-learn.org/stable/modules/linear_model.html#logistic-regression\n",
      "  extra_warning_msg=_LOGISTIC_SOLVER_CONVERGENCE_MSG,\n",
      "/Users/sofiaforni/Documents/Data Science/TPFinal_MeliDataScience/venv_tpfinal/lib/python3.7/site-packages/sklearn/linear_model/_logistic.py:818: ConvergenceWarning: lbfgs failed to converge (status=1):\n",
      "STOP: TOTAL NO. of ITERATIONS REACHED LIMIT.\n",
      "\n",
      "Increase the number of iterations (max_iter) or scale the data as shown in:\n",
      "    https://scikit-learn.org/stable/modules/preprocessing.html\n",
      "Please also refer to the documentation for alternative solver options:\n",
      "    https://scikit-learn.org/stable/modules/linear_model.html#logistic-regression\n",
      "  extra_warning_msg=_LOGISTIC_SOLVER_CONVERGENCE_MSG,\n",
      "/Users/sofiaforni/Documents/Data Science/TPFinal_MeliDataScience/venv_tpfinal/lib/python3.7/site-packages/sklearn/linear_model/_logistic.py:818: ConvergenceWarning: lbfgs failed to converge (status=1):\n",
      "STOP: TOTAL NO. of ITERATIONS REACHED LIMIT.\n",
      "\n",
      "Increase the number of iterations (max_iter) or scale the data as shown in:\n",
      "    https://scikit-learn.org/stable/modules/preprocessing.html\n",
      "Please also refer to the documentation for alternative solver options:\n",
      "    https://scikit-learn.org/stable/modules/linear_model.html#logistic-regression\n",
      "  extra_warning_msg=_LOGISTIC_SOLVER_CONVERGENCE_MSG,\n",
      "/Users/sofiaforni/Documents/Data Science/TPFinal_MeliDataScience/venv_tpfinal/lib/python3.7/site-packages/sklearn/linear_model/_logistic.py:818: ConvergenceWarning: lbfgs failed to converge (status=1):\n",
      "STOP: TOTAL NO. of ITERATIONS REACHED LIMIT.\n",
      "\n",
      "Increase the number of iterations (max_iter) or scale the data as shown in:\n",
      "    https://scikit-learn.org/stable/modules/preprocessing.html\n",
      "Please also refer to the documentation for alternative solver options:\n",
      "    https://scikit-learn.org/stable/modules/linear_model.html#logistic-regression\n",
      "  extra_warning_msg=_LOGISTIC_SOLVER_CONVERGENCE_MSG,\n",
      "/Users/sofiaforni/Documents/Data Science/TPFinal_MeliDataScience/venv_tpfinal/lib/python3.7/site-packages/sklearn/linear_model/_logistic.py:818: ConvergenceWarning: lbfgs failed to converge (status=1):\n",
      "STOP: TOTAL NO. of ITERATIONS REACHED LIMIT.\n",
      "\n",
      "Increase the number of iterations (max_iter) or scale the data as shown in:\n",
      "    https://scikit-learn.org/stable/modules/preprocessing.html\n",
      "Please also refer to the documentation for alternative solver options:\n",
      "    https://scikit-learn.org/stable/modules/linear_model.html#logistic-regression\n",
      "  extra_warning_msg=_LOGISTIC_SOLVER_CONVERGENCE_MSG,\n",
      "/Users/sofiaforni/Documents/Data Science/TPFinal_MeliDataScience/venv_tpfinal/lib/python3.7/site-packages/sklearn/linear_model/_logistic.py:818: ConvergenceWarning: lbfgs failed to converge (status=1):\n",
      "STOP: TOTAL NO. of ITERATIONS REACHED LIMIT.\n",
      "\n",
      "Increase the number of iterations (max_iter) or scale the data as shown in:\n",
      "    https://scikit-learn.org/stable/modules/preprocessing.html\n",
      "Please also refer to the documentation for alternative solver options:\n",
      "    https://scikit-learn.org/stable/modules/linear_model.html#logistic-regression\n",
      "  extra_warning_msg=_LOGISTIC_SOLVER_CONVERGENCE_MSG,\n",
      "/Users/sofiaforni/Documents/Data Science/TPFinal_MeliDataScience/venv_tpfinal/lib/python3.7/site-packages/sklearn/linear_model/_logistic.py:818: ConvergenceWarning: lbfgs failed to converge (status=1):\n",
      "STOP: TOTAL NO. of ITERATIONS REACHED LIMIT.\n",
      "\n",
      "Increase the number of iterations (max_iter) or scale the data as shown in:\n",
      "    https://scikit-learn.org/stable/modules/preprocessing.html\n",
      "Please also refer to the documentation for alternative solver options:\n",
      "    https://scikit-learn.org/stable/modules/linear_model.html#logistic-regression\n",
      "  extra_warning_msg=_LOGISTIC_SOLVER_CONVERGENCE_MSG,\n",
      "/Users/sofiaforni/Documents/Data Science/TPFinal_MeliDataScience/venv_tpfinal/lib/python3.7/site-packages/sklearn/linear_model/_logistic.py:818: ConvergenceWarning: lbfgs failed to converge (status=1):\n",
      "STOP: TOTAL NO. of ITERATIONS REACHED LIMIT.\n",
      "\n",
      "Increase the number of iterations (max_iter) or scale the data as shown in:\n",
      "    https://scikit-learn.org/stable/modules/preprocessing.html\n",
      "Please also refer to the documentation for alternative solver options:\n",
      "    https://scikit-learn.org/stable/modules/linear_model.html#logistic-regression\n",
      "  extra_warning_msg=_LOGISTIC_SOLVER_CONVERGENCE_MSG,\n",
      "/Users/sofiaforni/Documents/Data Science/TPFinal_MeliDataScience/venv_tpfinal/lib/python3.7/site-packages/sklearn/linear_model/_logistic.py:818: ConvergenceWarning: lbfgs failed to converge (status=1):\n",
      "STOP: TOTAL NO. of ITERATIONS REACHED LIMIT.\n",
      "\n",
      "Increase the number of iterations (max_iter) or scale the data as shown in:\n",
      "    https://scikit-learn.org/stable/modules/preprocessing.html\n",
      "Please also refer to the documentation for alternative solver options:\n",
      "    https://scikit-learn.org/stable/modules/linear_model.html#logistic-regression\n",
      "  extra_warning_msg=_LOGISTIC_SOLVER_CONVERGENCE_MSG,\n",
      "/Users/sofiaforni/Documents/Data Science/TPFinal_MeliDataScience/venv_tpfinal/lib/python3.7/site-packages/sklearn/linear_model/_logistic.py:818: ConvergenceWarning: lbfgs failed to converge (status=1):\n",
      "STOP: TOTAL NO. of ITERATIONS REACHED LIMIT.\n",
      "\n",
      "Increase the number of iterations (max_iter) or scale the data as shown in:\n",
      "    https://scikit-learn.org/stable/modules/preprocessing.html\n",
      "Please also refer to the documentation for alternative solver options:\n",
      "    https://scikit-learn.org/stable/modules/linear_model.html#logistic-regression\n",
      "  extra_warning_msg=_LOGISTIC_SOLVER_CONVERGENCE_MSG,\n",
      "/Users/sofiaforni/Documents/Data Science/TPFinal_MeliDataScience/venv_tpfinal/lib/python3.7/site-packages/sklearn/linear_model/_logistic.py:818: ConvergenceWarning: lbfgs failed to converge (status=1):\n",
      "STOP: TOTAL NO. of ITERATIONS REACHED LIMIT.\n",
      "\n",
      "Increase the number of iterations (max_iter) or scale the data as shown in:\n",
      "    https://scikit-learn.org/stable/modules/preprocessing.html\n",
      "Please also refer to the documentation for alternative solver options:\n",
      "    https://scikit-learn.org/stable/modules/linear_model.html#logistic-regression\n",
      "  extra_warning_msg=_LOGISTIC_SOLVER_CONVERGENCE_MSG,\n",
      "/Users/sofiaforni/Documents/Data Science/TPFinal_MeliDataScience/venv_tpfinal/lib/python3.7/site-packages/sklearn/linear_model/_logistic.py:818: ConvergenceWarning: lbfgs failed to converge (status=1):\n",
      "STOP: TOTAL NO. of ITERATIONS REACHED LIMIT.\n",
      "\n",
      "Increase the number of iterations (max_iter) or scale the data as shown in:\n",
      "    https://scikit-learn.org/stable/modules/preprocessing.html\n",
      "Please also refer to the documentation for alternative solver options:\n",
      "    https://scikit-learn.org/stable/modules/linear_model.html#logistic-regression\n",
      "  extra_warning_msg=_LOGISTIC_SOLVER_CONVERGENCE_MSG,\n",
      "/Users/sofiaforni/Documents/Data Science/TPFinal_MeliDataScience/venv_tpfinal/lib/python3.7/site-packages/sklearn/linear_model/_logistic.py:818: ConvergenceWarning: lbfgs failed to converge (status=1):\n",
      "STOP: TOTAL NO. of ITERATIONS REACHED LIMIT.\n",
      "\n",
      "Increase the number of iterations (max_iter) or scale the data as shown in:\n",
      "    https://scikit-learn.org/stable/modules/preprocessing.html\n",
      "Please also refer to the documentation for alternative solver options:\n",
      "    https://scikit-learn.org/stable/modules/linear_model.html#logistic-regression\n",
      "  extra_warning_msg=_LOGISTIC_SOLVER_CONVERGENCE_MSG,\n",
      "/Users/sofiaforni/Documents/Data Science/TPFinal_MeliDataScience/venv_tpfinal/lib/python3.7/site-packages/sklearn/linear_model/_logistic.py:818: ConvergenceWarning: lbfgs failed to converge (status=1):\n",
      "STOP: TOTAL NO. of ITERATIONS REACHED LIMIT.\n",
      "\n",
      "Increase the number of iterations (max_iter) or scale the data as shown in:\n",
      "    https://scikit-learn.org/stable/modules/preprocessing.html\n",
      "Please also refer to the documentation for alternative solver options:\n",
      "    https://scikit-learn.org/stable/modules/linear_model.html#logistic-regression\n",
      "  extra_warning_msg=_LOGISTIC_SOLVER_CONVERGENCE_MSG,\n",
      "/Users/sofiaforni/Documents/Data Science/TPFinal_MeliDataScience/venv_tpfinal/lib/python3.7/site-packages/sklearn/linear_model/_logistic.py:818: ConvergenceWarning: lbfgs failed to converge (status=1):\n",
      "STOP: TOTAL NO. of ITERATIONS REACHED LIMIT.\n",
      "\n",
      "Increase the number of iterations (max_iter) or scale the data as shown in:\n",
      "    https://scikit-learn.org/stable/modules/preprocessing.html\n",
      "Please also refer to the documentation for alternative solver options:\n",
      "    https://scikit-learn.org/stable/modules/linear_model.html#logistic-regression\n",
      "  extra_warning_msg=_LOGISTIC_SOLVER_CONVERGENCE_MSG,\n",
      "/Users/sofiaforni/Documents/Data Science/TPFinal_MeliDataScience/venv_tpfinal/lib/python3.7/site-packages/sklearn/linear_model/_logistic.py:818: ConvergenceWarning: lbfgs failed to converge (status=1):\n",
      "STOP: TOTAL NO. of ITERATIONS REACHED LIMIT.\n",
      "\n",
      "Increase the number of iterations (max_iter) or scale the data as shown in:\n",
      "    https://scikit-learn.org/stable/modules/preprocessing.html\n",
      "Please also refer to the documentation for alternative solver options:\n",
      "    https://scikit-learn.org/stable/modules/linear_model.html#logistic-regression\n",
      "  extra_warning_msg=_LOGISTIC_SOLVER_CONVERGENCE_MSG,\n",
      "/Users/sofiaforni/Documents/Data Science/TPFinal_MeliDataScience/venv_tpfinal/lib/python3.7/site-packages/sklearn/linear_model/_logistic.py:818: ConvergenceWarning: lbfgs failed to converge (status=1):\n",
      "STOP: TOTAL NO. of ITERATIONS REACHED LIMIT.\n",
      "\n",
      "Increase the number of iterations (max_iter) or scale the data as shown in:\n",
      "    https://scikit-learn.org/stable/modules/preprocessing.html\n",
      "Please also refer to the documentation for alternative solver options:\n",
      "    https://scikit-learn.org/stable/modules/linear_model.html#logistic-regression\n",
      "  extra_warning_msg=_LOGISTIC_SOLVER_CONVERGENCE_MSG,\n",
      "/Users/sofiaforni/Documents/Data Science/TPFinal_MeliDataScience/venv_tpfinal/lib/python3.7/site-packages/sklearn/linear_model/_logistic.py:818: ConvergenceWarning: lbfgs failed to converge (status=1):\n",
      "STOP: TOTAL NO. of ITERATIONS REACHED LIMIT.\n",
      "\n",
      "Increase the number of iterations (max_iter) or scale the data as shown in:\n",
      "    https://scikit-learn.org/stable/modules/preprocessing.html\n",
      "Please also refer to the documentation for alternative solver options:\n",
      "    https://scikit-learn.org/stable/modules/linear_model.html#logistic-regression\n",
      "  extra_warning_msg=_LOGISTIC_SOLVER_CONVERGENCE_MSG,\n",
      "/Users/sofiaforni/Documents/Data Science/TPFinal_MeliDataScience/venv_tpfinal/lib/python3.7/site-packages/sklearn/linear_model/_logistic.py:818: ConvergenceWarning: lbfgs failed to converge (status=1):\n",
      "STOP: TOTAL NO. of ITERATIONS REACHED LIMIT.\n",
      "\n",
      "Increase the number of iterations (max_iter) or scale the data as shown in:\n",
      "    https://scikit-learn.org/stable/modules/preprocessing.html\n",
      "Please also refer to the documentation for alternative solver options:\n",
      "    https://scikit-learn.org/stable/modules/linear_model.html#logistic-regression\n",
      "  extra_warning_msg=_LOGISTIC_SOLVER_CONVERGENCE_MSG,\n"
     ]
    },
    {
     "data": {
      "text/plain": [
       "GridSearchCV(cv=StratifiedKFold(n_splits=5, random_state=42, shuffle=True),\n",
       "             estimator=Pipeline(steps=[('feature_engineering',\n",
       "                                        FeatureSelection(selected_features=array(['df_index', 'price', 'sold_quantity', 'available_quantity',\n",
       "       'shipping__store_pick_up', 'shipping__free_shipping',\n",
       "       'installments__quantity', 'installments__amount',\n",
       "       'installments__rate', 'days_rem...\n",
       "       \"variation_filters_['WRISTBAND_COLOR', 'BEZEL_COLOR']\",\n",
       "       \"variation_filters_['WRISTBAND_COLOR']\",\n",
       "       \"variation_filters_['WRISTBAND_DESIGN']\",\n",
       "       \"variation_filters_['anillo 4x4']\",\n",
       "       \"variation_filters_['color y medida']\",\n",
       "       \"variation_filters_['color']\", \"variation_filters_['grosor']\",\n",
       "       \"variation_filters_['tamaño']\"], dtype=object)),\n",
       "                                                  None],\n",
       "                          'preprocesamiento': [StandardScaler(), MinMaxScaler(),\n",
       "                                               None]}])"
      ]
     },
     "execution_count": 44,
     "metadata": {},
     "output_type": "execute_result"
    }
   ],
   "source": [
    "grid = GridSearchCV(pipe, param_grid, cv=folds)\n",
    "grid.fit(X_train, y_train)"
   ]
  },
  {
   "attachments": {},
   "cell_type": "markdown",
   "metadata": {},
   "source": [
    "### Resultados pipeline"
   ]
  },
  {
   "cell_type": "code",
   "execution_count": 45,
   "metadata": {},
   "outputs": [
    {
     "data": {
      "text/plain": [
       "0.9934953538241601"
      ]
     },
     "execution_count": 45,
     "metadata": {},
     "output_type": "execute_result"
    }
   ],
   "source": [
    "grid.best_score_"
   ]
  },
  {
   "cell_type": "code",
   "execution_count": 46,
   "metadata": {},
   "outputs": [
    {
     "data": {
      "text/plain": [
       "Pipeline(steps=[('feature_engineering',\n",
       "                 FeatureSelection(selected_features=array(['df_index', 'price', 'sold_quantity', 'available_quantity',\n",
       "       'shipping__store_pick_up', 'shipping__free_shipping',\n",
       "       'installments__quantity', 'installments__amount',\n",
       "       'installments__rate', 'days_remaining', 'years_active',\n",
       "       'domain_id_MLA-ABRASIVE_SAWS',\n",
       "       'domain_id_MLA-ACTION_CAMERA_A...\n",
       "       \"variation_filters_['WRISTBAND_COLOR', 'BEZEL_COLOR']\",\n",
       "       \"variation_filters_['WRISTBAND_COLOR']\",\n",
       "       \"variation_filters_['WRISTBAND_DESIGN']\",\n",
       "       \"variation_filters_['anillo 4x4']\",\n",
       "       \"variation_filters_['color y medida']\",\n",
       "       \"variation_filters_['color']\", \"variation_filters_['grosor']\",\n",
       "       \"variation_filters_['tamaño']\"], dtype=object))),\n",
       "                ('preprocesamiento', StandardScaler()),\n",
       "                ('clasificador', LogisticRegression())])"
      ]
     },
     "execution_count": 46,
     "metadata": {},
     "output_type": "execute_result"
    }
   ],
   "source": [
    "grid.best_estimator_"
   ]
  },
  {
   "cell_type": "code",
   "execution_count": 47,
   "metadata": {},
   "outputs": [
    {
     "data": {
      "text/plain": [
       "0.9961647490411872"
      ]
     },
     "execution_count": 47,
     "metadata": {},
     "output_type": "execute_result"
    }
   ],
   "source": [
    "accuracy_score(grid.best_estimator_.predict(X_test),y_test)"
   ]
  },
  {
   "cell_type": "code",
   "execution_count": 48,
   "metadata": {},
   "outputs": [],
   "source": [
    "y_pred = grid.best_estimator_.predict(X_test)"
   ]
  },
  {
   "cell_type": "code",
   "execution_count": 49,
   "metadata": {},
   "outputs": [
    {
     "name": "stdout",
     "output_type": "stream",
     "text": [
      "                         precision    recall  f1-score   support\n",
      "\n",
      "             accesorios       1.00      1.00      1.00      1200\n",
      "     cuidado de la piel       0.99      1.00      1.00      1199\n",
      "elementos de fotografia       1.00      1.00      1.00      1199\n",
      "           herramientas       0.99      0.99      0.99      1199\n",
      "               juguetes       1.00      0.99      1.00      1200\n",
      "\n",
      "               accuracy                           1.00      5997\n",
      "              macro avg       1.00      1.00      1.00      5997\n",
      "           weighted avg       1.00      1.00      1.00      5997\n",
      "\n",
      "0.9961647490411872\n"
     ]
    }
   ],
   "source": [
    "print(classification_report(y_test, y_pred))\n",
    "print(accuracy_score(y_test, y_pred))"
   ]
  }
 ],
 "metadata": {
  "kernelspec": {
   "display_name": "venv_tpfinal",
   "language": "python",
   "name": "python3"
  },
  "language_info": {
   "codemirror_mode": {
    "name": "ipython",
    "version": 3
   },
   "file_extension": ".py",
   "mimetype": "text/x-python",
   "name": "python",
   "nbconvert_exporter": "python",
   "pygments_lexer": "ipython3",
   "version": "3.7.9"
  },
  "orig_nbformat": 4,
  "vscode": {
   "interpreter": {
    "hash": "32127ea2938821766ed32d9d1f57300536bf7ad6161e6fca56ccef41f7ac5c55"
   }
  }
 },
 "nbformat": 4,
 "nbformat_minor": 2
}
